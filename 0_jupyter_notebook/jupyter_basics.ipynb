{
 "cells": [
  {
   "cell_type": "markdown",
   "metadata": {},
   "source": [
    "# Press Esc Key for command mode  (Blue colored cell)"
   ]
  },
  {
   "cell_type": "markdown",
   "metadata": {},
   "source": [
    "# Press Enter Key for edit mode (Green colored cell)"
   ]
  },
  {
   "cell_type": "markdown",
   "metadata": {},
   "source": [
    "### Press P to check the list of commands"
   ]
  },
  {
   "cell_type": "markdown",
   "metadata": {},
   "source": [
    "### Press m to make a cell Markdown"
   ]
  },
  {
   "cell_type": "markdown",
   "metadata": {},
   "source": [
    "### Press H for Keyboard shortcuts"
   ]
  },
  {
   "cell_type": "markdown",
   "metadata": {},
   "source": [
    "### Press B for inserting cell below"
   ]
  },
  {
   "cell_type": "markdown",
   "metadata": {},
   "source": [
    "### Press A for inserting cell above"
   ]
  },
  {
   "cell_type": "markdown",
   "metadata": {},
   "source": [
    "### Press Y for converting to code cell"
   ]
  },
  {
   "cell_type": "markdown",
   "metadata": {},
   "source": [
    "### Press DD to delete a cell"
   ]
  },
  {
   "cell_type": "markdown",
   "metadata": {},
   "source": [
    "# Heading 1\n",
    "## Heading 2\n",
    "### Heading 2"
   ]
  },
  {
   "cell_type": "markdown",
   "metadata": {},
   "source": [
    "# Bold and Italics\n",
    "\n",
    "## normal font with no bold and italics\n",
    "\n",
    "## **double asterisk is bold**\n",
    "\n",
    "## __double underscore is bold__\n",
    "\n",
    "## _single underscore is italics_\n",
    "\n",
    "## *single asterisk is italics*\n",
    "\n",
    "## ***bold&italics***"
   ]
  },
  {
   "cell_type": "markdown",
   "metadata": {},
   "source": [
    "# Monospace fonts\n",
    "\n",
    " `backward single quote below tilde highlights this text`"
   ]
  },
  {
   "cell_type": "markdown",
   "metadata": {},
   "source": [
    "# Line Breaks\n",
    "\n",
    "This is first sentence.\n",
    "This is second after break. But does not create a new line\n",
    "\n",
    "This is first sentence.<br>\n",
    "This is second after break. `<br>` creates a new line"
   ]
  },
  {
   "cell_type": "markdown",
   "metadata": {},
   "source": [
    "# Identation for sub sections\n",
    "\n",
    "> Heading 1\n",
    ">> Heading 2\n",
    ">>> Heading 3"
   ]
  },
  {
   "cell_type": "markdown",
   "metadata": {},
   "source": [
    "# Bullets and Numbering\n",
    "- bullets\n",
    "    - bullets\n",
    "<br>\n",
    "1. numbers\n",
    "    1. numbers\n",
    "    \n",
    "A. alphabets"
   ]
  },
  {
   "cell_type": "markdown",
   "metadata": {},
   "source": [
    "# Colors\n",
    "\n",
    "<font color = blue > blue color </font>"
   ]
  },
  {
   "cell_type": "markdown",
   "metadata": {},
   "source": [
    "# Images \n",
    "\n",
    "<img src = \"https://upload.wikimedia.org/wikipedia/commons/a/a5/Basic_concept_of_Kalman_filtering.svg\">"
   ]
  },
  {
   "cell_type": "markdown",
   "metadata": {},
   "source": [
    "# Latex Equations\n",
    "\n",
    "$\\int_a^b f(x) = F(b) - F(a) $\n",
    "\n",
    "$$ \\lim_{x \\to a} \\frac{f(x) - f(a)}{x-a}$$"
   ]
  },
  {
   "cell_type": "markdown",
   "metadata": {},
   "source": [
    "Esc: To go into command mode<br>\n",
    "Enter: To go back to edit mode<br>\n",
    "M: To convert a cell to a markdown cell<br>\n",
    "Y: To convert a cell back to a code cell<br>\n",
    "A: To insert a new cell above<br>\n",
    "B: To insert a new cell below<br>\n",
    "D + D: To delete cell<br>\n",
    "Z: Undo the last operation<br>\n",
    "F: To find and replace on your code<br>\n",
    "Shift + Up/Down: To select multiple cells<br>\n",
    "Space: Scroll notebook downwards<br>\n",
    "Shift + Space: Scroll notebook upwards<br>\n",
    "Edit mode shortcuts<br>\n",
    "\n",
    "Shift + Enter: To execute the code in the current cell and go to the next cell<br>\n",
    "Alt + Enter: To execute the code in the current cell and insert new cell below<br>\n",
    "Shift + Tab: To get a brief documentation of the object that you have just typed in the coding cell<br>\n",
    "Ctrl + Shift + -: To split the cell at the cursor<br>\n",
    "Shift + M: To merge selected cells<br>"
   ]
  },
  {
   "cell_type": "code",
   "execution_count": null,
   "metadata": {},
   "outputs": [],
   "source": []
  }
 ],
 "metadata": {
  "kernelspec": {
   "display_name": "Python 3",
   "language": "python",
   "name": "python3"
  },
  "language_info": {
   "codemirror_mode": {
    "name": "ipython",
    "version": 3
   },
   "file_extension": ".py",
   "mimetype": "text/x-python",
   "name": "python",
   "nbconvert_exporter": "python",
   "pygments_lexer": "ipython3",
   "version": "3.7.6"
  }
 },
 "nbformat": 4,
 "nbformat_minor": 4
}
