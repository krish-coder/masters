{
 "cells": [
  {
   "cell_type": "code",
   "execution_count": 255,
   "metadata": {},
   "outputs": [],
   "source": [
    "import pandas as pd\n",
    "import os\n",
    "import numpy as np\n",
    "\n",
    "import matplotlib.pyplot as plt\n",
    "import seaborn as sns\n",
    "\n",
    "import sklearn\n",
    "# model selection has train, test split\n",
    "from sklearn.model_selection import train_test_split\n",
    "# preprocessing has scaling\n",
    "from sklearn.preprocessing import MinMaxScaler\n",
    "from sklearn.preprocessing import StandardScaler\n",
    "# feature selection has RFE\n",
    "from sklearn.feature_selection import RFE\n",
    "# linear_model is used for fitting a model\n",
    "from sklearn.linear_model import LogisticRegression\n",
    "# metrics for evaluation\n",
    "from sklearn import metrics\n",
    "\n",
    "import statsmodels.api as sm\n",
    "from statsmodels.stats.outliers_influence import variance_inflation_factor"
   ]
  },
  {
   "cell_type": "code",
   "execution_count": 12,
   "metadata": {},
   "outputs": [],
   "source": [
    "import warnings \n",
    "warnings.filterwarnings('ignore')"
   ]
  },
  {
   "cell_type": "code",
   "execution_count": 6,
   "metadata": {},
   "outputs": [
    {
     "data": {
      "text/plain": [
       "['.ipynb_checkpoints',\n",
       " 'churn_data.csv',\n",
       " 'Logistic+Regression+-+Telecom+Churn+Case+Study.ipynb',\n",
       " 'customer_data.csv',\n",
       " 'EDA.ipynb',\n",
       " 'internet_data.csv',\n",
       " 'Telecom Churn Data Dictionary.csv']"
      ]
     },
     "execution_count": 6,
     "metadata": {},
     "output_type": "execute_result"
    }
   ],
   "source": [
    "os.listdir()"
   ]
  },
  {
   "cell_type": "code",
   "execution_count": 8,
   "metadata": {},
   "outputs": [
    {
     "data": {
      "text/html": [
       "<div>\n",
       "<style scoped>\n",
       "    .dataframe tbody tr th:only-of-type {\n",
       "        vertical-align: middle;\n",
       "    }\n",
       "\n",
       "    .dataframe tbody tr th {\n",
       "        vertical-align: top;\n",
       "    }\n",
       "\n",
       "    .dataframe thead th {\n",
       "        text-align: right;\n",
       "    }\n",
       "</style>\n",
       "<table border=\"1\" class=\"dataframe\">\n",
       "  <thead>\n",
       "    <tr style=\"text-align: right;\">\n",
       "      <th></th>\n",
       "      <th>customerID</th>\n",
       "      <th>tenure</th>\n",
       "      <th>PhoneService</th>\n",
       "      <th>Contract</th>\n",
       "      <th>PaperlessBilling</th>\n",
       "      <th>PaymentMethod</th>\n",
       "      <th>MonthlyCharges</th>\n",
       "      <th>TotalCharges</th>\n",
       "      <th>Churn</th>\n",
       "    </tr>\n",
       "  </thead>\n",
       "  <tbody>\n",
       "    <tr>\n",
       "      <th>0</th>\n",
       "      <td>7590-VHVEG</td>\n",
       "      <td>1</td>\n",
       "      <td>No</td>\n",
       "      <td>Month-to-month</td>\n",
       "      <td>Yes</td>\n",
       "      <td>Electronic check</td>\n",
       "      <td>29.85</td>\n",
       "      <td>29.85</td>\n",
       "      <td>No</td>\n",
       "    </tr>\n",
       "    <tr>\n",
       "      <th>1</th>\n",
       "      <td>5575-GNVDE</td>\n",
       "      <td>34</td>\n",
       "      <td>Yes</td>\n",
       "      <td>One year</td>\n",
       "      <td>No</td>\n",
       "      <td>Mailed check</td>\n",
       "      <td>56.95</td>\n",
       "      <td>1889.5</td>\n",
       "      <td>No</td>\n",
       "    </tr>\n",
       "    <tr>\n",
       "      <th>2</th>\n",
       "      <td>3668-QPYBK</td>\n",
       "      <td>2</td>\n",
       "      <td>Yes</td>\n",
       "      <td>Month-to-month</td>\n",
       "      <td>Yes</td>\n",
       "      <td>Mailed check</td>\n",
       "      <td>53.85</td>\n",
       "      <td>108.15</td>\n",
       "      <td>Yes</td>\n",
       "    </tr>\n",
       "    <tr>\n",
       "      <th>3</th>\n",
       "      <td>7795-CFOCW</td>\n",
       "      <td>45</td>\n",
       "      <td>No</td>\n",
       "      <td>One year</td>\n",
       "      <td>No</td>\n",
       "      <td>Bank transfer (automatic)</td>\n",
       "      <td>42.30</td>\n",
       "      <td>1840.75</td>\n",
       "      <td>No</td>\n",
       "    </tr>\n",
       "    <tr>\n",
       "      <th>4</th>\n",
       "      <td>9237-HQITU</td>\n",
       "      <td>2</td>\n",
       "      <td>Yes</td>\n",
       "      <td>Month-to-month</td>\n",
       "      <td>Yes</td>\n",
       "      <td>Electronic check</td>\n",
       "      <td>70.70</td>\n",
       "      <td>151.65</td>\n",
       "      <td>Yes</td>\n",
       "    </tr>\n",
       "  </tbody>\n",
       "</table>\n",
       "</div>"
      ],
      "text/plain": [
       "   customerID  tenure PhoneService        Contract PaperlessBilling  \\\n",
       "0  7590-VHVEG       1           No  Month-to-month              Yes   \n",
       "1  5575-GNVDE      34          Yes        One year               No   \n",
       "2  3668-QPYBK       2          Yes  Month-to-month              Yes   \n",
       "3  7795-CFOCW      45           No        One year               No   \n",
       "4  9237-HQITU       2          Yes  Month-to-month              Yes   \n",
       "\n",
       "               PaymentMethod  MonthlyCharges TotalCharges Churn  \n",
       "0           Electronic check           29.85        29.85    No  \n",
       "1               Mailed check           56.95       1889.5    No  \n",
       "2               Mailed check           53.85       108.15   Yes  \n",
       "3  Bank transfer (automatic)           42.30      1840.75    No  \n",
       "4           Electronic check           70.70       151.65   Yes  "
      ]
     },
     "execution_count": 8,
     "metadata": {},
     "output_type": "execute_result"
    }
   ],
   "source": [
    "churn_df = pd.read_csv('churn_data.csv')\n",
    "churn_df.head()"
   ]
  },
  {
   "cell_type": "code",
   "execution_count": 9,
   "metadata": {},
   "outputs": [
    {
     "data": {
      "text/html": [
       "<div>\n",
       "<style scoped>\n",
       "    .dataframe tbody tr th:only-of-type {\n",
       "        vertical-align: middle;\n",
       "    }\n",
       "\n",
       "    .dataframe tbody tr th {\n",
       "        vertical-align: top;\n",
       "    }\n",
       "\n",
       "    .dataframe thead th {\n",
       "        text-align: right;\n",
       "    }\n",
       "</style>\n",
       "<table border=\"1\" class=\"dataframe\">\n",
       "  <thead>\n",
       "    <tr style=\"text-align: right;\">\n",
       "      <th></th>\n",
       "      <th>customerID</th>\n",
       "      <th>gender</th>\n",
       "      <th>SeniorCitizen</th>\n",
       "      <th>Partner</th>\n",
       "      <th>Dependents</th>\n",
       "    </tr>\n",
       "  </thead>\n",
       "  <tbody>\n",
       "    <tr>\n",
       "      <th>0</th>\n",
       "      <td>7590-VHVEG</td>\n",
       "      <td>Female</td>\n",
       "      <td>0</td>\n",
       "      <td>Yes</td>\n",
       "      <td>No</td>\n",
       "    </tr>\n",
       "    <tr>\n",
       "      <th>1</th>\n",
       "      <td>5575-GNVDE</td>\n",
       "      <td>Male</td>\n",
       "      <td>0</td>\n",
       "      <td>No</td>\n",
       "      <td>No</td>\n",
       "    </tr>\n",
       "    <tr>\n",
       "      <th>2</th>\n",
       "      <td>3668-QPYBK</td>\n",
       "      <td>Male</td>\n",
       "      <td>0</td>\n",
       "      <td>No</td>\n",
       "      <td>No</td>\n",
       "    </tr>\n",
       "    <tr>\n",
       "      <th>3</th>\n",
       "      <td>7795-CFOCW</td>\n",
       "      <td>Male</td>\n",
       "      <td>0</td>\n",
       "      <td>No</td>\n",
       "      <td>No</td>\n",
       "    </tr>\n",
       "    <tr>\n",
       "      <th>4</th>\n",
       "      <td>9237-HQITU</td>\n",
       "      <td>Female</td>\n",
       "      <td>0</td>\n",
       "      <td>No</td>\n",
       "      <td>No</td>\n",
       "    </tr>\n",
       "  </tbody>\n",
       "</table>\n",
       "</div>"
      ],
      "text/plain": [
       "   customerID  gender  SeniorCitizen Partner Dependents\n",
       "0  7590-VHVEG  Female              0     Yes         No\n",
       "1  5575-GNVDE    Male              0      No         No\n",
       "2  3668-QPYBK    Male              0      No         No\n",
       "3  7795-CFOCW    Male              0      No         No\n",
       "4  9237-HQITU  Female              0      No         No"
      ]
     },
     "execution_count": 9,
     "metadata": {},
     "output_type": "execute_result"
    }
   ],
   "source": [
    "cust_df = pd.read_csv('customer_data.csv')\n",
    "cust_df.head()"
   ]
  },
  {
   "cell_type": "code",
   "execution_count": 10,
   "metadata": {},
   "outputs": [
    {
     "data": {
      "text/html": [
       "<div>\n",
       "<style scoped>\n",
       "    .dataframe tbody tr th:only-of-type {\n",
       "        vertical-align: middle;\n",
       "    }\n",
       "\n",
       "    .dataframe tbody tr th {\n",
       "        vertical-align: top;\n",
       "    }\n",
       "\n",
       "    .dataframe thead th {\n",
       "        text-align: right;\n",
       "    }\n",
       "</style>\n",
       "<table border=\"1\" class=\"dataframe\">\n",
       "  <thead>\n",
       "    <tr style=\"text-align: right;\">\n",
       "      <th></th>\n",
       "      <th>customerID</th>\n",
       "      <th>MultipleLines</th>\n",
       "      <th>InternetService</th>\n",
       "      <th>OnlineSecurity</th>\n",
       "      <th>OnlineBackup</th>\n",
       "      <th>DeviceProtection</th>\n",
       "      <th>TechSupport</th>\n",
       "      <th>StreamingTV</th>\n",
       "      <th>StreamingMovies</th>\n",
       "    </tr>\n",
       "  </thead>\n",
       "  <tbody>\n",
       "    <tr>\n",
       "      <th>0</th>\n",
       "      <td>7590-VHVEG</td>\n",
       "      <td>No phone service</td>\n",
       "      <td>DSL</td>\n",
       "      <td>No</td>\n",
       "      <td>Yes</td>\n",
       "      <td>No</td>\n",
       "      <td>No</td>\n",
       "      <td>No</td>\n",
       "      <td>No</td>\n",
       "    </tr>\n",
       "    <tr>\n",
       "      <th>1</th>\n",
       "      <td>5575-GNVDE</td>\n",
       "      <td>No</td>\n",
       "      <td>DSL</td>\n",
       "      <td>Yes</td>\n",
       "      <td>No</td>\n",
       "      <td>Yes</td>\n",
       "      <td>No</td>\n",
       "      <td>No</td>\n",
       "      <td>No</td>\n",
       "    </tr>\n",
       "    <tr>\n",
       "      <th>2</th>\n",
       "      <td>3668-QPYBK</td>\n",
       "      <td>No</td>\n",
       "      <td>DSL</td>\n",
       "      <td>Yes</td>\n",
       "      <td>Yes</td>\n",
       "      <td>No</td>\n",
       "      <td>No</td>\n",
       "      <td>No</td>\n",
       "      <td>No</td>\n",
       "    </tr>\n",
       "    <tr>\n",
       "      <th>3</th>\n",
       "      <td>7795-CFOCW</td>\n",
       "      <td>No phone service</td>\n",
       "      <td>DSL</td>\n",
       "      <td>Yes</td>\n",
       "      <td>No</td>\n",
       "      <td>Yes</td>\n",
       "      <td>Yes</td>\n",
       "      <td>No</td>\n",
       "      <td>No</td>\n",
       "    </tr>\n",
       "    <tr>\n",
       "      <th>4</th>\n",
       "      <td>9237-HQITU</td>\n",
       "      <td>No</td>\n",
       "      <td>Fiber optic</td>\n",
       "      <td>No</td>\n",
       "      <td>No</td>\n",
       "      <td>No</td>\n",
       "      <td>No</td>\n",
       "      <td>No</td>\n",
       "      <td>No</td>\n",
       "    </tr>\n",
       "  </tbody>\n",
       "</table>\n",
       "</div>"
      ],
      "text/plain": [
       "   customerID     MultipleLines InternetService OnlineSecurity OnlineBackup  \\\n",
       "0  7590-VHVEG  No phone service             DSL             No          Yes   \n",
       "1  5575-GNVDE                No             DSL            Yes           No   \n",
       "2  3668-QPYBK                No             DSL            Yes          Yes   \n",
       "3  7795-CFOCW  No phone service             DSL            Yes           No   \n",
       "4  9237-HQITU                No     Fiber optic             No           No   \n",
       "\n",
       "  DeviceProtection TechSupport StreamingTV StreamingMovies  \n",
       "0               No          No          No              No  \n",
       "1              Yes          No          No              No  \n",
       "2               No          No          No              No  \n",
       "3              Yes         Yes          No              No  \n",
       "4               No          No          No              No  "
      ]
     },
     "execution_count": 10,
     "metadata": {},
     "output_type": "execute_result"
    }
   ],
   "source": [
    "internet_df = pd.read_csv('internet_data.csv')\n",
    "internet_df.head()"
   ]
  },
  {
   "cell_type": "code",
   "execution_count": 13,
   "metadata": {},
   "outputs": [
    {
     "data": {
      "text/html": [
       "<div>\n",
       "<style scoped>\n",
       "    .dataframe tbody tr th:only-of-type {\n",
       "        vertical-align: middle;\n",
       "    }\n",
       "\n",
       "    .dataframe tbody tr th {\n",
       "        vertical-align: top;\n",
       "    }\n",
       "\n",
       "    .dataframe thead th {\n",
       "        text-align: right;\n",
       "    }\n",
       "</style>\n",
       "<table border=\"1\" class=\"dataframe\">\n",
       "  <thead>\n",
       "    <tr style=\"text-align: right;\">\n",
       "      <th></th>\n",
       "      <th>customerID</th>\n",
       "      <th>tenure</th>\n",
       "      <th>PhoneService</th>\n",
       "      <th>Contract</th>\n",
       "      <th>PaperlessBilling</th>\n",
       "      <th>PaymentMethod</th>\n",
       "      <th>MonthlyCharges</th>\n",
       "      <th>TotalCharges</th>\n",
       "      <th>Churn</th>\n",
       "      <th>gender</th>\n",
       "      <th>SeniorCitizen</th>\n",
       "      <th>Partner</th>\n",
       "      <th>Dependents</th>\n",
       "    </tr>\n",
       "  </thead>\n",
       "  <tbody>\n",
       "    <tr>\n",
       "      <th>0</th>\n",
       "      <td>7590-VHVEG</td>\n",
       "      <td>1</td>\n",
       "      <td>No</td>\n",
       "      <td>Month-to-month</td>\n",
       "      <td>Yes</td>\n",
       "      <td>Electronic check</td>\n",
       "      <td>29.85</td>\n",
       "      <td>29.85</td>\n",
       "      <td>No</td>\n",
       "      <td>Female</td>\n",
       "      <td>0</td>\n",
       "      <td>Yes</td>\n",
       "      <td>No</td>\n",
       "    </tr>\n",
       "    <tr>\n",
       "      <th>1</th>\n",
       "      <td>5575-GNVDE</td>\n",
       "      <td>34</td>\n",
       "      <td>Yes</td>\n",
       "      <td>One year</td>\n",
       "      <td>No</td>\n",
       "      <td>Mailed check</td>\n",
       "      <td>56.95</td>\n",
       "      <td>1889.5</td>\n",
       "      <td>No</td>\n",
       "      <td>Male</td>\n",
       "      <td>0</td>\n",
       "      <td>No</td>\n",
       "      <td>No</td>\n",
       "    </tr>\n",
       "    <tr>\n",
       "      <th>2</th>\n",
       "      <td>3668-QPYBK</td>\n",
       "      <td>2</td>\n",
       "      <td>Yes</td>\n",
       "      <td>Month-to-month</td>\n",
       "      <td>Yes</td>\n",
       "      <td>Mailed check</td>\n",
       "      <td>53.85</td>\n",
       "      <td>108.15</td>\n",
       "      <td>Yes</td>\n",
       "      <td>Male</td>\n",
       "      <td>0</td>\n",
       "      <td>No</td>\n",
       "      <td>No</td>\n",
       "    </tr>\n",
       "    <tr>\n",
       "      <th>3</th>\n",
       "      <td>7795-CFOCW</td>\n",
       "      <td>45</td>\n",
       "      <td>No</td>\n",
       "      <td>One year</td>\n",
       "      <td>No</td>\n",
       "      <td>Bank transfer (automatic)</td>\n",
       "      <td>42.30</td>\n",
       "      <td>1840.75</td>\n",
       "      <td>No</td>\n",
       "      <td>Male</td>\n",
       "      <td>0</td>\n",
       "      <td>No</td>\n",
       "      <td>No</td>\n",
       "    </tr>\n",
       "    <tr>\n",
       "      <th>4</th>\n",
       "      <td>9237-HQITU</td>\n",
       "      <td>2</td>\n",
       "      <td>Yes</td>\n",
       "      <td>Month-to-month</td>\n",
       "      <td>Yes</td>\n",
       "      <td>Electronic check</td>\n",
       "      <td>70.70</td>\n",
       "      <td>151.65</td>\n",
       "      <td>Yes</td>\n",
       "      <td>Female</td>\n",
       "      <td>0</td>\n",
       "      <td>No</td>\n",
       "      <td>No</td>\n",
       "    </tr>\n",
       "  </tbody>\n",
       "</table>\n",
       "</div>"
      ],
      "text/plain": [
       "   customerID  tenure PhoneService        Contract PaperlessBilling  \\\n",
       "0  7590-VHVEG       1           No  Month-to-month              Yes   \n",
       "1  5575-GNVDE      34          Yes        One year               No   \n",
       "2  3668-QPYBK       2          Yes  Month-to-month              Yes   \n",
       "3  7795-CFOCW      45           No        One year               No   \n",
       "4  9237-HQITU       2          Yes  Month-to-month              Yes   \n",
       "\n",
       "               PaymentMethod  MonthlyCharges TotalCharges Churn  gender  \\\n",
       "0           Electronic check           29.85        29.85    No  Female   \n",
       "1               Mailed check           56.95       1889.5    No    Male   \n",
       "2               Mailed check           53.85       108.15   Yes    Male   \n",
       "3  Bank transfer (automatic)           42.30      1840.75    No    Male   \n",
       "4           Electronic check           70.70       151.65   Yes  Female   \n",
       "\n",
       "   SeniorCitizen Partner Dependents  \n",
       "0              0     Yes         No  \n",
       "1              0      No         No  \n",
       "2              0      No         No  \n",
       "3              0      No         No  \n",
       "4              0      No         No  "
      ]
     },
     "execution_count": 13,
     "metadata": {},
     "output_type": "execute_result"
    }
   ],
   "source": [
    "df_1 = pd.merge(churn_df, cust_df, how='inner', on='customerID')\n",
    "df_1.head()"
   ]
  },
  {
   "cell_type": "code",
   "execution_count": 91,
   "metadata": {},
   "outputs": [
    {
     "data": {
      "text/html": [
       "<div>\n",
       "<style scoped>\n",
       "    .dataframe tbody tr th:only-of-type {\n",
       "        vertical-align: middle;\n",
       "    }\n",
       "\n",
       "    .dataframe tbody tr th {\n",
       "        vertical-align: top;\n",
       "    }\n",
       "\n",
       "    .dataframe thead th {\n",
       "        text-align: right;\n",
       "    }\n",
       "</style>\n",
       "<table border=\"1\" class=\"dataframe\">\n",
       "  <thead>\n",
       "    <tr style=\"text-align: right;\">\n",
       "      <th></th>\n",
       "      <th>customerID</th>\n",
       "      <th>tenure</th>\n",
       "      <th>PhoneService</th>\n",
       "      <th>Contract</th>\n",
       "      <th>PaperlessBilling</th>\n",
       "      <th>PaymentMethod</th>\n",
       "      <th>MonthlyCharges</th>\n",
       "      <th>TotalCharges</th>\n",
       "      <th>Churn</th>\n",
       "      <th>gender</th>\n",
       "      <th>...</th>\n",
       "      <th>Partner</th>\n",
       "      <th>Dependents</th>\n",
       "      <th>MultipleLines</th>\n",
       "      <th>InternetService</th>\n",
       "      <th>OnlineSecurity</th>\n",
       "      <th>OnlineBackup</th>\n",
       "      <th>DeviceProtection</th>\n",
       "      <th>TechSupport</th>\n",
       "      <th>StreamingTV</th>\n",
       "      <th>StreamingMovies</th>\n",
       "    </tr>\n",
       "  </thead>\n",
       "  <tbody>\n",
       "    <tr>\n",
       "      <th>0</th>\n",
       "      <td>7590-VHVEG</td>\n",
       "      <td>1</td>\n",
       "      <td>No</td>\n",
       "      <td>Month-to-month</td>\n",
       "      <td>Yes</td>\n",
       "      <td>Electronic check</td>\n",
       "      <td>29.85</td>\n",
       "      <td>29.85</td>\n",
       "      <td>No</td>\n",
       "      <td>Female</td>\n",
       "      <td>...</td>\n",
       "      <td>Yes</td>\n",
       "      <td>No</td>\n",
       "      <td>No phone service</td>\n",
       "      <td>DSL</td>\n",
       "      <td>No</td>\n",
       "      <td>Yes</td>\n",
       "      <td>No</td>\n",
       "      <td>No</td>\n",
       "      <td>No</td>\n",
       "      <td>No</td>\n",
       "    </tr>\n",
       "    <tr>\n",
       "      <th>1</th>\n",
       "      <td>5575-GNVDE</td>\n",
       "      <td>34</td>\n",
       "      <td>Yes</td>\n",
       "      <td>One year</td>\n",
       "      <td>No</td>\n",
       "      <td>Mailed check</td>\n",
       "      <td>56.95</td>\n",
       "      <td>1889.5</td>\n",
       "      <td>No</td>\n",
       "      <td>Male</td>\n",
       "      <td>...</td>\n",
       "      <td>No</td>\n",
       "      <td>No</td>\n",
       "      <td>No</td>\n",
       "      <td>DSL</td>\n",
       "      <td>Yes</td>\n",
       "      <td>No</td>\n",
       "      <td>Yes</td>\n",
       "      <td>No</td>\n",
       "      <td>No</td>\n",
       "      <td>No</td>\n",
       "    </tr>\n",
       "    <tr>\n",
       "      <th>2</th>\n",
       "      <td>3668-QPYBK</td>\n",
       "      <td>2</td>\n",
       "      <td>Yes</td>\n",
       "      <td>Month-to-month</td>\n",
       "      <td>Yes</td>\n",
       "      <td>Mailed check</td>\n",
       "      <td>53.85</td>\n",
       "      <td>108.15</td>\n",
       "      <td>Yes</td>\n",
       "      <td>Male</td>\n",
       "      <td>...</td>\n",
       "      <td>No</td>\n",
       "      <td>No</td>\n",
       "      <td>No</td>\n",
       "      <td>DSL</td>\n",
       "      <td>Yes</td>\n",
       "      <td>Yes</td>\n",
       "      <td>No</td>\n",
       "      <td>No</td>\n",
       "      <td>No</td>\n",
       "      <td>No</td>\n",
       "    </tr>\n",
       "    <tr>\n",
       "      <th>3</th>\n",
       "      <td>7795-CFOCW</td>\n",
       "      <td>45</td>\n",
       "      <td>No</td>\n",
       "      <td>One year</td>\n",
       "      <td>No</td>\n",
       "      <td>Bank transfer (automatic)</td>\n",
       "      <td>42.30</td>\n",
       "      <td>1840.75</td>\n",
       "      <td>No</td>\n",
       "      <td>Male</td>\n",
       "      <td>...</td>\n",
       "      <td>No</td>\n",
       "      <td>No</td>\n",
       "      <td>No phone service</td>\n",
       "      <td>DSL</td>\n",
       "      <td>Yes</td>\n",
       "      <td>No</td>\n",
       "      <td>Yes</td>\n",
       "      <td>Yes</td>\n",
       "      <td>No</td>\n",
       "      <td>No</td>\n",
       "    </tr>\n",
       "    <tr>\n",
       "      <th>4</th>\n",
       "      <td>9237-HQITU</td>\n",
       "      <td>2</td>\n",
       "      <td>Yes</td>\n",
       "      <td>Month-to-month</td>\n",
       "      <td>Yes</td>\n",
       "      <td>Electronic check</td>\n",
       "      <td>70.70</td>\n",
       "      <td>151.65</td>\n",
       "      <td>Yes</td>\n",
       "      <td>Female</td>\n",
       "      <td>...</td>\n",
       "      <td>No</td>\n",
       "      <td>No</td>\n",
       "      <td>No</td>\n",
       "      <td>Fiber optic</td>\n",
       "      <td>No</td>\n",
       "      <td>No</td>\n",
       "      <td>No</td>\n",
       "      <td>No</td>\n",
       "      <td>No</td>\n",
       "      <td>No</td>\n",
       "    </tr>\n",
       "  </tbody>\n",
       "</table>\n",
       "<p>5 rows × 21 columns</p>\n",
       "</div>"
      ],
      "text/plain": [
       "   customerID  tenure PhoneService        Contract PaperlessBilling  \\\n",
       "0  7590-VHVEG       1           No  Month-to-month              Yes   \n",
       "1  5575-GNVDE      34          Yes        One year               No   \n",
       "2  3668-QPYBK       2          Yes  Month-to-month              Yes   \n",
       "3  7795-CFOCW      45           No        One year               No   \n",
       "4  9237-HQITU       2          Yes  Month-to-month              Yes   \n",
       "\n",
       "               PaymentMethod  MonthlyCharges TotalCharges Churn  gender  ...  \\\n",
       "0           Electronic check           29.85        29.85    No  Female  ...   \n",
       "1               Mailed check           56.95       1889.5    No    Male  ...   \n",
       "2               Mailed check           53.85       108.15   Yes    Male  ...   \n",
       "3  Bank transfer (automatic)           42.30      1840.75    No    Male  ...   \n",
       "4           Electronic check           70.70       151.65   Yes  Female  ...   \n",
       "\n",
       "   Partner Dependents     MultipleLines InternetService OnlineSecurity  \\\n",
       "0      Yes         No  No phone service             DSL             No   \n",
       "1       No         No                No             DSL            Yes   \n",
       "2       No         No                No             DSL            Yes   \n",
       "3       No         No  No phone service             DSL            Yes   \n",
       "4       No         No                No     Fiber optic             No   \n",
       "\n",
       "  OnlineBackup DeviceProtection TechSupport StreamingTV StreamingMovies  \n",
       "0          Yes               No          No          No              No  \n",
       "1           No              Yes          No          No              No  \n",
       "2          Yes               No          No          No              No  \n",
       "3           No              Yes         Yes          No              No  \n",
       "4           No               No          No          No              No  \n",
       "\n",
       "[5 rows x 21 columns]"
      ]
     },
     "execution_count": 91,
     "metadata": {},
     "output_type": "execute_result"
    }
   ],
   "source": [
    "df_merge = pd.merge(df_1, internet_df, how='inner', on='customerID')\n",
    "df_merge.head()"
   ]
  },
  {
   "cell_type": "code",
   "execution_count": 92,
   "metadata": {},
   "outputs": [
    {
     "data": {
      "text/plain": [
       "(7043, 21)"
      ]
     },
     "execution_count": 92,
     "metadata": {},
     "output_type": "execute_result"
    }
   ],
   "source": [
    "df_merge.shape"
   ]
  },
  {
   "cell_type": "code",
   "execution_count": 93,
   "metadata": {},
   "outputs": [
    {
     "name": "stdout",
     "output_type": "stream",
     "text": [
      "<class 'pandas.core.frame.DataFrame'>\n",
      "Int64Index: 7043 entries, 0 to 7042\n",
      "Data columns (total 21 columns):\n",
      " #   Column            Non-Null Count  Dtype  \n",
      "---  ------            --------------  -----  \n",
      " 0   customerID        7043 non-null   object \n",
      " 1   tenure            7043 non-null   int64  \n",
      " 2   PhoneService      7043 non-null   object \n",
      " 3   Contract          7043 non-null   object \n",
      " 4   PaperlessBilling  7043 non-null   object \n",
      " 5   PaymentMethod     7043 non-null   object \n",
      " 6   MonthlyCharges    7043 non-null   float64\n",
      " 7   TotalCharges      7043 non-null   object \n",
      " 8   Churn             7043 non-null   object \n",
      " 9   gender            7043 non-null   object \n",
      " 10  SeniorCitizen     7043 non-null   int64  \n",
      " 11  Partner           7043 non-null   object \n",
      " 12  Dependents        7043 non-null   object \n",
      " 13  MultipleLines     7043 non-null   object \n",
      " 14  InternetService   7043 non-null   object \n",
      " 15  OnlineSecurity    7043 non-null   object \n",
      " 16  OnlineBackup      7043 non-null   object \n",
      " 17  DeviceProtection  7043 non-null   object \n",
      " 18  TechSupport       7043 non-null   object \n",
      " 19  StreamingTV       7043 non-null   object \n",
      " 20  StreamingMovies   7043 non-null   object \n",
      "dtypes: float64(1), int64(2), object(18)\n",
      "memory usage: 1.2+ MB\n"
     ]
    }
   ],
   "source": [
    "df_merge.info()"
   ]
  },
  {
   "cell_type": "code",
   "execution_count": 94,
   "metadata": {
    "scrolled": true
   },
   "outputs": [
    {
     "data": {
      "text/html": [
       "<div>\n",
       "<style scoped>\n",
       "    .dataframe tbody tr th:only-of-type {\n",
       "        vertical-align: middle;\n",
       "    }\n",
       "\n",
       "    .dataframe tbody tr th {\n",
       "        vertical-align: top;\n",
       "    }\n",
       "\n",
       "    .dataframe thead th {\n",
       "        text-align: right;\n",
       "    }\n",
       "</style>\n",
       "<table border=\"1\" class=\"dataframe\">\n",
       "  <thead>\n",
       "    <tr style=\"text-align: right;\">\n",
       "      <th></th>\n",
       "      <th>tenure</th>\n",
       "      <th>MonthlyCharges</th>\n",
       "      <th>SeniorCitizen</th>\n",
       "    </tr>\n",
       "  </thead>\n",
       "  <tbody>\n",
       "    <tr>\n",
       "      <th>count</th>\n",
       "      <td>7043.000000</td>\n",
       "      <td>7043.000000</td>\n",
       "      <td>7043.000000</td>\n",
       "    </tr>\n",
       "    <tr>\n",
       "      <th>mean</th>\n",
       "      <td>32.371149</td>\n",
       "      <td>64.761692</td>\n",
       "      <td>0.162147</td>\n",
       "    </tr>\n",
       "    <tr>\n",
       "      <th>std</th>\n",
       "      <td>24.559481</td>\n",
       "      <td>30.090047</td>\n",
       "      <td>0.368612</td>\n",
       "    </tr>\n",
       "    <tr>\n",
       "      <th>min</th>\n",
       "      <td>0.000000</td>\n",
       "      <td>18.250000</td>\n",
       "      <td>0.000000</td>\n",
       "    </tr>\n",
       "    <tr>\n",
       "      <th>25%</th>\n",
       "      <td>9.000000</td>\n",
       "      <td>35.500000</td>\n",
       "      <td>0.000000</td>\n",
       "    </tr>\n",
       "    <tr>\n",
       "      <th>50%</th>\n",
       "      <td>29.000000</td>\n",
       "      <td>70.350000</td>\n",
       "      <td>0.000000</td>\n",
       "    </tr>\n",
       "    <tr>\n",
       "      <th>75%</th>\n",
       "      <td>55.000000</td>\n",
       "      <td>89.850000</td>\n",
       "      <td>0.000000</td>\n",
       "    </tr>\n",
       "    <tr>\n",
       "      <th>max</th>\n",
       "      <td>72.000000</td>\n",
       "      <td>118.750000</td>\n",
       "      <td>1.000000</td>\n",
       "    </tr>\n",
       "  </tbody>\n",
       "</table>\n",
       "</div>"
      ],
      "text/plain": [
       "            tenure  MonthlyCharges  SeniorCitizen\n",
       "count  7043.000000     7043.000000    7043.000000\n",
       "mean     32.371149       64.761692       0.162147\n",
       "std      24.559481       30.090047       0.368612\n",
       "min       0.000000       18.250000       0.000000\n",
       "25%       9.000000       35.500000       0.000000\n",
       "50%      29.000000       70.350000       0.000000\n",
       "75%      55.000000       89.850000       0.000000\n",
       "max      72.000000      118.750000       1.000000"
      ]
     },
     "execution_count": 94,
     "metadata": {},
     "output_type": "execute_result"
    }
   ],
   "source": [
    "df_merge.describe()"
   ]
  },
  {
   "cell_type": "markdown",
   "metadata": {},
   "source": [
    "# convert categorical variables to numeric form"
   ]
  },
  {
   "cell_type": "code",
   "execution_count": 95,
   "metadata": {},
   "outputs": [],
   "source": [
    "df_master = df_merge.copy()"
   ]
  },
  {
   "cell_type": "code",
   "execution_count": 96,
   "metadata": {},
   "outputs": [
    {
     "data": {
      "text/html": [
       "<div>\n",
       "<style scoped>\n",
       "    .dataframe tbody tr th:only-of-type {\n",
       "        vertical-align: middle;\n",
       "    }\n",
       "\n",
       "    .dataframe tbody tr th {\n",
       "        vertical-align: top;\n",
       "    }\n",
       "\n",
       "    .dataframe thead th {\n",
       "        text-align: right;\n",
       "    }\n",
       "</style>\n",
       "<table border=\"1\" class=\"dataframe\">\n",
       "  <thead>\n",
       "    <tr style=\"text-align: right;\">\n",
       "      <th></th>\n",
       "      <th>customerID</th>\n",
       "      <th>tenure</th>\n",
       "      <th>PhoneService</th>\n",
       "      <th>Contract</th>\n",
       "      <th>PaperlessBilling</th>\n",
       "      <th>PaymentMethod</th>\n",
       "      <th>MonthlyCharges</th>\n",
       "      <th>TotalCharges</th>\n",
       "      <th>Churn</th>\n",
       "      <th>gender</th>\n",
       "      <th>...</th>\n",
       "      <th>Partner</th>\n",
       "      <th>Dependents</th>\n",
       "      <th>MultipleLines</th>\n",
       "      <th>InternetService</th>\n",
       "      <th>OnlineSecurity</th>\n",
       "      <th>OnlineBackup</th>\n",
       "      <th>DeviceProtection</th>\n",
       "      <th>TechSupport</th>\n",
       "      <th>StreamingTV</th>\n",
       "      <th>StreamingMovies</th>\n",
       "    </tr>\n",
       "  </thead>\n",
       "  <tbody>\n",
       "    <tr>\n",
       "      <th>0</th>\n",
       "      <td>7590-VHVEG</td>\n",
       "      <td>1</td>\n",
       "      <td>0</td>\n",
       "      <td>Month-to-month</td>\n",
       "      <td>1</td>\n",
       "      <td>Electronic check</td>\n",
       "      <td>29.85</td>\n",
       "      <td>29.85</td>\n",
       "      <td>0</td>\n",
       "      <td>Female</td>\n",
       "      <td>...</td>\n",
       "      <td>1</td>\n",
       "      <td>0</td>\n",
       "      <td>No phone service</td>\n",
       "      <td>DSL</td>\n",
       "      <td>No</td>\n",
       "      <td>Yes</td>\n",
       "      <td>No</td>\n",
       "      <td>No</td>\n",
       "      <td>No</td>\n",
       "      <td>No</td>\n",
       "    </tr>\n",
       "    <tr>\n",
       "      <th>1</th>\n",
       "      <td>5575-GNVDE</td>\n",
       "      <td>34</td>\n",
       "      <td>1</td>\n",
       "      <td>One year</td>\n",
       "      <td>0</td>\n",
       "      <td>Mailed check</td>\n",
       "      <td>56.95</td>\n",
       "      <td>1889.5</td>\n",
       "      <td>0</td>\n",
       "      <td>Male</td>\n",
       "      <td>...</td>\n",
       "      <td>0</td>\n",
       "      <td>0</td>\n",
       "      <td>No</td>\n",
       "      <td>DSL</td>\n",
       "      <td>Yes</td>\n",
       "      <td>No</td>\n",
       "      <td>Yes</td>\n",
       "      <td>No</td>\n",
       "      <td>No</td>\n",
       "      <td>No</td>\n",
       "    </tr>\n",
       "    <tr>\n",
       "      <th>2</th>\n",
       "      <td>3668-QPYBK</td>\n",
       "      <td>2</td>\n",
       "      <td>1</td>\n",
       "      <td>Month-to-month</td>\n",
       "      <td>1</td>\n",
       "      <td>Mailed check</td>\n",
       "      <td>53.85</td>\n",
       "      <td>108.15</td>\n",
       "      <td>1</td>\n",
       "      <td>Male</td>\n",
       "      <td>...</td>\n",
       "      <td>0</td>\n",
       "      <td>0</td>\n",
       "      <td>No</td>\n",
       "      <td>DSL</td>\n",
       "      <td>Yes</td>\n",
       "      <td>Yes</td>\n",
       "      <td>No</td>\n",
       "      <td>No</td>\n",
       "      <td>No</td>\n",
       "      <td>No</td>\n",
       "    </tr>\n",
       "    <tr>\n",
       "      <th>3</th>\n",
       "      <td>7795-CFOCW</td>\n",
       "      <td>45</td>\n",
       "      <td>0</td>\n",
       "      <td>One year</td>\n",
       "      <td>0</td>\n",
       "      <td>Bank transfer (automatic)</td>\n",
       "      <td>42.30</td>\n",
       "      <td>1840.75</td>\n",
       "      <td>0</td>\n",
       "      <td>Male</td>\n",
       "      <td>...</td>\n",
       "      <td>0</td>\n",
       "      <td>0</td>\n",
       "      <td>No phone service</td>\n",
       "      <td>DSL</td>\n",
       "      <td>Yes</td>\n",
       "      <td>No</td>\n",
       "      <td>Yes</td>\n",
       "      <td>Yes</td>\n",
       "      <td>No</td>\n",
       "      <td>No</td>\n",
       "    </tr>\n",
       "    <tr>\n",
       "      <th>4</th>\n",
       "      <td>9237-HQITU</td>\n",
       "      <td>2</td>\n",
       "      <td>1</td>\n",
       "      <td>Month-to-month</td>\n",
       "      <td>1</td>\n",
       "      <td>Electronic check</td>\n",
       "      <td>70.70</td>\n",
       "      <td>151.65</td>\n",
       "      <td>1</td>\n",
       "      <td>Female</td>\n",
       "      <td>...</td>\n",
       "      <td>0</td>\n",
       "      <td>0</td>\n",
       "      <td>No</td>\n",
       "      <td>Fiber optic</td>\n",
       "      <td>No</td>\n",
       "      <td>No</td>\n",
       "      <td>No</td>\n",
       "      <td>No</td>\n",
       "      <td>No</td>\n",
       "      <td>No</td>\n",
       "    </tr>\n",
       "  </tbody>\n",
       "</table>\n",
       "<p>5 rows × 21 columns</p>\n",
       "</div>"
      ],
      "text/plain": [
       "   customerID  tenure  PhoneService        Contract  PaperlessBilling  \\\n",
       "0  7590-VHVEG       1             0  Month-to-month                 1   \n",
       "1  5575-GNVDE      34             1        One year                 0   \n",
       "2  3668-QPYBK       2             1  Month-to-month                 1   \n",
       "3  7795-CFOCW      45             0        One year                 0   \n",
       "4  9237-HQITU       2             1  Month-to-month                 1   \n",
       "\n",
       "               PaymentMethod  MonthlyCharges TotalCharges  Churn  gender  ...  \\\n",
       "0           Electronic check           29.85        29.85      0  Female  ...   \n",
       "1               Mailed check           56.95       1889.5      0    Male  ...   \n",
       "2               Mailed check           53.85       108.15      1    Male  ...   \n",
       "3  Bank transfer (automatic)           42.30      1840.75      0    Male  ...   \n",
       "4           Electronic check           70.70       151.65      1  Female  ...   \n",
       "\n",
       "   Partner  Dependents     MultipleLines InternetService OnlineSecurity  \\\n",
       "0        1           0  No phone service             DSL             No   \n",
       "1        0           0                No             DSL            Yes   \n",
       "2        0           0                No             DSL            Yes   \n",
       "3        0           0  No phone service             DSL            Yes   \n",
       "4        0           0                No     Fiber optic             No   \n",
       "\n",
       "  OnlineBackup DeviceProtection TechSupport StreamingTV StreamingMovies  \n",
       "0          Yes               No          No          No              No  \n",
       "1           No              Yes          No          No              No  \n",
       "2          Yes               No          No          No              No  \n",
       "3           No              Yes         Yes          No              No  \n",
       "4           No               No          No          No              No  \n",
       "\n",
       "[5 rows x 21 columns]"
      ]
     },
     "execution_count": 96,
     "metadata": {},
     "output_type": "execute_result"
    }
   ],
   "source": [
    "var_list = ['PhoneService', 'PaperlessBilling', 'Churn', 'Partner', 'Dependents']\n",
    "\n",
    "df_master[var_list] = df_master[var_list].apply(lambda x: x.map({'Yes':1, 'No':0}))\n",
    "\n",
    "df_master.head()"
   ]
  },
  {
   "cell_type": "code",
   "execution_count": 97,
   "metadata": {},
   "outputs": [],
   "source": [
    "df_dummy = pd.get_dummies(df_master[['Contract', 'PaymentMethod', 'gender', 'InternetService']], drop_first=True)\n",
    "df_master = df_master.drop(['Contract', 'PaymentMethod', 'gender', 'InternetService'], axis=1)\n",
    "df_master = pd.concat([df_master, df_dummy], axis=1)"
   ]
  },
  {
   "cell_type": "code",
   "execution_count": 98,
   "metadata": {},
   "outputs": [],
   "source": [
    "df_dummy = pd.get_dummies(df_master['MultipleLines'], prefix='MultipleLines')\n",
    "df_dummy = df_dummy.drop('MultipleLines_No phone service', axis=1)\n",
    "df_master = pd.concat([df_master, df_dummy], axis=1)\n",
    "df_master = df_master.drop('MultipleLines', axis=1)"
   ]
  },
  {
   "cell_type": "code",
   "execution_count": 99,
   "metadata": {},
   "outputs": [],
   "source": [
    "df_dummy = pd.get_dummies(df_master['OnlineSecurity'], prefix='OnlineSecurity')\n",
    "df_dummy = df_dummy.drop('OnlineSecurity_No internet service', axis=1)\n",
    "df_master = pd.concat([df_master, df_dummy], axis=1)\n",
    "df_master = df_master.drop('OnlineSecurity', axis=1)\n",
    "\n",
    "df_dummy = pd.get_dummies(df_master['OnlineBackup'], prefix='OnlineBackup')\n",
    "df_dummy = df_dummy.drop('OnlineBackup_No internet service', axis=1)\n",
    "df_master = pd.concat([df_master, df_dummy], axis=1)\n",
    "df_master = df_master.drop('OnlineBackup', axis=1)\n",
    "\n",
    "df_dummy = pd.get_dummies(df_master['DeviceProtection'], prefix='DeviceProtection')\n",
    "df_dummy = df_dummy.drop('DeviceProtection_No internet service', axis=1)\n",
    "df_master = pd.concat([df_master, df_dummy], axis=1)\n",
    "df_master = df_master.drop('DeviceProtection', axis=1)\n",
    "\n",
    "df_dummy = pd.get_dummies(df_master['TechSupport'], prefix='TechSupport')\n",
    "df_dummy = df_dummy.drop('TechSupport_No internet service', axis=1)\n",
    "df_master = pd.concat([df_master, df_dummy], axis=1)\n",
    "df_master = df_master.drop('TechSupport', axis=1)\n",
    "\n",
    "df_dummy = pd.get_dummies(df_master['StreamingTV'], prefix='StreamingTV')\n",
    "df_dummy = df_dummy.drop('StreamingTV_No internet service', axis=1)\n",
    "df_master = pd.concat([df_master, df_dummy], axis=1)\n",
    "df_master = df_master.drop('StreamingTV', axis=1)\n",
    "\n",
    "df_dummy = pd.get_dummies(df_master['StreamingMovies'], prefix='StreamingMovies')\n",
    "df_dummy = df_dummy.drop('StreamingMovies_No internet service', axis=1)\n",
    "df_master = pd.concat([df_master, df_dummy], axis=1)\n",
    "df_master = df_master.drop('StreamingMovies', axis=1)"
   ]
  },
  {
   "cell_type": "code",
   "execution_count": 100,
   "metadata": {},
   "outputs": [],
   "source": [
    "df_master.TotalCharges = pd.to_numeric(df_master.TotalCharges, errors='coerce')"
   ]
  },
  {
   "cell_type": "code",
   "execution_count": 101,
   "metadata": {},
   "outputs": [
    {
     "name": "stdout",
     "output_type": "stream",
     "text": [
      "<class 'pandas.core.frame.DataFrame'>\n",
      "Int64Index: 7043 entries, 0 to 7042\n",
      "Data columns (total 32 columns):\n",
      " #   Column                                 Non-Null Count  Dtype  \n",
      "---  ------                                 --------------  -----  \n",
      " 0   customerID                             7043 non-null   object \n",
      " 1   tenure                                 7043 non-null   int64  \n",
      " 2   PhoneService                           7043 non-null   int64  \n",
      " 3   PaperlessBilling                       7043 non-null   int64  \n",
      " 4   MonthlyCharges                         7043 non-null   float64\n",
      " 5   TotalCharges                           7032 non-null   float64\n",
      " 6   Churn                                  7043 non-null   int64  \n",
      " 7   SeniorCitizen                          7043 non-null   int64  \n",
      " 8   Partner                                7043 non-null   int64  \n",
      " 9   Dependents                             7043 non-null   int64  \n",
      " 10  Contract_One year                      7043 non-null   uint8  \n",
      " 11  Contract_Two year                      7043 non-null   uint8  \n",
      " 12  PaymentMethod_Credit card (automatic)  7043 non-null   uint8  \n",
      " 13  PaymentMethod_Electronic check         7043 non-null   uint8  \n",
      " 14  PaymentMethod_Mailed check             7043 non-null   uint8  \n",
      " 15  gender_Male                            7043 non-null   uint8  \n",
      " 16  InternetService_Fiber optic            7043 non-null   uint8  \n",
      " 17  InternetService_No                     7043 non-null   uint8  \n",
      " 18  MultipleLines_No                       7043 non-null   uint8  \n",
      " 19  MultipleLines_Yes                      7043 non-null   uint8  \n",
      " 20  OnlineSecurity_No                      7043 non-null   uint8  \n",
      " 21  OnlineSecurity_Yes                     7043 non-null   uint8  \n",
      " 22  OnlineBackup_No                        7043 non-null   uint8  \n",
      " 23  OnlineBackup_Yes                       7043 non-null   uint8  \n",
      " 24  DeviceProtection_No                    7043 non-null   uint8  \n",
      " 25  DeviceProtection_Yes                   7043 non-null   uint8  \n",
      " 26  TechSupport_No                         7043 non-null   uint8  \n",
      " 27  TechSupport_Yes                        7043 non-null   uint8  \n",
      " 28  StreamingTV_No                         7043 non-null   uint8  \n",
      " 29  StreamingTV_Yes                        7043 non-null   uint8  \n",
      " 30  StreamingMovies_No                     7043 non-null   uint8  \n",
      " 31  StreamingMovies_Yes                    7043 non-null   uint8  \n",
      "dtypes: float64(2), int64(7), object(1), uint8(22)\n",
      "memory usage: 756.6+ KB\n"
     ]
    }
   ],
   "source": [
    "df_master.info()"
   ]
  },
  {
   "cell_type": "markdown",
   "metadata": {},
   "source": [
    "## We did not do drop_first and removed no internet and phone service since it is redundant to no phone service and internet service columns with Nos"
   ]
  },
  {
   "cell_type": "code",
   "execution_count": 105,
   "metadata": {},
   "outputs": [
    {
     "data": {
      "text/plain": [
       "Fiber optic    3096\n",
       "DSL            2421\n",
       "No             1526\n",
       "Name: InternetService, dtype: int64"
      ]
     },
     "execution_count": 105,
     "metadata": {},
     "output_type": "execute_result"
    }
   ],
   "source": [
    "df_merge.InternetService.value_counts()"
   ]
  },
  {
   "cell_type": "code",
   "execution_count": 103,
   "metadata": {},
   "outputs": [
    {
     "data": {
      "text/plain": [
       "No                     3088\n",
       "Yes                    2429\n",
       "No internet service    1526\n",
       "Name: OnlineBackup, dtype: int64"
      ]
     },
     "execution_count": 103,
     "metadata": {},
     "output_type": "execute_result"
    }
   ],
   "source": [
    "df_merge.OnlineBackup.value_counts()"
   ]
  },
  {
   "cell_type": "code",
   "execution_count": 104,
   "metadata": {
    "scrolled": true
   },
   "outputs": [
    {
     "data": {
      "text/plain": [
       "No                     3095\n",
       "Yes                    2422\n",
       "No internet service    1526\n",
       "Name: DeviceProtection, dtype: int64"
      ]
     },
     "execution_count": 104,
     "metadata": {},
     "output_type": "execute_result"
    }
   ],
   "source": [
    "df_merge.DeviceProtection.value_counts() "
   ]
  },
  {
   "cell_type": "markdown",
   "metadata": {},
   "source": [
    "## Check for Outliers"
   ]
  },
  {
   "cell_type": "code",
   "execution_count": 110,
   "metadata": {},
   "outputs": [
    {
     "data": {
      "text/html": [
       "<div>\n",
       "<style scoped>\n",
       "    .dataframe tbody tr th:only-of-type {\n",
       "        vertical-align: middle;\n",
       "    }\n",
       "\n",
       "    .dataframe tbody tr th {\n",
       "        vertical-align: top;\n",
       "    }\n",
       "\n",
       "    .dataframe thead th {\n",
       "        text-align: right;\n",
       "    }\n",
       "</style>\n",
       "<table border=\"1\" class=\"dataframe\">\n",
       "  <thead>\n",
       "    <tr style=\"text-align: right;\">\n",
       "      <th></th>\n",
       "      <th>MonthlyCharges</th>\n",
       "      <th>TotalCharges</th>\n",
       "      <th>PhoneService</th>\n",
       "      <th>PaperlessBilling</th>\n",
       "      <th>tenure</th>\n",
       "    </tr>\n",
       "  </thead>\n",
       "  <tbody>\n",
       "    <tr>\n",
       "      <th>count</th>\n",
       "      <td>7043.000000</td>\n",
       "      <td>7032.000000</td>\n",
       "      <td>7043.000000</td>\n",
       "      <td>7043.000000</td>\n",
       "      <td>7043.000000</td>\n",
       "    </tr>\n",
       "    <tr>\n",
       "      <th>mean</th>\n",
       "      <td>64.761692</td>\n",
       "      <td>2283.300441</td>\n",
       "      <td>0.903166</td>\n",
       "      <td>0.592219</td>\n",
       "      <td>32.371149</td>\n",
       "    </tr>\n",
       "    <tr>\n",
       "      <th>std</th>\n",
       "      <td>30.090047</td>\n",
       "      <td>2266.771362</td>\n",
       "      <td>0.295752</td>\n",
       "      <td>0.491457</td>\n",
       "      <td>24.559481</td>\n",
       "    </tr>\n",
       "    <tr>\n",
       "      <th>min</th>\n",
       "      <td>18.250000</td>\n",
       "      <td>18.800000</td>\n",
       "      <td>0.000000</td>\n",
       "      <td>0.000000</td>\n",
       "      <td>0.000000</td>\n",
       "    </tr>\n",
       "    <tr>\n",
       "      <th>25%</th>\n",
       "      <td>35.500000</td>\n",
       "      <td>401.450000</td>\n",
       "      <td>1.000000</td>\n",
       "      <td>0.000000</td>\n",
       "      <td>9.000000</td>\n",
       "    </tr>\n",
       "    <tr>\n",
       "      <th>50%</th>\n",
       "      <td>70.350000</td>\n",
       "      <td>1397.475000</td>\n",
       "      <td>1.000000</td>\n",
       "      <td>1.000000</td>\n",
       "      <td>29.000000</td>\n",
       "    </tr>\n",
       "    <tr>\n",
       "      <th>75%</th>\n",
       "      <td>89.850000</td>\n",
       "      <td>3794.737500</td>\n",
       "      <td>1.000000</td>\n",
       "      <td>1.000000</td>\n",
       "      <td>55.000000</td>\n",
       "    </tr>\n",
       "    <tr>\n",
       "      <th>max</th>\n",
       "      <td>118.750000</td>\n",
       "      <td>8684.800000</td>\n",
       "      <td>1.000000</td>\n",
       "      <td>1.000000</td>\n",
       "      <td>72.000000</td>\n",
       "    </tr>\n",
       "  </tbody>\n",
       "</table>\n",
       "</div>"
      ],
      "text/plain": [
       "       MonthlyCharges  TotalCharges  PhoneService  PaperlessBilling  \\\n",
       "count     7043.000000   7032.000000   7043.000000       7043.000000   \n",
       "mean        64.761692   2283.300441      0.903166          0.592219   \n",
       "std         30.090047   2266.771362      0.295752          0.491457   \n",
       "min         18.250000     18.800000      0.000000          0.000000   \n",
       "25%         35.500000    401.450000      1.000000          0.000000   \n",
       "50%         70.350000   1397.475000      1.000000          1.000000   \n",
       "75%         89.850000   3794.737500      1.000000          1.000000   \n",
       "max        118.750000   8684.800000      1.000000          1.000000   \n",
       "\n",
       "            tenure  \n",
       "count  7043.000000  \n",
       "mean     32.371149  \n",
       "std      24.559481  \n",
       "min       0.000000  \n",
       "25%       9.000000  \n",
       "50%      29.000000  \n",
       "75%      55.000000  \n",
       "max      72.000000  "
      ]
     },
     "execution_count": 110,
     "metadata": {},
     "output_type": "execute_result"
    }
   ],
   "source": [
    "num_cols = ['MonthlyCharges', 'TotalCharges', 'PhoneService', 'PaperlessBilling', 'tenure']\n",
    "df_master[num_cols].describe()"
   ]
  },
  {
   "cell_type": "markdown",
   "metadata": {},
   "source": [
    "## Check for NULLS"
   ]
  },
  {
   "cell_type": "code",
   "execution_count": 129,
   "metadata": {},
   "outputs": [
    {
     "data": {
      "text/plain": [
       "tenure                                   0\n",
       "PhoneService                             0\n",
       "PaperlessBilling                         0\n",
       "MonthlyCharges                           0\n",
       "TotalCharges                             0\n",
       "Churn                                    0\n",
       "SeniorCitizen                            0\n",
       "Partner                                  0\n",
       "Dependents                               0\n",
       "Contract_One year                        0\n",
       "Contract_Two year                        0\n",
       "PaymentMethod_Credit card (automatic)    0\n",
       "PaymentMethod_Electronic check           0\n",
       "PaymentMethod_Mailed check               0\n",
       "gender_Male                              0\n",
       "InternetService_Fiber optic              0\n",
       "InternetService_No                       0\n",
       "MultipleLines_No                         0\n",
       "MultipleLines_Yes                        0\n",
       "OnlineSecurity_No                        0\n",
       "OnlineSecurity_Yes                       0\n",
       "OnlineBackup_No                          0\n",
       "OnlineBackup_Yes                         0\n",
       "DeviceProtection_No                      0\n",
       "DeviceProtection_Yes                     0\n",
       "TechSupport_No                           0\n",
       "TechSupport_Yes                          0\n",
       "StreamingTV_No                           0\n",
       "StreamingTV_Yes                          0\n",
       "StreamingMovies_No                       0\n",
       "StreamingMovies_Yes                      0\n",
       "dtype: int64"
      ]
     },
     "execution_count": 129,
     "metadata": {},
     "output_type": "execute_result"
    }
   ],
   "source": [
    "df_master.isnull().sum()"
   ]
  },
  {
   "cell_type": "code",
   "execution_count": 113,
   "metadata": {
    "scrolled": true
   },
   "outputs": [
    {
     "data": {
      "text/plain": [
       "0.1561834445548772"
      ]
     },
     "execution_count": 113,
     "metadata": {},
     "output_type": "execute_result"
    }
   ],
   "source": [
    "df_master.TotalCharges.isnull().sum()/df_master.shape[0] *100"
   ]
  },
  {
   "cell_type": "markdown",
   "metadata": {},
   "source": [
    "## Remove the NULL rows"
   ]
  },
  {
   "cell_type": "code",
   "execution_count": 114,
   "metadata": {},
   "outputs": [],
   "source": [
    "df_master = df_master[~df_master.TotalCharges.isnull()]"
   ]
  },
  {
   "cell_type": "code",
   "execution_count": 115,
   "metadata": {},
   "outputs": [
    {
     "data": {
      "text/plain": [
       "(7032, 32)"
      ]
     },
     "execution_count": 115,
     "metadata": {},
     "output_type": "execute_result"
    }
   ],
   "source": [
    "df_master.shape"
   ]
  },
  {
   "cell_type": "markdown",
   "metadata": {},
   "source": [
    "## Remove non-predictor columnn"
   ]
  },
  {
   "cell_type": "code",
   "execution_count": 119,
   "metadata": {},
   "outputs": [],
   "source": [
    "df_master = df_master.drop('customerID', axis=1)"
   ]
  },
  {
   "cell_type": "markdown",
   "metadata": {},
   "source": [
    "## Do train test Split"
   ]
  },
  {
   "cell_type": "code",
   "execution_count": 395,
   "metadata": {},
   "outputs": [],
   "source": [
    "df_train, df_test = train_test_split(df_master, train_size=0.7)"
   ]
  },
  {
   "cell_type": "code",
   "execution_count": 396,
   "metadata": {},
   "outputs": [
    {
     "name": "stdout",
     "output_type": "stream",
     "text": [
      "(4922, 31) (2110, 31)\n"
     ]
    }
   ],
   "source": [
    "print(df_train.shape, df_test.shape)"
   ]
  },
  {
   "cell_type": "code",
   "execution_count": 397,
   "metadata": {},
   "outputs": [],
   "source": [
    "y_train, X_train = df_train.pop('Churn'), df_train"
   ]
  },
  {
   "cell_type": "code",
   "execution_count": 398,
   "metadata": {},
   "outputs": [],
   "source": [
    "y_test, X_test = df_test.pop('Churn'), df_test"
   ]
  },
  {
   "cell_type": "code",
   "execution_count": 399,
   "metadata": {},
   "outputs": [
    {
     "name": "stdout",
     "output_type": "stream",
     "text": [
      "(4922, 30) (2110, 30)\n"
     ]
    }
   ],
   "source": [
    "print(X_train.shape, X_test.shape)"
   ]
  },
  {
   "cell_type": "markdown",
   "metadata": {},
   "source": [
    "## Do standard scaling"
   ]
  },
  {
   "cell_type": "code",
   "execution_count": 400,
   "metadata": {},
   "outputs": [
    {
     "data": {
      "text/plain": [
       "Index(['tenure', 'PhoneService', 'PaperlessBilling', 'MonthlyCharges',\n",
       "       'TotalCharges', 'SeniorCitizen', 'Partner', 'Dependents',\n",
       "       'Contract_One year', 'Contract_Two year',\n",
       "       'PaymentMethod_Credit card (automatic)',\n",
       "       'PaymentMethod_Electronic check', 'PaymentMethod_Mailed check',\n",
       "       'gender_Male', 'InternetService_Fiber optic', 'InternetService_No',\n",
       "       'MultipleLines_No', 'MultipleLines_Yes', 'OnlineSecurity_No',\n",
       "       'OnlineSecurity_Yes', 'OnlineBackup_No', 'OnlineBackup_Yes',\n",
       "       'DeviceProtection_No', 'DeviceProtection_Yes', 'TechSupport_No',\n",
       "       'TechSupport_Yes', 'StreamingTV_No', 'StreamingTV_Yes',\n",
       "       'StreamingMovies_No', 'StreamingMovies_Yes'],\n",
       "      dtype='object')"
      ]
     },
     "execution_count": 400,
     "metadata": {},
     "output_type": "execute_result"
    }
   ],
   "source": [
    "X_train.columns"
   ]
  },
  {
   "cell_type": "code",
   "execution_count": 401,
   "metadata": {},
   "outputs": [],
   "source": [
    "scaler = StandardScaler()\n",
    "var_list = ['tenure', 'MonthlyCharges', 'TotalCharges']\n",
    "df_train[var_list] = scaler.fit_transform(df_train[var_list])"
   ]
  },
  {
   "cell_type": "code",
   "execution_count": 402,
   "metadata": {},
   "outputs": [
    {
     "data": {
      "text/html": [
       "<div>\n",
       "<style scoped>\n",
       "    .dataframe tbody tr th:only-of-type {\n",
       "        vertical-align: middle;\n",
       "    }\n",
       "\n",
       "    .dataframe tbody tr th {\n",
       "        vertical-align: top;\n",
       "    }\n",
       "\n",
       "    .dataframe thead th {\n",
       "        text-align: right;\n",
       "    }\n",
       "</style>\n",
       "<table border=\"1\" class=\"dataframe\">\n",
       "  <thead>\n",
       "    <tr style=\"text-align: right;\">\n",
       "      <th></th>\n",
       "      <th>tenure</th>\n",
       "      <th>MonthlyCharges</th>\n",
       "      <th>TotalCharges</th>\n",
       "    </tr>\n",
       "  </thead>\n",
       "  <tbody>\n",
       "    <tr>\n",
       "      <th>count</th>\n",
       "      <td>4.922000e+03</td>\n",
       "      <td>4.922000e+03</td>\n",
       "      <td>4.922000e+03</td>\n",
       "    </tr>\n",
       "    <tr>\n",
       "      <th>mean</th>\n",
       "      <td>3.712773e-17</td>\n",
       "      <td>2.669317e-16</td>\n",
       "      <td>-6.541338e-17</td>\n",
       "    </tr>\n",
       "    <tr>\n",
       "      <th>std</th>\n",
       "      <td>1.000102e+00</td>\n",
       "      <td>1.000102e+00</td>\n",
       "      <td>1.000102e+00</td>\n",
       "    </tr>\n",
       "    <tr>\n",
       "      <th>min</th>\n",
       "      <td>-1.271914e+00</td>\n",
       "      <td>-1.559842e+00</td>\n",
       "      <td>-9.983881e-01</td>\n",
       "    </tr>\n",
       "    <tr>\n",
       "      <th>25%</th>\n",
       "      <td>-9.773253e-01</td>\n",
       "      <td>-8.865260e-01</td>\n",
       "      <td>-8.334810e-01</td>\n",
       "    </tr>\n",
       "    <tr>\n",
       "      <th>50%</th>\n",
       "      <td>-1.341912e-01</td>\n",
       "      <td>1.783406e-01</td>\n",
       "      <td>-3.862513e-01</td>\n",
       "    </tr>\n",
       "    <tr>\n",
       "      <th>75%</th>\n",
       "      <td>9.222660e-01</td>\n",
       "      <td>8.295330e-01</td>\n",
       "      <td>6.614675e-01</td>\n",
       "    </tr>\n",
       "    <tr>\n",
       "      <th>max</th>\n",
       "      <td>1.613027e+00</td>\n",
       "      <td>1.791294e+00</td>\n",
       "      <td>2.810600e+00</td>\n",
       "    </tr>\n",
       "  </tbody>\n",
       "</table>\n",
       "</div>"
      ],
      "text/plain": [
       "             tenure  MonthlyCharges  TotalCharges\n",
       "count  4.922000e+03    4.922000e+03  4.922000e+03\n",
       "mean   3.712773e-17    2.669317e-16 -6.541338e-17\n",
       "std    1.000102e+00    1.000102e+00  1.000102e+00\n",
       "min   -1.271914e+00   -1.559842e+00 -9.983881e-01\n",
       "25%   -9.773253e-01   -8.865260e-01 -8.334810e-01\n",
       "50%   -1.341912e-01    1.783406e-01 -3.862513e-01\n",
       "75%    9.222660e-01    8.295330e-01  6.614675e-01\n",
       "max    1.613027e+00    1.791294e+00  2.810600e+00"
      ]
     },
     "execution_count": 402,
     "metadata": {},
     "output_type": "execute_result"
    }
   ],
   "source": [
    "df_train[var_list].describe()"
   ]
  },
  {
   "cell_type": "markdown",
   "metadata": {},
   "source": [
    "## Check Churn rate in dataset - class imbalance"
   ]
  },
  {
   "cell_type": "markdown",
   "metadata": {},
   "source": [
    "## We have about 73% no Churn class"
   ]
  },
  {
   "cell_type": "code",
   "execution_count": 403,
   "metadata": {},
   "outputs": [
    {
     "data": {
      "text/plain": [
       "26.578498293515356"
      ]
     },
     "execution_count": 403,
     "metadata": {},
     "output_type": "execute_result"
    }
   ],
   "source": [
    "df_master.Churn.sum()/df_master.shape[0] * 100"
   ]
  },
  {
   "cell_type": "code",
   "execution_count": 404,
   "metadata": {},
   "outputs": [
    {
     "data": {
      "image/png": "[encoded data removed]",
      "text/plain": [
       "<Figure size 1440x720 with 2 Axes>"
      ]
     },
     "metadata": {
      "needs_background": "light"
     },
     "output_type": "display_data"
    }
   ],
   "source": [
    "plt.figure(figsize=(20,10))\n",
    "sns.heatmap(X_train.corr(), annot=True)\n",
    "plt.show()"
   ]
  },
  {
   "cell_type": "markdown",
   "metadata": {},
   "source": [
    "## Lets remove highly correlated 'NO' cols since they are correlated to 'Yes' col"
   ]
  },
  {
   "cell_type": "code",
   "execution_count": 405,
   "metadata": {},
   "outputs": [
    {
     "data": {
      "text/html": [
       "<div>\n",
       "<style scoped>\n",
       "    .dataframe tbody tr th:only-of-type {\n",
       "        vertical-align: middle;\n",
       "    }\n",
       "\n",
       "    .dataframe tbody tr th {\n",
       "        vertical-align: top;\n",
       "    }\n",
       "\n",
       "    .dataframe thead th {\n",
       "        text-align: right;\n",
       "    }\n",
       "</style>\n",
       "<table border=\"1\" class=\"dataframe\">\n",
       "  <thead>\n",
       "    <tr style=\"text-align: right;\">\n",
       "      <th></th>\n",
       "      <th>tenure</th>\n",
       "      <th>PhoneService</th>\n",
       "      <th>PaperlessBilling</th>\n",
       "      <th>MonthlyCharges</th>\n",
       "      <th>TotalCharges</th>\n",
       "      <th>SeniorCitizen</th>\n",
       "      <th>Partner</th>\n",
       "      <th>Dependents</th>\n",
       "      <th>Contract_One year</th>\n",
       "      <th>Contract_Two year</th>\n",
       "      <th>...</th>\n",
       "      <th>OnlineBackup_No</th>\n",
       "      <th>OnlineBackup_Yes</th>\n",
       "      <th>DeviceProtection_No</th>\n",
       "      <th>DeviceProtection_Yes</th>\n",
       "      <th>TechSupport_No</th>\n",
       "      <th>TechSupport_Yes</th>\n",
       "      <th>StreamingTV_No</th>\n",
       "      <th>StreamingTV_Yes</th>\n",
       "      <th>StreamingMovies_No</th>\n",
       "      <th>StreamingMovies_Yes</th>\n",
       "    </tr>\n",
       "  </thead>\n",
       "  <tbody>\n",
       "    <tr>\n",
       "      <th>5100</th>\n",
       "      <td>-1.271914</td>\n",
       "      <td>1</td>\n",
       "      <td>0</td>\n",
       "      <td>0.340304</td>\n",
       "      <td>-0.973555</td>\n",
       "      <td>0</td>\n",
       "      <td>0</td>\n",
       "      <td>0</td>\n",
       "      <td>0</td>\n",
       "      <td>0</td>\n",
       "      <td>...</td>\n",
       "      <td>1</td>\n",
       "      <td>0</td>\n",
       "      <td>0</td>\n",
       "      <td>1</td>\n",
       "      <td>1</td>\n",
       "      <td>0</td>\n",
       "      <td>1</td>\n",
       "      <td>0</td>\n",
       "      <td>1</td>\n",
       "      <td>0</td>\n",
       "    </tr>\n",
       "    <tr>\n",
       "      <th>3933</th>\n",
       "      <td>-0.946851</td>\n",
       "      <td>1</td>\n",
       "      <td>0</td>\n",
       "      <td>-1.516430</td>\n",
       "      <td>-0.927228</td>\n",
       "      <td>0</td>\n",
       "      <td>0</td>\n",
       "      <td>0</td>\n",
       "      <td>0</td>\n",
       "      <td>0</td>\n",
       "      <td>...</td>\n",
       "      <td>0</td>\n",
       "      <td>0</td>\n",
       "      <td>0</td>\n",
       "      <td>0</td>\n",
       "      <td>0</td>\n",
       "      <td>0</td>\n",
       "      <td>0</td>\n",
       "      <td>0</td>\n",
       "      <td>0</td>\n",
       "      <td>0</td>\n",
       "    </tr>\n",
       "    <tr>\n",
       "      <th>2771</th>\n",
       "      <td>-0.784319</td>\n",
       "      <td>1</td>\n",
       "      <td>1</td>\n",
       "      <td>-0.065439</td>\n",
       "      <td>-0.647641</td>\n",
       "      <td>0</td>\n",
       "      <td>1</td>\n",
       "      <td>1</td>\n",
       "      <td>0</td>\n",
       "      <td>0</td>\n",
       "      <td>...</td>\n",
       "      <td>1</td>\n",
       "      <td>0</td>\n",
       "      <td>0</td>\n",
       "      <td>1</td>\n",
       "      <td>1</td>\n",
       "      <td>0</td>\n",
       "      <td>1</td>\n",
       "      <td>0</td>\n",
       "      <td>0</td>\n",
       "      <td>1</td>\n",
       "    </tr>\n",
       "    <tr>\n",
       "      <th>1304</th>\n",
       "      <td>-0.703053</td>\n",
       "      <td>1</td>\n",
       "      <td>1</td>\n",
       "      <td>0.684267</td>\n",
       "      <td>-0.415239</td>\n",
       "      <td>1</td>\n",
       "      <td>1</td>\n",
       "      <td>0</td>\n",
       "      <td>0</td>\n",
       "      <td>0</td>\n",
       "      <td>...</td>\n",
       "      <td>1</td>\n",
       "      <td>0</td>\n",
       "      <td>1</td>\n",
       "      <td>0</td>\n",
       "      <td>1</td>\n",
       "      <td>0</td>\n",
       "      <td>1</td>\n",
       "      <td>0</td>\n",
       "      <td>0</td>\n",
       "      <td>1</td>\n",
       "    </tr>\n",
       "    <tr>\n",
       "      <th>6948</th>\n",
       "      <td>0.597202</td>\n",
       "      <td>1</td>\n",
       "      <td>1</td>\n",
       "      <td>1.288707</td>\n",
       "      <td>1.072601</td>\n",
       "      <td>0</td>\n",
       "      <td>0</td>\n",
       "      <td>0</td>\n",
       "      <td>1</td>\n",
       "      <td>0</td>\n",
       "      <td>...</td>\n",
       "      <td>1</td>\n",
       "      <td>0</td>\n",
       "      <td>0</td>\n",
       "      <td>1</td>\n",
       "      <td>0</td>\n",
       "      <td>1</td>\n",
       "      <td>0</td>\n",
       "      <td>1</td>\n",
       "      <td>0</td>\n",
       "      <td>1</td>\n",
       "    </tr>\n",
       "  </tbody>\n",
       "</table>\n",
       "<p>5 rows × 30 columns</p>\n",
       "</div>"
      ],
      "text/plain": [
       "        tenure  PhoneService  PaperlessBilling  MonthlyCharges  TotalCharges  \\\n",
       "5100 -1.271914             1                 0        0.340304     -0.973555   \n",
       "3933 -0.946851             1                 0       -1.516430     -0.927228   \n",
       "2771 -0.784319             1                 1       -0.065439     -0.647641   \n",
       "1304 -0.703053             1                 1        0.684267     -0.415239   \n",
       "6948  0.597202             1                 1        1.288707      1.072601   \n",
       "\n",
       "      SeniorCitizen  Partner  Dependents  Contract_One year  \\\n",
       "5100              0        0           0                  0   \n",
       "3933              0        0           0                  0   \n",
       "2771              0        1           1                  0   \n",
       "1304              1        1           0                  0   \n",
       "6948              0        0           0                  1   \n",
       "\n",
       "      Contract_Two year  ...  OnlineBackup_No  OnlineBackup_Yes  \\\n",
       "5100                  0  ...                1                 0   \n",
       "3933                  0  ...                0                 0   \n",
       "2771                  0  ...                1                 0   \n",
       "1304                  0  ...                1                 0   \n",
       "6948                  0  ...                1                 0   \n",
       "\n",
       "      DeviceProtection_No  DeviceProtection_Yes  TechSupport_No  \\\n",
       "5100                    0                     1               1   \n",
       "3933                    0                     0               0   \n",
       "2771                    0                     1               1   \n",
       "1304                    1                     0               1   \n",
       "6948                    0                     1               0   \n",
       "\n",
       "      TechSupport_Yes  StreamingTV_No  StreamingTV_Yes  StreamingMovies_No  \\\n",
       "5100                0               1                0                   1   \n",
       "3933                0               0                0                   0   \n",
       "2771                0               1                0                   0   \n",
       "1304                0               1                0                   0   \n",
       "6948                1               0                1                   0   \n",
       "\n",
       "      StreamingMovies_Yes  \n",
       "5100                    0  \n",
       "3933                    0  \n",
       "2771                    1  \n",
       "1304                    1  \n",
       "6948                    1  \n",
       "\n",
       "[5 rows x 30 columns]"
      ]
     },
     "execution_count": 405,
     "metadata": {},
     "output_type": "execute_result"
    }
   ],
   "source": [
    "X_train.head()"
   ]
  },
  {
   "cell_type": "code",
   "execution_count": 406,
   "metadata": {},
   "outputs": [],
   "source": [
    "X_train = X_train.drop(['MultipleLines_No', 'OnlineSecurity_No', 'OnlineBackup_No', 'DeviceProtection_No', 'TechSupport_No', 'StreamingTV_No', 'StreamingMovies_No'], axis=1)\n",
    "X_test = X_test.drop(['MultipleLines_No', 'OnlineSecurity_No', 'OnlineBackup_No', 'DeviceProtection_No', 'TechSupport_No', 'StreamingTV_No', 'StreamingMovies_No'], axis=1)"
   ]
  },
  {
   "cell_type": "markdown",
   "metadata": {},
   "source": [
    "# Lets get the overview of statistics of features after fitting model with statsmodels"
   ]
  },
  {
   "cell_type": "code",
   "execution_count": 407,
   "metadata": {
    "scrolled": false
   },
   "outputs": [
    {
     "data": {
      "text/html": [
       "<table class=\"simpletable\">\n",
       "<caption>Generalized Linear Model Regression Results</caption>\n",
       "<tr>\n",
       "  <th>Dep. Variable:</th>         <td>Churn</td>      <th>  No. Observations:  </th>  <td>  4922</td> \n",
       "</tr>\n",
       "<tr>\n",
       "  <th>Model:</th>                  <td>GLM</td>       <th>  Df Residuals:      </th>  <td>  4898</td> \n",
       "</tr>\n",
       "<tr>\n",
       "  <th>Model Family:</th>        <td>Binomial</td>     <th>  Df Model:          </th>  <td>    23</td> \n",
       "</tr>\n",
       "<tr>\n",
       "  <th>Link Function:</th>         <td>logit</td>      <th>  Scale:             </th> <td>  1.0000</td>\n",
       "</tr>\n",
       "<tr>\n",
       "  <th>Method:</th>                <td>IRLS</td>       <th>  Log-Likelihood:    </th> <td> -2045.2</td>\n",
       "</tr>\n",
       "<tr>\n",
       "  <th>Date:</th>            <td>Mon, 15 Mar 2021</td> <th>  Deviance:          </th> <td>  4090.5</td>\n",
       "</tr>\n",
       "<tr>\n",
       "  <th>Time:</th>                <td>11:34:11</td>     <th>  Pearson chi2:      </th> <td>5.31e+03</td>\n",
       "</tr>\n",
       "<tr>\n",
       "  <th>No. Iterations:</th>          <td>7</td>        <th>                     </th>     <td> </td>   \n",
       "</tr>\n",
       "<tr>\n",
       "  <th>Covariance Type:</th>     <td>nonrobust</td>    <th>                     </th>     <td> </td>   \n",
       "</tr>\n",
       "</table>\n",
       "<table class=\"simpletable\">\n",
       "<tr>\n",
       "                    <td></td>                       <th>coef</th>     <th>std err</th>      <th>z</th>      <th>P>|z|</th>  <th>[0.025</th>    <th>0.975]</th>  \n",
       "</tr>\n",
       "<tr>\n",
       "  <th>const</th>                                 <td>   -3.0650</td> <td>    1.535</td> <td>   -1.997</td> <td> 0.046</td> <td>   -6.073</td> <td>   -0.057</td>\n",
       "</tr>\n",
       "<tr>\n",
       "  <th>tenure</th>                                <td>   -1.5482</td> <td>    0.185</td> <td>   -8.391</td> <td> 0.000</td> <td>   -1.910</td> <td>   -1.187</td>\n",
       "</tr>\n",
       "<tr>\n",
       "  <th>PhoneService</th>                          <td>    0.1731</td> <td>    0.774</td> <td>    0.224</td> <td> 0.823</td> <td>   -1.344</td> <td>    1.690</td>\n",
       "</tr>\n",
       "<tr>\n",
       "  <th>PaperlessBilling</th>                      <td>    0.4004</td> <td>    0.089</td> <td>    4.485</td> <td> 0.000</td> <td>    0.225</td> <td>    0.575</td>\n",
       "</tr>\n",
       "<tr>\n",
       "  <th>MonthlyCharges</th>                        <td>   -1.4257</td> <td>    1.134</td> <td>   -1.258</td> <td> 0.208</td> <td>   -3.647</td> <td>    0.796</td>\n",
       "</tr>\n",
       "<tr>\n",
       "  <th>TotalCharges</th>                          <td>    0.8131</td> <td>    0.192</td> <td>    4.226</td> <td> 0.000</td> <td>    0.436</td> <td>    1.190</td>\n",
       "</tr>\n",
       "<tr>\n",
       "  <th>SeniorCitizen</th>                         <td>    0.2265</td> <td>    0.102</td> <td>    2.229</td> <td> 0.026</td> <td>    0.027</td> <td>    0.426</td>\n",
       "</tr>\n",
       "<tr>\n",
       "  <th>Partner</th>                               <td>    0.0051</td> <td>    0.093</td> <td>    0.054</td> <td> 0.957</td> <td>   -0.178</td> <td>    0.188</td>\n",
       "</tr>\n",
       "<tr>\n",
       "  <th>Dependents</th>                            <td>   -0.2311</td> <td>    0.108</td> <td>   -2.146</td> <td> 0.032</td> <td>   -0.442</td> <td>   -0.020</td>\n",
       "</tr>\n",
       "<tr>\n",
       "  <th>Contract_One year</th>                     <td>   -0.6501</td> <td>    0.127</td> <td>   -5.110</td> <td> 0.000</td> <td>   -0.899</td> <td>   -0.401</td>\n",
       "</tr>\n",
       "<tr>\n",
       "  <th>Contract_Two year</th>                     <td>   -1.5219</td> <td>    0.220</td> <td>   -6.921</td> <td> 0.000</td> <td>   -1.953</td> <td>   -1.091</td>\n",
       "</tr>\n",
       "<tr>\n",
       "  <th>PaymentMethod_Credit card (automatic)</th> <td>   -0.0608</td> <td>    0.136</td> <td>   -0.446</td> <td> 0.655</td> <td>   -0.328</td> <td>    0.206</td>\n",
       "</tr>\n",
       "<tr>\n",
       "  <th>PaymentMethod_Electronic check</th>        <td>    0.3590</td> <td>    0.113</td> <td>    3.174</td> <td> 0.002</td> <td>    0.137</td> <td>    0.581</td>\n",
       "</tr>\n",
       "<tr>\n",
       "  <th>PaymentMethod_Mailed check</th>            <td>   -0.0410</td> <td>    0.137</td> <td>   -0.298</td> <td> 0.766</td> <td>   -0.310</td> <td>    0.228</td>\n",
       "</tr>\n",
       "<tr>\n",
       "  <th>gender_Male</th>                           <td>    0.0363</td> <td>    0.077</td> <td>    0.468</td> <td> 0.640</td> <td>   -0.116</td> <td>    0.188</td>\n",
       "</tr>\n",
       "<tr>\n",
       "  <th>InternetService_Fiber optic</th>           <td>    1.9779</td> <td>    0.952</td> <td>    2.077</td> <td> 0.038</td> <td>    0.112</td> <td>    3.844</td>\n",
       "</tr>\n",
       "<tr>\n",
       "  <th>InternetService_No</th>                    <td>   -1.7272</td> <td>    0.962</td> <td>   -1.796</td> <td> 0.072</td> <td>   -3.612</td> <td>    0.158</td>\n",
       "</tr>\n",
       "<tr>\n",
       "  <th>MultipleLines_Yes</th>                     <td>    0.4836</td> <td>    0.212</td> <td>    2.280</td> <td> 0.023</td> <td>    0.068</td> <td>    0.899</td>\n",
       "</tr>\n",
       "<tr>\n",
       "  <th>OnlineSecurity_Yes</th>                    <td>   -0.1100</td> <td>    0.213</td> <td>   -0.516</td> <td> 0.606</td> <td>   -0.528</td> <td>    0.308</td>\n",
       "</tr>\n",
       "<tr>\n",
       "  <th>OnlineBackup_Yes</th>                      <td>    0.1680</td> <td>    0.210</td> <td>    0.799</td> <td> 0.424</td> <td>   -0.244</td> <td>    0.580</td>\n",
       "</tr>\n",
       "<tr>\n",
       "  <th>DeviceProtection_Yes</th>                  <td>    0.0952</td> <td>    0.211</td> <td>    0.452</td> <td> 0.651</td> <td>   -0.318</td> <td>    0.508</td>\n",
       "</tr>\n",
       "<tr>\n",
       "  <th>TechSupport_Yes</th>                       <td>   -0.0267</td> <td>    0.217</td> <td>   -0.123</td> <td> 0.902</td> <td>   -0.453</td> <td>    0.399</td>\n",
       "</tr>\n",
       "<tr>\n",
       "  <th>StreamingTV_Yes</th>                       <td>    0.6845</td> <td>    0.389</td> <td>    1.760</td> <td> 0.078</td> <td>   -0.078</td> <td>    1.447</td>\n",
       "</tr>\n",
       "<tr>\n",
       "  <th>StreamingMovies_Yes</th>                   <td>    0.7274</td> <td>    0.390</td> <td>    1.866</td> <td> 0.062</td> <td>   -0.037</td> <td>    1.491</td>\n",
       "</tr>\n",
       "</table>"
      ],
      "text/plain": [
       "<class 'statsmodels.iolib.summary.Summary'>\n",
       "\"\"\"\n",
       "                 Generalized Linear Model Regression Results                  \n",
       "==============================================================================\n",
       "Dep. Variable:                  Churn   No. Observations:                 4922\n",
       "Model:                            GLM   Df Residuals:                     4898\n",
       "Model Family:                Binomial   Df Model:                           23\n",
       "Link Function:                  logit   Scale:                          1.0000\n",
       "Method:                          IRLS   Log-Likelihood:                -2045.2\n",
       "Date:                Mon, 15 Mar 2021   Deviance:                       4090.5\n",
       "Time:                        11:34:11   Pearson chi2:                 5.31e+03\n",
       "No. Iterations:                     7                                         \n",
       "Covariance Type:            nonrobust                                         \n",
       "=========================================================================================================\n",
       "                                            coef    std err          z      P>|z|      [0.025      0.975]\n",
       "---------------------------------------------------------------------------------------------------------\n",
       "const                                    -3.0650      1.535     -1.997      0.046      -6.073      -0.057\n",
       "tenure                                   -1.5482      0.185     -8.391      0.000      -1.910      -1.187\n",
       "PhoneService                              0.1731      0.774      0.224      0.823      -1.344       1.690\n",
       "PaperlessBilling                          0.4004      0.089      4.485      0.000       0.225       0.575\n",
       "MonthlyCharges                           -1.4257      1.134     -1.258      0.208      -3.647       0.796\n",
       "TotalCharges                              0.8131      0.192      4.226      0.000       0.436       1.190\n",
       "SeniorCitizen                             0.2265      0.102      2.229      0.026       0.027       0.426\n",
       "Partner                                   0.0051      0.093      0.054      0.957      -0.178       0.188\n",
       "Dependents                               -0.2311      0.108     -2.146      0.032      -0.442      -0.020\n",
       "Contract_One year                        -0.6501      0.127     -5.110      0.000      -0.899      -0.401\n",
       "Contract_Two year                        -1.5219      0.220     -6.921      0.000      -1.953      -1.091\n",
       "PaymentMethod_Credit card (automatic)    -0.0608      0.136     -0.446      0.655      -0.328       0.206\n",
       "PaymentMethod_Electronic check            0.3590      0.113      3.174      0.002       0.137       0.581\n",
       "PaymentMethod_Mailed check               -0.0410      0.137     -0.298      0.766      -0.310       0.228\n",
       "gender_Male                               0.0363      0.077      0.468      0.640      -0.116       0.188\n",
       "InternetService_Fiber optic               1.9779      0.952      2.077      0.038       0.112       3.844\n",
       "InternetService_No                       -1.7272      0.962     -1.796      0.072      -3.612       0.158\n",
       "MultipleLines_Yes                         0.4836      0.212      2.280      0.023       0.068       0.899\n",
       "OnlineSecurity_Yes                       -0.1100      0.213     -0.516      0.606      -0.528       0.308\n",
       "OnlineBackup_Yes                          0.1680      0.210      0.799      0.424      -0.244       0.580\n",
       "DeviceProtection_Yes                      0.0952      0.211      0.452      0.651      -0.318       0.508\n",
       "TechSupport_Yes                          -0.0267      0.217     -0.123      0.902      -0.453       0.399\n",
       "StreamingTV_Yes                           0.6845      0.389      1.760      0.078      -0.078       1.447\n",
       "StreamingMovies_Yes                       0.7274      0.390      1.866      0.062      -0.037       1.491\n",
       "=========================================================================================================\n",
       "\"\"\""
      ]
     },
     "execution_count": 407,
     "metadata": {},
     "output_type": "execute_result"
    }
   ],
   "source": [
    "# Generalised Linear models\n",
    "# create model object\n",
    "logml = sm.GLM(y_train, sm.add_constant(X_train), family=sm.families.Binomial())\n",
    "# do a fit and summarise\n",
    "logml.fit().summary()"
   ]
  },
  {
   "cell_type": "markdown",
   "metadata": {},
   "source": [
    "## Before manual fine tuning lets use sklearn' RFE to automate feature selection "
   ]
  },
  {
   "cell_type": "markdown",
   "metadata": {},
   "source": [
    "## We need sklearn package from feature selection and linear_model to use RFE and Logistic Regression"
   ]
  },
  {
   "cell_type": "code",
   "execution_count": 440,
   "metadata": {},
   "outputs": [
    {
     "data": {
      "text/plain": [
       "RFE(estimator=LogisticRegression(C=1.0, class_weight=None, dual=False,\n",
       "                                 fit_intercept=True, intercept_scaling=1,\n",
       "                                 l1_ratio=None, max_iter=100,\n",
       "                                 multi_class='auto', n_jobs=None, penalty='l2',\n",
       "                                 random_state=None, solver='lbfgs', tol=0.0001,\n",
       "                                 verbose=0, warm_start=False),\n",
       "    n_features_to_select=13, step=1, verbose=0)"
      ]
     },
     "execution_count": 440,
     "metadata": {},
     "output_type": "execute_result"
    }
   ],
   "source": [
    "# RFE does internal fitting for logistic regression to figure the least important coefficients iteratively\n",
    "log_reg = LogisticRegression()\n",
    "# initialize RFE with log_regression model and number of features needed\n",
    "rfe = RFE(log_reg, 13)\n",
    "# fit iteratively the data set\n",
    "rfe.fit(X_train, y_train)"
   ]
  },
  {
   "cell_type": "code",
   "execution_count": 441,
   "metadata": {},
   "outputs": [
    {
     "data": {
      "text/plain": [
       "[('tenure', True, 1),\n",
       " ('PhoneService', False, 2),\n",
       " ('PaperlessBilling', True, 1),\n",
       " ('MonthlyCharges', True, 1),\n",
       " ('TotalCharges', True, 1),\n",
       " ('SeniorCitizen', True, 1),\n",
       " ('Partner', False, 11),\n",
       " ('Dependents', False, 4),\n",
       " ('Contract_One year', True, 1),\n",
       " ('Contract_Two year', True, 1),\n",
       " ('PaymentMethod_Credit card (automatic)', False, 8),\n",
       " ('PaymentMethod_Electronic check', True, 1),\n",
       " ('PaymentMethod_Mailed check', False, 9),\n",
       " ('gender_Male', False, 10),\n",
       " ('InternetService_Fiber optic', True, 1),\n",
       " ('InternetService_No', True, 1),\n",
       " ('MultipleLines_Yes', True, 1),\n",
       " ('OnlineSecurity_Yes', False, 3),\n",
       " ('OnlineBackup_Yes', False, 7),\n",
       " ('DeviceProtection_Yes', False, 6),\n",
       " ('TechSupport_Yes', False, 5),\n",
       " ('StreamingTV_Yes', True, 1),\n",
       " ('StreamingMovies_Yes', True, 1)]"
      ]
     },
     "execution_count": 441,
     "metadata": {},
     "output_type": "execute_result"
    }
   ],
   "source": [
    "list(zip(X_train.columns, rfe.support_, rfe.ranking_))"
   ]
  },
  {
   "cell_type": "code",
   "execution_count": 442,
   "metadata": {},
   "outputs": [],
   "source": [
    "X_train_rfe = X_train.loc[:, X_train.columns[rfe.support_]]"
   ]
  },
  {
   "cell_type": "code",
   "execution_count": 443,
   "metadata": {},
   "outputs": [
    {
     "data": {
      "text/plain": [
       "(4922, 13)"
      ]
     },
     "execution_count": 443,
     "metadata": {},
     "output_type": "execute_result"
    }
   ],
   "source": [
    "X_train_rfe.shape"
   ]
  },
  {
   "cell_type": "markdown",
   "metadata": {},
   "source": [
    "## Lets analyse the statistics of the new feature based model"
   ]
  },
  {
   "cell_type": "code",
   "execution_count": 444,
   "metadata": {},
   "outputs": [
    {
     "data": {
      "text/html": [
       "<table class=\"simpletable\">\n",
       "<caption>Generalized Linear Model Regression Results</caption>\n",
       "<tr>\n",
       "  <th>Dep. Variable:</th>         <td>Churn</td>      <th>  No. Observations:  </th>  <td>  4922</td> \n",
       "</tr>\n",
       "<tr>\n",
       "  <th>Model:</th>                  <td>GLM</td>       <th>  Df Residuals:      </th>  <td>  4908</td> \n",
       "</tr>\n",
       "<tr>\n",
       "  <th>Model Family:</th>        <td>Binomial</td>     <th>  Df Model:          </th>  <td>    13</td> \n",
       "</tr>\n",
       "<tr>\n",
       "  <th>Link Function:</th>         <td>logit</td>      <th>  Scale:             </th> <td>  1.0000</td>\n",
       "</tr>\n",
       "<tr>\n",
       "  <th>Method:</th>                <td>IRLS</td>       <th>  Log-Likelihood:    </th> <td> -2050.8</td>\n",
       "</tr>\n",
       "<tr>\n",
       "  <th>Date:</th>            <td>Mon, 15 Mar 2021</td> <th>  Deviance:          </th> <td>  4101.6</td>\n",
       "</tr>\n",
       "<tr>\n",
       "  <th>Time:</th>                <td>11:50:10</td>     <th>  Pearson chi2:      </th> <td>5.23e+03</td>\n",
       "</tr>\n",
       "<tr>\n",
       "  <th>No. Iterations:</th>          <td>7</td>        <th>                     </th>     <td> </td>   \n",
       "</tr>\n",
       "<tr>\n",
       "  <th>Covariance Type:</th>     <td>nonrobust</td>    <th>                     </th>     <td> </td>   \n",
       "</tr>\n",
       "</table>\n",
       "<table class=\"simpletable\">\n",
       "<tr>\n",
       "                 <td></td>                   <th>coef</th>     <th>std err</th>      <th>z</th>      <th>P>|z|</th>  <th>[0.025</th>    <th>0.975]</th>  \n",
       "</tr>\n",
       "<tr>\n",
       "  <th>const</th>                          <td>   -2.8590</td> <td>    0.171</td> <td>  -16.768</td> <td> 0.000</td> <td>   -3.193</td> <td>   -2.525</td>\n",
       "</tr>\n",
       "<tr>\n",
       "  <th>tenure</th>                         <td>   -1.5702</td> <td>    0.182</td> <td>   -8.641</td> <td> 0.000</td> <td>   -1.926</td> <td>   -1.214</td>\n",
       "</tr>\n",
       "<tr>\n",
       "  <th>PaperlessBilling</th>               <td>    0.4136</td> <td>    0.089</td> <td>    4.657</td> <td> 0.000</td> <td>    0.240</td> <td>    0.588</td>\n",
       "</tr>\n",
       "<tr>\n",
       "  <th>MonthlyCharges</th>                 <td>   -1.2249</td> <td>    0.186</td> <td>   -6.587</td> <td> 0.000</td> <td>   -1.589</td> <td>   -0.860</td>\n",
       "</tr>\n",
       "<tr>\n",
       "  <th>TotalCharges</th>                   <td>    0.8447</td> <td>    0.191</td> <td>    4.425</td> <td> 0.000</td> <td>    0.471</td> <td>    1.219</td>\n",
       "</tr>\n",
       "<tr>\n",
       "  <th>SeniorCitizen</th>                  <td>    0.2727</td> <td>    0.100</td> <td>    2.735</td> <td> 0.006</td> <td>    0.077</td> <td>    0.468</td>\n",
       "</tr>\n",
       "<tr>\n",
       "  <th>Contract_One year</th>              <td>   -0.6738</td> <td>    0.126</td> <td>   -5.344</td> <td> 0.000</td> <td>   -0.921</td> <td>   -0.427</td>\n",
       "</tr>\n",
       "<tr>\n",
       "  <th>Contract_Two year</th>              <td>   -1.5896</td> <td>    0.217</td> <td>   -7.330</td> <td> 0.000</td> <td>   -2.015</td> <td>   -1.165</td>\n",
       "</tr>\n",
       "<tr>\n",
       "  <th>PaymentMethod_Electronic check</th> <td>    0.4063</td> <td>    0.082</td> <td>    4.956</td> <td> 0.000</td> <td>    0.246</td> <td>    0.567</td>\n",
       "</tr>\n",
       "<tr>\n",
       "  <th>InternetService_Fiber optic</th>    <td>    1.8439</td> <td>    0.202</td> <td>    9.146</td> <td> 0.000</td> <td>    1.449</td> <td>    2.239</td>\n",
       "</tr>\n",
       "<tr>\n",
       "  <th>InternetService_No</th>             <td>   -1.5334</td> <td>    0.211</td> <td>   -7.280</td> <td> 0.000</td> <td>   -1.946</td> <td>   -1.121</td>\n",
       "</tr>\n",
       "<tr>\n",
       "  <th>MultipleLines_Yes</th>              <td>    0.4584</td> <td>    0.102</td> <td>    4.498</td> <td> 0.000</td> <td>    0.259</td> <td>    0.658</td>\n",
       "</tr>\n",
       "<tr>\n",
       "  <th>StreamingTV_Yes</th>                <td>    0.6207</td> <td>    0.112</td> <td>    5.549</td> <td> 0.000</td> <td>    0.401</td> <td>    0.840</td>\n",
       "</tr>\n",
       "<tr>\n",
       "  <th>StreamingMovies_Yes</th>            <td>    0.6675</td> <td>    0.112</td> <td>    5.983</td> <td> 0.000</td> <td>    0.449</td> <td>    0.886</td>\n",
       "</tr>\n",
       "</table>"
      ],
      "text/plain": [
       "<class 'statsmodels.iolib.summary.Summary'>\n",
       "\"\"\"\n",
       "                 Generalized Linear Model Regression Results                  \n",
       "==============================================================================\n",
       "Dep. Variable:                  Churn   No. Observations:                 4922\n",
       "Model:                            GLM   Df Residuals:                     4908\n",
       "Model Family:                Binomial   Df Model:                           13\n",
       "Link Function:                  logit   Scale:                          1.0000\n",
       "Method:                          IRLS   Log-Likelihood:                -2050.8\n",
       "Date:                Mon, 15 Mar 2021   Deviance:                       4101.6\n",
       "Time:                        11:50:10   Pearson chi2:                 5.23e+03\n",
       "No. Iterations:                     7                                         \n",
       "Covariance Type:            nonrobust                                         \n",
       "==================================================================================================\n",
       "                                     coef    std err          z      P>|z|      [0.025      0.975]\n",
       "--------------------------------------------------------------------------------------------------\n",
       "const                             -2.8590      0.171    -16.768      0.000      -3.193      -2.525\n",
       "tenure                            -1.5702      0.182     -8.641      0.000      -1.926      -1.214\n",
       "PaperlessBilling                   0.4136      0.089      4.657      0.000       0.240       0.588\n",
       "MonthlyCharges                    -1.2249      0.186     -6.587      0.000      -1.589      -0.860\n",
       "TotalCharges                       0.8447      0.191      4.425      0.000       0.471       1.219\n",
       "SeniorCitizen                      0.2727      0.100      2.735      0.006       0.077       0.468\n",
       "Contract_One year                 -0.6738      0.126     -5.344      0.000      -0.921      -0.427\n",
       "Contract_Two year                 -1.5896      0.217     -7.330      0.000      -2.015      -1.165\n",
       "PaymentMethod_Electronic check     0.4063      0.082      4.956      0.000       0.246       0.567\n",
       "InternetService_Fiber optic        1.8439      0.202      9.146      0.000       1.449       2.239\n",
       "InternetService_No                -1.5334      0.211     -7.280      0.000      -1.946      -1.121\n",
       "MultipleLines_Yes                  0.4584      0.102      4.498      0.000       0.259       0.658\n",
       "StreamingTV_Yes                    0.6207      0.112      5.549      0.000       0.401       0.840\n",
       "StreamingMovies_Yes                0.6675      0.112      5.983      0.000       0.449       0.886\n",
       "==================================================================================================\n",
       "\"\"\""
      ]
     },
     "execution_count": 444,
     "metadata": {},
     "output_type": "execute_result"
    }
   ],
   "source": [
    "# create an object of statsmodel GLM\n",
    "lr_sm = sm.GLM(y_train, sm.add_constant(X_train_rfe), family=sm.families.Binomial())\n",
    "# Fit the parameters\n",
    "model = lr_sm.fit()\n",
    "# summary\n",
    "model.summary()"
   ]
  },
  {
   "cell_type": "code",
   "execution_count": 445,
   "metadata": {
    "scrolled": true
   },
   "outputs": [],
   "source": [
    "y_pred_train = model.predict(sm.add_constant(X_train_rfe))\n",
    "results = pd.DataFrame()\n",
    "#results['cust_idx'] = y_train.index\n",
    "results['Churn'] = y_train\n",
    "results['Churn_prb'] = y_pred_train\n",
    "results['Churn_pred'] = y_pred_train.apply(lambda x: 0 if x < 0.5 else 1)"
   ]
  },
  {
   "cell_type": "code",
   "execution_count": 446,
   "metadata": {
    "scrolled": true
   },
   "outputs": [
    {
     "data": {
      "text/html": [
       "<div>\n",
       "<style scoped>\n",
       "    .dataframe tbody tr th:only-of-type {\n",
       "        vertical-align: middle;\n",
       "    }\n",
       "\n",
       "    .dataframe tbody tr th {\n",
       "        vertical-align: top;\n",
       "    }\n",
       "\n",
       "    .dataframe thead th {\n",
       "        text-align: right;\n",
       "    }\n",
       "</style>\n",
       "<table border=\"1\" class=\"dataframe\">\n",
       "  <thead>\n",
       "    <tr style=\"text-align: right;\">\n",
       "      <th></th>\n",
       "      <th>Churn</th>\n",
       "      <th>Churn_prb</th>\n",
       "      <th>Churn_pred</th>\n",
       "    </tr>\n",
       "  </thead>\n",
       "  <tbody>\n",
       "    <tr>\n",
       "      <th>5100</th>\n",
       "      <td>1</td>\n",
       "      <td>0.537222</td>\n",
       "      <td>1</td>\n",
       "    </tr>\n",
       "    <tr>\n",
       "      <th>3933</th>\n",
       "      <td>0</td>\n",
       "      <td>0.138072</td>\n",
       "      <td>0</td>\n",
       "    </tr>\n",
       "    <tr>\n",
       "      <th>2771</th>\n",
       "      <td>0</td>\n",
       "      <td>0.266346</td>\n",
       "      <td>0</td>\n",
       "    </tr>\n",
       "    <tr>\n",
       "      <th>1304</th>\n",
       "      <td>1</td>\n",
       "      <td>0.670873</td>\n",
       "      <td>1</td>\n",
       "    </tr>\n",
       "    <tr>\n",
       "      <th>6948</th>\n",
       "      <td>0</td>\n",
       "      <td>0.233058</td>\n",
       "      <td>0</td>\n",
       "    </tr>\n",
       "  </tbody>\n",
       "</table>\n",
       "</div>"
      ],
      "text/plain": [
       "      Churn  Churn_prb  Churn_pred\n",
       "5100      1   0.537222           1\n",
       "3933      0   0.138072           0\n",
       "2771      0   0.266346           0\n",
       "1304      1   0.670873           1\n",
       "6948      0   0.233058           0"
      ]
     },
     "execution_count": 446,
     "metadata": {},
     "output_type": "execute_result"
    }
   ],
   "source": [
    "results.head()"
   ]
  },
  {
   "cell_type": "markdown",
   "metadata": {},
   "source": [
    "## Confusion matrix"
   ]
  },
  {
   "cell_type": "code",
   "execution_count": 447,
   "metadata": {},
   "outputs": [
    {
     "data": {
      "text/plain": [
       "array([[3244,  592],\n",
       "       [ 370,  716]])"
      ]
     },
     "execution_count": 447,
     "metadata": {},
     "output_type": "execute_result"
    }
   ],
   "source": [
    "metrics.confusion_matrix(results.Churn_pred, results.Churn)"
   ]
  },
  {
   "cell_type": "code",
   "execution_count": 448,
   "metadata": {},
   "outputs": [
    {
     "data": {
      "text/plain": [
       "0.8045509955302722"
      ]
     },
     "execution_count": 448,
     "metadata": {},
     "output_type": "execute_result"
    }
   ],
   "source": [
    "metrics.accuracy_score(results.Churn_pred, results.Churn)"
   ]
  },
  {
   "cell_type": "markdown",
   "metadata": {},
   "source": [
    "# To improve this further we need to check VIF"
   ]
  },
  {
   "cell_type": "code",
   "execution_count": 449,
   "metadata": {},
   "outputs": [
    {
     "data": {
      "text/html": [
       "<div>\n",
       "<style scoped>\n",
       "    .dataframe tbody tr th:only-of-type {\n",
       "        vertical-align: middle;\n",
       "    }\n",
       "\n",
       "    .dataframe tbody tr th {\n",
       "        vertical-align: top;\n",
       "    }\n",
       "\n",
       "    .dataframe thead th {\n",
       "        text-align: right;\n",
       "    }\n",
       "</style>\n",
       "<table border=\"1\" class=\"dataframe\">\n",
       "  <thead>\n",
       "    <tr style=\"text-align: right;\">\n",
       "      <th></th>\n",
       "      <th>Features</th>\n",
       "      <th>VIF</th>\n",
       "    </tr>\n",
       "  </thead>\n",
       "  <tbody>\n",
       "    <tr>\n",
       "      <th>2</th>\n",
       "      <td>MonthlyCharges</td>\n",
       "      <td>13.634046</td>\n",
       "    </tr>\n",
       "    <tr>\n",
       "      <th>3</th>\n",
       "      <td>TotalCharges</td>\n",
       "      <td>10.119407</td>\n",
       "    </tr>\n",
       "    <tr>\n",
       "      <th>0</th>\n",
       "      <td>tenure</td>\n",
       "      <td>6.907180</td>\n",
       "    </tr>\n",
       "    <tr>\n",
       "      <th>8</th>\n",
       "      <td>InternetService_Fiber optic</td>\n",
       "      <td>5.877150</td>\n",
       "    </tr>\n",
       "    <tr>\n",
       "      <th>9</th>\n",
       "      <td>InternetService_No</td>\n",
       "      <td>5.148541</td>\n",
       "    </tr>\n",
       "    <tr>\n",
       "      <th>11</th>\n",
       "      <td>StreamingTV_Yes</td>\n",
       "      <td>2.811003</td>\n",
       "    </tr>\n",
       "    <tr>\n",
       "      <th>12</th>\n",
       "      <td>StreamingMovies_Yes</td>\n",
       "      <td>2.800709</td>\n",
       "    </tr>\n",
       "    <tr>\n",
       "      <th>1</th>\n",
       "      <td>PaperlessBilling</td>\n",
       "      <td>2.762961</td>\n",
       "    </tr>\n",
       "    <tr>\n",
       "      <th>6</th>\n",
       "      <td>Contract_Two year</td>\n",
       "      <td>2.607045</td>\n",
       "    </tr>\n",
       "    <tr>\n",
       "      <th>10</th>\n",
       "      <td>MultipleLines_Yes</td>\n",
       "      <td>2.396596</td>\n",
       "    </tr>\n",
       "    <tr>\n",
       "      <th>7</th>\n",
       "      <td>PaymentMethod_Electronic check</td>\n",
       "      <td>1.943385</td>\n",
       "    </tr>\n",
       "    <tr>\n",
       "      <th>5</th>\n",
       "      <td>Contract_One year</td>\n",
       "      <td>1.660645</td>\n",
       "    </tr>\n",
       "    <tr>\n",
       "      <th>4</th>\n",
       "      <td>SeniorCitizen</td>\n",
       "      <td>1.313289</td>\n",
       "    </tr>\n",
       "  </tbody>\n",
       "</table>\n",
       "</div>"
      ],
      "text/plain": [
       "                          Features        VIF\n",
       "2                   MonthlyCharges  13.634046\n",
       "3                     TotalCharges  10.119407\n",
       "0                           tenure   6.907180\n",
       "8      InternetService_Fiber optic   5.877150\n",
       "9               InternetService_No   5.148541\n",
       "11                 StreamingTV_Yes   2.811003\n",
       "12             StreamingMovies_Yes   2.800709\n",
       "1                 PaperlessBilling   2.762961\n",
       "6                Contract_Two year   2.607045\n",
       "10               MultipleLines_Yes   2.396596\n",
       "7   PaymentMethod_Electronic check   1.943385\n",
       "5                Contract_One year   1.660645\n",
       "4                    SeniorCitizen   1.313289"
      ]
     },
     "execution_count": 449,
     "metadata": {},
     "output_type": "execute_result"
    }
   ],
   "source": [
    "vif = pd.DataFrame()\n",
    "vif['Features'] = X_train_rfe.columns\n",
    "vif['VIF'] = [variance_inflation_factor(X_train_rfe.values, i) for i in range(X_train_rfe.shape[1])]\n",
    "vif.sort_values(ascending=False, by='VIF')"
   ]
  },
  {
   "cell_type": "code",
   "execution_count": 450,
   "metadata": {},
   "outputs": [
    {
     "ename": "KeyError",
     "evalue": "\"['PhoneService'] not found in axis\"",
     "output_type": "error",
     "traceback": [
      "\u001b[0;31m---------------------------------------------------------------------------\u001b[0m",
      "\u001b[0;31mKeyError\u001b[0m                                  Traceback (most recent call last)",
      "\u001b[0;32m<ipython-input-450-f7068c79f611>\u001b[0m in \u001b[0;36m<module>\u001b[0;34m\u001b[0m\n\u001b[0;32m----> 1\u001b[0;31m \u001b[0mX_train_rfe_new\u001b[0m \u001b[0;34m=\u001b[0m \u001b[0mX_train_rfe\u001b[0m\u001b[0;34m.\u001b[0m\u001b[0mdrop\u001b[0m\u001b[0;34m(\u001b[0m\u001b[0;34m'PhoneService'\u001b[0m\u001b[0;34m,\u001b[0m \u001b[0maxis\u001b[0m\u001b[0;34m=\u001b[0m\u001b[0;36m1\u001b[0m\u001b[0;34m)\u001b[0m\u001b[0;34m\u001b[0m\u001b[0;34m\u001b[0m\u001b[0m\n\u001b[0m",
      "\u001b[0;32m~/anaconda3/lib/python3.7/site-packages/pandas/core/frame.py\u001b[0m in \u001b[0;36mdrop\u001b[0;34m(self, labels, axis, index, columns, level, inplace, errors)\u001b[0m\n\u001b[1;32m   3995\u001b[0m             \u001b[0mlevel\u001b[0m\u001b[0;34m=\u001b[0m\u001b[0mlevel\u001b[0m\u001b[0;34m,\u001b[0m\u001b[0;34m\u001b[0m\u001b[0;34m\u001b[0m\u001b[0m\n\u001b[1;32m   3996\u001b[0m             \u001b[0minplace\u001b[0m\u001b[0;34m=\u001b[0m\u001b[0minplace\u001b[0m\u001b[0;34m,\u001b[0m\u001b[0;34m\u001b[0m\u001b[0;34m\u001b[0m\u001b[0m\n\u001b[0;32m-> 3997\u001b[0;31m             \u001b[0merrors\u001b[0m\u001b[0;34m=\u001b[0m\u001b[0merrors\u001b[0m\u001b[0;34m,\u001b[0m\u001b[0;34m\u001b[0m\u001b[0;34m\u001b[0m\u001b[0m\n\u001b[0m\u001b[1;32m   3998\u001b[0m         )\n\u001b[1;32m   3999\u001b[0m \u001b[0;34m\u001b[0m\u001b[0m\n",
      "\u001b[0;32m~/anaconda3/lib/python3.7/site-packages/pandas/core/generic.py\u001b[0m in \u001b[0;36mdrop\u001b[0;34m(self, labels, axis, index, columns, level, inplace, errors)\u001b[0m\n\u001b[1;32m   3934\u001b[0m         \u001b[0;32mfor\u001b[0m \u001b[0maxis\u001b[0m\u001b[0;34m,\u001b[0m \u001b[0mlabels\u001b[0m \u001b[0;32min\u001b[0m \u001b[0maxes\u001b[0m\u001b[0;34m.\u001b[0m\u001b[0mitems\u001b[0m\u001b[0;34m(\u001b[0m\u001b[0;34m)\u001b[0m\u001b[0;34m:\u001b[0m\u001b[0;34m\u001b[0m\u001b[0;34m\u001b[0m\u001b[0m\n\u001b[1;32m   3935\u001b[0m             \u001b[0;32mif\u001b[0m \u001b[0mlabels\u001b[0m \u001b[0;32mis\u001b[0m \u001b[0;32mnot\u001b[0m \u001b[0;32mNone\u001b[0m\u001b[0;34m:\u001b[0m\u001b[0;34m\u001b[0m\u001b[0;34m\u001b[0m\u001b[0m\n\u001b[0;32m-> 3936\u001b[0;31m                 \u001b[0mobj\u001b[0m \u001b[0;34m=\u001b[0m \u001b[0mobj\u001b[0m\u001b[0;34m.\u001b[0m\u001b[0m_drop_axis\u001b[0m\u001b[0;34m(\u001b[0m\u001b[0mlabels\u001b[0m\u001b[0;34m,\u001b[0m \u001b[0maxis\u001b[0m\u001b[0;34m,\u001b[0m \u001b[0mlevel\u001b[0m\u001b[0;34m=\u001b[0m\u001b[0mlevel\u001b[0m\u001b[0;34m,\u001b[0m \u001b[0merrors\u001b[0m\u001b[0;34m=\u001b[0m\u001b[0merrors\u001b[0m\u001b[0;34m)\u001b[0m\u001b[0;34m\u001b[0m\u001b[0;34m\u001b[0m\u001b[0m\n\u001b[0m\u001b[1;32m   3937\u001b[0m \u001b[0;34m\u001b[0m\u001b[0m\n\u001b[1;32m   3938\u001b[0m         \u001b[0;32mif\u001b[0m \u001b[0minplace\u001b[0m\u001b[0;34m:\u001b[0m\u001b[0;34m\u001b[0m\u001b[0;34m\u001b[0m\u001b[0m\n",
      "\u001b[0;32m~/anaconda3/lib/python3.7/site-packages/pandas/core/generic.py\u001b[0m in \u001b[0;36m_drop_axis\u001b[0;34m(self, labels, axis, level, errors)\u001b[0m\n\u001b[1;32m   3968\u001b[0m                 \u001b[0mnew_axis\u001b[0m \u001b[0;34m=\u001b[0m \u001b[0maxis\u001b[0m\u001b[0;34m.\u001b[0m\u001b[0mdrop\u001b[0m\u001b[0;34m(\u001b[0m\u001b[0mlabels\u001b[0m\u001b[0;34m,\u001b[0m \u001b[0mlevel\u001b[0m\u001b[0;34m=\u001b[0m\u001b[0mlevel\u001b[0m\u001b[0;34m,\u001b[0m \u001b[0merrors\u001b[0m\u001b[0;34m=\u001b[0m\u001b[0merrors\u001b[0m\u001b[0;34m)\u001b[0m\u001b[0;34m\u001b[0m\u001b[0;34m\u001b[0m\u001b[0m\n\u001b[1;32m   3969\u001b[0m             \u001b[0;32melse\u001b[0m\u001b[0;34m:\u001b[0m\u001b[0;34m\u001b[0m\u001b[0;34m\u001b[0m\u001b[0m\n\u001b[0;32m-> 3970\u001b[0;31m                 \u001b[0mnew_axis\u001b[0m \u001b[0;34m=\u001b[0m \u001b[0maxis\u001b[0m\u001b[0;34m.\u001b[0m\u001b[0mdrop\u001b[0m\u001b[0;34m(\u001b[0m\u001b[0mlabels\u001b[0m\u001b[0;34m,\u001b[0m \u001b[0merrors\u001b[0m\u001b[0;34m=\u001b[0m\u001b[0merrors\u001b[0m\u001b[0;34m)\u001b[0m\u001b[0;34m\u001b[0m\u001b[0;34m\u001b[0m\u001b[0m\n\u001b[0m\u001b[1;32m   3971\u001b[0m             \u001b[0mresult\u001b[0m \u001b[0;34m=\u001b[0m \u001b[0mself\u001b[0m\u001b[0;34m.\u001b[0m\u001b[0mreindex\u001b[0m\u001b[0;34m(\u001b[0m\u001b[0;34m**\u001b[0m\u001b[0;34m{\u001b[0m\u001b[0maxis_name\u001b[0m\u001b[0;34m:\u001b[0m \u001b[0mnew_axis\u001b[0m\u001b[0;34m}\u001b[0m\u001b[0;34m)\u001b[0m\u001b[0;34m\u001b[0m\u001b[0;34m\u001b[0m\u001b[0m\n\u001b[1;32m   3972\u001b[0m \u001b[0;34m\u001b[0m\u001b[0m\n",
      "\u001b[0;32m~/anaconda3/lib/python3.7/site-packages/pandas/core/indexes/base.py\u001b[0m in \u001b[0;36mdrop\u001b[0;34m(self, labels, errors)\u001b[0m\n\u001b[1;32m   5016\u001b[0m         \u001b[0;32mif\u001b[0m \u001b[0mmask\u001b[0m\u001b[0;34m.\u001b[0m\u001b[0many\u001b[0m\u001b[0;34m(\u001b[0m\u001b[0;34m)\u001b[0m\u001b[0;34m:\u001b[0m\u001b[0;34m\u001b[0m\u001b[0;34m\u001b[0m\u001b[0m\n\u001b[1;32m   5017\u001b[0m             \u001b[0;32mif\u001b[0m \u001b[0merrors\u001b[0m \u001b[0;34m!=\u001b[0m \u001b[0;34m\"ignore\"\u001b[0m\u001b[0;34m:\u001b[0m\u001b[0;34m\u001b[0m\u001b[0;34m\u001b[0m\u001b[0m\n\u001b[0;32m-> 5018\u001b[0;31m                 \u001b[0;32mraise\u001b[0m \u001b[0mKeyError\u001b[0m\u001b[0;34m(\u001b[0m\u001b[0;34mf\"{labels[mask]} not found in axis\"\u001b[0m\u001b[0;34m)\u001b[0m\u001b[0;34m\u001b[0m\u001b[0;34m\u001b[0m\u001b[0m\n\u001b[0m\u001b[1;32m   5019\u001b[0m             \u001b[0mindexer\u001b[0m \u001b[0;34m=\u001b[0m \u001b[0mindexer\u001b[0m\u001b[0;34m[\u001b[0m\u001b[0;34m~\u001b[0m\u001b[0mmask\u001b[0m\u001b[0;34m]\u001b[0m\u001b[0;34m\u001b[0m\u001b[0;34m\u001b[0m\u001b[0m\n\u001b[1;32m   5020\u001b[0m         \u001b[0;32mreturn\u001b[0m \u001b[0mself\u001b[0m\u001b[0;34m.\u001b[0m\u001b[0mdelete\u001b[0m\u001b[0;34m(\u001b[0m\u001b[0mindexer\u001b[0m\u001b[0;34m)\u001b[0m\u001b[0;34m\u001b[0m\u001b[0;34m\u001b[0m\u001b[0m\n",
      "\u001b[0;31mKeyError\u001b[0m: \"['PhoneService'] not found in axis\""
     ]
    }
   ],
   "source": [
    "X_train_rfe_new = X_train_rfe.drop('PhoneService', axis=1)"
   ]
  },
  {
   "cell_type": "markdown",
   "metadata": {},
   "source": [
    "# Rebuild model using statsmodel"
   ]
  },
  {
   "cell_type": "code",
   "execution_count": 451,
   "metadata": {},
   "outputs": [
    {
     "data": {
      "text/html": [
       "<table class=\"simpletable\">\n",
       "<caption>Generalized Linear Model Regression Results</caption>\n",
       "<tr>\n",
       "  <th>Dep. Variable:</th>         <td>Churn</td>      <th>  No. Observations:  </th>  <td>  4922</td> \n",
       "</tr>\n",
       "<tr>\n",
       "  <th>Model:</th>                  <td>GLM</td>       <th>  Df Residuals:      </th>  <td>  4908</td> \n",
       "</tr>\n",
       "<tr>\n",
       "  <th>Model Family:</th>        <td>Binomial</td>     <th>  Df Model:          </th>  <td>    13</td> \n",
       "</tr>\n",
       "<tr>\n",
       "  <th>Link Function:</th>         <td>logit</td>      <th>  Scale:             </th> <td>  1.0000</td>\n",
       "</tr>\n",
       "<tr>\n",
       "  <th>Method:</th>                <td>IRLS</td>       <th>  Log-Likelihood:    </th> <td> -2059.8</td>\n",
       "</tr>\n",
       "<tr>\n",
       "  <th>Date:</th>            <td>Mon, 15 Mar 2021</td> <th>  Deviance:          </th> <td>  4119.6</td>\n",
       "</tr>\n",
       "<tr>\n",
       "  <th>Time:</th>                <td>11:50:12</td>     <th>  Pearson chi2:      </th> <td>4.83e+03</td>\n",
       "</tr>\n",
       "<tr>\n",
       "  <th>No. Iterations:</th>          <td>7</td>        <th>                     </th>     <td> </td>   \n",
       "</tr>\n",
       "<tr>\n",
       "  <th>Covariance Type:</th>     <td>nonrobust</td>    <th>                     </th>     <td> </td>   \n",
       "</tr>\n",
       "</table>\n",
       "<table class=\"simpletable\">\n",
       "<tr>\n",
       "                 <td></td>                   <th>coef</th>     <th>std err</th>      <th>z</th>      <th>P>|z|</th>  <th>[0.025</th>    <th>0.975]</th>  \n",
       "</tr>\n",
       "<tr>\n",
       "  <th>const</th>                          <td>   -2.6011</td> <td>    0.187</td> <td>  -13.883</td> <td> 0.000</td> <td>   -2.968</td> <td>   -2.234</td>\n",
       "</tr>\n",
       "<tr>\n",
       "  <th>tenure</th>                         <td>   -0.8225</td> <td>    0.064</td> <td>  -12.918</td> <td> 0.000</td> <td>   -0.947</td> <td>   -0.698</td>\n",
       "</tr>\n",
       "<tr>\n",
       "  <th>PaperlessBilling</th>               <td>    0.4006</td> <td>    0.089</td> <td>    4.521</td> <td> 0.000</td> <td>    0.227</td> <td>    0.574</td>\n",
       "</tr>\n",
       "<tr>\n",
       "  <th>MonthlyCharges</th>                 <td>   -0.8161</td> <td>    0.182</td> <td>   -4.482</td> <td> 0.000</td> <td>   -1.173</td> <td>   -0.459</td>\n",
       "</tr>\n",
       "<tr>\n",
       "  <th>SeniorCitizen</th>                  <td>    0.2731</td> <td>    0.100</td> <td>    2.724</td> <td> 0.006</td> <td>    0.077</td> <td>    0.470</td>\n",
       "</tr>\n",
       "<tr>\n",
       "  <th>Contract_One year</th>              <td>   -0.6737</td> <td>    0.125</td> <td>   -5.398</td> <td> 0.000</td> <td>   -0.918</td> <td>   -0.429</td>\n",
       "</tr>\n",
       "<tr>\n",
       "  <th>Contract_Two year</th>              <td>   -1.5448</td> <td>    0.214</td> <td>   -7.206</td> <td> 0.000</td> <td>   -1.965</td> <td>   -1.125</td>\n",
       "</tr>\n",
       "<tr>\n",
       "  <th>PaymentMethod_Electronic check</th> <td>    0.3920</td> <td>    0.082</td> <td>    4.767</td> <td> 0.000</td> <td>    0.231</td> <td>    0.553</td>\n",
       "</tr>\n",
       "<tr>\n",
       "  <th>InternetService_Fiber optic</th>    <td>    1.6353</td> <td>    0.212</td> <td>    7.721</td> <td> 0.000</td> <td>    1.220</td> <td>    2.050</td>\n",
       "</tr>\n",
       "<tr>\n",
       "  <th>InternetService_No</th>             <td>   -1.2731</td> <td>    0.202</td> <td>   -6.298</td> <td> 0.000</td> <td>   -1.669</td> <td>   -0.877</td>\n",
       "</tr>\n",
       "<tr>\n",
       "  <th>MultipleLines_Yes</th>              <td>    0.4358</td> <td>    0.103</td> <td>    4.236</td> <td> 0.000</td> <td>    0.234</td> <td>    0.637</td>\n",
       "</tr>\n",
       "<tr>\n",
       "  <th>OnlineSecurity_Yes</th>             <td>   -0.1738</td> <td>    0.106</td> <td>   -1.638</td> <td> 0.101</td> <td>   -0.382</td> <td>    0.034</td>\n",
       "</tr>\n",
       "<tr>\n",
       "  <th>StreamingTV_Yes</th>                <td>    0.5699</td> <td>    0.114</td> <td>    5.016</td> <td> 0.000</td> <td>    0.347</td> <td>    0.793</td>\n",
       "</tr>\n",
       "<tr>\n",
       "  <th>StreamingMovies_Yes</th>            <td>    0.6245</td> <td>    0.113</td> <td>    5.528</td> <td> 0.000</td> <td>    0.403</td> <td>    0.846</td>\n",
       "</tr>\n",
       "</table>"
      ],
      "text/plain": [
       "<class 'statsmodels.iolib.summary.Summary'>\n",
       "\"\"\"\n",
       "                 Generalized Linear Model Regression Results                  \n",
       "==============================================================================\n",
       "Dep. Variable:                  Churn   No. Observations:                 4922\n",
       "Model:                            GLM   Df Residuals:                     4908\n",
       "Model Family:                Binomial   Df Model:                           13\n",
       "Link Function:                  logit   Scale:                          1.0000\n",
       "Method:                          IRLS   Log-Likelihood:                -2059.8\n",
       "Date:                Mon, 15 Mar 2021   Deviance:                       4119.6\n",
       "Time:                        11:50:12   Pearson chi2:                 4.83e+03\n",
       "No. Iterations:                     7                                         \n",
       "Covariance Type:            nonrobust                                         \n",
       "==================================================================================================\n",
       "                                     coef    std err          z      P>|z|      [0.025      0.975]\n",
       "--------------------------------------------------------------------------------------------------\n",
       "const                             -2.6011      0.187    -13.883      0.000      -2.968      -2.234\n",
       "tenure                            -0.8225      0.064    -12.918      0.000      -0.947      -0.698\n",
       "PaperlessBilling                   0.4006      0.089      4.521      0.000       0.227       0.574\n",
       "MonthlyCharges                    -0.8161      0.182     -4.482      0.000      -1.173      -0.459\n",
       "SeniorCitizen                      0.2731      0.100      2.724      0.006       0.077       0.470\n",
       "Contract_One year                 -0.6737      0.125     -5.398      0.000      -0.918      -0.429\n",
       "Contract_Two year                 -1.5448      0.214     -7.206      0.000      -1.965      -1.125\n",
       "PaymentMethod_Electronic check     0.3920      0.082      4.767      0.000       0.231       0.553\n",
       "InternetService_Fiber optic        1.6353      0.212      7.721      0.000       1.220       2.050\n",
       "InternetService_No                -1.2731      0.202     -6.298      0.000      -1.669      -0.877\n",
       "MultipleLines_Yes                  0.4358      0.103      4.236      0.000       0.234       0.637\n",
       "OnlineSecurity_Yes                -0.1738      0.106     -1.638      0.101      -0.382       0.034\n",
       "StreamingTV_Yes                    0.5699      0.114      5.016      0.000       0.347       0.793\n",
       "StreamingMovies_Yes                0.6245      0.113      5.528      0.000       0.403       0.846\n",
       "==================================================================================================\n",
       "\"\"\""
      ]
     },
     "execution_count": 451,
     "metadata": {},
     "output_type": "execute_result"
    }
   ],
   "source": [
    "lr_ml = sm.GLM(y_train, sm.add_constant(X_train_rfe_new), family=sm.families.Binomial())\n",
    "model = lr_ml.fit()\n",
    "model.summary()"
   ]
  },
  {
   "cell_type": "markdown",
   "metadata": {},
   "source": [
    "# Check VIF"
   ]
  },
  {
   "cell_type": "code",
   "execution_count": 452,
   "metadata": {},
   "outputs": [
    {
     "data": {
      "text/html": [
       "<div>\n",
       "<style scoped>\n",
       "    .dataframe tbody tr th:only-of-type {\n",
       "        vertical-align: middle;\n",
       "    }\n",
       "\n",
       "    .dataframe tbody tr th {\n",
       "        vertical-align: top;\n",
       "    }\n",
       "\n",
       "    .dataframe thead th {\n",
       "        text-align: right;\n",
       "    }\n",
       "</style>\n",
       "<table border=\"1\" class=\"dataframe\">\n",
       "  <thead>\n",
       "    <tr style=\"text-align: right;\">\n",
       "      <th></th>\n",
       "      <th>Features</th>\n",
       "      <th>VIF</th>\n",
       "    </tr>\n",
       "  </thead>\n",
       "  <tbody>\n",
       "    <tr>\n",
       "      <th>2</th>\n",
       "      <td>MonthlyCharges</td>\n",
       "      <td>10.269681</td>\n",
       "    </tr>\n",
       "    <tr>\n",
       "      <th>7</th>\n",
       "      <td>InternetService_Fiber optic</td>\n",
       "      <td>5.791133</td>\n",
       "    </tr>\n",
       "    <tr>\n",
       "      <th>8</th>\n",
       "      <td>InternetService_No</td>\n",
       "      <td>5.216899</td>\n",
       "    </tr>\n",
       "    <tr>\n",
       "      <th>5</th>\n",
       "      <td>Contract_Two year</td>\n",
       "      <td>2.868122</td>\n",
       "    </tr>\n",
       "    <tr>\n",
       "      <th>11</th>\n",
       "      <td>StreamingTV_Yes</td>\n",
       "      <td>2.815305</td>\n",
       "    </tr>\n",
       "    <tr>\n",
       "      <th>12</th>\n",
       "      <td>StreamingMovies_Yes</td>\n",
       "      <td>2.810068</td>\n",
       "    </tr>\n",
       "    <tr>\n",
       "      <th>1</th>\n",
       "      <td>PaperlessBilling</td>\n",
       "      <td>2.793402</td>\n",
       "    </tr>\n",
       "    <tr>\n",
       "      <th>9</th>\n",
       "      <td>MultipleLines_Yes</td>\n",
       "      <td>2.409383</td>\n",
       "    </tr>\n",
       "    <tr>\n",
       "      <th>0</th>\n",
       "      <td>tenure</td>\n",
       "      <td>2.228280</td>\n",
       "    </tr>\n",
       "    <tr>\n",
       "      <th>6</th>\n",
       "      <td>PaymentMethod_Electronic check</td>\n",
       "      <td>1.928773</td>\n",
       "    </tr>\n",
       "    <tr>\n",
       "      <th>4</th>\n",
       "      <td>Contract_One year</td>\n",
       "      <td>1.790822</td>\n",
       "    </tr>\n",
       "    <tr>\n",
       "      <th>10</th>\n",
       "      <td>OnlineSecurity_Yes</td>\n",
       "      <td>1.637314</td>\n",
       "    </tr>\n",
       "    <tr>\n",
       "      <th>3</th>\n",
       "      <td>SeniorCitizen</td>\n",
       "      <td>1.313465</td>\n",
       "    </tr>\n",
       "  </tbody>\n",
       "</table>\n",
       "</div>"
      ],
      "text/plain": [
       "                          Features        VIF\n",
       "2                   MonthlyCharges  10.269681\n",
       "7      InternetService_Fiber optic   5.791133\n",
       "8               InternetService_No   5.216899\n",
       "5                Contract_Two year   2.868122\n",
       "11                 StreamingTV_Yes   2.815305\n",
       "12             StreamingMovies_Yes   2.810068\n",
       "1                 PaperlessBilling   2.793402\n",
       "9                MultipleLines_Yes   2.409383\n",
       "0                           tenure   2.228280\n",
       "6   PaymentMethod_Electronic check   1.928773\n",
       "4                Contract_One year   1.790822\n",
       "10              OnlineSecurity_Yes   1.637314\n",
       "3                    SeniorCitizen   1.313465"
      ]
     },
     "execution_count": 452,
     "metadata": {},
     "output_type": "execute_result"
    }
   ],
   "source": [
    "vif = pd.DataFrame()\n",
    "vif['Features'] = X_train_rfe_new.columns\n",
    "vif['VIF'] = [variance_inflation_factor(X_train_rfe_new.values, i) for i in range(X_train_rfe_new.shape[1])]\n",
    "vif.sort_values(ascending=False, by='VIF')"
   ]
  },
  {
   "cell_type": "code",
   "execution_count": 453,
   "metadata": {},
   "outputs": [
    {
     "ename": "KeyError",
     "evalue": "\"['TotalCharges'] not found in axis\"",
     "output_type": "error",
     "traceback": [
      "\u001b[0;31m---------------------------------------------------------------------------\u001b[0m",
      "\u001b[0;31mKeyError\u001b[0m                                  Traceback (most recent call last)",
      "\u001b[0;32m<ipython-input-453-c29ed60f63fa>\u001b[0m in \u001b[0;36m<module>\u001b[0;34m\u001b[0m\n\u001b[0;32m----> 1\u001b[0;31m \u001b[0mX_train_rfe_new\u001b[0m \u001b[0;34m=\u001b[0m \u001b[0mX_train_rfe_new\u001b[0m\u001b[0;34m.\u001b[0m\u001b[0mdrop\u001b[0m\u001b[0;34m(\u001b[0m\u001b[0;34m'TotalCharges'\u001b[0m\u001b[0;34m,\u001b[0m \u001b[0maxis\u001b[0m\u001b[0;34m=\u001b[0m\u001b[0;36m1\u001b[0m\u001b[0;34m)\u001b[0m\u001b[0;34m\u001b[0m\u001b[0;34m\u001b[0m\u001b[0m\n\u001b[0m",
      "\u001b[0;32m~/anaconda3/lib/python3.7/site-packages/pandas/core/frame.py\u001b[0m in \u001b[0;36mdrop\u001b[0;34m(self, labels, axis, index, columns, level, inplace, errors)\u001b[0m\n\u001b[1;32m   3995\u001b[0m             \u001b[0mlevel\u001b[0m\u001b[0;34m=\u001b[0m\u001b[0mlevel\u001b[0m\u001b[0;34m,\u001b[0m\u001b[0;34m\u001b[0m\u001b[0;34m\u001b[0m\u001b[0m\n\u001b[1;32m   3996\u001b[0m             \u001b[0minplace\u001b[0m\u001b[0;34m=\u001b[0m\u001b[0minplace\u001b[0m\u001b[0;34m,\u001b[0m\u001b[0;34m\u001b[0m\u001b[0;34m\u001b[0m\u001b[0m\n\u001b[0;32m-> 3997\u001b[0;31m             \u001b[0merrors\u001b[0m\u001b[0;34m=\u001b[0m\u001b[0merrors\u001b[0m\u001b[0;34m,\u001b[0m\u001b[0;34m\u001b[0m\u001b[0;34m\u001b[0m\u001b[0m\n\u001b[0m\u001b[1;32m   3998\u001b[0m         )\n\u001b[1;32m   3999\u001b[0m \u001b[0;34m\u001b[0m\u001b[0m\n",
      "\u001b[0;32m~/anaconda3/lib/python3.7/site-packages/pandas/core/generic.py\u001b[0m in \u001b[0;36mdrop\u001b[0;34m(self, labels, axis, index, columns, level, inplace, errors)\u001b[0m\n\u001b[1;32m   3934\u001b[0m         \u001b[0;32mfor\u001b[0m \u001b[0maxis\u001b[0m\u001b[0;34m,\u001b[0m \u001b[0mlabels\u001b[0m \u001b[0;32min\u001b[0m \u001b[0maxes\u001b[0m\u001b[0;34m.\u001b[0m\u001b[0mitems\u001b[0m\u001b[0;34m(\u001b[0m\u001b[0;34m)\u001b[0m\u001b[0;34m:\u001b[0m\u001b[0;34m\u001b[0m\u001b[0;34m\u001b[0m\u001b[0m\n\u001b[1;32m   3935\u001b[0m             \u001b[0;32mif\u001b[0m \u001b[0mlabels\u001b[0m \u001b[0;32mis\u001b[0m \u001b[0;32mnot\u001b[0m \u001b[0;32mNone\u001b[0m\u001b[0;34m:\u001b[0m\u001b[0;34m\u001b[0m\u001b[0;34m\u001b[0m\u001b[0m\n\u001b[0;32m-> 3936\u001b[0;31m                 \u001b[0mobj\u001b[0m \u001b[0;34m=\u001b[0m \u001b[0mobj\u001b[0m\u001b[0;34m.\u001b[0m\u001b[0m_drop_axis\u001b[0m\u001b[0;34m(\u001b[0m\u001b[0mlabels\u001b[0m\u001b[0;34m,\u001b[0m \u001b[0maxis\u001b[0m\u001b[0;34m,\u001b[0m \u001b[0mlevel\u001b[0m\u001b[0;34m=\u001b[0m\u001b[0mlevel\u001b[0m\u001b[0;34m,\u001b[0m \u001b[0merrors\u001b[0m\u001b[0;34m=\u001b[0m\u001b[0merrors\u001b[0m\u001b[0;34m)\u001b[0m\u001b[0;34m\u001b[0m\u001b[0;34m\u001b[0m\u001b[0m\n\u001b[0m\u001b[1;32m   3937\u001b[0m \u001b[0;34m\u001b[0m\u001b[0m\n\u001b[1;32m   3938\u001b[0m         \u001b[0;32mif\u001b[0m \u001b[0minplace\u001b[0m\u001b[0;34m:\u001b[0m\u001b[0;34m\u001b[0m\u001b[0;34m\u001b[0m\u001b[0m\n",
      "\u001b[0;32m~/anaconda3/lib/python3.7/site-packages/pandas/core/generic.py\u001b[0m in \u001b[0;36m_drop_axis\u001b[0;34m(self, labels, axis, level, errors)\u001b[0m\n\u001b[1;32m   3968\u001b[0m                 \u001b[0mnew_axis\u001b[0m \u001b[0;34m=\u001b[0m \u001b[0maxis\u001b[0m\u001b[0;34m.\u001b[0m\u001b[0mdrop\u001b[0m\u001b[0;34m(\u001b[0m\u001b[0mlabels\u001b[0m\u001b[0;34m,\u001b[0m \u001b[0mlevel\u001b[0m\u001b[0;34m=\u001b[0m\u001b[0mlevel\u001b[0m\u001b[0;34m,\u001b[0m \u001b[0merrors\u001b[0m\u001b[0;34m=\u001b[0m\u001b[0merrors\u001b[0m\u001b[0;34m)\u001b[0m\u001b[0;34m\u001b[0m\u001b[0;34m\u001b[0m\u001b[0m\n\u001b[1;32m   3969\u001b[0m             \u001b[0;32melse\u001b[0m\u001b[0;34m:\u001b[0m\u001b[0;34m\u001b[0m\u001b[0;34m\u001b[0m\u001b[0m\n\u001b[0;32m-> 3970\u001b[0;31m                 \u001b[0mnew_axis\u001b[0m \u001b[0;34m=\u001b[0m \u001b[0maxis\u001b[0m\u001b[0;34m.\u001b[0m\u001b[0mdrop\u001b[0m\u001b[0;34m(\u001b[0m\u001b[0mlabels\u001b[0m\u001b[0;34m,\u001b[0m \u001b[0merrors\u001b[0m\u001b[0;34m=\u001b[0m\u001b[0merrors\u001b[0m\u001b[0;34m)\u001b[0m\u001b[0;34m\u001b[0m\u001b[0;34m\u001b[0m\u001b[0m\n\u001b[0m\u001b[1;32m   3971\u001b[0m             \u001b[0mresult\u001b[0m \u001b[0;34m=\u001b[0m \u001b[0mself\u001b[0m\u001b[0;34m.\u001b[0m\u001b[0mreindex\u001b[0m\u001b[0;34m(\u001b[0m\u001b[0;34m**\u001b[0m\u001b[0;34m{\u001b[0m\u001b[0maxis_name\u001b[0m\u001b[0;34m:\u001b[0m \u001b[0mnew_axis\u001b[0m\u001b[0;34m}\u001b[0m\u001b[0;34m)\u001b[0m\u001b[0;34m\u001b[0m\u001b[0;34m\u001b[0m\u001b[0m\n\u001b[1;32m   3972\u001b[0m \u001b[0;34m\u001b[0m\u001b[0m\n",
      "\u001b[0;32m~/anaconda3/lib/python3.7/site-packages/pandas/core/indexes/base.py\u001b[0m in \u001b[0;36mdrop\u001b[0;34m(self, labels, errors)\u001b[0m\n\u001b[1;32m   5016\u001b[0m         \u001b[0;32mif\u001b[0m \u001b[0mmask\u001b[0m\u001b[0;34m.\u001b[0m\u001b[0many\u001b[0m\u001b[0;34m(\u001b[0m\u001b[0;34m)\u001b[0m\u001b[0;34m:\u001b[0m\u001b[0;34m\u001b[0m\u001b[0;34m\u001b[0m\u001b[0m\n\u001b[1;32m   5017\u001b[0m             \u001b[0;32mif\u001b[0m \u001b[0merrors\u001b[0m \u001b[0;34m!=\u001b[0m \u001b[0;34m\"ignore\"\u001b[0m\u001b[0;34m:\u001b[0m\u001b[0;34m\u001b[0m\u001b[0;34m\u001b[0m\u001b[0m\n\u001b[0;32m-> 5018\u001b[0;31m                 \u001b[0;32mraise\u001b[0m \u001b[0mKeyError\u001b[0m\u001b[0;34m(\u001b[0m\u001b[0;34mf\"{labels[mask]} not found in axis\"\u001b[0m\u001b[0;34m)\u001b[0m\u001b[0;34m\u001b[0m\u001b[0;34m\u001b[0m\u001b[0m\n\u001b[0m\u001b[1;32m   5019\u001b[0m             \u001b[0mindexer\u001b[0m \u001b[0;34m=\u001b[0m \u001b[0mindexer\u001b[0m\u001b[0;34m[\u001b[0m\u001b[0;34m~\u001b[0m\u001b[0mmask\u001b[0m\u001b[0;34m]\u001b[0m\u001b[0;34m\u001b[0m\u001b[0;34m\u001b[0m\u001b[0m\n\u001b[1;32m   5020\u001b[0m         \u001b[0;32mreturn\u001b[0m \u001b[0mself\u001b[0m\u001b[0;34m.\u001b[0m\u001b[0mdelete\u001b[0m\u001b[0;34m(\u001b[0m\u001b[0mindexer\u001b[0m\u001b[0;34m)\u001b[0m\u001b[0;34m\u001b[0m\u001b[0;34m\u001b[0m\u001b[0m\n",
      "\u001b[0;31mKeyError\u001b[0m: \"['TotalCharges'] not found in axis\""
     ]
    }
   ],
   "source": [
    "X_train_rfe_new = X_train_rfe_new.drop('TotalCharges', axis=1)"
   ]
  },
  {
   "cell_type": "code",
   "execution_count": 454,
   "metadata": {},
   "outputs": [
    {
     "data": {
      "text/html": [
       "<table class=\"simpletable\">\n",
       "<caption>Generalized Linear Model Regression Results</caption>\n",
       "<tr>\n",
       "  <th>Dep. Variable:</th>         <td>Churn</td>      <th>  No. Observations:  </th>  <td>  4922</td> \n",
       "</tr>\n",
       "<tr>\n",
       "  <th>Model:</th>                  <td>GLM</td>       <th>  Df Residuals:      </th>  <td>  4908</td> \n",
       "</tr>\n",
       "<tr>\n",
       "  <th>Model Family:</th>        <td>Binomial</td>     <th>  Df Model:          </th>  <td>    13</td> \n",
       "</tr>\n",
       "<tr>\n",
       "  <th>Link Function:</th>         <td>logit</td>      <th>  Scale:             </th> <td>  1.0000</td>\n",
       "</tr>\n",
       "<tr>\n",
       "  <th>Method:</th>                <td>IRLS</td>       <th>  Log-Likelihood:    </th> <td> -2059.8</td>\n",
       "</tr>\n",
       "<tr>\n",
       "  <th>Date:</th>            <td>Mon, 15 Mar 2021</td> <th>  Deviance:          </th> <td>  4119.6</td>\n",
       "</tr>\n",
       "<tr>\n",
       "  <th>Time:</th>                <td>11:50:13</td>     <th>  Pearson chi2:      </th> <td>4.83e+03</td>\n",
       "</tr>\n",
       "<tr>\n",
       "  <th>No. Iterations:</th>          <td>7</td>        <th>                     </th>     <td> </td>   \n",
       "</tr>\n",
       "<tr>\n",
       "  <th>Covariance Type:</th>     <td>nonrobust</td>    <th>                     </th>     <td> </td>   \n",
       "</tr>\n",
       "</table>\n",
       "<table class=\"simpletable\">\n",
       "<tr>\n",
       "                 <td></td>                   <th>coef</th>     <th>std err</th>      <th>z</th>      <th>P>|z|</th>  <th>[0.025</th>    <th>0.975]</th>  \n",
       "</tr>\n",
       "<tr>\n",
       "  <th>const</th>                          <td>   -2.6011</td> <td>    0.187</td> <td>  -13.883</td> <td> 0.000</td> <td>   -2.968</td> <td>   -2.234</td>\n",
       "</tr>\n",
       "<tr>\n",
       "  <th>tenure</th>                         <td>   -0.8225</td> <td>    0.064</td> <td>  -12.918</td> <td> 0.000</td> <td>   -0.947</td> <td>   -0.698</td>\n",
       "</tr>\n",
       "<tr>\n",
       "  <th>PaperlessBilling</th>               <td>    0.4006</td> <td>    0.089</td> <td>    4.521</td> <td> 0.000</td> <td>    0.227</td> <td>    0.574</td>\n",
       "</tr>\n",
       "<tr>\n",
       "  <th>MonthlyCharges</th>                 <td>   -0.8161</td> <td>    0.182</td> <td>   -4.482</td> <td> 0.000</td> <td>   -1.173</td> <td>   -0.459</td>\n",
       "</tr>\n",
       "<tr>\n",
       "  <th>SeniorCitizen</th>                  <td>    0.2731</td> <td>    0.100</td> <td>    2.724</td> <td> 0.006</td> <td>    0.077</td> <td>    0.470</td>\n",
       "</tr>\n",
       "<tr>\n",
       "  <th>Contract_One year</th>              <td>   -0.6737</td> <td>    0.125</td> <td>   -5.398</td> <td> 0.000</td> <td>   -0.918</td> <td>   -0.429</td>\n",
       "</tr>\n",
       "<tr>\n",
       "  <th>Contract_Two year</th>              <td>   -1.5448</td> <td>    0.214</td> <td>   -7.206</td> <td> 0.000</td> <td>   -1.965</td> <td>   -1.125</td>\n",
       "</tr>\n",
       "<tr>\n",
       "  <th>PaymentMethod_Electronic check</th> <td>    0.3920</td> <td>    0.082</td> <td>    4.767</td> <td> 0.000</td> <td>    0.231</td> <td>    0.553</td>\n",
       "</tr>\n",
       "<tr>\n",
       "  <th>InternetService_Fiber optic</th>    <td>    1.6353</td> <td>    0.212</td> <td>    7.721</td> <td> 0.000</td> <td>    1.220</td> <td>    2.050</td>\n",
       "</tr>\n",
       "<tr>\n",
       "  <th>InternetService_No</th>             <td>   -1.2731</td> <td>    0.202</td> <td>   -6.298</td> <td> 0.000</td> <td>   -1.669</td> <td>   -0.877</td>\n",
       "</tr>\n",
       "<tr>\n",
       "  <th>MultipleLines_Yes</th>              <td>    0.4358</td> <td>    0.103</td> <td>    4.236</td> <td> 0.000</td> <td>    0.234</td> <td>    0.637</td>\n",
       "</tr>\n",
       "<tr>\n",
       "  <th>OnlineSecurity_Yes</th>             <td>   -0.1738</td> <td>    0.106</td> <td>   -1.638</td> <td> 0.101</td> <td>   -0.382</td> <td>    0.034</td>\n",
       "</tr>\n",
       "<tr>\n",
       "  <th>StreamingTV_Yes</th>                <td>    0.5699</td> <td>    0.114</td> <td>    5.016</td> <td> 0.000</td> <td>    0.347</td> <td>    0.793</td>\n",
       "</tr>\n",
       "<tr>\n",
       "  <th>StreamingMovies_Yes</th>            <td>    0.6245</td> <td>    0.113</td> <td>    5.528</td> <td> 0.000</td> <td>    0.403</td> <td>    0.846</td>\n",
       "</tr>\n",
       "</table>"
      ],
      "text/plain": [
       "<class 'statsmodels.iolib.summary.Summary'>\n",
       "\"\"\"\n",
       "                 Generalized Linear Model Regression Results                  \n",
       "==============================================================================\n",
       "Dep. Variable:                  Churn   No. Observations:                 4922\n",
       "Model:                            GLM   Df Residuals:                     4908\n",
       "Model Family:                Binomial   Df Model:                           13\n",
       "Link Function:                  logit   Scale:                          1.0000\n",
       "Method:                          IRLS   Log-Likelihood:                -2059.8\n",
       "Date:                Mon, 15 Mar 2021   Deviance:                       4119.6\n",
       "Time:                        11:50:13   Pearson chi2:                 4.83e+03\n",
       "No. Iterations:                     7                                         \n",
       "Covariance Type:            nonrobust                                         \n",
       "==================================================================================================\n",
       "                                     coef    std err          z      P>|z|      [0.025      0.975]\n",
       "--------------------------------------------------------------------------------------------------\n",
       "const                             -2.6011      0.187    -13.883      0.000      -2.968      -2.234\n",
       "tenure                            -0.8225      0.064    -12.918      0.000      -0.947      -0.698\n",
       "PaperlessBilling                   0.4006      0.089      4.521      0.000       0.227       0.574\n",
       "MonthlyCharges                    -0.8161      0.182     -4.482      0.000      -1.173      -0.459\n",
       "SeniorCitizen                      0.2731      0.100      2.724      0.006       0.077       0.470\n",
       "Contract_One year                 -0.6737      0.125     -5.398      0.000      -0.918      -0.429\n",
       "Contract_Two year                 -1.5448      0.214     -7.206      0.000      -1.965      -1.125\n",
       "PaymentMethod_Electronic check     0.3920      0.082      4.767      0.000       0.231       0.553\n",
       "InternetService_Fiber optic        1.6353      0.212      7.721      0.000       1.220       2.050\n",
       "InternetService_No                -1.2731      0.202     -6.298      0.000      -1.669      -0.877\n",
       "MultipleLines_Yes                  0.4358      0.103      4.236      0.000       0.234       0.637\n",
       "OnlineSecurity_Yes                -0.1738      0.106     -1.638      0.101      -0.382       0.034\n",
       "StreamingTV_Yes                    0.5699      0.114      5.016      0.000       0.347       0.793\n",
       "StreamingMovies_Yes                0.6245      0.113      5.528      0.000       0.403       0.846\n",
       "==================================================================================================\n",
       "\"\"\""
      ]
     },
     "execution_count": 454,
     "metadata": {},
     "output_type": "execute_result"
    }
   ],
   "source": [
    "lr_ml = sm.GLM(y_train, sm.add_constant(X_train_rfe_new), family=sm.families.Binomial())\n",
    "model = lr_ml.fit()\n",
    "model.summary()"
   ]
  },
  {
   "cell_type": "code",
   "execution_count": 455,
   "metadata": {},
   "outputs": [
    {
     "data": {
      "text/html": [
       "<div>\n",
       "<style scoped>\n",
       "    .dataframe tbody tr th:only-of-type {\n",
       "        vertical-align: middle;\n",
       "    }\n",
       "\n",
       "    .dataframe tbody tr th {\n",
       "        vertical-align: top;\n",
       "    }\n",
       "\n",
       "    .dataframe thead th {\n",
       "        text-align: right;\n",
       "    }\n",
       "</style>\n",
       "<table border=\"1\" class=\"dataframe\">\n",
       "  <thead>\n",
       "    <tr style=\"text-align: right;\">\n",
       "      <th></th>\n",
       "      <th>Features</th>\n",
       "      <th>VIF</th>\n",
       "    </tr>\n",
       "  </thead>\n",
       "  <tbody>\n",
       "    <tr>\n",
       "      <th>2</th>\n",
       "      <td>MonthlyCharges</td>\n",
       "      <td>10.269681</td>\n",
       "    </tr>\n",
       "    <tr>\n",
       "      <th>7</th>\n",
       "      <td>InternetService_Fiber optic</td>\n",
       "      <td>5.791133</td>\n",
       "    </tr>\n",
       "    <tr>\n",
       "      <th>8</th>\n",
       "      <td>InternetService_No</td>\n",
       "      <td>5.216899</td>\n",
       "    </tr>\n",
       "    <tr>\n",
       "      <th>5</th>\n",
       "      <td>Contract_Two year</td>\n",
       "      <td>2.868122</td>\n",
       "    </tr>\n",
       "    <tr>\n",
       "      <th>11</th>\n",
       "      <td>StreamingTV_Yes</td>\n",
       "      <td>2.815305</td>\n",
       "    </tr>\n",
       "    <tr>\n",
       "      <th>12</th>\n",
       "      <td>StreamingMovies_Yes</td>\n",
       "      <td>2.810068</td>\n",
       "    </tr>\n",
       "    <tr>\n",
       "      <th>1</th>\n",
       "      <td>PaperlessBilling</td>\n",
       "      <td>2.793402</td>\n",
       "    </tr>\n",
       "    <tr>\n",
       "      <th>9</th>\n",
       "      <td>MultipleLines_Yes</td>\n",
       "      <td>2.409383</td>\n",
       "    </tr>\n",
       "    <tr>\n",
       "      <th>0</th>\n",
       "      <td>tenure</td>\n",
       "      <td>2.228280</td>\n",
       "    </tr>\n",
       "    <tr>\n",
       "      <th>6</th>\n",
       "      <td>PaymentMethod_Electronic check</td>\n",
       "      <td>1.928773</td>\n",
       "    </tr>\n",
       "    <tr>\n",
       "      <th>4</th>\n",
       "      <td>Contract_One year</td>\n",
       "      <td>1.790822</td>\n",
       "    </tr>\n",
       "    <tr>\n",
       "      <th>10</th>\n",
       "      <td>OnlineSecurity_Yes</td>\n",
       "      <td>1.637314</td>\n",
       "    </tr>\n",
       "    <tr>\n",
       "      <th>3</th>\n",
       "      <td>SeniorCitizen</td>\n",
       "      <td>1.313465</td>\n",
       "    </tr>\n",
       "  </tbody>\n",
       "</table>\n",
       "</div>"
      ],
      "text/plain": [
       "                          Features        VIF\n",
       "2                   MonthlyCharges  10.269681\n",
       "7      InternetService_Fiber optic   5.791133\n",
       "8               InternetService_No   5.216899\n",
       "5                Contract_Two year   2.868122\n",
       "11                 StreamingTV_Yes   2.815305\n",
       "12             StreamingMovies_Yes   2.810068\n",
       "1                 PaperlessBilling   2.793402\n",
       "9                MultipleLines_Yes   2.409383\n",
       "0                           tenure   2.228280\n",
       "6   PaymentMethod_Electronic check   1.928773\n",
       "4                Contract_One year   1.790822\n",
       "10              OnlineSecurity_Yes   1.637314\n",
       "3                    SeniorCitizen   1.313465"
      ]
     },
     "execution_count": 455,
     "metadata": {},
     "output_type": "execute_result"
    }
   ],
   "source": [
    "vif = pd.DataFrame()\n",
    "vif['Features'] = X_train_rfe_new.columns\n",
    "vif['VIF'] = [variance_inflation_factor(X_train_rfe_new.values, i) for i in range(X_train_rfe_new.shape[1])]\n",
    "vif.sort_values(ascending=False, by='VIF')"
   ]
  },
  {
   "cell_type": "code",
   "execution_count": 456,
   "metadata": {},
   "outputs": [],
   "source": [
    "y_pred_train = model.predict(sm.add_constant(X_train_rfe_new))\n",
    "results = pd.DataFrame()\n",
    "#results['cust_idx'] = y_train.index\n",
    "results['Churn'] = y_train\n",
    "results['Churn_prb'] = y_pred_train\n",
    "results['Churn_pred'] = y_pred_train.apply(lambda x: 0 if x < 0.5 else 1)"
   ]
  },
  {
   "cell_type": "code",
   "execution_count": 457,
   "metadata": {},
   "outputs": [],
   "source": [
    "# Actual\\Pred  0   1\n",
    "#           0  TN  FP\n",
    "#           1  FN  TP"
   ]
  },
  {
   "cell_type": "code",
   "execution_count": 458,
   "metadata": {},
   "outputs": [],
   "source": [
    "confusion_matrix = metrics.confusion_matrix(results.Churn, results.Churn_pred )"
   ]
  },
  {
   "cell_type": "code",
   "execution_count": 459,
   "metadata": {},
   "outputs": [
    {
     "data": {
      "text/plain": [
       "0.8031288094270622"
      ]
     },
     "execution_count": 459,
     "metadata": {},
     "output_type": "execute_result"
    }
   ],
   "source": [
    "metrics.accuracy_score(results.Churn_pred, results.Churn)"
   ]
  },
  {
   "cell_type": "code",
   "execution_count": 460,
   "metadata": {},
   "outputs": [],
   "source": [
    "TN = confusion_matrix[0,0]\n",
    "FP = confusion_matrix[0,1]\n",
    "FN = confusion_matrix[1,0]\n",
    "TP = confusion_matrix[1,1]"
   ]
  },
  {
   "cell_type": "code",
   "execution_count": 461,
   "metadata": {},
   "outputs": [
    {
     "data": {
      "text/plain": [
       "704"
      ]
     },
     "execution_count": 461,
     "metadata": {},
     "output_type": "execute_result"
    }
   ],
   "source": [
    "TP"
   ]
  },
  {
   "cell_type": "markdown",
   "metadata": {},
   "source": [
    "## ALL Metrics"
   ]
  },
  {
   "cell_type": "markdown",
   "metadata": {},
   "source": [
    "## Sensitivity - ratio of correct positives predicted to total positives"
   ]
  },
  {
   "cell_type": "code",
   "execution_count": 462,
   "metadata": {},
   "outputs": [
    {
     "data": {
      "text/plain": [
       "0.5382262996941896"
      ]
     },
     "execution_count": 462,
     "metadata": {},
     "output_type": "execute_result"
    }
   ],
   "source": [
    "sensitivity = TP / (TP+FN)\n",
    "sensitivity"
   ]
  },
  {
   "cell_type": "markdown",
   "metadata": {},
   "source": [
    "## Specificity - ratio of correct negatives predicted to total negatives"
   ]
  },
  {
   "cell_type": "code",
   "execution_count": 463,
   "metadata": {},
   "outputs": [
    {
     "data": {
      "text/plain": [
       "0.8990038738240177"
      ]
     },
     "execution_count": 463,
     "metadata": {},
     "output_type": "execute_result"
    }
   ],
   "source": [
    "specificity = TN / (TN+FP)\n",
    "specificity"
   ]
  },
  {
   "cell_type": "markdown",
   "metadata": {},
   "source": [
    "## Precision - ratio of correct positives predicted to total positives predicted"
   ]
  },
  {
   "cell_type": "code",
   "execution_count": 464,
   "metadata": {},
   "outputs": [
    {
     "data": {
      "text/plain": [
       "0.6585594013096352"
      ]
     },
     "execution_count": 464,
     "metadata": {},
     "output_type": "execute_result"
    }
   ],
   "source": [
    "precision = TP / (TP+FP)\n",
    "precision"
   ]
  },
  {
   "cell_type": "markdown",
   "metadata": {},
   "source": [
    "## False Positive Rate - ratio of wrong positives to total negatives"
   ]
  },
  {
   "cell_type": "code",
   "execution_count": 465,
   "metadata": {},
   "outputs": [
    {
     "data": {
      "text/plain": [
       "0.10099612617598229"
      ]
     },
     "execution_count": 465,
     "metadata": {},
     "output_type": "execute_result"
    }
   ],
   "source": [
    "FPR = FP/(FP+TN)\n",
    "FPR"
   ]
  },
  {
   "cell_type": "markdown",
   "metadata": {},
   "source": [
    "## Negative Predictive Rate - ratio of correct negatives predicted to total negatives predicted"
   ]
  },
  {
   "cell_type": "code",
   "execution_count": 466,
   "metadata": {},
   "outputs": [
    {
     "data": {
      "text/plain": [
       "0.843239034518557"
      ]
     },
     "execution_count": 466,
     "metadata": {},
     "output_type": "execute_result"
    }
   ],
   "source": [
    "NPV = TN / (TN+FN)\n",
    "NPV"
   ]
  },
  {
   "cell_type": "markdown",
   "metadata": {},
   "source": [
    "## ROC for model"
   ]
  },
  {
   "cell_type": "code",
   "execution_count": 467,
   "metadata": {},
   "outputs": [
    {
     "data": {
      "image/png": "[encoded data removed]",
      "text/plain": [
       "<Figure size 432x288 with 1 Axes>"
      ]
     },
     "metadata": {
      "needs_background": "light"
     },
     "output_type": "display_data"
    }
   ],
   "source": [
    "fpr, tpr, thresholds =metrics.roc_curve(results['Churn'], results['Churn_prb'], drop_intermediate=False)\n",
    "plt.plot(fpr, tpr)\n",
    "plt.plot([0,1],[0,1], 'k--')\n",
    "auc_score = metrics.roc_auc_score(results['Churn'], results['Churn_prb'])\n",
    "plt.show()"
   ]
  },
  {
   "cell_type": "code",
   "execution_count": 468,
   "metadata": {},
   "outputs": [
    {
     "data": {
      "text/plain": [
       "0.8432727001179579"
      ]
     },
     "execution_count": 468,
     "metadata": {},
     "output_type": "execute_result"
    }
   ],
   "source": [
    "auc_score"
   ]
  },
  {
   "cell_type": "markdown",
   "metadata": {},
   "source": [
    "## Optimized Cut-off"
   ]
  },
  {
   "cell_type": "code",
   "execution_count": 469,
   "metadata": {},
   "outputs": [],
   "source": [
    "cut_off = pd.DataFrame(columns=['cutoff', 'sensitivity', 'specificity', 'accuracy'])"
   ]
  },
  {
   "cell_type": "code",
   "execution_count": 470,
   "metadata": {},
   "outputs": [],
   "source": [
    "thres = np.arange(0, 1, 0.1)"
   ]
  },
  {
   "cell_type": "code",
   "execution_count": 471,
   "metadata": {},
   "outputs": [],
   "source": [
    "val_df = results.copy() "
   ]
  },
  {
   "cell_type": "code",
   "execution_count": 472,
   "metadata": {},
   "outputs": [],
   "source": [
    "\n",
    "for i in thres:\n",
    "    val_df['{}'.format(round(i, 2))] = results['Churn_prb'].apply(lambda x: 1 if x>i else 0)"
   ]
  },
  {
   "cell_type": "code",
   "execution_count": 473,
   "metadata": {},
   "outputs": [
    {
     "data": {
      "text/html": [
       "<div>\n",
       "<style scoped>\n",
       "    .dataframe tbody tr th:only-of-type {\n",
       "        vertical-align: middle;\n",
       "    }\n",
       "\n",
       "    .dataframe tbody tr th {\n",
       "        vertical-align: top;\n",
       "    }\n",
       "\n",
       "    .dataframe thead th {\n",
       "        text-align: right;\n",
       "    }\n",
       "</style>\n",
       "<table border=\"1\" class=\"dataframe\">\n",
       "  <thead>\n",
       "    <tr style=\"text-align: right;\">\n",
       "      <th></th>\n",
       "      <th>Churn</th>\n",
       "      <th>Churn_prb</th>\n",
       "      <th>Churn_pred</th>\n",
       "      <th>0.0</th>\n",
       "      <th>0.1</th>\n",
       "      <th>0.2</th>\n",
       "      <th>0.3</th>\n",
       "      <th>0.4</th>\n",
       "      <th>0.5</th>\n",
       "      <th>0.6</th>\n",
       "      <th>0.7</th>\n",
       "      <th>0.8</th>\n",
       "      <th>0.9</th>\n",
       "    </tr>\n",
       "  </thead>\n",
       "  <tbody>\n",
       "    <tr>\n",
       "      <th>5100</th>\n",
       "      <td>1</td>\n",
       "      <td>0.548487</td>\n",
       "      <td>1</td>\n",
       "      <td>1</td>\n",
       "      <td>1</td>\n",
       "      <td>1</td>\n",
       "      <td>1</td>\n",
       "      <td>1</td>\n",
       "      <td>1</td>\n",
       "      <td>0</td>\n",
       "      <td>0</td>\n",
       "      <td>0</td>\n",
       "      <td>0</td>\n",
       "    </tr>\n",
       "    <tr>\n",
       "      <th>3933</th>\n",
       "      <td>0</td>\n",
       "      <td>0.134937</td>\n",
       "      <td>0</td>\n",
       "      <td>1</td>\n",
       "      <td>1</td>\n",
       "      <td>0</td>\n",
       "      <td>0</td>\n",
       "      <td>0</td>\n",
       "      <td>0</td>\n",
       "      <td>0</td>\n",
       "      <td>0</td>\n",
       "      <td>0</td>\n",
       "      <td>0</td>\n",
       "    </tr>\n",
       "    <tr>\n",
       "      <th>2771</th>\n",
       "      <td>0</td>\n",
       "      <td>0.258950</td>\n",
       "      <td>0</td>\n",
       "      <td>1</td>\n",
       "      <td>1</td>\n",
       "      <td>1</td>\n",
       "      <td>0</td>\n",
       "      <td>0</td>\n",
       "      <td>0</td>\n",
       "      <td>0</td>\n",
       "      <td>0</td>\n",
       "      <td>0</td>\n",
       "      <td>0</td>\n",
       "    </tr>\n",
       "    <tr>\n",
       "      <th>1304</th>\n",
       "      <td>1</td>\n",
       "      <td>0.687396</td>\n",
       "      <td>1</td>\n",
       "      <td>1</td>\n",
       "      <td>1</td>\n",
       "      <td>1</td>\n",
       "      <td>1</td>\n",
       "      <td>1</td>\n",
       "      <td>1</td>\n",
       "      <td>1</td>\n",
       "      <td>0</td>\n",
       "      <td>0</td>\n",
       "      <td>0</td>\n",
       "    </tr>\n",
       "    <tr>\n",
       "      <th>6948</th>\n",
       "      <td>0</td>\n",
       "      <td>0.202747</td>\n",
       "      <td>0</td>\n",
       "      <td>1</td>\n",
       "      <td>1</td>\n",
       "      <td>1</td>\n",
       "      <td>0</td>\n",
       "      <td>0</td>\n",
       "      <td>0</td>\n",
       "      <td>0</td>\n",
       "      <td>0</td>\n",
       "      <td>0</td>\n",
       "      <td>0</td>\n",
       "    </tr>\n",
       "  </tbody>\n",
       "</table>\n",
       "</div>"
      ],
      "text/plain": [
       "      Churn  Churn_prb  Churn_pred  0.0  0.1  0.2  0.3  0.4  0.5  0.6  0.7  \\\n",
       "5100      1   0.548487           1    1    1    1    1    1    1    0    0   \n",
       "3933      0   0.134937           0    1    1    0    0    0    0    0    0   \n",
       "2771      0   0.258950           0    1    1    1    0    0    0    0    0   \n",
       "1304      1   0.687396           1    1    1    1    1    1    1    1    0   \n",
       "6948      0   0.202747           0    1    1    1    0    0    0    0    0   \n",
       "\n",
       "      0.8  0.9  \n",
       "5100    0    0  \n",
       "3933    0    0  \n",
       "2771    0    0  \n",
       "1304    0    0  \n",
       "6948    0    0  "
      ]
     },
     "execution_count": 473,
     "metadata": {},
     "output_type": "execute_result"
    }
   ],
   "source": [
    "val_df.head()"
   ]
  },
  {
   "cell_type": "code",
   "execution_count": 474,
   "metadata": {},
   "outputs": [],
   "source": [
    "for i in range(len(thres)):\n",
    "    cutoff = thres[i]\n",
    "    confusion_matrix = metrics.confusion_matrix(val_df.Churn, val_df['{}'.format(round(thres[i], 2))])\n",
    "    TN = confusion_matrix[0,0]\n",
    "    FP = confusion_matrix[0,1]\n",
    "    FN = confusion_matrix[1,0]\n",
    "    TP = confusion_matrix[1,1]\n",
    "    cut_off.loc[i] = [thres[i], TP/(TP+FN), TN/(TN+FP), (TP+TN)/(TP+TN+FP+FN)]"
   ]
  },
  {
   "cell_type": "code",
   "execution_count": 475,
   "metadata": {},
   "outputs": [
    {
     "data": {
      "text/html": [
       "<div>\n",
       "<style scoped>\n",
       "    .dataframe tbody tr th:only-of-type {\n",
       "        vertical-align: middle;\n",
       "    }\n",
       "\n",
       "    .dataframe tbody tr th {\n",
       "        vertical-align: top;\n",
       "    }\n",
       "\n",
       "    .dataframe thead th {\n",
       "        text-align: right;\n",
       "    }\n",
       "</style>\n",
       "<table border=\"1\" class=\"dataframe\">\n",
       "  <thead>\n",
       "    <tr style=\"text-align: right;\">\n",
       "      <th></th>\n",
       "      <th>cutoff</th>\n",
       "      <th>sensitivity</th>\n",
       "      <th>specificity</th>\n",
       "      <th>accuracy</th>\n",
       "    </tr>\n",
       "  </thead>\n",
       "  <tbody>\n",
       "    <tr>\n",
       "      <th>0</th>\n",
       "      <td>0.0</td>\n",
       "      <td>1.000000</td>\n",
       "      <td>0.000000</td>\n",
       "      <td>0.265746</td>\n",
       "    </tr>\n",
       "    <tr>\n",
       "      <th>1</th>\n",
       "      <td>0.1</td>\n",
       "      <td>0.945719</td>\n",
       "      <td>0.475927</td>\n",
       "      <td>0.600772</td>\n",
       "    </tr>\n",
       "    <tr>\n",
       "      <th>2</th>\n",
       "      <td>0.2</td>\n",
       "      <td>0.857034</td>\n",
       "      <td>0.648589</td>\n",
       "      <td>0.703982</td>\n",
       "    </tr>\n",
       "    <tr>\n",
       "      <th>3</th>\n",
       "      <td>0.3</td>\n",
       "      <td>0.750000</td>\n",
       "      <td>0.766187</td>\n",
       "      <td>0.761885</td>\n",
       "    </tr>\n",
       "    <tr>\n",
       "      <th>4</th>\n",
       "      <td>0.4</td>\n",
       "      <td>0.641437</td>\n",
       "      <td>0.846154</td>\n",
       "      <td>0.791751</td>\n",
       "    </tr>\n",
       "    <tr>\n",
       "      <th>5</th>\n",
       "      <td>0.5</td>\n",
       "      <td>0.538226</td>\n",
       "      <td>0.899004</td>\n",
       "      <td>0.803129</td>\n",
       "    </tr>\n",
       "    <tr>\n",
       "      <th>6</th>\n",
       "      <td>0.6</td>\n",
       "      <td>0.388379</td>\n",
       "      <td>0.945213</td>\n",
       "      <td>0.797237</td>\n",
       "    </tr>\n",
       "    <tr>\n",
       "      <th>7</th>\n",
       "      <td>0.7</td>\n",
       "      <td>0.197248</td>\n",
       "      <td>0.978694</td>\n",
       "      <td>0.771028</td>\n",
       "    </tr>\n",
       "    <tr>\n",
       "      <th>8</th>\n",
       "      <td>0.8</td>\n",
       "      <td>0.039755</td>\n",
       "      <td>0.996126</td>\n",
       "      <td>0.741975</td>\n",
       "    </tr>\n",
       "    <tr>\n",
       "      <th>9</th>\n",
       "      <td>0.9</td>\n",
       "      <td>0.000000</td>\n",
       "      <td>1.000000</td>\n",
       "      <td>0.734254</td>\n",
       "    </tr>\n",
       "  </tbody>\n",
       "</table>\n",
       "</div>"
      ],
      "text/plain": [
       "   cutoff  sensitivity  specificity  accuracy\n",
       "0     0.0     1.000000     0.000000  0.265746\n",
       "1     0.1     0.945719     0.475927  0.600772\n",
       "2     0.2     0.857034     0.648589  0.703982\n",
       "3     0.3     0.750000     0.766187  0.761885\n",
       "4     0.4     0.641437     0.846154  0.791751\n",
       "5     0.5     0.538226     0.899004  0.803129\n",
       "6     0.6     0.388379     0.945213  0.797237\n",
       "7     0.7     0.197248     0.978694  0.771028\n",
       "8     0.8     0.039755     0.996126  0.741975\n",
       "9     0.9     0.000000     1.000000  0.734254"
      ]
     },
     "execution_count": 475,
     "metadata": {},
     "output_type": "execute_result"
    }
   ],
   "source": [
    "cut_off"
   ]
  },
  {
   "cell_type": "code",
   "execution_count": 476,
   "metadata": {},
   "outputs": [
    {
     "data": {
      "image/png": "[encoded data removed]",
      "text/plain": [
       "<Figure size 432x288 with 1 Axes>"
      ]
     },
     "metadata": {
      "needs_background": "light"
     },
     "output_type": "display_data"
    }
   ],
   "source": [
    "plt.plot(cut_off['cutoff'], cut_off['sensitivity'])\n",
    "plt.plot(cut_off['cutoff'], cut_off['specificity'])\n",
    "plt.plot(cut_off['cutoff'], cut_off['accuracy'])\n",
    "plt.show()"
   ]
  },
  {
   "cell_type": "code",
   "execution_count": 477,
   "metadata": {},
   "outputs": [],
   "source": [
    "results['Churn_pred_0.3'] = y_pred_train.apply(lambda x: 0 if x < 0.3 else 1)"
   ]
  },
  {
   "cell_type": "code",
   "execution_count": 478,
   "metadata": {},
   "outputs": [],
   "source": [
    "confusion_mat = metrics.confusion_matrix(results['Churn'], results['Churn_pred_0.3'])"
   ]
  },
  {
   "cell_type": "code",
   "execution_count": 479,
   "metadata": {},
   "outputs": [],
   "source": [
    "TN = confusion_mat[0,0]\n",
    "FP = confusion_mat[0,1]\n",
    "FN = confusion_mat[1,0]\n",
    "TP = confusion_mat[1,1]"
   ]
  },
  {
   "cell_type": "code",
   "execution_count": 480,
   "metadata": {},
   "outputs": [
    {
     "data": {
      "text/plain": [
       "0.75"
      ]
     },
     "execution_count": 480,
     "metadata": {},
     "output_type": "execute_result"
    }
   ],
   "source": [
    "TP/(TP+FN)"
   ]
  },
  {
   "cell_type": "code",
   "execution_count": 481,
   "metadata": {},
   "outputs": [
    {
     "data": {
      "text/plain": [
       "327"
      ]
     },
     "execution_count": 481,
     "metadata": {},
     "output_type": "execute_result"
    }
   ],
   "source": [
    "FN"
   ]
  },
  {
   "cell_type": "code",
   "execution_count": 482,
   "metadata": {},
   "outputs": [
    {
     "data": {
      "text/plain": [
       "0.7661870503597122"
      ]
     },
     "execution_count": 482,
     "metadata": {},
     "output_type": "execute_result"
    }
   ],
   "source": [
    "TN/(TN+FP)"
   ]
  },
  {
   "cell_type": "code",
   "execution_count": 483,
   "metadata": {},
   "outputs": [
    {
     "data": {
      "text/plain": [
       "0.7618854124339699"
      ]
     },
     "execution_count": 483,
     "metadata": {},
     "output_type": "execute_result"
    }
   ],
   "source": [
    "(TP+TN)/(TP+TN+FN+FP)"
   ]
  },
  {
   "cell_type": "markdown",
   "metadata": {},
   "source": [
    "## Evaluation on test set"
   ]
  },
  {
   "cell_type": "markdown",
   "metadata": {},
   "source": [
    "### Perform Scaling"
   ]
  },
  {
   "cell_type": "code",
   "execution_count": 484,
   "metadata": {},
   "outputs": [],
   "source": [
    "var_list = ['tenure', 'MonthlyCharges', 'TotalCharges']\n",
    "X_test[var_list] = scaler.transform(X_test[var_list])"
   ]
  },
  {
   "cell_type": "code",
   "execution_count": 485,
   "metadata": {},
   "outputs": [
    {
     "data": {
      "text/html": [
       "<div>\n",
       "<style scoped>\n",
       "    .dataframe tbody tr th:only-of-type {\n",
       "        vertical-align: middle;\n",
       "    }\n",
       "\n",
       "    .dataframe tbody tr th {\n",
       "        vertical-align: top;\n",
       "    }\n",
       "\n",
       "    .dataframe thead th {\n",
       "        text-align: right;\n",
       "    }\n",
       "</style>\n",
       "<table border=\"1\" class=\"dataframe\">\n",
       "  <thead>\n",
       "    <tr style=\"text-align: right;\">\n",
       "      <th></th>\n",
       "      <th>tenure</th>\n",
       "      <th>MonthlyCharges</th>\n",
       "      <th>TotalCharges</th>\n",
       "    </tr>\n",
       "  </thead>\n",
       "  <tbody>\n",
       "    <tr>\n",
       "      <th>5908</th>\n",
       "      <td>-1.271914</td>\n",
       "      <td>-1.499732</td>\n",
       "      <td>-0.997773</td>\n",
       "    </tr>\n",
       "    <tr>\n",
       "      <th>993</th>\n",
       "      <td>-0.906218</td>\n",
       "      <td>-1.302705</td>\n",
       "      <td>-0.907515</td>\n",
       "    </tr>\n",
       "    <tr>\n",
       "      <th>3021</th>\n",
       "      <td>-1.109382</td>\n",
       "      <td>-1.508081</td>\n",
       "      <td>-0.959599</td>\n",
       "    </tr>\n",
       "    <tr>\n",
       "      <th>1237</th>\n",
       "      <td>-0.784319</td>\n",
       "      <td>-1.524778</td>\n",
       "      <td>-0.887890</td>\n",
       "    </tr>\n",
       "    <tr>\n",
       "      <th>5772</th>\n",
       "      <td>1.491128</td>\n",
       "      <td>0.562377</td>\n",
       "      <td>1.455345</td>\n",
       "    </tr>\n",
       "  </tbody>\n",
       "</table>\n",
       "</div>"
      ],
      "text/plain": [
       "        tenure  MonthlyCharges  TotalCharges\n",
       "5908 -1.271914       -1.499732     -0.997773\n",
       "993  -0.906218       -1.302705     -0.907515\n",
       "3021 -1.109382       -1.508081     -0.959599\n",
       "1237 -0.784319       -1.524778     -0.887890\n",
       "5772  1.491128        0.562377      1.455345"
      ]
     },
     "execution_count": 485,
     "metadata": {},
     "output_type": "execute_result"
    }
   ],
   "source": [
    "X_test[var_list].head()"
   ]
  },
  {
   "cell_type": "code",
   "execution_count": 486,
   "metadata": {},
   "outputs": [],
   "source": [
    "y_out = pd.DataFrame(columns = ['prob', 'pred'])"
   ]
  },
  {
   "cell_type": "code",
   "execution_count": 487,
   "metadata": {},
   "outputs": [],
   "source": [
    "y_out['prob'] = model.predict(sm.add_constant(X_test[X_train_rfe_new.columns]))\n",
    "y_out['pred'] = y_out['prob'].apply(lambda x: 1 if x>0.3 else 0)"
   ]
  },
  {
   "cell_type": "code",
   "execution_count": 488,
   "metadata": {},
   "outputs": [],
   "source": [
    "conf_mat = metrics.confusion_matrix(y_test, y_out['pred'])"
   ]
  },
  {
   "cell_type": "code",
   "execution_count": 489,
   "metadata": {},
   "outputs": [],
   "source": [
    "TN = conf_mat[0,0]\n",
    "FP = conf_mat[0,1]\n",
    "FN = conf_mat[1,0]\n",
    "TP = conf_mat[1,1]"
   ]
  },
  {
   "cell_type": "code",
   "execution_count": 490,
   "metadata": {},
   "outputs": [
    {
     "data": {
      "text/plain": [
       "0.7611408199643493"
      ]
     },
     "execution_count": 490,
     "metadata": {},
     "output_type": "execute_result"
    }
   ],
   "source": [
    "TP/(TP+FN)"
   ]
  },
  {
   "cell_type": "code",
   "execution_count": 491,
   "metadata": {},
   "outputs": [
    {
     "data": {
      "text/plain": [
       "427"
      ]
     },
     "execution_count": 491,
     "metadata": {},
     "output_type": "execute_result"
    }
   ],
   "source": [
    "TP"
   ]
  },
  {
   "cell_type": "code",
   "execution_count": 492,
   "metadata": {},
   "outputs": [
    {
     "data": {
      "text/plain": [
       "0.775984506132989"
      ]
     },
     "execution_count": 492,
     "metadata": {},
     "output_type": "execute_result"
    }
   ],
   "source": [
    "TN/(TN+FP)"
   ]
  },
  {
   "cell_type": "code",
   "execution_count": 493,
   "metadata": {},
   "outputs": [
    {
     "data": {
      "text/plain": [
       "0.7720379146919432"
      ]
     },
     "execution_count": 493,
     "metadata": {},
     "output_type": "execute_result"
    }
   ],
   "source": [
    "(TP+TN)/(TP+TN+FN+FP)"
   ]
  },
  {
   "cell_type": "markdown",
   "metadata": {},
   "source": [
    "## Precision Vs recall"
   ]
  },
  {
   "cell_type": "code",
   "execution_count": 494,
   "metadata": {},
   "outputs": [],
   "source": [
    "thres = np.arange(0, 1, 0.1)"
   ]
  },
  {
   "cell_type": "code",
   "execution_count": 522,
   "metadata": {},
   "outputs": [],
   "source": [
    "pr_df = pd.DataFrame()\n",
    "pr_df['label'] = results['Churn'].copy()\n",
    "pr_df['prob'] = results['Churn_prb'].copy()\n",
    "precision = []\n",
    "recall = []\n",
    "acc = []\n",
    "for i in thres:\n",
    "    pr_df['{:.2f}'.format(i)] = pr_df['prob'].apply(lambda x: 1 if x>i else 0)\n",
    "    confusion_matrix = metrics.confusion_matrix(pr_df['label'], pr_df['{:.2f}'.format(i)])\n",
    "    TP = confusion_matrix[1,1]  \n",
    "    TN = confusion_matrix[0,0]\n",
    "    FP = confusion_matrix[0,1]\n",
    "    FN = confusion_matrix[1,0]\n",
    "    precision.append(TP/(TP+FP))\n",
    "    recall.append( TP/(TP+FN) )\n",
    "    acc.append( (TP+TN)/(TP+TN+FP+FN) )"
   ]
  },
  {
   "cell_type": "code",
   "execution_count": 527,
   "metadata": {},
   "outputs": [
    {
     "data": {
      "image/png": "[encoded data removed]",
      "text/plain": [
       "<Figure size 432x288 with 1 Axes>"
      ]
     },
     "metadata": {
      "needs_background": "light"
     },
     "output_type": "display_data"
    }
   ],
   "source": [
    "plt.plot(thres, precision, '--')\n",
    "plt.plot(thres, recall)\n",
    "plt.plot(thres, acc, 'b-')\n",
    "plt.show()"
   ]
  },
  {
   "cell_type": "code",
   "execution_count": 524,
   "metadata": {},
   "outputs": [],
   "source": [
    "p, r, thr  = metrics.precision_recall_curve(pr_df['label'], pr_df['prob'])"
   ]
  },
  {
   "cell_type": "code",
   "execution_count": 528,
   "metadata": {},
   "outputs": [
    {
     "data": {
      "image/png": "[encoded data removed]",
      "text/plain": [
       "<Figure size 432x288 with 1 Axes>"
      ]
     },
     "metadata": {
      "needs_background": "light"
     },
     "output_type": "display_data"
    }
   ],
   "source": [
    "plt.plot(thr, p[:-1], 'g-')\n",
    "plt.plot(thr, r[:-1], 'r-')\n",
    "plt.show()"
   ]
  },
  {
   "cell_type": "code",
   "execution_count": 533,
   "metadata": {},
   "outputs": [
    {
     "data": {
      "text/plain": [
       "0.7834123222748816"
      ]
     },
     "execution_count": 533,
     "metadata": {},
     "output_type": "execute_result"
    }
   ],
   "source": [
    "(1294+359)/(1294+359+234+223)"
   ]
  },
  {
   "cell_type": "code",
   "execution_count": 534,
   "metadata": {},
   "outputs": [
    {
     "data": {
      "text/plain": [
       "0.6168384879725086"
      ]
     },
     "execution_count": 534,
     "metadata": {},
     "output_type": "execute_result"
    }
   ],
   "source": [
    "359/(223+359)"
   ]
  },
  {
   "cell_type": "code",
   "execution_count": 531,
   "metadata": {},
   "outputs": [
    {
     "data": {
      "text/plain": [
       "0.6666666666666665"
      ]
     },
     "execution_count": 531,
     "metadata": {},
     "output_type": "execute_result"
    }
   ],
   "source": [
    "(0.75*0.6*2)/(1.35)"
   ]
  },
  {
   "cell_type": "code",
   "execution_count": null,
   "metadata": {},
   "outputs": [],
   "source": [
    "0    0          \n",
    "1    1\n",
    "1    1\n",
    "1    0\n",
    "0    0\n",
    "0    0\n",
    "0    1\n",
    "1    1\n",
    "1    0\n",
    "1    1"
   ]
  },
  {
   "cell_type": "code",
   "execution_count": 538,
   "metadata": {},
   "outputs": [],
   "source": [
    "TP = 4\n",
    "TN = 3\n",
    "FP = 2\n",
    "FN = 1"
   ]
  },
  {
   "cell_type": "code",
   "execution_count": 539,
   "metadata": {},
   "outputs": [],
   "source": [
    "acc = (TN+TP)/(TN+TP+FN+FP)\n",
    "pr = TP/(TP+FP)\n",
    "sen = TP/(TP+FN)\n",
    "spe = TN/(TN+FP)"
   ]
  },
  {
   "cell_type": "code",
   "execution_count": 540,
   "metadata": {},
   "outputs": [
    {
     "name": "stdout",
     "output_type": "stream",
     "text": [
      "0.7 0.6666666666666666 0.8 0.6\n"
     ]
    }
   ],
   "source": [
    "print(acc,pr,sen,spe)"
   ]
  },
  {
   "cell_type": "code",
   "execution_count": null,
   "metadata": {},
   "outputs": [],
   "source": []
  }
 ],
 "metadata": {
  "kernelspec": {
   "display_name": "Python 3",
   "language": "python",
   "name": "python3"
  },
  "language_info": {
   "codemirror_mode": {
    "name": "ipython",
    "version": 3
   },
   "file_extension": ".py",
   "mimetype": "text/x-python",
   "name": "python",
   "nbconvert_exporter": "python",
   "pygments_lexer": "ipython3",
   "version": "3.7.6"
  }
 },
 "nbformat": 4,
 "nbformat_minor": 4
}
