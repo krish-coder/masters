{
 "cells": [
  {
   "cell_type": "code",
   "execution_count": 1,
   "metadata": {},
   "outputs": [],
   "source": [
    "# Import useful libraries and classes.\n",
    "from urllib.request import urlopen as uReq\n",
    "from bs4 import BeautifulSoup as soup\n",
    "import io\n"
   ]
  },
  {
   "cell_type": "code",
   "execution_count": 2,
   "metadata": {},
   "outputs": [],
   "source": [
    "#html upload\n",
    "my_url=  \"https://play.google.com/store/apps/details?id=com.facebook.orca&hl=en&showAllReviews=true\"\n",
    "uClient= uReq(my_url)\n",
    "page_html= uClient.read()\n",
    "uClient.close()"
   ]
  },
  {
   "cell_type": "code",
   "execution_count": 3,
   "metadata": {},
   "outputs": [
    {
     "name": "stdout",
     "output_type": "stream",
     "text": [
      "40\n"
     ]
    }
   ],
   "source": [
    "page_soup=soup(page_html,\"html.parser\")\n",
    "containers=page_soup.findAll(\"div\",{\"class\":\"d15Mdf bAhLNe\"})\n",
    "print(len(containers))"
   ]
  },
  {
   "cell_type": "code",
   "execution_count": 4,
   "metadata": {},
   "outputs": [
    {
     "name": "stdout",
     "output_type": "stream",
     "text": [
      "<div class=\"d15Mdf bAhLNe\">\n",
      " <div class=\"xKpxId zc7KVe\">\n",
      "  <div class=\"bAhLNe kx8XBd\">\n",
      "   <span class=\"X43Kjb\">\n",
      "    Shaidel Rambaod\n",
      "   </span>\n",
      "   <div>\n",
      "    <span class=\"nt2C1d\">\n",
      "     <div class=\"pf5lIe\">\n",
      "      <div aria-label=\"Rated 2 stars out of five stars\" role=\"img\">\n",
      "       <div class=\"vQHuPe bUWb7c\">\n",
      "       </div>\n",
      "       <div class=\"vQHuPe bUWb7c\">\n",
      "       </div>\n",
      "       <div class=\"L0jl5e bUWb7c\">\n",
      "       </div>\n",
      "       <div class=\"L0jl5e bUWb7c\">\n",
      "       </div>\n",
      "       <div class=\"L0jl5e bUWb7c\">\n",
      "       </div>\n",
      "      </div>\n",
      "     </div>\n",
      "    </span>\n",
      "    <span class=\"p2TkOb\">\n",
      "     August 22, 2020\n",
      "    </span>\n",
      "   </div>\n",
      "  </div>\n",
      "  <div class=\"YCMBp GVFJbb\">\n",
      "   <div jsaction=\"JIbuQc:isb5Wc(isb5Wc);NrJVc:tUsItb;Juy6d:Hw9KTb;yIJnmd:kuHRr;s4H3C:HBdSge;\" jsname=\"OuHhoc\">\n",
      "    <div class=\"XlMhZe\">\n",
      "     <div aria-disabled=\"false\" aria-label=\"Helpful\" class=\"U26fgb mUbCce fKz7Od YYBxpf\" data-tooltip=\"Helpful\" data-tooltip-horizontal-offset=\"0\" data-tooltip-vertical-offset=\"-12\" jsaction=\"click:cOuCgd; mousedown:UX7yZ; mouseup:lbsD7e; mouseenter:tfO1Yc; mouseleave:JywGue; focus:AHmuwe; blur:O22p3e; contextmenu:mg9Pef;touchstart:p6p2H; touchmove:FwuNnf; touchend:yfqBxc(preventMouseEvents=true|preventDefault=true); touchcancel:JMtRjd;\" jscontroller=\"VXdfxd\" jslog=\"77038; 1:1212; track:JIbuQc;\" jsname=\"isb5Wc\" jsshadow=\"\" role=\"button\" tabindex=\"0\">\n",
      "      <div class=\"VTBa7b MbhUzd\" jsname=\"ksKsZd\">\n",
      "      </div>\n",
      "      <span class=\"xjKiLb\" jsslot=\"\">\n",
      "       <span class=\"Ce1Y1c\" style=\"top: -12px\">\n",
      "        <span aria-hidden=\"true\" class=\"DPvwYc y92BAb\" jsname=\"eJYMSc\">\n",
      "         \n",
      "        </span>\n",
      "       </span>\n",
      "      </span>\n",
      "     </div>\n",
      "     <div aria-label=\"Number of times this review was rated helpful\" class=\"jUL89d y92BAb\">\n",
      "      3629\n",
      "     </div>\n",
      "    </div>\n",
      "    <div aria-disabled=\"false\" aria-expanded=\"false\" aria-haspopup=\"true\" aria-label=\"More options\" class=\"U26fgb JRtysb WzwrXb\" data-tooltip=\"More options\" data-tooltip-horizontal-offset=\"0\" data-tooltip-vertical-offset=\"-12\" jsaction=\"click:cOuCgd; mousedown:UX7yZ; mouseup:lbsD7e; mouseenter:tfO1Yc; mouseleave:JywGue; focus:AHmuwe; blur:O22p3e; contextmenu:mg9Pef;touchstart:p6p2H; touchmove:FwuNnf; touchend:yfqBxc(preventMouseEvents=true|preventDefault=true); touchcancel:JMtRjd;;keydown:I481le;\" jscontroller=\"iSvg6e\" jsname=\"hHFCAc\" jsshadow=\"\" role=\"button\" tabindex=\"0\">\n",
      "     <div class=\"NWlf3e MbhUzd\" jsname=\"ksKsZd\">\n",
      "     </div>\n",
      "     <span class=\"MhXXcc oJeWuf\" jsslot=\"\">\n",
      "      <span class=\"Lw7GHd snByac\">\n",
      "       <span aria-hidden=\"true\" class=\"DPvwYc NE4Eeb\">\n",
      "        \n",
      "       </span>\n",
      "      </span>\n",
      "     </span>\n",
      "     <div aria-hidden=\"true\" jsname=\"xl07Ob\" style=\"display:none\">\n",
      "      <div class=\"JPdR6b CblTmf\" jsaction=\"IpSVtb:TvD9Pc;fEN2Ze:xzS4ub;frq95c:LNeFm;cFpp9e:J9oOtd; click:H8nU8b; mouseup:H8nU8b; keydown:I481le; keypress:Kr2w4b; blur:O22p3e; focus:H8nU8b\" jscontroller=\"uY3Nvd\" jsshadow=\"\" role=\"menu\" tabindex=\"0\">\n",
      "       <div class=\"XvhY1d\" jsaction=\"mousedown:p8EH2c; touchstart:p8EH2c;\">\n",
      "        <div class=\"JAPqpe K0NPx\">\n",
      "         <span aria-label=\"View edit history\" class=\"z80M1\" jsaction=\"click:o6ZaF(preventDefault=true); mousedown:lAhnzb; mouseup:Osgxgf; mouseenter:SKyDAe; mouseleave:xq3APb;touchstart:jJiBRc; touchmove:kZeBdd; touchend:VfAz8(preventMouseEvents=true)\" jsname=\"j7LFlb\" jsslot=\"\" role=\"menuitem\" tabindex=\"-1\">\n",
      "          <div class=\"aBBjbd MbhUzd\" jsname=\"ksKsZd\">\n",
      "          </div>\n",
      "          <div class=\"uyYuVb oJeWuf\" jsaction=\"JIbuQc:HBdSge\" jscontroller=\"cCHjWd\" jsname=\"HBdSge\">\n",
      "           <div class=\"jO7h3c\">\n",
      "            View edit history\n",
      "           </div>\n",
      "          </div>\n",
      "         </span>\n",
      "         <span aria-checked=\"false\" aria-label=\"Unhelpful\" class=\"z80M1 NmX0eb\" jsaction=\"click:o6ZaF(preventDefault=true); mousedown:lAhnzb; mouseup:Osgxgf; mouseenter:SKyDAe; mouseleave:xq3APb;touchstart:jJiBRc; touchmove:kZeBdd; touchend:VfAz8(preventMouseEvents=true)\" jsname=\"j7LFlb\" jsslot=\"\" role=\"menuitemradio\" tabindex=\"-1\">\n",
      "          <div class=\"aBBjbd MbhUzd\" jsname=\"ksKsZd\">\n",
      "          </div>\n",
      "          <div class=\"uyYuVb oJeWuf\" jsaction=\"JIbuQc:tUsItb\" jscontroller=\"cCHjWd\" jslog=\"77041; 1:1213; track:click;\" jsname=\"tUsItb\">\n",
      "           <div class=\"O7wNO\">\n",
      "           </div>\n",
      "           <div class=\"jO7h3c\">\n",
      "            Unhelpful\n",
      "           </div>\n",
      "          </div>\n",
      "         </span>\n",
      "         <span aria-checked=\"false\" aria-label=\"Spam\" class=\"z80M1 NmX0eb\" jsaction=\"click:o6ZaF(preventDefault=true); mousedown:lAhnzb; mouseup:Osgxgf; mouseenter:SKyDAe; mouseleave:xq3APb;touchstart:jJiBRc; touchmove:kZeBdd; touchend:VfAz8(preventMouseEvents=true)\" jsname=\"j7LFlb\" jsslot=\"\" role=\"menuitemradio\" tabindex=\"-1\">\n",
      "          <div class=\"aBBjbd MbhUzd\" jsname=\"ksKsZd\">\n",
      "          </div>\n",
      "          <div class=\"uyYuVb oJeWuf\" jsaction=\"JIbuQc:Hw9KTb\" jscontroller=\"cCHjWd\" jslog=\"77040; 1:1214; track:click;\" jsname=\"Hw9KTb\">\n",
      "           <div class=\"O7wNO\">\n",
      "           </div>\n",
      "           <div class=\"jO7h3c\">\n",
      "            Spam\n",
      "           </div>\n",
      "          </div>\n",
      "         </span>\n",
      "         <span aria-label=\"Link to this review\" class=\"z80M1\" jsaction=\"click:o6ZaF(preventDefault=true); mousedown:lAhnzb; mouseup:Osgxgf; mouseenter:SKyDAe; mouseleave:xq3APb;touchstart:jJiBRc; touchmove:kZeBdd; touchend:VfAz8(preventMouseEvents=true)\" jsname=\"j7LFlb\" jsslot=\"\" role=\"menuitem\" tabindex=\"-1\">\n",
      "          <div class=\"aBBjbd MbhUzd\" jsname=\"ksKsZd\">\n",
      "          </div>\n",
      "          <div class=\"uyYuVb oJeWuf\" jsaction=\"JIbuQc:kuHRr\" jscontroller=\"cCHjWd\" jslog=\"77039; 1:6066; track:click;\" jsname=\"kuHRr\">\n",
      "           <div class=\"jO7h3c\">\n",
      "            Link to this review\n",
      "           </div>\n",
      "          </div>\n",
      "         </span>\n",
      "        </div>\n",
      "       </div>\n",
      "      </div>\n",
      "     </div>\n",
      "    </div>\n",
      "   </div>\n",
      "  </div>\n",
      " </div>\n",
      " <div class=\"UD7Dzf\" jscontroller=\"LVJlx\">\n",
      "  <span jsname=\"bN97Pc\">\n",
      "   Since, online class has started to air. Many of us have made use of messenger as the source of connecting to one another easily. Can you also manage the messages that are coming from any sources? Like, to separate the area for the individual chats to group chats? So we could easily browse messages t...\n",
      "   <div class=\"cQj82c\">\n",
      "    <button class=\"LkLjZd ScJHi OzU4dc\" jsaction=\"click:TiglPc\" jsname=\"gxjVle\">\n",
      "     Full Review\n",
      "    </button>\n",
      "   </div>\n",
      "  </span>\n",
      "  <span jsname=\"fbQN7e\" style=\"display: none;\">\n",
      "   Since, online class has started to air. Many of us have made use of messenger as the source of connecting to one another easily. Can you also manage the messages that are coming from any sources? Like, to separate the area for the individual chats to group chats? So we could easily browse messages that are in group and in personal messages. I hope you could do something about it. It would be of great help to all of us. Thank you.\n",
      "  </span>\n",
      " </div>\n",
      "</div>\n"
     ]
    }
   ],
   "source": [
    "print(soup.prettify(containers[0]))"
   ]
  },
  {
   "cell_type": "code",
   "execution_count": 5,
   "metadata": {},
   "outputs": [
    {
     "name": "stdout",
     "output_type": "stream",
     "text": [
      "Shaidel Rambaod\n",
      " Since, online class has started to air. Many of us have made use of messenger as the source of connecting to one another easily. Can you also manage the messages that are coming from any sources? Like, to separate the area for the individual chats to group chats? So we could easily browse messages t...Full ReviewSince, online class has started to air. Many of us have made use of messenger as the source of connecting to one another easily. Can you also manage the messages that are coming from any sources? Like, to separate the area for the individual chats to group chats? So we could easily browse messages that are in group and in personal messages. I hope you could do something about it. It would be of great help to all of us. Thank you.\n",
      "August 22, 2020\n"
     ]
    }
   ],
   "source": [
    "container=containers[0]\n",
    "name=(container.findAll(\"span\",{\"class\":\"X43Kjb\"}))\n",
    "print(name[0].text)\n",
    "review=(container.findAll(\"div\",{\"class\":\"UD7Dzf\"}))\n",
    "print(review[0].text)\n",
    "date=(container.findAll(\"span\",{\"class\":\"p2TkOb\"}))\n",
    "print(date[0].text)"
   ]
  },
  {
   "cell_type": "code",
   "execution_count": 6,
   "metadata": {},
   "outputs": [],
   "source": [
    "filename=\"review.csv\"\n",
    "f=open(filename,\"w\",encoding='utf-8')"
   ]
  },
  {
   "cell_type": "code",
   "execution_count": 7,
   "metadata": {},
   "outputs": [
    {
     "data": {
      "text/plain": [
       "17"
      ]
     },
     "execution_count": 7,
     "metadata": {},
     "output_type": "execute_result"
    }
   ],
   "source": [
    "headers=\"Name,Date,Review\\n\"\n",
    "f.write(headers)\n"
   ]
  },
  {
   "cell_type": "code",
   "execution_count": 8,
   "metadata": {},
   "outputs": [
    {
     "name": "stdout",
     "output_type": "stream",
     "text": [
      "Shaidel Rambaod,August 22 2020, Since online class has started to air. Many of us have made use of messenger as the source of connecting to one another easily. Can you also manage the messages that are coming from any sources? Like to separate the area for the individual chats to group chats? So we could easily browse messages t...Full ReviewSince online class has started to air. Many of us have made use of messenger as the source of connecting to one another easily. Can you also manage the messages that are coming from any sources? Like to separate the area for the individual chats to group chats? So we could easily browse messages that are in group and in personal messages. I hope you could do something about it. It would be of great help to all of us. Thank you.\n",
      "\n",
      "Pro Tap Sutra Dhar,August 23 2020, Messenger is my main messaging app. I use it everyday & love it for the most part. There are a few annoying bugs. When my phone is idle for a bit I stop getting notifications even when on WiFi. I don't notice that someone messaged me until I open the app and it takes a while to update all my conve...Full ReviewMessenger is my main messaging app. I use it everyday & love it for the most part. There are a few annoying bugs. When my phone is idle for a bit I stop getting notifications even when on WiFi. I don't notice that someone messaged me until I open the app and it takes a while to update all my conversations. Seen bubbles go missing & I have to close & reopen the app. Lastly I'd like to be able to cancel/delete messages that hang & don't send instead of having them all send at once later on.\n",
      "\n",
      "Sherry Ann,August 24 2020, I completely agree with the person's feedback before mine. Since the last update the only way to see my friends and my own stories is at the top of Facebook. We used to be able to it see them inside messenger but not since the last update. Please change it back! No one is using that create a Room fe...Full ReviewI completely agree with the person's feedback before mine. Since the last update the only way to see my friends and my own stories is at the top of Facebook. We used to be able to it see them inside messenger but not since the last update. Please change it back! No one is using that create a Room feature I promise you a. But everyone looks forward it to seeing their friends stories and most of the time they were seeing them inside messenger!\n",
      "\n",
      "Mari Ortiz,August 24 2020, Not sure what's wrong before there was no issues but now I keep having to delete and re download fb messenger. I been having issues sending messages or even seeing pictures or videos sent to me. I can't even get on a video call. I'm really close to deleting it for good. It's definitely not my phone ...Full ReviewNot sure what's wrong before there was no issues but now I keep having to delete and re download fb messenger. I been having issues sending messages or even seeing pictures or videos sent to me. I can't even get on a video call. I'm really close to deleting it for good. It's definitely not my phone I have friends also having same issues with theirs.\n",
      "\n",
      "Chaity Fatema,August 23 2020, Why did the STORY section change its place? For this the views of story had gone so low. Again if I want to see anyone's story I have to go the person's chathead. This is frustrating. Also I think the room section is not very useful unless one wants to start any meeting. So please put the story po...Full ReviewWhy did the STORY section change its place? For this the views of story had gone so low. Again if I want to see anyone's story I have to go the person's chathead. This is frustrating. Also I think the room section is not very useful unless one wants to start any meeting. So please put the story position back where I can see my story and others stories easily.\n",
      "\n",
      "Raskal Ru,August 24 2020, Newest update is terrible. I would not recommend updating it. The story is stuck on \"Create Room\". I had to search for a youtube video to figure out how to add to my story. I can add to my story now but the create room thing still appears stuck where my story should be. Over half of my emojis on the...Full ReviewNewest update is terrible. I would not recommend updating it. The story is stuck on \"Create Room\". I had to search for a youtube video to figure out how to add to my story. I can add to my story now but the create room thing still appears stuck where my story should be. Over half of my emojis on the keyboard are now back to the old emojis back in 2018. So much downgrading. Please for the next updateupdate all my emojis back and the original story mode back.\n",
      "\n",
      "Monica Jimenez,August 21 2020, The old version used to be good. I don't know why it i can't turn off the sound notification like it used to. It's so annoying. My only choices are to put my phone on silent vibrate or i'll hear the annoying pling sound. You can turn off the sound notif with the old version. Please fix it. Eversinc...Full ReviewThe old version used to be good. I don't know why it i can't turn off the sound notification like it used to. It's so annoying. My only choices are to put my phone on silent vibrate or i'll hear the annoying pling sound. You can turn off the sound notif with the old version. Please fix it. Eversince the Update the app became so laggy too. ughhhh\n",
      "\n",
      "Ganiur Rahman,August 22 2020, sometimes it becomes very enoyying and it do not work properly. sometimes I just hate this app. But it helps me to get in touch with family and friends. I reported things that don't work. But I didn't get any feedback. Sometimes I just feel helpless. It's recent updates r also very annoying and does...Full Reviewsometimes it becomes very enoyying and it do not work properly. sometimes I just hate this app. But it helps me to get in touch with family and friends. I reported things that don't work. But I didn't get any feedback. Sometimes I just feel helpless. It's recent updates r also very annoying and doesn't work properly. And I can't access people's stories using messager. For that I have to use facebook. So I miss all the necessary information. Please solve all these.\n",
      "\n",
      "Rezwan Shahriyar Tasin,August 25 2020, You said ‘‘We update the app regularly so that we can make it better for you. Get the latest version for all of the available Messenger features. This version includes several bug fixes and performance improvements. ’’ But after every update this app is getting worser. Story option has been vanish...Full ReviewYou said ‘‘We update the app regularly so that we can make it better for you. Get the latest version for all of the available Messenger features. This version includes several bug fixes and performance improvements. ’’ But after every update this app is getting worser. Story option has been vanished from top and replaced by room! Nevertheless I tried to upload a story through messenger but it failed. Even I can't delet it! Are you guys actually fixing bug or bringing bug?\n",
      "\n",
      "Dylan Senior,August 1 2020, I've used this for a looooong time and its pretty good. However with this most recent update.. I'm highly upset. More upset then i was prior. You add more to the colors like sweet gradients but now you take out the entire color aspect itself?!!? I'm sorry but why would you make it better just to ta...Full ReviewI've used this for a looooong time and its pretty good. However with this most recent update.. I'm highly upset. More upset then i was prior. You add more to the colors like sweet gradients but now you take out the entire color aspect itself?!!? I'm sorry but why would you make it better just to take it away? Moral of the story I would like to have the color changing feature back. I dont see why it was taken away in the first place. Update: they added it back a while ago.\n",
      "\n",
      "Amy Alexander,August 20 2020, Some of the bug's are not getting fixed even though I've sent multiple bug reports. Half of the time I'm either not getting my messages or getting them several hours after they were sent the vibration and volume is not working properly for the notifications the share my current location is not wo...Full ReviewSome of the bug's are not getting fixed even though I've sent multiple bug reports. Half of the time I'm either not getting my messages or getting them several hours after they were sent the vibration and volume is not working properly for the notifications the share my current location is not working 99% of the time which is a serious pain when it's important to let someone know where you are in cases of car trouble etc. This has been going on for awhile now. Please fix the bugs 🙏🏼\n",
      "\n",
      "Amy Flynn,July 31 2020, New update has seen some bugs at times my messages don't send or there's a delay in receiving messages. And I would have full 4G signal or full WiFi signal. I also really think there should be an option to delete pictures from conversions for everyone and not just for the sender. It's an option tha...Full ReviewNew update has seen some bugs at times my messages don't send or there's a delay in receiving messages. And I would have full 4G signal or full WiFi signal. I also really think there should be an option to delete pictures from conversions for everyone and not just for the sender. It's an option that is available for messages so why not for pictures.\n",
      "\n",
      "Jeromi D,August 24 2020, I am giving this review for some reasons. First the once Story section above the messages now became the Create Room section. Stories/MyDays are more easily accessible in the last version I am already okay with that but you changed it. Hopefully it is just temporary. Another reason putting the m...Full ReviewI am giving this review for some reasons. First the once Story section above the messages now became the Create Room section. Stories/MyDays are more easily accessible in the last version I am already okay with that but you changed it. Hopefully it is just temporary. Another reason putting the modification emojis or reaction is quite good and interesting. Congrats for that. But it's still not available in my device though so if you could make it available to everyone now. Itwould be great.\n",
      "\n",
      "Pooteacherra tea estate,August 21 2020, This app is helping me the most I guess. This app is in a word fantastic. Actually in this tough time of Covid-19 I am able to contact and regularly chatting with my friends and family. I can't explain how relieved do I will having a good time with all of 'em. Thanks to the creators. I hope well ...Full ReviewThis app is helping me the most I guess. This app is in a word fantastic. Actually in this tough time of Covid-19 I am able to contact and regularly chatting with my friends and family. I can't explain how relieved do I will having a good time with all of 'em. Thanks to the creators. I hope well for this app's future. Good luck. It's just 👍👍💕\n",
      "\n",
      "Ru Calumpang,August 22 2020, I DO NOT LIKE THE NEW UPDATE AT ALL!! The story option at the top was replaced with the create room to do video calls to friends w/c I do not use ever... I cannot see right away the stories of my friends if I do not go to the people icon at the bottom.. Whats goin on?! & dont gt me strted wth the re...Full ReviewI DO NOT LIKE THE NEW UPDATE AT ALL!! The story option at the top was replaced with the create room to do video calls to friends w/c I do not use ever... I cannot see right away the stories of my friends if I do not go to the people icon at the bottom.. Whats goin on?! & dont gt me strted wth the reaction emoji on messenger. Its the old one!!! Please fix it.. 🙏🙏😥😭😣\n",
      "\n",
      "Deborah McKeever,August 8 2020, Sort out the bugs in this App. If theres an update that hasn't been put through within a couple of days I've been getting phantom video calls that after I accept the call the screen goes dark and it sound like I'm ringing someone. Took me a few days to figure out what was going on. This has only ...Full ReviewSort out the bugs in this App. If theres an update that hasn't been put through within a couple of days I've been getting phantom video calls that after I accept the call the screen goes dark and it sound like I'm ringing someone. Took me a few days to figure out what was going on. This has only recently started happening is this something you added to get your updates put through?!\n",
      "\n",
      "A Google user,August 19 2020, It used to be fine until they started changing things recently and completely messed everything up. Changed video calls everything is lagging sometimes if you send a link from YouTube it won't send it. And Facebook messenger doesn't even have the option to search for stickers!!! In my opinion h...Full ReviewIt used to be fine until they started changing things recently and completely messed everything up. Changed video calls everything is lagging sometimes if you send a link from YouTube it won't send it. And Facebook messenger doesn't even have the option to search for stickers!!! In my opinion honestly messenger completely sucks now 👎 👎 👎\n",
      "\n",
      "Moh,August 19 2020, Messages are updating super slow. Things that have been read are being kept unread. This app is slowly becoming unstable. Device: Galaxy Note 10+. (08/19/20) Update: This seems to be resolved but there has been a long lasting issue of hanging SMS outgoing messages. Either not sending or taking forev...Full ReviewMessages are updating super slow. Things that have been read are being kept unread. This app is slowly becoming unstable. Device: Galaxy Note 10+. (08/19/20) Update: This seems to be resolved but there has been a long lasting issue of hanging SMS outgoing messages. Either not sending or taking forever (especially when on Wi-Fi)\n",
      "\n",
      "Kai Ten,August 20 2020, Came back. Still absolutely hate the story buttons but I'm giving a star back because I love the custom reacts you can do in the chat. They still need some work so I can set my own custom ones get to my favorites faster and use other skin tones but I like that direction. But definitely absolute...Full ReviewCame back. Still absolutely hate the story buttons but I'm giving a star back because I love the custom reacts you can do in the chat. They still need some work so I can set my own custom ones get to my favorites faster and use other skin tones but I like that direction. But definitely absolutely hate popping into stories by accident every few days. I will never intentionally open one & want to be able to turn the tab etc off. Please keep & expand the custom reacts option.\n",
      "\n",
      "Tyler Martian,August 19 2020, Okay ever since the latest update any time I get a message through Messenger if I happen to be writing a message in another chat at the same time my Keyboard disappears. It is very frustrating and sometimes causes unintended Keystrokes and/or Screen Taps. Please fix this and I will change my rev...Full ReviewOkay ever since the latest update any time I get a message through Messenger if I happen to be writing a message in another chat at the same time my Keyboard disappears. It is very frustrating and sometimes causes unintended Keystrokes and/or Screen Taps. Please fix this and I will change my review to 5 Stars. Other than that the app works fine. My only other minor complaint from that Update is that it added a longer Messenger Load Screen when opening the app.\n",
      "\n",
      "Matt Hyland,August 18 2020, Appalling!!! Since your update of the 6th the app is slower and video sending near continually fails if it does succeed the 70% of the time the picture freezes after a couple of seconds. This is reported by every contact of mine no matter who they send to or their phone model. You've done two use...Full ReviewAppalling!!! Since your update of the 6th the app is slower and video sending near continually fails if it does succeed the 70% of the time the picture freezes after a couple of seconds. This is reported by every contact of mine no matter who they send to or their phone model. You've done two useless updates that appear to have done nothing but made the app slower and reduce functionality further. Do a rollback or fix the issues you've instilled with your update (downgrade)!!\n",
      "\n",
      "Emma Chalmers,August 20 2020, The app has been fine in the past but recently has been a bit all over the place. I will be actively talking to someone and read their messages but hours later I will receive a notification for the same message I read earlier. In one scenario my friend had called me and a few hours later it called...Full ReviewThe app has been fine in the past but recently has been a bit all over the place. I will be actively talking to someone and read their messages but hours later I will receive a notification for the same message I read earlier. In one scenario my friend had called me and a few hours later it called me again whilst we were in a Discord call but his app had no mention of him calling me again! Very strange.\n",
      "\n",
      "Stephen Langele,August 8 2020, All-in-all works as advertised but the only complaint is that when i get a voice or video call from someone my phone vibrates/rings but i get no indication where it is from. I have learned that when it does this it is Facebook Messenger and i open it and the only thing i then see is a red bar at...Full ReviewAll-in-all works as advertised but the only complaint is that when i get a voice or video call from someone my phone vibrates/rings but i get no indication where it is from. I have learned that when it does this it is Facebook Messenger and i open it and the only thing i then see is a red bar at the top of the app telling me to tap it to return the ball and when i tap on it it actually answers. I have a new device that it's happening on and it happened in my old device too so....\n",
      "\n",
      "mom's kids fur babies,August 1 2020, Loved it for years as a way to keep all contacts in one place and easily communicate in multiple ways. This week that all changed. I' ve had to sign in multiple times reload my SMS contacts voice chats are static filled and video chat is almost always dropped less than 5 minutes in. The new featu...Full ReviewLoved it for years as a way to keep all contacts in one place and easily communicate in multiple ways. This week that all changed. I' ve had to sign in multiple times reload my SMS contacts voice chats are static filled and video chat is almost always dropped less than 5 minutes in. The new features are more annoying than useful. The new version shouldn't be considered an update because its clearly a downgrade. Fix it Zuckerberg genius'.\n",
      "\n",
      "Ryan Goodwin,August 11 2020, Stickers. The stickers themselves are worth 5 stars. I dont even care that the app crashes if I try to send a video longer than 10 seconds and then crashes every time I reopen it until it logs me off and it stops trying to send the video. I. Love. These. Stickers. A couple days ago it said the regu...Full ReviewStickers. The stickers themselves are worth 5 stars. I dont even care that the app crashes if I try to send a video longer than 10 seconds and then crashes every time I reopen it until it logs me off and it stops trying to send the video. I. Love. These. Stickers. A couple days ago it said the regular show sticker pack was removed which upset me. But I still have Bun and a bunch of others that I love. Literally the best feature in all of facebook. I just wish I could send videos.\n",
      "\n",
      "Kayleigh Gibson,August 22 2020, Messenger has always been mega helpful to me but this new update has made it so the only way to see stories is via the top of the News Feed. That's useless to me. It was so much better at the top of messenger. 'Create Room' ?? Seriously?? Who is even using that feature?? I'm hoping this is a tempor...Full ReviewMessenger has always been mega helpful to me but this new update has made it so the only way to see stories is via the top of the News Feed. That's useless to me. It was so much better at the top of messenger. 'Create Room' ?? Seriously?? Who is even using that feature?? I'm hoping this is a temporary thing and it'll go back to how it was. Of course my review will go back to 5 stars should that be the case 🙂\n",
      "\n",
      "How I Perceive It,August 24 2020, When i want to send message to a random person on facebook via messenger it takes me to the switch account option. From here i can only switch account and thus cannot send message to the one that i wanted to. Amd there the current account option that i am logged into does not do any kind of action ...Full ReviewWhen i want to send message to a random person on facebook via messenger it takes me to the switch account option. From here i can only switch account and thus cannot send message to the one that i wanted to. Amd there the current account option that i am logged into does not do any kind of action if i click it once or multiple times. Pls fix this immediately. Thanks\n",
      "\n",
      "LeChae Baker-Redfield,August 10 2020, I just cannot even express how frustrating it is that this doesnt work properly. Nothing loads videos dont send hours later ill get messages i lose data from video errors. Im just done. I wish there was a way to harass fb until they fix this. Soooooo done. Deleting the application and losing all ...Full ReviewI just cannot even express how frustrating it is that this doesnt work properly. Nothing loads videos dont send hours later ill get messages i lose data from video errors. Im just done. I wish there was a way to harass fb until they fix this. Soooooo done. Deleting the application and losing all my history seems worth the loss instead of being frustrated all the time. Wouldnt be so bad if it didnt request override all my messaging.\n",
      "\n",
      "John-Ivan Calderon,July 30 2020, Use this app daily. Getting annoyed since the last update my chat messages automatically open with every post . Not just a notification but it opens regardless of what I'm trying to do. Still happening 7/30. I am currently deleting and reinstalling the app to see if it fixes the problem. I've just k...Full ReviewUse this app daily. Getting annoyed since the last update my chat messages automatically open with every post . Not just a notification but it opens regardless of what I'm trying to do. Still happening 7/30. I am currently deleting and reinstalling the app to see if it fixes the problem. I've just kept notifications off since April but that's ridiculous.\n",
      "\n",
      "Trisha Venerayan,August 21 2020, I do not like the new update of this app. It's so confusing specially the \" my day \" section. It's better if we can easily see those \" my days\". And I think the only thing that I like on the new update is that you can customize your reaction. That's all i hope that you will put the \" my day\" secti...Full ReviewI do not like the new update of this app. It's so confusing specially the \" my day \" section. It's better if we can easily see those \" my days\". And I think the only thing that I like on the new update is that you can customize your reaction. That's all i hope that you will put the \" my day\" section on its previous place.\n",
      "\n",
      "Margaret Barche,August 21 2020, I have enjoyed the instant communication when I've been able to share to more than 1 person at a time. But I've been having difficulty when it comes to sending videos to a mass audience. It says that it was unable to send and when I hit 'Learn more' it never explains why. What's the use of that li...Full ReviewI have enjoyed the instant communication when I've been able to share to more than 1 person at a time. But I've been having difficulty when it comes to sending videos to a mass audience. It says that it was unable to send and when I hit 'Learn more' it never explains why. What's the use of that link if it doesn't let you 'learn more'?!\n",
      "\n",
      "Йоана Мазнева,August 23 2020, I can't send voice messages as they never generate. I waste time to record something over and over again until I have to give up and write it which completely makes the voice message option COMPLETELY useless. The video calls are AWFUL (no matter of the different internet/data collection) there's ...Full ReviewI can't send voice messages as they never generate. I waste time to record something over and over again until I have to give up and write it which completely makes the voice message option COMPLETELY useless. The video calls are AWFUL (no matter of the different internet/data collection) there's a constant buzzing noise in the background which sometimes escalates to a high-pitched noise which forces you to end the call and start over. The stories are completely missing. WORST update ever. 😤\n",
      "\n",
      "Carl Logan,August 23 2020, At first my messenger was doing greatbut for the last monthit has been dragging badloading messages very slowlyand sometimes never getting them till the next dayalot of people I know are experiencing the same thing with messenger.I want to keep messenger and continue to use itso would you p...Full ReviewAt first my messenger was doing greatbut for the last monthit has been dragging badloading messages very slowlyand sometimes never getting them till the next dayalot of people I know are experiencing the same thing with messenger.I want to keep messenger and continue to use itso would you please fix this issueyou say your updateing the Messenger app every daywell you have missed something and its getting worsefix it please\n",
      "\n",
      "Phillip McCurry,July 29 2020, Easy to use fun to play with. I'd previously given this a 5 star rating but I've seriously reconsidered because it has to be updated at an overly excessive rate. Seems the bugs come along to necessitate updates that I really wonder about the efficiency of the app and I've been questioning the secu...Full ReviewEasy to use fun to play with. I'd previously given this a 5 star rating but I've seriously reconsidered because it has to be updated at an overly excessive rate. Seems the bugs come along to necessitate updates that I really wonder about the efficiency of the app and I've been questioning the security of the app for quite a while. Seems Facebook could get it right for just a little while anyway.\n",
      "\n",
      "Dan Gagnon,August 21 2020, Works well for me. When sending and receiving pictures they're very clear. I like it when you know the person you're chatting with has seen your message. They can't say they didn't get the message. The video options are great when talking with family. Would be a better option if you could delete mul...Full ReviewWorks well for me. When sending and receiving pictures they're very clear. I like it when you know the person you're chatting with has seen your message. They can't say they didn't get the message. The video options are great when talking with family. Would be a better option if you could delete multiple pictures or comments at one time instead of one at a time.\n",
      "\n",
      "kara miru,August 22 2020, I am a long term user of messenger I love the features before but now there are many changes that are very confusing to many people first is in the part of seeing mydays in messenger it is not accessible you should go first in the facebook app before you will able to see it also the part that there ...Full ReviewI am a long term user of messenger I love the features before but now there are many changes that are very confusing to many people first is in the part of seeing mydays in messenger it is not accessible you should go first in the facebook app before you will able to see it also the part that there are some changes in the new update that are different from the old there are buttons that are missing and is hard to find now. Please fix this I am not happy about it.\n",
      "\n",
      "Blessed Atuahene,August 15 2020, For awhile I'm unable to access my messages. I changed my phone and since then I can't have access to my account. The sad part is it's connected to my Facebook page and I use it for business. This is so frustrating. Keeps logging me out anytime I try to get my messages. And I have notification on my...Full ReviewFor awhile I'm unable to access my messages. I changed my phone and since then I can't have access to my account. The sad part is it's connected to my Facebook page and I use it for business. This is so frustrating. Keeps logging me out anytime I try to get my messages. And I have notification on my Facebook account informing me of messages. Yet I can't get access to them let alone reply....\n",
      "\n",
      "Elliott Turner,July 31 2020, Very slow app. The chatheads have been unusable for about two weeks majorly laggy sometimes wont open at all and causes a crash barely able to type using the chat heads and notifications about 3 minutes late. The app itself however is usable. No lag at all. Ive tried restarting the phone uninsta...Full ReviewVery slow app. The chatheads have been unusable for about two weeks majorly laggy sometimes wont open at all and causes a crash barely able to type using the chat heads and notifications about 3 minutes late. The app itself however is usable. No lag at all. Ive tried restarting the phone uninstalling and reinstalling. Edit: App now only shows the last 10 or so messages before skipping back a whole year to show you them instead of what was said in the last 24 hours. Chatheads still dont work\n",
      "\n",
      "Kiara Maria Gerong,August 23 2020, Stories are no longer showing after the update. Most of the time messages I haven't opened yet are opened/read already. I changed my password twice already and it still keeps on happening; and a friend also experiences the same thing so I don't think it's a security issue.\n",
      "\n",
      "Carl James,August 23 2020, How come you updated this app without considering the essence of this app itself.Instead changing the \"add story\"to \"create room\".It's better if you just put another icon for that \"create room\"thing.It's annoying to see itrequiring we don't immense to use it.You just go with the flow with ZOOMMEET...Full ReviewHow come you updated this app without considering the essence of this app itself.Instead changing the \"add story\"to \"create room\".It's better if you just put another icon for that \"create room\"thing.It's annoying to see itrequiring we don't immense to use it.You just go with the flow with ZOOMMEET and CLASSROOM appwhich are for business meetings and online learning purposes.I thought Messenger is for enterntainmentconnection to others.The \"add story\" is cool for me.Put it back!NOW!\n",
      "\n"
     ]
    }
   ],
   "source": [
    "for container in containers:\n",
    "    name_1=container.findAll(\"span\",{\"class\":\"X43Kjb\"})\n",
    "    name_final=name_1[0].text;\n",
    "    date_1=(container.findAll(\"span\",{\"class\":\"p2TkOb\"}))\n",
    "    date_final=date_1[0].text\n",
    "    review_1=(container.findAll(\"div\",{\"class\":\"UD7Dzf\"}))\n",
    "    review_final=review_1[0].text;\n",
    "    print(name_final+\",\"+date_final.replace(\",\",\"\")+\",\"+review_final.replace(\",\",\"\")+\"\\n\")\n",
    "    f.write(name_final+\",\"+date_final.replace(\",\",\"\")+\",\"+review_final.replace(\",\",\"\")+\"\\n\")\n",
    "f.close()"
   ]
  },
  {
   "cell_type": "code",
   "execution_count": null,
   "metadata": {},
   "outputs": [],
   "source": []
  }
 ],
 "metadata": {
  "kernelspec": {
   "display_name": "Python 3",
   "language": "python",
   "name": "python3"
  },
  "language_info": {
   "codemirror_mode": {
    "name": "ipython",
    "version": 3
   },
   "file_extension": ".py",
   "mimetype": "text/x-python",
   "name": "python",
   "nbconvert_exporter": "python",
   "pygments_lexer": "ipython3",
   "version": "3.7.4"
  }
 },
 "nbformat": 4,
 "nbformat_minor": 2
}
