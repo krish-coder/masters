{
 "cells": [
  {
   "cell_type": "code",
   "execution_count": 1,
   "metadata": {},
   "outputs": [],
   "source": [
    "import os\n",
    "import pandas as pd\n",
    "import numpy as np\n",
    "import matplotlib.pyplot as plt\n",
    "import seaborn as sns"
   ]
  },
  {
   "cell_type": "code",
   "execution_count": 22,
   "metadata": {},
   "outputs": [
    {
     "data": {
      "text/plain": [
       "['.ipynb_checkpoints',\n",
       " 'EDA_Gold_Silver_prices.csv',\n",
       " '.~lock.EDA_Gold_Silver_prices.csv#',\n",
       " 'empty.ipynb',\n",
       " 'currencies.csv']"
      ]
     },
     "execution_count": 22,
     "metadata": {},
     "output_type": "execute_result"
    }
   ],
   "source": [
    "os.listdir()"
   ]
  },
  {
   "cell_type": "code",
   "execution_count": 5,
   "metadata": {},
   "outputs": [],
   "source": [
    "df = pd.read_csv('EDA_Gold_Silver_prices.csv')"
   ]
  },
  {
   "cell_type": "code",
   "execution_count": 7,
   "metadata": {},
   "outputs": [
    {
     "data": {
      "text/html": [
       "<div>\n",
       "<style scoped>\n",
       "    .dataframe tbody tr th:only-of-type {\n",
       "        vertical-align: middle;\n",
       "    }\n",
       "\n",
       "    .dataframe tbody tr th {\n",
       "        vertical-align: top;\n",
       "    }\n",
       "\n",
       "    .dataframe thead th {\n",
       "        text-align: right;\n",
       "    }\n",
       "</style>\n",
       "<table border=\"1\" class=\"dataframe\">\n",
       "  <thead>\n",
       "    <tr style=\"text-align: right;\">\n",
       "      <th></th>\n",
       "      <th>Month</th>\n",
       "      <th>SilverPrice</th>\n",
       "      <th>GoldPrice</th>\n",
       "    </tr>\n",
       "  </thead>\n",
       "  <tbody>\n",
       "    <tr>\n",
       "      <th>0</th>\n",
       "      <td>Mar-97</td>\n",
       "      <td>186.48</td>\n",
       "      <td>12619.24</td>\n",
       "    </tr>\n",
       "    <tr>\n",
       "      <th>1</th>\n",
       "      <td>Apr-97</td>\n",
       "      <td>170.65</td>\n",
       "      <td>12338.59</td>\n",
       "    </tr>\n",
       "    <tr>\n",
       "      <th>2</th>\n",
       "      <td>May-97</td>\n",
       "      <td>170.44</td>\n",
       "      <td>12314.94</td>\n",
       "    </tr>\n",
       "    <tr>\n",
       "      <th>3</th>\n",
       "      <td>Jun-97</td>\n",
       "      <td>169.96</td>\n",
       "      <td>12202.78</td>\n",
       "    </tr>\n",
       "    <tr>\n",
       "      <th>4</th>\n",
       "      <td>Jul-97</td>\n",
       "      <td>155.80</td>\n",
       "      <td>11582.07</td>\n",
       "    </tr>\n",
       "  </tbody>\n",
       "</table>\n",
       "</div>"
      ],
      "text/plain": [
       "    Month  SilverPrice  GoldPrice\n",
       "0  Mar-97       186.48   12619.24\n",
       "1  Apr-97       170.65   12338.59\n",
       "2  May-97       170.44   12314.94\n",
       "3  Jun-97       169.96   12202.78\n",
       "4  Jul-97       155.80   11582.07"
      ]
     },
     "execution_count": 7,
     "metadata": {},
     "output_type": "execute_result"
    }
   ],
   "source": [
    "df.head()"
   ]
  },
  {
   "cell_type": "code",
   "execution_count": 8,
   "metadata": {},
   "outputs": [
    {
     "data": {
      "text/plain": [
       "(241, 3)"
      ]
     },
     "execution_count": 8,
     "metadata": {},
     "output_type": "execute_result"
    }
   ],
   "source": [
    "df.shape"
   ]
  },
  {
   "cell_type": "code",
   "execution_count": 9,
   "metadata": {},
   "outputs": [
    {
     "data": {
      "text/plain": [
       "<matplotlib.axes._subplots.AxesSubplot at 0x7f6ea62586d0>"
      ]
     },
     "execution_count": 9,
     "metadata": {},
     "output_type": "execute_result"
    },
    {
     "data": {
      "image/png": "[encoded data removed]",
      "text/plain": [
       "<Figure size 432x288 with 1 Axes>"
      ]
     },
     "metadata": {
      "needs_background": "light"
     },
     "output_type": "display_data"
    }
   ],
   "source": [
    "df.plot.scatter(x='SilverPrice', y='GoldPrice')"
   ]
  },
  {
   "cell_type": "code",
   "execution_count": 10,
   "metadata": {},
   "outputs": [
    {
     "data": {
      "text/plain": [
       "0.9542559570539775"
      ]
     },
     "execution_count": 10,
     "metadata": {},
     "output_type": "execute_result"
    }
   ],
   "source": [
    "df.GoldPrice.corr(df.SilverPrice)"
   ]
  },
  {
   "cell_type": "code",
   "execution_count": 16,
   "metadata": {},
   "outputs": [],
   "source": [
    "df['year'] = df.Month.apply(lambda x: x[-2:])"
   ]
  },
  {
   "cell_type": "code",
   "execution_count": 17,
   "metadata": {},
   "outputs": [
    {
     "data": {
      "text/html": [
       "<div>\n",
       "<style scoped>\n",
       "    .dataframe tbody tr th:only-of-type {\n",
       "        vertical-align: middle;\n",
       "    }\n",
       "\n",
       "    .dataframe tbody tr th {\n",
       "        vertical-align: top;\n",
       "    }\n",
       "\n",
       "    .dataframe thead th {\n",
       "        text-align: right;\n",
       "    }\n",
       "</style>\n",
       "<table border=\"1\" class=\"dataframe\">\n",
       "  <thead>\n",
       "    <tr style=\"text-align: right;\">\n",
       "      <th></th>\n",
       "      <th>Month</th>\n",
       "      <th>SilverPrice</th>\n",
       "      <th>GoldPrice</th>\n",
       "      <th>year</th>\n",
       "    </tr>\n",
       "  </thead>\n",
       "  <tbody>\n",
       "    <tr>\n",
       "      <th>0</th>\n",
       "      <td>Mar-97</td>\n",
       "      <td>186.48</td>\n",
       "      <td>12619.24</td>\n",
       "      <td>97</td>\n",
       "    </tr>\n",
       "    <tr>\n",
       "      <th>1</th>\n",
       "      <td>Apr-97</td>\n",
       "      <td>170.65</td>\n",
       "      <td>12338.59</td>\n",
       "      <td>97</td>\n",
       "    </tr>\n",
       "    <tr>\n",
       "      <th>2</th>\n",
       "      <td>May-97</td>\n",
       "      <td>170.44</td>\n",
       "      <td>12314.94</td>\n",
       "      <td>97</td>\n",
       "    </tr>\n",
       "    <tr>\n",
       "      <th>3</th>\n",
       "      <td>Jun-97</td>\n",
       "      <td>169.96</td>\n",
       "      <td>12202.78</td>\n",
       "      <td>97</td>\n",
       "    </tr>\n",
       "    <tr>\n",
       "      <th>4</th>\n",
       "      <td>Jul-97</td>\n",
       "      <td>155.80</td>\n",
       "      <td>11582.07</td>\n",
       "      <td>97</td>\n",
       "    </tr>\n",
       "  </tbody>\n",
       "</table>\n",
       "</div>"
      ],
      "text/plain": [
       "    Month  SilverPrice  GoldPrice year\n",
       "0  Mar-97       186.48   12619.24   97\n",
       "1  Apr-97       170.65   12338.59   97\n",
       "2  May-97       170.44   12314.94   97\n",
       "3  Jun-97       169.96   12202.78   97\n",
       "4  Jul-97       155.80   11582.07   97"
      ]
     },
     "execution_count": 17,
     "metadata": {},
     "output_type": "execute_result"
    }
   ],
   "source": [
    "df.head()"
   ]
  },
  {
   "cell_type": "code",
   "execution_count": 19,
   "metadata": {},
   "outputs": [],
   "source": [
    "df1 = df[df['year']== '08']"
   ]
  },
  {
   "cell_type": "code",
   "execution_count": 21,
   "metadata": {},
   "outputs": [
    {
     "data": {
      "text/plain": [
       "0.01"
      ]
     },
     "execution_count": 21,
     "metadata": {},
     "output_type": "execute_result"
    }
   ],
   "source": [
    "round(df1.GoldPrice.corr(df1.SilverPrice),2)"
   ]
  },
  {
   "cell_type": "code",
   "execution_count": 23,
   "metadata": {},
   "outputs": [],
   "source": [
    "df_c = pd.read_csv('currencies.csv')"
   ]
  },
  {
   "cell_type": "code",
   "execution_count": 24,
   "metadata": {},
   "outputs": [
    {
     "data": {
      "text/html": [
       "<div>\n",
       "<style scoped>\n",
       "    .dataframe tbody tr th:only-of-type {\n",
       "        vertical-align: middle;\n",
       "    }\n",
       "\n",
       "    .dataframe tbody tr th {\n",
       "        vertical-align: top;\n",
       "    }\n",
       "\n",
       "    .dataframe thead th {\n",
       "        text-align: right;\n",
       "    }\n",
       "</style>\n",
       "<table border=\"1\" class=\"dataframe\">\n",
       "  <thead>\n",
       "    <tr style=\"text-align: right;\">\n",
       "      <th></th>\n",
       "      <th>Currency</th>\n",
       "      <th>Chinese Yuan</th>\n",
       "      <th>Euro</th>\n",
       "      <th>Japanese Yen</th>\n",
       "      <th>U.K. Pound Sterling</th>\n",
       "      <th>U.S. Dollar</th>\n",
       "      <th>Algerian Dinar</th>\n",
       "      <th>Australian Dollar</th>\n",
       "      <th>Bahrain Dinar</th>\n",
       "      <th>Botswana Pula</th>\n",
       "      <th>...</th>\n",
       "      <th>South African Rand</th>\n",
       "      <th>Sri Lanka Rupee</th>\n",
       "      <th>Swedish Krona</th>\n",
       "      <th>Swiss Franc</th>\n",
       "      <th>Thai Baht</th>\n",
       "      <th>Trinidad And Tobago Dollar</th>\n",
       "      <th>Tunisian Dinar</th>\n",
       "      <th>U.A.E. Dirham</th>\n",
       "      <th>Peso Uruguayo</th>\n",
       "      <th>Bolivar Fuerte</th>\n",
       "    </tr>\n",
       "  </thead>\n",
       "  <tbody>\n",
       "    <tr>\n",
       "      <th>0</th>\n",
       "      <td>July 01, 2016</td>\n",
       "      <td>9.29446</td>\n",
       "      <td>1.25367</td>\n",
       "      <td>143.645</td>\n",
       "      <td>1.05054</td>\n",
       "      <td>1.39596</td>\n",
       "      <td>NaN</td>\n",
       "      <td>1.87126</td>\n",
       "      <td>0.524882</td>\n",
       "      <td>NaN</td>\n",
       "      <td>...</td>\n",
       "      <td>20.3528</td>\n",
       "      <td>202.763</td>\n",
       "      <td>11.8246</td>\n",
       "      <td>1.36009</td>\n",
       "      <td>NaN</td>\n",
       "      <td>9.28428</td>\n",
       "      <td>3.06035</td>\n",
       "      <td>5.12668</td>\n",
       "      <td>NaN</td>\n",
       "      <td>13.9247</td>\n",
       "    </tr>\n",
       "    <tr>\n",
       "      <th>1</th>\n",
       "      <td>July 05, 2016</td>\n",
       "      <td>9.31515</td>\n",
       "      <td>1.25322</td>\n",
       "      <td>142.715</td>\n",
       "      <td>1.06143</td>\n",
       "      <td>1.39684</td>\n",
       "      <td>154.063</td>\n",
       "      <td>1.85825</td>\n",
       "      <td>0.525213</td>\n",
       "      <td>15.2162</td>\n",
       "      <td>...</td>\n",
       "      <td>20.6240</td>\n",
       "      <td>202.886</td>\n",
       "      <td>11.7627</td>\n",
       "      <td>1.35689</td>\n",
       "      <td>49.0655</td>\n",
       "      <td>9.26724</td>\n",
       "      <td>NaN</td>\n",
       "      <td>5.12992</td>\n",
       "      <td>42.9026</td>\n",
       "      <td>13.9335</td>\n",
       "    </tr>\n",
       "    <tr>\n",
       "      <th>2</th>\n",
       "      <td>July 06, 2016</td>\n",
       "      <td>9.31697</td>\n",
       "      <td>1.25834</td>\n",
       "      <td>140.540</td>\n",
       "      <td>1.07300</td>\n",
       "      <td>1.39286</td>\n",
       "      <td>154.094</td>\n",
       "      <td>1.87313</td>\n",
       "      <td>0.523717</td>\n",
       "      <td>15.2392</td>\n",
       "      <td>...</td>\n",
       "      <td>20.7232</td>\n",
       "      <td>NaN</td>\n",
       "      <td>11.8805</td>\n",
       "      <td>1.36208</td>\n",
       "      <td>49.0692</td>\n",
       "      <td>9.25643</td>\n",
       "      <td>NaN</td>\n",
       "      <td>5.11527</td>\n",
       "      <td>42.6425</td>\n",
       "      <td>13.8938</td>\n",
       "    </tr>\n",
       "    <tr>\n",
       "      <th>3</th>\n",
       "      <td>July 07, 2016</td>\n",
       "      <td>9.31315</td>\n",
       "      <td>1.25737</td>\n",
       "      <td>140.640</td>\n",
       "      <td>1.06911</td>\n",
       "      <td>1.39316</td>\n",
       "      <td>153.957</td>\n",
       "      <td>1.85236</td>\n",
       "      <td>0.523829</td>\n",
       "      <td>15.1430</td>\n",
       "      <td>...</td>\n",
       "      <td>20.4288</td>\n",
       "      <td>202.351</td>\n",
       "      <td>11.9192</td>\n",
       "      <td>1.36098</td>\n",
       "      <td>49.0295</td>\n",
       "      <td>NaN</td>\n",
       "      <td>NaN</td>\n",
       "      <td>5.11637</td>\n",
       "      <td>42.4176</td>\n",
       "      <td>13.8968</td>\n",
       "    </tr>\n",
       "    <tr>\n",
       "      <th>4</th>\n",
       "      <td>July 08, 2016</td>\n",
       "      <td>9.31350</td>\n",
       "      <td>1.25797</td>\n",
       "      <td>140.510</td>\n",
       "      <td>1.07261</td>\n",
       "      <td>1.39257</td>\n",
       "      <td>154.062</td>\n",
       "      <td>1.85974</td>\n",
       "      <td>0.523607</td>\n",
       "      <td>15.1202</td>\n",
       "      <td>...</td>\n",
       "      <td>20.6063</td>\n",
       "      <td>202.271</td>\n",
       "      <td>11.9327</td>\n",
       "      <td>1.36472</td>\n",
       "      <td>49.0408</td>\n",
       "      <td>9.26432</td>\n",
       "      <td>NaN</td>\n",
       "      <td>5.11423</td>\n",
       "      <td>42.2060</td>\n",
       "      <td>13.8909</td>\n",
       "    </tr>\n",
       "  </tbody>\n",
       "</table>\n",
       "<p>5 rows × 52 columns</p>\n",
       "</div>"
      ],
      "text/plain": [
       "        Currency  Chinese Yuan     Euro  Japanese Yen  U.K. Pound Sterling  \\\n",
       "0  July 01, 2016       9.29446  1.25367       143.645              1.05054   \n",
       "1  July 05, 2016       9.31515  1.25322       142.715              1.06143   \n",
       "2  July 06, 2016       9.31697  1.25834       140.540              1.07300   \n",
       "3  July 07, 2016       9.31315  1.25737       140.640              1.06911   \n",
       "4  July 08, 2016       9.31350  1.25797       140.510              1.07261   \n",
       "\n",
       "   U.S. Dollar  Algerian Dinar  Australian Dollar  Bahrain Dinar  \\\n",
       "0      1.39596             NaN            1.87126       0.524882   \n",
       "1      1.39684         154.063            1.85825       0.525213   \n",
       "2      1.39286         154.094            1.87313       0.523717   \n",
       "3      1.39316         153.957            1.85236       0.523829   \n",
       "4      1.39257         154.062            1.85974       0.523607   \n",
       "\n",
       "   Botswana Pula  ...  South African Rand  Sri Lanka Rupee  Swedish Krona  \\\n",
       "0            NaN  ...             20.3528          202.763        11.8246   \n",
       "1        15.2162  ...             20.6240          202.886        11.7627   \n",
       "2        15.2392  ...             20.7232              NaN        11.8805   \n",
       "3        15.1430  ...             20.4288          202.351        11.9192   \n",
       "4        15.1202  ...             20.6063          202.271        11.9327   \n",
       "\n",
       "   Swiss Franc Thai Baht  Trinidad And Tobago Dollar  Tunisian Dinar  \\\n",
       "0      1.36009       NaN                     9.28428         3.06035   \n",
       "1      1.35689   49.0655                     9.26724             NaN   \n",
       "2      1.36208   49.0692                     9.25643             NaN   \n",
       "3      1.36098   49.0295                         NaN             NaN   \n",
       "4      1.36472   49.0408                     9.26432             NaN   \n",
       "\n",
       "   U.A.E. Dirham  Peso Uruguayo  Bolivar Fuerte  \n",
       "0        5.12668            NaN         13.9247  \n",
       "1        5.12992        42.9026         13.9335  \n",
       "2        5.11527        42.6425         13.8938  \n",
       "3        5.11637        42.4176         13.8968  \n",
       "4        5.11423        42.2060         13.8909  \n",
       "\n",
       "[5 rows x 52 columns]"
      ]
     },
     "execution_count": 24,
     "metadata": {},
     "output_type": "execute_result"
    }
   ],
   "source": [
    "df_c.head()"
   ]
  },
  {
   "cell_type": "code",
   "execution_count": 30,
   "metadata": {},
   "outputs": [
    {
     "data": {
      "text/plain": [
       "Index(['Currency', 'Chinese Yuan', 'Euro', 'Japanese Yen',\n",
       "       'U.K. Pound Sterling', 'U.S. Dollar', 'Algerian Dinar',\n",
       "       'Australian Dollar', 'Bahrain Dinar', 'Botswana Pula', 'Brazilian Real',\n",
       "       'Brunei Dollar', 'Canadian Dollar', 'Chilean Peso', 'Colombian Peso',\n",
       "       'Czech Koruna', 'Danish Krone', 'Hungarian Forint', 'Icelandic Krona',\n",
       "       'Indian Rupee', 'Indonesian Rupiah', 'Iranian Rial',\n",
       "       'Israeli New Sheqel', 'Kazakhstani Tenge', 'Korean Won',\n",
       "       'Kuwaiti Dinar', 'Libyan Dinar', 'Malaysian Ringgit', 'Mauritian Rupee',\n",
       "       'Mexican Peso', 'Nepalese Rupee', 'New Zealand Dollar',\n",
       "       'Norwegian Krone', 'Rial Omani', 'Pakistani Rupee', 'Nuevo Sol',\n",
       "       'Philippine Peso', 'Polish Zloty', 'Qatar Riyal', 'Russian Ruble',\n",
       "       'Saudi Arabian Riyal', 'Singapore Dollar', 'South African Rand',\n",
       "       'Sri Lanka Rupee', 'Swedish Krona', 'Swiss Franc', 'Thai Baht',\n",
       "       'Trinidad And Tobago Dollar', 'Tunisian Dinar', 'U.A.E. Dirham',\n",
       "       'Peso Uruguayo', 'Bolivar Fuerte'],\n",
       "      dtype='object')"
      ]
     },
     "execution_count": 30,
     "metadata": {},
     "output_type": "execute_result"
    }
   ],
   "source": [
    "df_c.columns"
   ]
  },
  {
   "cell_type": "markdown",
   "metadata": {},
   "source": [
    "##  Euro, Japanese Yen, U.K. Pound Sterling, US Dollar, Australian Dollar, Indian Rupee."
   ]
  },
  {
   "cell_type": "code",
   "execution_count": 32,
   "metadata": {},
   "outputs": [],
   "source": [
    "df_c = df_c.loc[:, ['Euro', 'Japanese Yen', 'U.K. Pound Sterling', 'U.S. Dollar', 'Australian Dollar', 'Indian Rupee']]"
   ]
  },
  {
   "cell_type": "code",
   "execution_count": 33,
   "metadata": {},
   "outputs": [],
   "source": [
    "df_cc = df_c.corr()"
   ]
  },
  {
   "cell_type": "code",
   "execution_count": 34,
   "metadata": {},
   "outputs": [
    {
     "data": {
      "text/plain": [
       "<matplotlib.axes._subplots.AxesSubplot at 0x7f6ea5a5a590>"
      ]
     },
     "execution_count": 34,
     "metadata": {},
     "output_type": "execute_result"
    },
    {
     "data": {
      "image/png": "[encoded data removed]",
      "text/plain": [
       "<Figure size 432x288 with 2 Axes>"
      ]
     },
     "metadata": {
      "needs_background": "light"
     },
     "output_type": "display_data"
    }
   ],
   "source": [
    "sns.heatmap(df_cc)"
   ]
  },
  {
   "cell_type": "code",
   "execution_count": 35,
   "metadata": {},
   "outputs": [
    {
     "data": {
      "text/html": [
       "<style  type=\"text/css\" >\n",
       "    #T_5f2b2f3a_5e5c_11eb_870b_516e0cca89e9row0_col0 {\n",
       "            background-color:  #b40426;\n",
       "            color:  #f1f1f1;\n",
       "        }    #T_5f2b2f3a_5e5c_11eb_870b_516e0cca89e9row0_col1 {\n",
       "            background-color:  #6f92f3;\n",
       "            color:  #000000;\n",
       "        }    #T_5f2b2f3a_5e5c_11eb_870b_516e0cca89e9row0_col2 {\n",
       "            background-color:  #f39475;\n",
       "            color:  #000000;\n",
       "        }    #T_5f2b2f3a_5e5c_11eb_870b_516e0cca89e9row0_col3 {\n",
       "            background-color:  #3b4cc0;\n",
       "            color:  #f1f1f1;\n",
       "        }    #T_5f2b2f3a_5e5c_11eb_870b_516e0cca89e9row0_col4 {\n",
       "            background-color:  #eed0c0;\n",
       "            color:  #000000;\n",
       "        }    #T_5f2b2f3a_5e5c_11eb_870b_516e0cca89e9row0_col5 {\n",
       "            background-color:  #c1d4f4;\n",
       "            color:  #000000;\n",
       "        }    #T_5f2b2f3a_5e5c_11eb_870b_516e0cca89e9row1_col0 {\n",
       "            background-color:  #3b4cc0;\n",
       "            color:  #f1f1f1;\n",
       "        }    #T_5f2b2f3a_5e5c_11eb_870b_516e0cca89e9row1_col1 {\n",
       "            background-color:  #b40426;\n",
       "            color:  #f1f1f1;\n",
       "        }    #T_5f2b2f3a_5e5c_11eb_870b_516e0cca89e9row1_col2 {\n",
       "            background-color:  #3b4cc0;\n",
       "            color:  #f1f1f1;\n",
       "        }    #T_5f2b2f3a_5e5c_11eb_870b_516e0cca89e9row1_col3 {\n",
       "            background-color:  #afcafc;\n",
       "            color:  #000000;\n",
       "        }    #T_5f2b2f3a_5e5c_11eb_870b_516e0cca89e9row1_col4 {\n",
       "            background-color:  #3b4cc0;\n",
       "            color:  #f1f1f1;\n",
       "        }    #T_5f2b2f3a_5e5c_11eb_870b_516e0cca89e9row1_col5 {\n",
       "            background-color:  #3b4cc0;\n",
       "            color:  #f1f1f1;\n",
       "        }    #T_5f2b2f3a_5e5c_11eb_870b_516e0cca89e9row2_col0 {\n",
       "            background-color:  #f7a688;\n",
       "            color:  #000000;\n",
       "        }    #T_5f2b2f3a_5e5c_11eb_870b_516e0cca89e9row2_col1 {\n",
       "            background-color:  #3b4cc0;\n",
       "            color:  #f1f1f1;\n",
       "        }    #T_5f2b2f3a_5e5c_11eb_870b_516e0cca89e9row2_col2 {\n",
       "            background-color:  #b40426;\n",
       "            color:  #f1f1f1;\n",
       "        }    #T_5f2b2f3a_5e5c_11eb_870b_516e0cca89e9row2_col3 {\n",
       "            background-color:  #6687ed;\n",
       "            color:  #000000;\n",
       "        }    #T_5f2b2f3a_5e5c_11eb_870b_516e0cca89e9row2_col4 {\n",
       "            background-color:  #f5a081;\n",
       "            color:  #000000;\n",
       "        }    #T_5f2b2f3a_5e5c_11eb_870b_516e0cca89e9row2_col5 {\n",
       "            background-color:  #d2dbe8;\n",
       "            color:  #000000;\n",
       "        }    #T_5f2b2f3a_5e5c_11eb_870b_516e0cca89e9row3_col0 {\n",
       "            background-color:  #92b4fe;\n",
       "            color:  #000000;\n",
       "        }    #T_5f2b2f3a_5e5c_11eb_870b_516e0cca89e9row3_col1 {\n",
       "            background-color:  #f2cbb7;\n",
       "            color:  #000000;\n",
       "        }    #T_5f2b2f3a_5e5c_11eb_870b_516e0cca89e9row3_col2 {\n",
       "            background-color:  #d5dbe5;\n",
       "            color:  #000000;\n",
       "        }    #T_5f2b2f3a_5e5c_11eb_870b_516e0cca89e9row3_col3 {\n",
       "            background-color:  #b40426;\n",
       "            color:  #f1f1f1;\n",
       "        }    #T_5f2b2f3a_5e5c_11eb_870b_516e0cca89e9row3_col4 {\n",
       "            background-color:  #f4987a;\n",
       "            color:  #000000;\n",
       "        }    #T_5f2b2f3a_5e5c_11eb_870b_516e0cca89e9row3_col5 {\n",
       "            background-color:  #d65244;\n",
       "            color:  #000000;\n",
       "        }    #T_5f2b2f3a_5e5c_11eb_870b_516e0cca89e9row4_col0 {\n",
       "            background-color:  #f1ccb8;\n",
       "            color:  #000000;\n",
       "        }    #T_5f2b2f3a_5e5c_11eb_870b_516e0cca89e9row4_col1 {\n",
       "            background-color:  #7a9df8;\n",
       "            color:  #000000;\n",
       "        }    #T_5f2b2f3a_5e5c_11eb_870b_516e0cca89e9row4_col2 {\n",
       "            background-color:  #f08a6c;\n",
       "            color:  #000000;\n",
       "        }    #T_5f2b2f3a_5e5c_11eb_870b_516e0cca89e9row4_col3 {\n",
       "            background-color:  #f7b599;\n",
       "            color:  #000000;\n",
       "        }    #T_5f2b2f3a_5e5c_11eb_870b_516e0cca89e9row4_col4 {\n",
       "            background-color:  #b40426;\n",
       "            color:  #f1f1f1;\n",
       "        }    #T_5f2b2f3a_5e5c_11eb_870b_516e0cca89e9row4_col5 {\n",
       "            background-color:  #ca3b37;\n",
       "            color:  #f1f1f1;\n",
       "        }    #T_5f2b2f3a_5e5c_11eb_870b_516e0cca89e9row5_col0 {\n",
       "            background-color:  #e7d7ce;\n",
       "            color:  #000000;\n",
       "        }    #T_5f2b2f3a_5e5c_11eb_870b_516e0cca89e9row5_col1 {\n",
       "            background-color:  #b1cbfc;\n",
       "            color:  #000000;\n",
       "        }    #T_5f2b2f3a_5e5c_11eb_870b_516e0cca89e9row5_col2 {\n",
       "            background-color:  #f6bda2;\n",
       "            color:  #000000;\n",
       "        }    #T_5f2b2f3a_5e5c_11eb_870b_516e0cca89e9row5_col3 {\n",
       "            background-color:  #d75445;\n",
       "            color:  #000000;\n",
       "        }    #T_5f2b2f3a_5e5c_11eb_870b_516e0cca89e9row5_col4 {\n",
       "            background-color:  #c53334;\n",
       "            color:  #f1f1f1;\n",
       "        }    #T_5f2b2f3a_5e5c_11eb_870b_516e0cca89e9row5_col5 {\n",
       "            background-color:  #b40426;\n",
       "            color:  #f1f1f1;\n",
       "        }</style><table id=\"T_5f2b2f3a_5e5c_11eb_870b_516e0cca89e9\" ><thead>    <tr>        <th class=\"blank level0\" ></th>        <th class=\"col_heading level0 col0\" >Euro</th>        <th class=\"col_heading level0 col1\" >Japanese Yen</th>        <th class=\"col_heading level0 col2\" >U.K. Pound Sterling</th>        <th class=\"col_heading level0 col3\" >U.S. Dollar</th>        <th class=\"col_heading level0 col4\" >Australian Dollar</th>        <th class=\"col_heading level0 col5\" >Indian Rupee</th>    </tr></thead><tbody>\n",
       "                <tr>\n",
       "                        <th id=\"T_5f2b2f3a_5e5c_11eb_870b_516e0cca89e9level0_row0\" class=\"row_heading level0 row0\" >Euro</th>\n",
       "                        <td id=\"T_5f2b2f3a_5e5c_11eb_870b_516e0cca89e9row0_col0\" class=\"data row0 col0\" >1.000000</td>\n",
       "                        <td id=\"T_5f2b2f3a_5e5c_11eb_870b_516e0cca89e9row0_col1\" class=\"data row0 col1\" >-0.645719</td>\n",
       "                        <td id=\"T_5f2b2f3a_5e5c_11eb_870b_516e0cca89e9row0_col2\" class=\"data row0 col2\" >0.531150</td>\n",
       "                        <td id=\"T_5f2b2f3a_5e5c_11eb_870b_516e0cca89e9row0_col3\" class=\"data row0 col3\" >-0.210587</td>\n",
       "                        <td id=\"T_5f2b2f3a_5e5c_11eb_870b_516e0cca89e9row0_col4\" class=\"data row0 col4\" >0.331588</td>\n",
       "                        <td id=\"T_5f2b2f3a_5e5c_11eb_870b_516e0cca89e9row0_col5\" class=\"data row0 col5\" >0.243851</td>\n",
       "            </tr>\n",
       "            <tr>\n",
       "                        <th id=\"T_5f2b2f3a_5e5c_11eb_870b_516e0cca89e9level0_row1\" class=\"row_heading level0 row1\" >Japanese Yen</th>\n",
       "                        <td id=\"T_5f2b2f3a_5e5c_11eb_870b_516e0cca89e9row1_col0\" class=\"data row1 col0\" >-0.645719</td>\n",
       "                        <td id=\"T_5f2b2f3a_5e5c_11eb_870b_516e0cca89e9row1_col1\" class=\"data row1 col1\" >1.000000</td>\n",
       "                        <td id=\"T_5f2b2f3a_5e5c_11eb_870b_516e0cca89e9row1_col2\" class=\"data row1 col2\" >-0.970308</td>\n",
       "                        <td id=\"T_5f2b2f3a_5e5c_11eb_870b_516e0cca89e9row1_col3\" class=\"data row1 col3\" >0.210295</td>\n",
       "                        <td id=\"T_5f2b2f3a_5e5c_11eb_870b_516e0cca89e9row1_col4\" class=\"data row1 col4\" >-0.582032</td>\n",
       "                        <td id=\"T_5f2b2f3a_5e5c_11eb_870b_516e0cca89e9row1_col5\" class=\"data row1 col5\" >-0.270123</td>\n",
       "            </tr>\n",
       "            <tr>\n",
       "                        <th id=\"T_5f2b2f3a_5e5c_11eb_870b_516e0cca89e9level0_row2\" class=\"row_heading level0 row2\" >U.K. Pound Sterling</th>\n",
       "                        <td id=\"T_5f2b2f3a_5e5c_11eb_870b_516e0cca89e9row2_col0\" class=\"data row2 col0\" >0.531150</td>\n",
       "                        <td id=\"T_5f2b2f3a_5e5c_11eb_870b_516e0cca89e9row2_col1\" class=\"data row2 col1\" >-0.970308</td>\n",
       "                        <td id=\"T_5f2b2f3a_5e5c_11eb_870b_516e0cca89e9row2_col2\" class=\"data row2 col2\" >1.000000</td>\n",
       "                        <td id=\"T_5f2b2f3a_5e5c_11eb_870b_516e0cca89e9row2_col3\" class=\"data row2 col3\" >-0.042303</td>\n",
       "                        <td id=\"T_5f2b2f3a_5e5c_11eb_870b_516e0cca89e9row2_col4\" class=\"data row2 col4\" >0.579213</td>\n",
       "                        <td id=\"T_5f2b2f3a_5e5c_11eb_870b_516e0cca89e9row2_col5\" class=\"data row2 col5\" >0.314681</td>\n",
       "            </tr>\n",
       "            <tr>\n",
       "                        <th id=\"T_5f2b2f3a_5e5c_11eb_870b_516e0cca89e9level0_row3\" class=\"row_heading level0 row3\" >U.S. Dollar</th>\n",
       "                        <td id=\"T_5f2b2f3a_5e5c_11eb_870b_516e0cca89e9row3_col0\" class=\"data row3 col0\" >-0.210587</td>\n",
       "                        <td id=\"T_5f2b2f3a_5e5c_11eb_870b_516e0cca89e9row3_col1\" class=\"data row3 col1\" >0.210295</td>\n",
       "                        <td id=\"T_5f2b2f3a_5e5c_11eb_870b_516e0cca89e9row3_col2\" class=\"data row3 col2\" >-0.042303</td>\n",
       "                        <td id=\"T_5f2b2f3a_5e5c_11eb_870b_516e0cca89e9row3_col3\" class=\"data row3 col3\" >1.000000</td>\n",
       "                        <td id=\"T_5f2b2f3a_5e5c_11eb_870b_516e0cca89e9row3_col4\" class=\"data row3 col4\" >0.607010</td>\n",
       "                        <td id=\"T_5f2b2f3a_5e5c_11eb_870b_516e0cca89e9row3_col5\" class=\"data row3 col5\" >0.872862</td>\n",
       "            </tr>\n",
       "            <tr>\n",
       "                        <th id=\"T_5f2b2f3a_5e5c_11eb_870b_516e0cca89e9level0_row4\" class=\"row_heading level0 row4\" >Australian Dollar</th>\n",
       "                        <td id=\"T_5f2b2f3a_5e5c_11eb_870b_516e0cca89e9row4_col0\" class=\"data row4 col0\" >0.331588</td>\n",
       "                        <td id=\"T_5f2b2f3a_5e5c_11eb_870b_516e0cca89e9row4_col1\" class=\"data row4 col1\" >-0.582032</td>\n",
       "                        <td id=\"T_5f2b2f3a_5e5c_11eb_870b_516e0cca89e9row4_col2\" class=\"data row4 col2\" >0.579213</td>\n",
       "                        <td id=\"T_5f2b2f3a_5e5c_11eb_870b_516e0cca89e9row4_col3\" class=\"data row4 col3\" >0.607010</td>\n",
       "                        <td id=\"T_5f2b2f3a_5e5c_11eb_870b_516e0cca89e9row4_col4\" class=\"data row4 col4\" >1.000000</td>\n",
       "                        <td id=\"T_5f2b2f3a_5e5c_11eb_870b_516e0cca89e9row4_col5\" class=\"data row4 col5\" >0.921475</td>\n",
       "            </tr>\n",
       "            <tr>\n",
       "                        <th id=\"T_5f2b2f3a_5e5c_11eb_870b_516e0cca89e9level0_row5\" class=\"row_heading level0 row5\" >Indian Rupee</th>\n",
       "                        <td id=\"T_5f2b2f3a_5e5c_11eb_870b_516e0cca89e9row5_col0\" class=\"data row5 col0\" >0.243851</td>\n",
       "                        <td id=\"T_5f2b2f3a_5e5c_11eb_870b_516e0cca89e9row5_col1\" class=\"data row5 col1\" >-0.270123</td>\n",
       "                        <td id=\"T_5f2b2f3a_5e5c_11eb_870b_516e0cca89e9row5_col2\" class=\"data row5 col2\" >0.314681</td>\n",
       "                        <td id=\"T_5f2b2f3a_5e5c_11eb_870b_516e0cca89e9row5_col3\" class=\"data row5 col3\" >0.872862</td>\n",
       "                        <td id=\"T_5f2b2f3a_5e5c_11eb_870b_516e0cca89e9row5_col4\" class=\"data row5 col4\" >0.921475</td>\n",
       "                        <td id=\"T_5f2b2f3a_5e5c_11eb_870b_516e0cca89e9row5_col5\" class=\"data row5 col5\" >1.000000</td>\n",
       "            </tr>\n",
       "    </tbody></table>"
      ],
      "text/plain": [
       "<pandas.io.formats.style.Styler at 0x7f6ea190f910>"
      ]
     },
     "execution_count": 35,
     "metadata": {},
     "output_type": "execute_result"
    }
   ],
   "source": [
    "df_cc.style.background_gradient(cmap='coolwarm')"
   ]
  },
  {
   "cell_type": "code",
   "execution_count": 36,
   "metadata": {},
   "outputs": [
    {
     "data": {
      "text/plain": [
       "['.ipynb_checkpoints',\n",
       " 'nas.csv',\n",
       " 'EDA_Gold_Silver_prices.csv',\n",
       " '.~lock.EDA_Gold_Silver_prices.csv#',\n",
       " 'empty.ipynb',\n",
       " 'currencies.csv']"
      ]
     },
     "execution_count": 36,
     "metadata": {},
     "output_type": "execute_result"
    }
   ],
   "source": [
    "os.listdir()"
   ]
  },
  {
   "cell_type": "code",
   "execution_count": 38,
   "metadata": {},
   "outputs": [],
   "source": [
    "df5 = pd.read_csv('nas.csv')"
   ]
  },
  {
   "cell_type": "code",
   "execution_count": 39,
   "metadata": {},
   "outputs": [
    {
     "data": {
      "text/html": [
       "<div>\n",
       "<style scoped>\n",
       "    .dataframe tbody tr th:only-of-type {\n",
       "        vertical-align: middle;\n",
       "    }\n",
       "\n",
       "    .dataframe tbody tr th {\n",
       "        vertical-align: top;\n",
       "    }\n",
       "\n",
       "    .dataframe thead th {\n",
       "        text-align: right;\n",
       "    }\n",
       "</style>\n",
       "<table border=\"1\" class=\"dataframe\">\n",
       "  <thead>\n",
       "    <tr style=\"text-align: right;\">\n",
       "      <th></th>\n",
       "      <th>STUID</th>\n",
       "      <th>State</th>\n",
       "      <th>District</th>\n",
       "      <th>Gender</th>\n",
       "      <th>Age</th>\n",
       "      <th>Category</th>\n",
       "      <th>Same.language</th>\n",
       "      <th>Siblings</th>\n",
       "      <th>Handicap</th>\n",
       "      <th>Father.edu</th>\n",
       "      <th>...</th>\n",
       "      <th>Express.science.views</th>\n",
       "      <th>Watch.TV</th>\n",
       "      <th>Read.magazine</th>\n",
       "      <th>Read.a.book</th>\n",
       "      <th>Play.games</th>\n",
       "      <th>Help.in.household</th>\n",
       "      <th>Maths..</th>\n",
       "      <th>Reading..</th>\n",
       "      <th>Science..</th>\n",
       "      <th>Social..</th>\n",
       "    </tr>\n",
       "  </thead>\n",
       "  <tbody>\n",
       "    <tr>\n",
       "      <th>0</th>\n",
       "      <td>26011001001</td>\n",
       "      <td>Maharashtra</td>\n",
       "      <td>1</td>\n",
       "      <td>Girl</td>\n",
       "      <td>13 years</td>\n",
       "      <td>3.0</td>\n",
       "      <td>2.0</td>\n",
       "      <td>1 sibling</td>\n",
       "      <td>No</td>\n",
       "      <td>Illiterate</td>\n",
       "      <td>...</td>\n",
       "      <td>Agree</td>\n",
       "      <td>Every day</td>\n",
       "      <td>Never</td>\n",
       "      <td>Once a month</td>\n",
       "      <td>Once a week</td>\n",
       "      <td>Every day</td>\n",
       "      <td>NaN</td>\n",
       "      <td>33.33</td>\n",
       "      <td>NaN</td>\n",
       "      <td>NaN</td>\n",
       "    </tr>\n",
       "    <tr>\n",
       "      <th>1</th>\n",
       "      <td>26011001002</td>\n",
       "      <td>Maharashtra</td>\n",
       "      <td>1</td>\n",
       "      <td>Girl</td>\n",
       "      <td>15 years</td>\n",
       "      <td>3.0</td>\n",
       "      <td>2.0</td>\n",
       "      <td>3 siblings</td>\n",
       "      <td>No</td>\n",
       "      <td>NaN</td>\n",
       "      <td>...</td>\n",
       "      <td>Agree</td>\n",
       "      <td>Once a week</td>\n",
       "      <td>Never</td>\n",
       "      <td>Never</td>\n",
       "      <td>Once a week</td>\n",
       "      <td>Every day</td>\n",
       "      <td>NaN</td>\n",
       "      <td>62.07</td>\n",
       "      <td>NaN</td>\n",
       "      <td>NaN</td>\n",
       "    </tr>\n",
       "    <tr>\n",
       "      <th>2</th>\n",
       "      <td>26011001003</td>\n",
       "      <td>Maharashtra</td>\n",
       "      <td>1</td>\n",
       "      <td>Girl</td>\n",
       "      <td>14 years</td>\n",
       "      <td>3.0</td>\n",
       "      <td>2.0</td>\n",
       "      <td>3 siblings</td>\n",
       "      <td>No</td>\n",
       "      <td>Degree &amp; above</td>\n",
       "      <td>...</td>\n",
       "      <td>Agree</td>\n",
       "      <td>Every day</td>\n",
       "      <td>Once a month</td>\n",
       "      <td>Once a month</td>\n",
       "      <td>Once a week</td>\n",
       "      <td>Every day</td>\n",
       "      <td>NaN</td>\n",
       "      <td>41.38</td>\n",
       "      <td>NaN</td>\n",
       "      <td>NaN</td>\n",
       "    </tr>\n",
       "    <tr>\n",
       "      <th>3</th>\n",
       "      <td>26011001004</td>\n",
       "      <td>Maharashtra</td>\n",
       "      <td>1</td>\n",
       "      <td>Boy</td>\n",
       "      <td>13 years</td>\n",
       "      <td>3.0</td>\n",
       "      <td>2.0</td>\n",
       "      <td>3 siblings</td>\n",
       "      <td>No</td>\n",
       "      <td>Secondary</td>\n",
       "      <td>...</td>\n",
       "      <td>Agree</td>\n",
       "      <td>Every day</td>\n",
       "      <td>Every day</td>\n",
       "      <td>Never</td>\n",
       "      <td>Every day</td>\n",
       "      <td>Every day</td>\n",
       "      <td>29.82</td>\n",
       "      <td>NaN</td>\n",
       "      <td>NaN</td>\n",
       "      <td>NaN</td>\n",
       "    </tr>\n",
       "    <tr>\n",
       "      <th>4</th>\n",
       "      <td>26011001005</td>\n",
       "      <td>Maharashtra</td>\n",
       "      <td>1</td>\n",
       "      <td>Girl</td>\n",
       "      <td>14 years</td>\n",
       "      <td>3.0</td>\n",
       "      <td>2.0</td>\n",
       "      <td>2 siblings</td>\n",
       "      <td>No</td>\n",
       "      <td>Primary</td>\n",
       "      <td>...</td>\n",
       "      <td>Neither</td>\n",
       "      <td>Never</td>\n",
       "      <td>Never</td>\n",
       "      <td>Once a month</td>\n",
       "      <td>Once a week</td>\n",
       "      <td>Every day</td>\n",
       "      <td>NaN</td>\n",
       "      <td>NaN</td>\n",
       "      <td>27.27</td>\n",
       "      <td>NaN</td>\n",
       "    </tr>\n",
       "  </tbody>\n",
       "</table>\n",
       "<p>5 rows × 64 columns</p>\n",
       "</div>"
      ],
      "text/plain": [
       "         STUID        State  District Gender       Age  Category  \\\n",
       "0  26011001001  Maharashtra         1   Girl  13 years       3.0   \n",
       "1  26011001002  Maharashtra         1   Girl  15 years       3.0   \n",
       "2  26011001003  Maharashtra         1   Girl  14 years       3.0   \n",
       "3  26011001004  Maharashtra         1    Boy  13 years       3.0   \n",
       "4  26011001005  Maharashtra         1   Girl  14 years       3.0   \n",
       "\n",
       "   Same.language    Siblings Handicap      Father.edu  ...  \\\n",
       "0            2.0   1 sibling       No      Illiterate  ...   \n",
       "1            2.0  3 siblings       No             NaN  ...   \n",
       "2            2.0  3 siblings       No  Degree & above  ...   \n",
       "3            2.0  3 siblings       No       Secondary  ...   \n",
       "4            2.0  2 siblings       No         Primary  ...   \n",
       "\n",
       "  Express.science.views     Watch.TV Read.magazine   Read.a.book   Play.games  \\\n",
       "0                 Agree    Every day         Never  Once a month  Once a week   \n",
       "1                 Agree  Once a week         Never         Never  Once a week   \n",
       "2                 Agree    Every day  Once a month  Once a month  Once a week   \n",
       "3                 Agree    Every day     Every day         Never    Every day   \n",
       "4               Neither        Never         Never  Once a month  Once a week   \n",
       "\n",
       "  Help.in.household Maths.. Reading.. Science.. Social..  \n",
       "0         Every day     NaN     33.33       NaN      NaN  \n",
       "1         Every day     NaN     62.07       NaN      NaN  \n",
       "2         Every day     NaN     41.38       NaN      NaN  \n",
       "3         Every day   29.82       NaN       NaN      NaN  \n",
       "4         Every day     NaN       NaN     27.27      NaN  \n",
       "\n",
       "[5 rows x 64 columns]"
      ]
     },
     "execution_count": 39,
     "metadata": {},
     "output_type": "execute_result"
    }
   ],
   "source": [
    "df5.head()"
   ]
  },
  {
   "cell_type": "code",
   "execution_count": 42,
   "metadata": {},
   "outputs": [
    {
     "data": {
      "text/plain": [
       "Index(['STUID', 'State', 'District', 'Gender', 'Age', 'Category',\n",
       "       'Same.language', 'Siblings', 'Handicap', 'Father.edu', 'Mother.edu',\n",
       "       'Father.occupation', 'Mother.occupation', 'Below.poverty',\n",
       "       'Use.calculator', 'Use.computer', 'Use.Internet', 'Use.dictionary',\n",
       "       'Read.other.books', 'X..Books', 'Distance', 'Computer.use',\n",
       "       'Library.use', 'Like.school', 'Subjects', 'Give.Lang.HW',\n",
       "       'Give.Math.HW', 'Give.Scie.HW', 'Give.SoSc.HW', 'Correct.Lang.HW',\n",
       "       'Correct.Math.HW', 'Correct.Scie.HW', 'Correct.SocS.HW',\n",
       "       'Help.in.Study', 'Private.tuition', 'English.is.difficult',\n",
       "       'Read.English', 'Dictionary.to.learn', 'Answer.English.WB',\n",
       "       'Answer.English.aloud', 'Maths.is.difficult', 'Solve.Maths',\n",
       "       'Solve.Maths.in.groups', 'Draw.geometry', 'Explain.answers',\n",
       "       'SocSci.is.difficult', 'Historical.excursions', 'Participate.in.SocSci',\n",
       "       'Small.groups.in.SocSci', 'Express.SocSci.views',\n",
       "       'Science.is.difficult', 'Observe.experiments', 'Conduct.experiments',\n",
       "       'Solve.science.problems', 'Express.science.views', 'Watch.TV',\n",
       "       'Read.magazine', 'Read.a.book', 'Play.games', 'Help.in.household',\n",
       "       'Maths..', 'Reading..', 'Science..', 'Social..'],\n",
       "      dtype='object')"
      ]
     },
     "execution_count": 42,
     "metadata": {},
     "output_type": "execute_result"
    }
   ],
   "source": [
    "df5.columns"
   ]
  },
  {
   "cell_type": "code",
   "execution_count": 43,
   "metadata": {},
   "outputs": [
    {
     "data": {
      "text/plain": [
       "0         Illiterate\n",
       "1         Illiterate\n",
       "2         Illiterate\n",
       "3          Secondary\n",
       "4         Illiterate\n",
       "            ...     \n",
       "8796       Secondary\n",
       "8797       Secondary\n",
       "8798       Secondary\n",
       "8799    Sr secondary\n",
       "8800       Secondary\n",
       "Name: Mother.edu, Length: 8801, dtype: object"
      ]
     },
     "execution_count": 43,
     "metadata": {},
     "output_type": "execute_result"
    }
   ],
   "source": [
    "df5['Mother.edu']"
   ]
  },
  {
   "cell_type": "code",
   "execution_count": 44,
   "metadata": {},
   "outputs": [
    {
     "data": {
      "text/plain": [
       "0        1 sibling\n",
       "1       3 siblings\n",
       "2       3 siblings\n",
       "3       3 siblings\n",
       "4       2 siblings\n",
       "           ...    \n",
       "8796     1 sibling\n",
       "8797    2 siblings\n",
       "8798     1 sibling\n",
       "8799     1 sibling\n",
       "8800     1 sibling\n",
       "Name: Siblings, Length: 8801, dtype: object"
      ]
     },
     "execution_count": 44,
     "metadata": {},
     "output_type": "execute_result"
    }
   ],
   "source": [
    "df5['Siblings']"
   ]
  },
  {
   "cell_type": "code",
   "execution_count": 47,
   "metadata": {},
   "outputs": [
    {
     "data": {
      "text/plain": [
       "2 siblings      923\n",
       "1 sibling       533\n",
       "3 siblings      532\n",
       "4+ siblings     469\n",
       "Single child     88\n",
       "Name: Siblings, dtype: int64"
      ]
     },
     "execution_count": 47,
     "metadata": {},
     "output_type": "execute_result"
    }
   ],
   "source": [
    "df5[df5['Mother.edu']=='Illiterate']['Siblings'].value_counts()"
   ]
  },
  {
   "cell_type": "code",
   "execution_count": 55,
   "metadata": {},
   "outputs": [],
   "source": [
    "df6 = df5.loc[:, ['Age', 'Science..', 'Father.edu']]"
   ]
  },
  {
   "cell_type": "code",
   "execution_count": 59,
   "metadata": {},
   "outputs": [],
   "source": [
    "df6 = df6[~df6['Science..'].isnull()]"
   ]
  },
  {
   "cell_type": "code",
   "execution_count": null,
   "metadata": {},
   "outputs": [],
   "source": [
    "df6 = df6[~df6['Science..'].isnull()]"
   ]
  },
  {
   "cell_type": "code",
   "execution_count": 69,
   "metadata": {},
   "outputs": [],
   "source": [
    "df6 = df6[~df6['Father.edu'].isnull()]"
   ]
  },
  {
   "cell_type": "code",
   "execution_count": 71,
   "metadata": {},
   "outputs": [],
   "source": [
    "df6 = df6[~df6['Age'].isin(['11- years'])]"
   ]
  },
  {
   "cell_type": "code",
   "execution_count": 73,
   "metadata": {},
   "outputs": [],
   "source": [
    "corr = df6.pivot_table(index='Father.edu', columns='Age', values='Science..')"
   ]
  },
  {
   "cell_type": "code",
   "execution_count": 74,
   "metadata": {},
   "outputs": [
    {
     "data": {
      "text/html": [
       "<div>\n",
       "<style scoped>\n",
       "    .dataframe tbody tr th:only-of-type {\n",
       "        vertical-align: middle;\n",
       "    }\n",
       "\n",
       "    .dataframe tbody tr th {\n",
       "        vertical-align: top;\n",
       "    }\n",
       "\n",
       "    .dataframe thead th {\n",
       "        text-align: right;\n",
       "    }\n",
       "</style>\n",
       "<table border=\"1\" class=\"dataframe\">\n",
       "  <thead>\n",
       "    <tr style=\"text-align: right;\">\n",
       "      <th>Age</th>\n",
       "      <th>12 years</th>\n",
       "      <th>13 years</th>\n",
       "      <th>14 years</th>\n",
       "      <th>15 years</th>\n",
       "      <th>16+ years</th>\n",
       "    </tr>\n",
       "    <tr>\n",
       "      <th>Father.edu</th>\n",
       "      <th></th>\n",
       "      <th></th>\n",
       "      <th></th>\n",
       "      <th></th>\n",
       "      <th></th>\n",
       "    </tr>\n",
       "  </thead>\n",
       "  <tbody>\n",
       "    <tr>\n",
       "      <th>Degree &amp; above</th>\n",
       "      <td>46.752857</td>\n",
       "      <td>44.805143</td>\n",
       "      <td>42.676944</td>\n",
       "      <td>29.090000</td>\n",
       "      <td>32.730000</td>\n",
       "    </tr>\n",
       "    <tr>\n",
       "      <th>Illiterate</th>\n",
       "      <td>29.870000</td>\n",
       "      <td>33.758968</td>\n",
       "      <td>35.319478</td>\n",
       "      <td>33.413333</td>\n",
       "      <td>33.116786</td>\n",
       "    </tr>\n",
       "    <tr>\n",
       "      <th>Primary</th>\n",
       "      <td>34.121667</td>\n",
       "      <td>37.617555</td>\n",
       "      <td>36.700267</td>\n",
       "      <td>35.162768</td>\n",
       "      <td>32.364000</td>\n",
       "    </tr>\n",
       "    <tr>\n",
       "      <th>Secondary</th>\n",
       "      <td>33.593810</td>\n",
       "      <td>38.164402</td>\n",
       "      <td>36.738859</td>\n",
       "      <td>32.872800</td>\n",
       "      <td>30.960000</td>\n",
       "    </tr>\n",
       "    <tr>\n",
       "      <th>Sr secondary</th>\n",
       "      <td>40.113750</td>\n",
       "      <td>39.046503</td>\n",
       "      <td>39.050278</td>\n",
       "      <td>38.615714</td>\n",
       "      <td>31.513333</td>\n",
       "    </tr>\n",
       "  </tbody>\n",
       "</table>\n",
       "</div>"
      ],
      "text/plain": [
       "Age              12 years   13 years   14 years   15 years  16+ years\n",
       "Father.edu                                                           \n",
       "Degree & above  46.752857  44.805143  42.676944  29.090000  32.730000\n",
       "Illiterate      29.870000  33.758968  35.319478  33.413333  33.116786\n",
       "Primary         34.121667  37.617555  36.700267  35.162768  32.364000\n",
       "Secondary       33.593810  38.164402  36.738859  32.872800  30.960000\n",
       "Sr secondary    40.113750  39.046503  39.050278  38.615714  31.513333"
      ]
     },
     "execution_count": 74,
     "metadata": {},
     "output_type": "execute_result"
    }
   ],
   "source": [
    "corr"
   ]
  },
  {
   "cell_type": "code",
   "execution_count": 75,
   "metadata": {},
   "outputs": [
    {
     "data": {
      "text/html": [
       "<style  type=\"text/css\" >\n",
       "    #T_c867b974_5e60_11eb_870b_516e0cca89e9row0_col0 {\n",
       "            background-color:  #b40426;\n",
       "            color:  #f1f1f1;\n",
       "        }    #T_c867b974_5e60_11eb_870b_516e0cca89e9row0_col1 {\n",
       "            background-color:  #b40426;\n",
       "            color:  #f1f1f1;\n",
       "        }    #T_c867b974_5e60_11eb_870b_516e0cca89e9row0_col2 {\n",
       "            background-color:  #b40426;\n",
       "            color:  #f1f1f1;\n",
       "        }    #T_c867b974_5e60_11eb_870b_516e0cca89e9row0_col3 {\n",
       "            background-color:  #3b4cc0;\n",
       "            color:  #f1f1f1;\n",
       "        }    #T_c867b974_5e60_11eb_870b_516e0cca89e9row0_col4 {\n",
       "            background-color:  #e97a5f;\n",
       "            color:  #000000;\n",
       "        }    #T_c867b974_5e60_11eb_870b_516e0cca89e9row1_col0 {\n",
       "            background-color:  #3b4cc0;\n",
       "            color:  #f1f1f1;\n",
       "        }    #T_c867b974_5e60_11eb_870b_516e0cca89e9row1_col1 {\n",
       "            background-color:  #3b4cc0;\n",
       "            color:  #f1f1f1;\n",
       "        }    #T_c867b974_5e60_11eb_870b_516e0cca89e9row1_col2 {\n",
       "            background-color:  #3b4cc0;\n",
       "            color:  #f1f1f1;\n",
       "        }    #T_c867b974_5e60_11eb_870b_516e0cca89e9row1_col3 {\n",
       "            background-color:  #d1dae9;\n",
       "            color:  #000000;\n",
       "        }    #T_c867b974_5e60_11eb_870b_516e0cca89e9row1_col4 {\n",
       "            background-color:  #b40426;\n",
       "            color:  #f1f1f1;\n",
       "        }    #T_c867b974_5e60_11eb_870b_516e0cca89e9row2_col0 {\n",
       "            background-color:  #8db0fe;\n",
       "            color:  #000000;\n",
       "        }    #T_c867b974_5e60_11eb_870b_516e0cca89e9row2_col1 {\n",
       "            background-color:  #afcafc;\n",
       "            color:  #000000;\n",
       "        }    #T_c867b974_5e60_11eb_870b_516e0cca89e9row2_col2 {\n",
       "            background-color:  #779af7;\n",
       "            color:  #000000;\n",
       "        }    #T_c867b974_5e60_11eb_870b_516e0cca89e9row2_col3 {\n",
       "            background-color:  #f5c0a7;\n",
       "            color:  #000000;\n",
       "        }    #T_c867b974_5e60_11eb_870b_516e0cca89e9row2_col4 {\n",
       "            background-color:  #f6bda2;\n",
       "            color:  #000000;\n",
       "        }    #T_c867b974_5e60_11eb_870b_516e0cca89e9row3_col0 {\n",
       "            background-color:  #82a6fb;\n",
       "            color:  #000000;\n",
       "        }    #T_c867b974_5e60_11eb_870b_516e0cca89e9row3_col1 {\n",
       "            background-color:  #c0d4f5;\n",
       "            color:  #000000;\n",
       "        }    #T_c867b974_5e60_11eb_870b_516e0cca89e9row3_col2 {\n",
       "            background-color:  #799cf8;\n",
       "            color:  #000000;\n",
       "        }    #T_c867b974_5e60_11eb_870b_516e0cca89e9row3_col3 {\n",
       "            background-color:  #bfd3f6;\n",
       "            color:  #000000;\n",
       "        }    #T_c867b974_5e60_11eb_870b_516e0cca89e9row3_col4 {\n",
       "            background-color:  #3b4cc0;\n",
       "            color:  #f1f1f1;\n",
       "        }    #T_c867b974_5e60_11eb_870b_516e0cca89e9row4_col0 {\n",
       "            background-color:  #f2c9b4;\n",
       "            color:  #000000;\n",
       "        }    #T_c867b974_5e60_11eb_870b_516e0cca89e9row4_col1 {\n",
       "            background-color:  #d7dce3;\n",
       "            color:  #000000;\n",
       "        }    #T_c867b974_5e60_11eb_870b_516e0cca89e9row4_col2 {\n",
       "            background-color:  #dedcdb;\n",
       "            color:  #000000;\n",
       "        }    #T_c867b974_5e60_11eb_870b_516e0cca89e9row4_col3 {\n",
       "            background-color:  #b40426;\n",
       "            color:  #f1f1f1;\n",
       "        }    #T_c867b974_5e60_11eb_870b_516e0cca89e9row4_col4 {\n",
       "            background-color:  #8fb1fe;\n",
       "            color:  #000000;\n",
       "        }</style><table id=\"T_c867b974_5e60_11eb_870b_516e0cca89e9\" ><thead>    <tr>        <th class=\"index_name level0\" >Age</th>        <th class=\"col_heading level0 col0\" >12 years</th>        <th class=\"col_heading level0 col1\" >13 years</th>        <th class=\"col_heading level0 col2\" >14 years</th>        <th class=\"col_heading level0 col3\" >15 years</th>        <th class=\"col_heading level0 col4\" >16+ years</th>    </tr>    <tr>        <th class=\"index_name level0\" >Father.edu</th>        <th class=\"blank\" ></th>        <th class=\"blank\" ></th>        <th class=\"blank\" ></th>        <th class=\"blank\" ></th>        <th class=\"blank\" ></th>    </tr></thead><tbody>\n",
       "                <tr>\n",
       "                        <th id=\"T_c867b974_5e60_11eb_870b_516e0cca89e9level0_row0\" class=\"row_heading level0 row0\" >Degree & above</th>\n",
       "                        <td id=\"T_c867b974_5e60_11eb_870b_516e0cca89e9row0_col0\" class=\"data row0 col0\" >46.752857</td>\n",
       "                        <td id=\"T_c867b974_5e60_11eb_870b_516e0cca89e9row0_col1\" class=\"data row0 col1\" >44.805143</td>\n",
       "                        <td id=\"T_c867b974_5e60_11eb_870b_516e0cca89e9row0_col2\" class=\"data row0 col2\" >42.676944</td>\n",
       "                        <td id=\"T_c867b974_5e60_11eb_870b_516e0cca89e9row0_col3\" class=\"data row0 col3\" >29.090000</td>\n",
       "                        <td id=\"T_c867b974_5e60_11eb_870b_516e0cca89e9row0_col4\" class=\"data row0 col4\" >32.730000</td>\n",
       "            </tr>\n",
       "            <tr>\n",
       "                        <th id=\"T_c867b974_5e60_11eb_870b_516e0cca89e9level0_row1\" class=\"row_heading level0 row1\" >Illiterate</th>\n",
       "                        <td id=\"T_c867b974_5e60_11eb_870b_516e0cca89e9row1_col0\" class=\"data row1 col0\" >29.870000</td>\n",
       "                        <td id=\"T_c867b974_5e60_11eb_870b_516e0cca89e9row1_col1\" class=\"data row1 col1\" >33.758968</td>\n",
       "                        <td id=\"T_c867b974_5e60_11eb_870b_516e0cca89e9row1_col2\" class=\"data row1 col2\" >35.319478</td>\n",
       "                        <td id=\"T_c867b974_5e60_11eb_870b_516e0cca89e9row1_col3\" class=\"data row1 col3\" >33.413333</td>\n",
       "                        <td id=\"T_c867b974_5e60_11eb_870b_516e0cca89e9row1_col4\" class=\"data row1 col4\" >33.116786</td>\n",
       "            </tr>\n",
       "            <tr>\n",
       "                        <th id=\"T_c867b974_5e60_11eb_870b_516e0cca89e9level0_row2\" class=\"row_heading level0 row2\" >Primary</th>\n",
       "                        <td id=\"T_c867b974_5e60_11eb_870b_516e0cca89e9row2_col0\" class=\"data row2 col0\" >34.121667</td>\n",
       "                        <td id=\"T_c867b974_5e60_11eb_870b_516e0cca89e9row2_col1\" class=\"data row2 col1\" >37.617555</td>\n",
       "                        <td id=\"T_c867b974_5e60_11eb_870b_516e0cca89e9row2_col2\" class=\"data row2 col2\" >36.700267</td>\n",
       "                        <td id=\"T_c867b974_5e60_11eb_870b_516e0cca89e9row2_col3\" class=\"data row2 col3\" >35.162768</td>\n",
       "                        <td id=\"T_c867b974_5e60_11eb_870b_516e0cca89e9row2_col4\" class=\"data row2 col4\" >32.364000</td>\n",
       "            </tr>\n",
       "            <tr>\n",
       "                        <th id=\"T_c867b974_5e60_11eb_870b_516e0cca89e9level0_row3\" class=\"row_heading level0 row3\" >Secondary</th>\n",
       "                        <td id=\"T_c867b974_5e60_11eb_870b_516e0cca89e9row3_col0\" class=\"data row3 col0\" >33.593810</td>\n",
       "                        <td id=\"T_c867b974_5e60_11eb_870b_516e0cca89e9row3_col1\" class=\"data row3 col1\" >38.164402</td>\n",
       "                        <td id=\"T_c867b974_5e60_11eb_870b_516e0cca89e9row3_col2\" class=\"data row3 col2\" >36.738859</td>\n",
       "                        <td id=\"T_c867b974_5e60_11eb_870b_516e0cca89e9row3_col3\" class=\"data row3 col3\" >32.872800</td>\n",
       "                        <td id=\"T_c867b974_5e60_11eb_870b_516e0cca89e9row3_col4\" class=\"data row3 col4\" >30.960000</td>\n",
       "            </tr>\n",
       "            <tr>\n",
       "                        <th id=\"T_c867b974_5e60_11eb_870b_516e0cca89e9level0_row4\" class=\"row_heading level0 row4\" >Sr secondary</th>\n",
       "                        <td id=\"T_c867b974_5e60_11eb_870b_516e0cca89e9row4_col0\" class=\"data row4 col0\" >40.113750</td>\n",
       "                        <td id=\"T_c867b974_5e60_11eb_870b_516e0cca89e9row4_col1\" class=\"data row4 col1\" >39.046503</td>\n",
       "                        <td id=\"T_c867b974_5e60_11eb_870b_516e0cca89e9row4_col2\" class=\"data row4 col2\" >39.050278</td>\n",
       "                        <td id=\"T_c867b974_5e60_11eb_870b_516e0cca89e9row4_col3\" class=\"data row4 col3\" >38.615714</td>\n",
       "                        <td id=\"T_c867b974_5e60_11eb_870b_516e0cca89e9row4_col4\" class=\"data row4 col4\" >31.513333</td>\n",
       "            </tr>\n",
       "    </tbody></table>"
      ],
      "text/plain": [
       "<pandas.io.formats.style.Styler at 0x7f6ea0d45950>"
      ]
     },
     "execution_count": 75,
     "metadata": {},
     "output_type": "execute_result"
    }
   ],
   "source": [
    "corr.style.background_gradient(cmap='coolwarm')"
   ]
  },
  {
   "cell_type": "code",
   "execution_count": null,
   "metadata": {},
   "outputs": [],
   "source": []
  }
 ],
 "metadata": {
  "kernelspec": {
   "display_name": "Python 3",
   "language": "python",
   "name": "python3"
  },
  "language_info": {
   "codemirror_mode": {
    "name": "ipython",
    "version": 3
   },
   "file_extension": ".py",
   "mimetype": "text/x-python",
   "name": "python",
   "nbconvert_exporter": "python",
   "pygments_lexer": "ipython3",
   "version": "3.7.6"
  }
 },
 "nbformat": 4,
 "nbformat_minor": 4
}
