{
 "cells": [
  {
   "cell_type": "markdown",
   "metadata": {},
   "source": [
    "# <font color=blue> All Imports </font>"
   ]
  },
  {
   "cell_type": "code",
   "execution_count": 6,
   "metadata": {},
   "outputs": [],
   "source": [
    "import os\n",
    "import pandas as pd\n",
    "import numpy as np\n",
    "import matplotlib.pyplot as plt\n",
    "import matplotlib.gridspec as gridspec\n",
    "import seaborn as sns\n",
    "import chardet\n",
    "import warnings\n",
    "warnings.filterwarnings('ignore')"
   ]
  },
  {
   "cell_type": "markdown",
   "metadata": {},
   "source": [
    "# <font color=blue> Checkpoint 1 </font>"
   ]
  },
  {
   "cell_type": "markdown",
   "metadata": {},
   "source": [
    "## Read companies.csv"
   ]
  },
  {
   "cell_type": "code",
   "execution_count": 7,
   "metadata": {
    "scrolled": true
   },
   "outputs": [
    {
     "data": {
      "text/html": [
       "<div>\n",
       "<style scoped>\n",
       "    .dataframe tbody tr th:only-of-type {\n",
       "        vertical-align: middle;\n",
       "    }\n",
       "\n",
       "    .dataframe tbody tr th {\n",
       "        vertical-align: top;\n",
       "    }\n",
       "\n",
       "    .dataframe thead th {\n",
       "        text-align: right;\n",
       "    }\n",
       "</style>\n",
       "<table border=\"1\" class=\"dataframe\">\n",
       "  <thead>\n",
       "    <tr style=\"text-align: right;\">\n",
       "      <th></th>\n",
       "      <th>permalink</th>\n",
       "      <th>name</th>\n",
       "      <th>homepage_url</th>\n",
       "      <th>category_list</th>\n",
       "      <th>status</th>\n",
       "      <th>country_code</th>\n",
       "      <th>state_code</th>\n",
       "      <th>region</th>\n",
       "      <th>city</th>\n",
       "      <th>founded_at</th>\n",
       "    </tr>\n",
       "  </thead>\n",
       "  <tbody>\n",
       "    <tr>\n",
       "      <th>66363</th>\n",
       "      <td>/Organization/Zznode-Science-And-Technology-Co...</td>\n",
       "      <td>ZZNode Science and Technology</td>\n",
       "      <td>http://www.zznode.com</td>\n",
       "      <td>Enterprise Software</td>\n",
       "      <td>operating</td>\n",
       "      <td>CHN</td>\n",
       "      <td>22</td>\n",
       "      <td>Beijing</td>\n",
       "      <td>Beijing</td>\n",
       "      <td>NaN</td>\n",
       "    </tr>\n",
       "    <tr>\n",
       "      <th>66364</th>\n",
       "      <td>/Organization/Zzzzapp-Com</td>\n",
       "      <td>Zzzzapp Wireless ltd.</td>\n",
       "      <td>http://www.zzzzapp.com</td>\n",
       "      <td>Advertising|Mobile|Web Development|Wireless</td>\n",
       "      <td>operating</td>\n",
       "      <td>HRV</td>\n",
       "      <td>15</td>\n",
       "      <td>Split</td>\n",
       "      <td>Split</td>\n",
       "      <td>13-05-2012</td>\n",
       "    </tr>\n",
       "    <tr>\n",
       "      <th>66365</th>\n",
       "      <td>/Organization/ÃEron</td>\n",
       "      <td>ÃERON</td>\n",
       "      <td>http://www.aeron.hu/</td>\n",
       "      <td>NaN</td>\n",
       "      <td>operating</td>\n",
       "      <td>NaN</td>\n",
       "      <td>NaN</td>\n",
       "      <td>NaN</td>\n",
       "      <td>NaN</td>\n",
       "      <td>01-01-2011</td>\n",
       "    </tr>\n",
       "    <tr>\n",
       "      <th>66366</th>\n",
       "      <td>/Organization/Ã”Asys-2</td>\n",
       "      <td>Ã”asys</td>\n",
       "      <td>http://www.oasys.io/</td>\n",
       "      <td>Consumer Electronics|Internet of Things|Teleco...</td>\n",
       "      <td>operating</td>\n",
       "      <td>USA</td>\n",
       "      <td>CA</td>\n",
       "      <td>SF Bay Area</td>\n",
       "      <td>San Francisco</td>\n",
       "      <td>01-01-2014</td>\n",
       "    </tr>\n",
       "    <tr>\n",
       "      <th>66367</th>\n",
       "      <td>/Organization/Ä°Novatiff-Reklam-Ve-Tanä±Tä±M-H...</td>\n",
       "      <td>Ä°novatiff Reklam ve TanÄ±tÄ±m Hizmetleri Tic</td>\n",
       "      <td>http://inovatiff.com</td>\n",
       "      <td>Consumer Goods|E-Commerce|Internet</td>\n",
       "      <td>operating</td>\n",
       "      <td>NaN</td>\n",
       "      <td>NaN</td>\n",
       "      <td>NaN</td>\n",
       "      <td>NaN</td>\n",
       "      <td>NaN</td>\n",
       "    </tr>\n",
       "  </tbody>\n",
       "</table>\n",
       "</div>"
      ],
      "text/plain": [
       "                                               permalink  \\\n",
       "66363  /Organization/Zznode-Science-And-Technology-Co...   \n",
       "66364                          /Organization/Zzzzapp-Com   \n",
       "66365                               /Organization/ÃEron   \n",
       "66366                             /Organization/Ã”Asys-2   \n",
       "66367  /Organization/Ä°Novatiff-Reklam-Ve-Tanä±Tä±M-H...   \n",
       "\n",
       "                                                name            homepage_url  \\\n",
       "66363                  ZZNode Science and Technology   http://www.zznode.com   \n",
       "66364                          Zzzzapp Wireless ltd.  http://www.zzzzapp.com   \n",
       "66365                                         ÃERON    http://www.aeron.hu/   \n",
       "66366                                         Ã”asys    http://www.oasys.io/   \n",
       "66367  Ä°novatiff Reklam ve TanÄ±tÄ±m Hizmetleri Tic    http://inovatiff.com   \n",
       "\n",
       "                                           category_list     status  \\\n",
       "66363                                Enterprise Software  operating   \n",
       "66364        Advertising|Mobile|Web Development|Wireless  operating   \n",
       "66365                                                NaN  operating   \n",
       "66366  Consumer Electronics|Internet of Things|Teleco...  operating   \n",
       "66367                 Consumer Goods|E-Commerce|Internet  operating   \n",
       "\n",
       "      country_code state_code       region           city  founded_at  \n",
       "66363          CHN         22      Beijing        Beijing         NaN  \n",
       "66364          HRV         15        Split          Split  13-05-2012  \n",
       "66365          NaN        NaN          NaN            NaN  01-01-2011  \n",
       "66366          USA         CA  SF Bay Area  San Francisco  01-01-2014  \n",
       "66367          NaN        NaN          NaN            NaN         NaN  "
      ]
     },
     "execution_count": 7,
     "metadata": {},
     "output_type": "execute_result"
    }
   ],
   "source": [
    "companies = pd.read_csv('companies.csv',  encoding ='palmos')\n",
    "companies.tail()"
   ]
  },
  {
   "cell_type": "markdown",
   "metadata": {},
   "source": [
    "## Number of records"
   ]
  },
  {
   "cell_type": "code",
   "execution_count": 8,
   "metadata": {},
   "outputs": [
    {
     "data": {
      "text/plain": [
       "(66368, 10)"
      ]
     },
     "execution_count": 8,
     "metadata": {},
     "output_type": "execute_result"
    }
   ],
   "source": [
    "companies.shape"
   ]
  },
  {
   "cell_type": "markdown",
   "metadata": {},
   "source": [
    "## Create a copy"
   ]
  },
  {
   "cell_type": "code",
   "execution_count": 9,
   "metadata": {},
   "outputs": [],
   "source": [
    "companies_cp = companies.copy()"
   ]
  },
  {
   "cell_type": "markdown",
   "metadata": {},
   "source": [
    "## Check unique companies in permalink column"
   ]
  },
  {
   "cell_type": "code",
   "execution_count": 10,
   "metadata": {},
   "outputs": [],
   "source": [
    "companies_cp.permalink = companies_cp.permalink.str.lower()"
   ]
  },
  {
   "cell_type": "code",
   "execution_count": 11,
   "metadata": {},
   "outputs": [
    {
     "data": {
      "text/plain": [
       "66368"
      ]
     },
     "execution_count": 11,
     "metadata": {},
     "output_type": "execute_result"
    }
   ],
   "source": [
    "len(companies_cp.permalink.unique())"
   ]
  },
  {
   "cell_type": "markdown",
   "metadata": {},
   "source": [
    "## Read rounds2 csv"
   ]
  },
  {
   "cell_type": "code",
   "execution_count": 12,
   "metadata": {
    "scrolled": false
   },
   "outputs": [
    {
     "data": {
      "text/html": [
       "<div>\n",
       "<style scoped>\n",
       "    .dataframe tbody tr th:only-of-type {\n",
       "        vertical-align: middle;\n",
       "    }\n",
       "\n",
       "    .dataframe tbody tr th {\n",
       "        vertical-align: top;\n",
       "    }\n",
       "\n",
       "    .dataframe thead th {\n",
       "        text-align: right;\n",
       "    }\n",
       "</style>\n",
       "<table border=\"1\" class=\"dataframe\">\n",
       "  <thead>\n",
       "    <tr style=\"text-align: right;\">\n",
       "      <th></th>\n",
       "      <th>company_permalink</th>\n",
       "      <th>funding_round_permalink</th>\n",
       "      <th>funding_round_type</th>\n",
       "      <th>funding_round_code</th>\n",
       "      <th>funded_at</th>\n",
       "      <th>raised_amount_usd</th>\n",
       "    </tr>\n",
       "  </thead>\n",
       "  <tbody>\n",
       "    <tr>\n",
       "      <th>114944</th>\n",
       "      <td>/organization/zzzzapp-com</td>\n",
       "      <td>/funding-round/8f6d25b8ee4199e586484d817bceda05</td>\n",
       "      <td>convertible_note</td>\n",
       "      <td>NaN</td>\n",
       "      <td>01-03-2014</td>\n",
       "      <td>41313.0</td>\n",
       "    </tr>\n",
       "    <tr>\n",
       "      <th>114945</th>\n",
       "      <td>/ORGANIZATION/ZZZZAPP-COM</td>\n",
       "      <td>/funding-round/ff1aa06ed5da186c84f101549035d4ae</td>\n",
       "      <td>seed</td>\n",
       "      <td>NaN</td>\n",
       "      <td>01-05-2013</td>\n",
       "      <td>32842.0</td>\n",
       "    </tr>\n",
       "    <tr>\n",
       "      <th>114946</th>\n",
       "      <td>/organization/ãeron</td>\n",
       "      <td>/funding-round/59f4dce44723b794f21ded3daed6e4fe</td>\n",
       "      <td>venture</td>\n",
       "      <td>A</td>\n",
       "      <td>01-08-2014</td>\n",
       "      <td>NaN</td>\n",
       "    </tr>\n",
       "    <tr>\n",
       "      <th>114947</th>\n",
       "      <td>/ORGANIZATION/Ã”ASYS-2</td>\n",
       "      <td>/funding-round/35f09d0794651719b02bbfd859ba9ff5</td>\n",
       "      <td>seed</td>\n",
       "      <td>NaN</td>\n",
       "      <td>01-01-2015</td>\n",
       "      <td>18192.0</td>\n",
       "    </tr>\n",
       "    <tr>\n",
       "      <th>114948</th>\n",
       "      <td>/organization/ä°novatiff-reklam-ve-tanä±tä±m-h...</td>\n",
       "      <td>/funding-round/af942869878d2cd788ef5189b435ebc4</td>\n",
       "      <td>grant</td>\n",
       "      <td>NaN</td>\n",
       "      <td>01-10-2013</td>\n",
       "      <td>14851.0</td>\n",
       "    </tr>\n",
       "  </tbody>\n",
       "</table>\n",
       "</div>"
      ],
      "text/plain": [
       "                                        company_permalink  \\\n",
       "114944                          /organization/zzzzapp-com   \n",
       "114945                          /ORGANIZATION/ZZZZAPP-COM   \n",
       "114946                               /organization/ãeron   \n",
       "114947                             /ORGANIZATION/Ã”ASYS-2   \n",
       "114948  /organization/ä°novatiff-reklam-ve-tanä±tä±m-h...   \n",
       "\n",
       "                                funding_round_permalink funding_round_type  \\\n",
       "114944  /funding-round/8f6d25b8ee4199e586484d817bceda05   convertible_note   \n",
       "114945  /funding-round/ff1aa06ed5da186c84f101549035d4ae               seed   \n",
       "114946  /funding-round/59f4dce44723b794f21ded3daed6e4fe            venture   \n",
       "114947  /funding-round/35f09d0794651719b02bbfd859ba9ff5               seed   \n",
       "114948  /funding-round/af942869878d2cd788ef5189b435ebc4              grant   \n",
       "\n",
       "       funding_round_code   funded_at  raised_amount_usd  \n",
       "114944                NaN  01-03-2014            41313.0  \n",
       "114945                NaN  01-05-2013            32842.0  \n",
       "114946                  A  01-08-2014                NaN  \n",
       "114947                NaN  01-01-2015            18192.0  \n",
       "114948                NaN  01-10-2013            14851.0  "
      ]
     },
     "execution_count": 12,
     "metadata": {},
     "output_type": "execute_result"
    }
   ],
   "source": [
    "rounds2 = pd.read_csv('rounds2.csv', encoding='palmos')\n",
    "rounds2.tail()"
   ]
  },
  {
   "cell_type": "markdown",
   "metadata": {},
   "source": [
    "## number of records"
   ]
  },
  {
   "cell_type": "code",
   "execution_count": 13,
   "metadata": {},
   "outputs": [
    {
     "data": {
      "text/plain": [
       "(114949, 6)"
      ]
     },
     "execution_count": 13,
     "metadata": {},
     "output_type": "execute_result"
    }
   ],
   "source": [
    "rounds2.shape"
   ]
  },
  {
   "cell_type": "markdown",
   "metadata": {},
   "source": [
    "## create a copy"
   ]
  },
  {
   "cell_type": "code",
   "execution_count": 14,
   "metadata": {},
   "outputs": [],
   "source": [
    "rounds2_cp = rounds2.copy()"
   ]
  },
  {
   "cell_type": "markdown",
   "metadata": {},
   "source": [
    "## Check for unique companies in company_permalink"
   ]
  },
  {
   "cell_type": "code",
   "execution_count": 15,
   "metadata": {},
   "outputs": [],
   "source": [
    "rounds2_cp.company_permalink = rounds2_cp.company_permalink.str.lower()"
   ]
  },
  {
   "cell_type": "code",
   "execution_count": 16,
   "metadata": {},
   "outputs": [
    {
     "data": {
      "text/plain": [
       "66368"
      ]
     },
     "execution_count": 16,
     "metadata": {},
     "output_type": "execute_result"
    }
   ],
   "source": [
    "len(rounds2_cp.company_permalink.unique())"
   ]
  },
  {
   "cell_type": "markdown",
   "metadata": {},
   "source": [
    "## extract extra companies in rounds2"
   ]
  },
  {
   "cell_type": "code",
   "execution_count": 17,
   "metadata": {},
   "outputs": [],
   "source": [
    "other_companies = rounds2_cp[~rounds2_cp.company_permalink.isin(companies_cp.permalink)]"
   ]
  },
  {
   "cell_type": "code",
   "execution_count": 18,
   "metadata": {},
   "outputs": [
    {
     "data": {
      "text/plain": [
       "0"
      ]
     },
     "execution_count": 18,
     "metadata": {},
     "output_type": "execute_result"
    }
   ],
   "source": [
    "len(other_companies)"
   ]
  },
  {
   "cell_type": "markdown",
   "metadata": {},
   "source": [
    "### Merge to master_frame"
   ]
  },
  {
   "cell_type": "code",
   "execution_count": 19,
   "metadata": {
    "scrolled": true
   },
   "outputs": [],
   "source": [
    "master_frame = pd.merge(companies_cp, rounds2_cp, how='inner', left_on='permalink', right_on='company_permalink')"
   ]
  },
  {
   "cell_type": "markdown",
   "metadata": {},
   "source": [
    "### Drop duplicate column"
   ]
  },
  {
   "cell_type": "code",
   "execution_count": 20,
   "metadata": {},
   "outputs": [],
   "source": [
    "master_frame = master_frame.drop(['company_permalink'], axis=1)"
   ]
  },
  {
   "cell_type": "markdown",
   "metadata": {},
   "source": [
    "### Number of records in master data frame"
   ]
  },
  {
   "cell_type": "code",
   "execution_count": 21,
   "metadata": {},
   "outputs": [
    {
     "data": {
      "text/plain": [
       "(114949, 15)"
      ]
     },
     "execution_count": 21,
     "metadata": {},
     "output_type": "execute_result"
    }
   ],
   "source": [
    "master_frame.shape"
   ]
  },
  {
   "cell_type": "markdown",
   "metadata": {},
   "source": [
    "## Data preprocessing"
   ]
  },
  {
   "cell_type": "markdown",
   "metadata": {},
   "source": [
    "### Create a copy"
   ]
  },
  {
   "cell_type": "code",
   "execution_count": 1549,
   "metadata": {},
   "outputs": [],
   "source": [
    "master_frame_raw = master_frame.copy()"
   ]
  },
  {
   "cell_type": "markdown",
   "metadata": {},
   "source": [
    "### Find if all values in a row are NULL"
   ]
  },
  {
   "cell_type": "code",
   "execution_count": 1550,
   "metadata": {},
   "outputs": [
    {
     "data": {
      "text/html": [
       "<div>\n",
       "<style scoped>\n",
       "    .dataframe tbody tr th:only-of-type {\n",
       "        vertical-align: middle;\n",
       "    }\n",
       "\n",
       "    .dataframe tbody tr th {\n",
       "        vertical-align: top;\n",
       "    }\n",
       "\n",
       "    .dataframe thead th {\n",
       "        text-align: right;\n",
       "    }\n",
       "</style>\n",
       "<table border=\"1\" class=\"dataframe\">\n",
       "  <thead>\n",
       "    <tr style=\"text-align: right;\">\n",
       "      <th></th>\n",
       "      <th>permalink</th>\n",
       "      <th>name</th>\n",
       "      <th>homepage_url</th>\n",
       "      <th>category_list</th>\n",
       "      <th>status</th>\n",
       "      <th>country_code</th>\n",
       "      <th>state_code</th>\n",
       "      <th>region</th>\n",
       "      <th>city</th>\n",
       "      <th>founded_at</th>\n",
       "      <th>funding_round_permalink</th>\n",
       "      <th>funding_round_type</th>\n",
       "      <th>funding_round_code</th>\n",
       "      <th>funded_at</th>\n",
       "      <th>raised_amount_usd</th>\n",
       "    </tr>\n",
       "  </thead>\n",
       "  <tbody>\n",
       "  </tbody>\n",
       "</table>\n",
       "</div>"
      ],
      "text/plain": [
       "Empty DataFrame\n",
       "Columns: [permalink, name, homepage_url, category_list, status, country_code, state_code, region, city, founded_at, funding_round_permalink, funding_round_type, funding_round_code, funded_at, raised_amount_usd]\n",
       "Index: []"
      ]
     },
     "execution_count": 1550,
     "metadata": {},
     "output_type": "execute_result"
    }
   ],
   "source": [
    "master_frame[master_frame.isnull().all(1)]"
   ]
  },
  {
   "cell_type": "markdown",
   "metadata": {},
   "source": [
    "### Find NULLs in columns"
   ]
  },
  {
   "cell_type": "code",
   "execution_count": 1551,
   "metadata": {},
   "outputs": [
    {
     "data": {
      "text/plain": [
       "permalink                   0.00\n",
       "name                        0.00\n",
       "homepage_url                5.34\n",
       "category_list               2.97\n",
       "status                      0.00\n",
       "country_code                7.55\n",
       "state_code                  9.52\n",
       "region                      8.84\n",
       "city                        8.84\n",
       "founded_at                 17.85\n",
       "funding_round_permalink     0.00\n",
       "funding_round_type          0.00\n",
       "funding_round_code         72.91\n",
       "funded_at                   0.00\n",
       "raised_amount_usd          17.39\n",
       "dtype: float64"
      ]
     },
     "execution_count": 1551,
     "metadata": {},
     "output_type": "execute_result"
    }
   ],
   "source": [
    "round(master_frame.isnull().sum().apply(lambda x: (x/master_frame.shape[0])*100), 2)"
   ]
  },
  {
   "cell_type": "markdown",
   "metadata": {},
   "source": [
    "### Drop the columns with many NULLs and other unuseful columns for analysis"
   ]
  },
  {
   "cell_type": "code",
   "execution_count": 1552,
   "metadata": {},
   "outputs": [],
   "source": [
    "master_frame = master_frame.drop('funding_round_code', axis=1)\n",
    "master_frame = master_frame.drop('founded_at', axis=1)\n",
    "master_frame = master_frame.drop('homepage_url', axis=1)\n",
    "master_frame = master_frame.drop('state_code', axis=1)\n",
    "master_frame = master_frame.drop('city', axis=1)\n",
    "master_frame = master_frame.drop('region', axis=1)"
   ]
  },
  {
   "cell_type": "markdown",
   "metadata": {},
   "source": [
    "### Drop the rows with no 'raised_amount_usd' since its about 17% and not useful"
   ]
  },
  {
   "cell_type": "markdown",
   "metadata": {},
   "source": [
    "### These NULLs in 'raised_amount_usd' will get filtered with condition 5-15 million if imputed with zeroes and will not help with median imputting too"
   ]
  },
  {
   "cell_type": "code",
   "execution_count": 1553,
   "metadata": {},
   "outputs": [],
   "source": [
    "master_frame = master_frame[~master_frame.raised_amount_usd.isnull()]"
   ]
  },
  {
   "cell_type": "markdown",
   "metadata": {},
   "source": [
    "### Drop the 'category_list' with nulls since its about 3% and not useful"
   ]
  },
  {
   "cell_type": "markdown",
   "metadata": {},
   "source": [
    "### These categories shall be mapped to Blanks anyways in the future which is not useful"
   ]
  },
  {
   "cell_type": "code",
   "execution_count": 1554,
   "metadata": {},
   "outputs": [],
   "source": [
    "master_frame = master_frame[~master_frame.category_list.isnull()]"
   ]
  },
  {
   "cell_type": "markdown",
   "metadata": {},
   "source": [
    "### Lets impute values to NULLs in country_code as 'UNK' for 'unknown'"
   ]
  },
  {
   "cell_type": "code",
   "execution_count": 1555,
   "metadata": {},
   "outputs": [],
   "source": [
    "master_frame.country_code = master_frame.country_code.fillna('UNK')"
   ]
  },
  {
   "cell_type": "code",
   "execution_count": 1556,
   "metadata": {},
   "outputs": [
    {
     "data": {
      "text/plain": [
       "permalink                  0.0\n",
       "name                       0.0\n",
       "category_list              0.0\n",
       "status                     0.0\n",
       "country_code               0.0\n",
       "funding_round_permalink    0.0\n",
       "funding_round_type         0.0\n",
       "funded_at                  0.0\n",
       "raised_amount_usd          0.0\n",
       "dtype: float64"
      ]
     },
     "execution_count": 1556,
     "metadata": {},
     "output_type": "execute_result"
    }
   ],
   "source": [
    "round(master_frame.isnull().sum().apply(lambda x: (x/master_frame.shape[0])*100), 2)"
   ]
  },
  {
   "cell_type": "markdown",
   "metadata": {},
   "source": [
    "### Percentage of data lost"
   ]
  },
  {
   "cell_type": "code",
   "execution_count": 1557,
   "metadata": {},
   "outputs": [
    {
     "data": {
      "text/plain": [
       "18.298549791646735"
      ]
     },
     "execution_count": 1557,
     "metadata": {},
     "output_type": "execute_result"
    }
   ],
   "source": [
    "(1-(master_frame.shape[0]/master_frame_raw.shape[0]))*100"
   ]
  },
  {
   "cell_type": "code",
   "execution_count": 1558,
   "metadata": {},
   "outputs": [
    {
     "data": {
      "text/html": [
       "<div>\n",
       "<style scoped>\n",
       "    .dataframe tbody tr th:only-of-type {\n",
       "        vertical-align: middle;\n",
       "    }\n",
       "\n",
       "    .dataframe tbody tr th {\n",
       "        vertical-align: top;\n",
       "    }\n",
       "\n",
       "    .dataframe thead th {\n",
       "        text-align: right;\n",
       "    }\n",
       "</style>\n",
       "<table border=\"1\" class=\"dataframe\">\n",
       "  <thead>\n",
       "    <tr style=\"text-align: right;\">\n",
       "      <th></th>\n",
       "      <th>permalink</th>\n",
       "      <th>name</th>\n",
       "      <th>category_list</th>\n",
       "      <th>status</th>\n",
       "      <th>country_code</th>\n",
       "      <th>funding_round_permalink</th>\n",
       "      <th>funding_round_type</th>\n",
       "      <th>funded_at</th>\n",
       "      <th>raised_amount_usd</th>\n",
       "    </tr>\n",
       "  </thead>\n",
       "  <tbody>\n",
       "    <tr>\n",
       "      <th>0</th>\n",
       "      <td>/organization/-fame</td>\n",
       "      <td>#fame</td>\n",
       "      <td>Media</td>\n",
       "      <td>operating</td>\n",
       "      <td>IND</td>\n",
       "      <td>/funding-round/9a01d05418af9f794eebff7ace91f638</td>\n",
       "      <td>venture</td>\n",
       "      <td>05-01-2015</td>\n",
       "      <td>10000000.0</td>\n",
       "    </tr>\n",
       "    <tr>\n",
       "      <th>2</th>\n",
       "      <td>/organization/-qounter</td>\n",
       "      <td>:Qounter</td>\n",
       "      <td>Application Platforms|Real Time|Social Network...</td>\n",
       "      <td>operating</td>\n",
       "      <td>USA</td>\n",
       "      <td>/funding-round/b44fbb94153f6cdef13083530bb48030</td>\n",
       "      <td>seed</td>\n",
       "      <td>01-03-2014</td>\n",
       "      <td>700000.0</td>\n",
       "    </tr>\n",
       "    <tr>\n",
       "      <th>3</th>\n",
       "      <td>/organization/-the-one-of-them-inc-</td>\n",
       "      <td>(THE) ONE of THEM,Inc.</td>\n",
       "      <td>Apps|Games|Mobile</td>\n",
       "      <td>operating</td>\n",
       "      <td>UNK</td>\n",
       "      <td>/funding-round/650b8f704416801069bb178a1418776b</td>\n",
       "      <td>venture</td>\n",
       "      <td>30-01-2014</td>\n",
       "      <td>3406878.0</td>\n",
       "    </tr>\n",
       "    <tr>\n",
       "      <th>4</th>\n",
       "      <td>/organization/0-6-com</td>\n",
       "      <td>0-6.com</td>\n",
       "      <td>Curated Web</td>\n",
       "      <td>operating</td>\n",
       "      <td>CHN</td>\n",
       "      <td>/funding-round/5727accaeaa57461bd22a9bdd945382d</td>\n",
       "      <td>venture</td>\n",
       "      <td>19-03-2008</td>\n",
       "      <td>2000000.0</td>\n",
       "    </tr>\n",
       "    <tr>\n",
       "      <th>6</th>\n",
       "      <td>/organization/01games-technology</td>\n",
       "      <td>01Games Technology</td>\n",
       "      <td>Games</td>\n",
       "      <td>operating</td>\n",
       "      <td>HKG</td>\n",
       "      <td>/funding-round/7d53696f2b4f607a2f2a8cbb83d01839</td>\n",
       "      <td>undisclosed</td>\n",
       "      <td>01-07-2014</td>\n",
       "      <td>41250.0</td>\n",
       "    </tr>\n",
       "  </tbody>\n",
       "</table>\n",
       "</div>"
      ],
      "text/plain": [
       "                             permalink                    name  \\\n",
       "0                  /organization/-fame                   #fame   \n",
       "2               /organization/-qounter                :Qounter   \n",
       "3  /organization/-the-one-of-them-inc-  (THE) ONE of THEM,Inc.   \n",
       "4                /organization/0-6-com                 0-6.com   \n",
       "6     /organization/01games-technology      01Games Technology   \n",
       "\n",
       "                                       category_list     status country_code  \\\n",
       "0                                              Media  operating          IND   \n",
       "2  Application Platforms|Real Time|Social Network...  operating          USA   \n",
       "3                                  Apps|Games|Mobile  operating          UNK   \n",
       "4                                        Curated Web  operating          CHN   \n",
       "6                                              Games  operating          HKG   \n",
       "\n",
       "                           funding_round_permalink funding_round_type  \\\n",
       "0  /funding-round/9a01d05418af9f794eebff7ace91f638            venture   \n",
       "2  /funding-round/b44fbb94153f6cdef13083530bb48030               seed   \n",
       "3  /funding-round/650b8f704416801069bb178a1418776b            venture   \n",
       "4  /funding-round/5727accaeaa57461bd22a9bdd945382d            venture   \n",
       "6  /funding-round/7d53696f2b4f607a2f2a8cbb83d01839        undisclosed   \n",
       "\n",
       "    funded_at  raised_amount_usd  \n",
       "0  05-01-2015         10000000.0  \n",
       "2  01-03-2014           700000.0  \n",
       "3  30-01-2014          3406878.0  \n",
       "4  19-03-2008          2000000.0  \n",
       "6  01-07-2014            41250.0  "
      ]
     },
     "execution_count": 1558,
     "metadata": {},
     "output_type": "execute_result"
    }
   ],
   "source": [
    "master_frame.head()"
   ]
  },
  {
   "cell_type": "code",
   "execution_count": 1559,
   "metadata": {},
   "outputs": [
    {
     "data": {
      "text/plain": [
       "(93915, 9)"
      ]
     },
     "execution_count": 1559,
     "metadata": {},
     "output_type": "execute_result"
    }
   ],
   "source": [
    "master_frame.shape"
   ]
  },
  {
   "cell_type": "markdown",
   "metadata": {},
   "source": [
    "## <font color=blue> Checkpoint 2 </font>"
   ]
  },
  {
   "cell_type": "markdown",
   "metadata": {},
   "source": [
    "### Create copy"
   ]
  },
  {
   "cell_type": "code",
   "execution_count": 1560,
   "metadata": {},
   "outputs": [],
   "source": [
    "master_frame_cp = master_frame.copy()"
   ]
  },
  {
   "cell_type": "markdown",
   "metadata": {},
   "source": [
    "### Take only 4 types of funding"
   ]
  },
  {
   "cell_type": "code",
   "execution_count": 1561,
   "metadata": {},
   "outputs": [],
   "source": [
    "master_frame_cp = master_frame_cp[master_frame_cp.funding_round_type.isin(['venture', 'seed', 'angel', 'private_equity'])]"
   ]
  },
  {
   "cell_type": "markdown",
   "metadata": {},
   "source": [
    "### Check for Outliers"
   ]
  },
  {
   "cell_type": "code",
   "execution_count": 1562,
   "metadata": {
    "scrolled": true
   },
   "outputs": [
    {
     "data": {
      "text/plain": [
       "funding_round_type\n",
       "private_equity    20000000.0\n",
       "venture            5000000.0\n",
       "angel               400000.0\n",
       "seed                277240.0\n",
       "Name: raised_amount_usd, dtype: float64"
      ]
     },
     "execution_count": 1562,
     "metadata": {},
     "output_type": "execute_result"
    }
   ],
   "source": [
    "round(master_frame_cp.groupby('funding_round_type').raised_amount_usd.median(),2).sort_values(ascending=False)"
   ]
  },
  {
   "cell_type": "code",
   "execution_count": 1563,
   "metadata": {},
   "outputs": [
    {
     "data": {
      "image/png": "[encoded data removed]",
      "text/plain": [
       "<Figure size 720x504 with 1 Axes>"
      ]
     },
     "metadata": {
      "needs_background": "light"
     },
     "output_type": "display_data"
    }
   ],
   "source": [
    "plt.figure(figsize=(10,7))\n",
    "sns.boxplot(data=master_frame_cp, x='funding_round_type', y='raised_amount_usd')\n",
    "plt.show()"
   ]
  },
  {
   "cell_type": "markdown",
   "metadata": {},
   "source": [
    "### Individual Boxplots without Outliers"
   ]
  },
  {
   "cell_type": "code",
   "execution_count": 1565,
   "metadata": {},
   "outputs": [
    {
     "data": {
      "image/png": "[encoded data removed]",
      "text/plain": [
       "<Figure size 432x288 with 1 Axes>"
      ]
     },
     "metadata": {
      "needs_background": "light"
     },
     "output_type": "display_data"
    }
   ],
   "source": [
    "plt.title('private_equity boxplot')\n",
    "sns.boxplot(master_frame_cp[master_frame_cp.funding_round_type.isin(['private_equity'])].raised_amount_usd, showfliers=False)\n",
    "plt.show()"
   ]
  },
  {
   "cell_type": "code",
   "execution_count": 1566,
   "metadata": {},
   "outputs": [
    {
     "data": {
      "image/png": "[encoded data removed]",
      "text/plain": [
       "<Figure size 432x288 with 1 Axes>"
      ]
     },
     "metadata": {
      "needs_background": "light"
     },
     "output_type": "display_data"
    }
   ],
   "source": [
    "plt.title('venture boxplot')\n",
    "sns.boxplot(master_frame_cp[master_frame_cp.funding_round_type.isin(['venture'])].raised_amount_usd, showfliers=False)\n",
    "plt.show()"
   ]
  },
  {
   "cell_type": "code",
   "execution_count": 1567,
   "metadata": {},
   "outputs": [
    {
     "data": {
      "image/png": "[encoded data removed]",
      "text/plain": [
       "<Figure size 432x288 with 1 Axes>"
      ]
     },
     "metadata": {
      "needs_background": "light"
     },
     "output_type": "display_data"
    }
   ],
   "source": [
    "plt.title('seed boxplot')\n",
    "sns.boxplot(master_frame_cp[master_frame_cp.funding_round_type.isin(['seed'])].raised_amount_usd, showfliers=False)\n",
    "plt.show()"
   ]
  },
  {
   "cell_type": "code",
   "execution_count": 1568,
   "metadata": {},
   "outputs": [
    {
     "data": {
      "image/png": "[encoded data removed]",
      "text/plain": [
       "<Figure size 432x288 with 1 Axes>"
      ]
     },
     "metadata": {
      "needs_background": "light"
     },
     "output_type": "display_data"
    }
   ],
   "source": [
    "plt.title('angel boxplot')\n",
    "sns.boxplot(master_frame_cp[master_frame_cp.funding_round_type.isin(['angel'])].raised_amount_usd, showfliers=False)\n",
    "plt.show()"
   ]
  },
  {
   "cell_type": "markdown",
   "metadata": {},
   "source": [
    "## Remove Outliers and estimate Mean"
   ]
  },
  {
   "cell_type": "code",
   "execution_count": 1569,
   "metadata": {},
   "outputs": [],
   "source": [
    "private_equity_type = master_frame_cp[master_frame_cp.funding_round_type.isin(['private_equity'])].raised_amount_usd\n",
    "Q1 = private_equity_type.quantile(0.25)\n",
    "Q3 = private_equity_type.quantile(0.75)\n",
    "IQR = Q3 - Q1\n",
    "private_equity_mean = round(private_equity_type[(private_equity_type >= (Q1 - 1.5 * IQR)) & (private_equity_type <= (Q3 + 1.5 * IQR))].mean(), 2)\n",
    "private_equity_type = private_equity_type[(private_equity_type >= (Q1 - 1.5 * IQR)) & (private_equity_type <= (Q3 + 1.5 * IQR))]"
   ]
  },
  {
   "cell_type": "code",
   "execution_count": 1570,
   "metadata": {},
   "outputs": [],
   "source": [
    "venture_type = master_frame_cp[master_frame_cp.funding_round_type.isin(['venture'])].raised_amount_usd\n",
    "Q1 = venture_type.quantile(0.25)\n",
    "Q3 = venture_type.quantile(0.75)\n",
    "IQR = Q3 - Q1\n",
    "venture_mean = round(venture_type[(venture_type >= (Q1 - 1.5 * IQR)) & (venture_type <= (Q3 + 1.5 * IQR))].mean(), 2)\n",
    "venture_type = venture_type[(venture_type >= (Q1 - 1.5 * IQR)) & (venture_type <= (Q3 + 1.5 * IQR))]"
   ]
  },
  {
   "cell_type": "code",
   "execution_count": 1571,
   "metadata": {},
   "outputs": [],
   "source": [
    "seed_type = master_frame_cp[master_frame_cp.funding_round_type.isin(['seed'])].raised_amount_usd\n",
    "Q1 = seed_type.quantile(0.25)\n",
    "Q3 = seed_type.quantile(0.75)\n",
    "IQR = Q3 - Q1\n",
    "seed_mean = round(seed_type[(seed_type >= (Q1 - 1.5 * IQR)) & (seed_type <= (Q3 + 1.5 * IQR))].mean(), 2)\n",
    "seed_type = seed_type[(seed_type >= (Q1 - 1.5 * IQR)) & (seed_type <= (Q3 + 1.5 * IQR))]"
   ]
  },
  {
   "cell_type": "code",
   "execution_count": 1572,
   "metadata": {},
   "outputs": [],
   "source": [
    "angel_type = master_frame_cp[master_frame_cp.funding_round_type.isin(['angel'])].raised_amount_usd\n",
    "Q1 = angel_type.quantile(0.25)\n",
    "Q3 = angel_type.quantile(0.75)\n",
    "IQR = Q3 - Q1\n",
    "angel_mean = round(angel_type[(angel_type >= (Q1 - 1.5 * IQR)) & (angel_type <= (Q3 + 1.5 * IQR))].mean(), 2)\n",
    "angel_type = angel_type[(angel_type >= (Q1 - 1.5 * IQR)) & (angel_type <= (Q3 + 1.5 * IQR))]"
   ]
  },
  {
   "cell_type": "markdown",
   "metadata": {},
   "source": [
    "## Find the suitable fund type"
   ]
  },
  {
   "cell_type": "code",
   "execution_count": 1573,
   "metadata": {
    "scrolled": true
   },
   "outputs": [
    {
     "name": "stdout",
     "output_type": "stream",
     "text": [
      "False 34844279.98\n"
     ]
    }
   ],
   "source": [
    "print((private_equity_mean > 5000000) & (private_equity_mean < 15000000), private_equity_mean)"
   ]
  },
  {
   "cell_type": "code",
   "execution_count": 1574,
   "metadata": {},
   "outputs": [
    {
     "name": "stdout",
     "output_type": "stream",
     "text": [
      "True 6416627.14\n"
     ]
    }
   ],
   "source": [
    "print((venture_mean > 5000000) & (venture_mean < 15000000), venture_mean)"
   ]
  },
  {
   "cell_type": "code",
   "execution_count": 1575,
   "metadata": {},
   "outputs": [
    {
     "name": "stdout",
     "output_type": "stream",
     "text": [
      "False 501749.72\n"
     ]
    }
   ],
   "source": [
    "print((seed_mean > 5000000) & (seed_mean < 15000000), seed_mean)"
   ]
  },
  {
   "cell_type": "code",
   "execution_count": 1576,
   "metadata": {},
   "outputs": [
    {
     "name": "stdout",
     "output_type": "stream",
     "text": [
      "False 535244.04\n"
     ]
    }
   ],
   "source": [
    "print((angel_mean > 5000000) & (angel_mean < 15000000), angel_mean)"
   ]
  },
  {
   "cell_type": "markdown",
   "metadata": {},
   "source": [
    "## <font color=blue> Checkpoint 3 </font>"
   ]
  },
  {
   "cell_type": "markdown",
   "metadata": {},
   "source": [
    "### Create a copy and Filter out the useful fund type"
   ]
  },
  {
   "cell_type": "code",
   "execution_count": 1577,
   "metadata": {
    "scrolled": true
   },
   "outputs": [
    {
     "data": {
      "text/html": [
       "<div>\n",
       "<style scoped>\n",
       "    .dataframe tbody tr th:only-of-type {\n",
       "        vertical-align: middle;\n",
       "    }\n",
       "\n",
       "    .dataframe tbody tr th {\n",
       "        vertical-align: top;\n",
       "    }\n",
       "\n",
       "    .dataframe thead th {\n",
       "        text-align: right;\n",
       "    }\n",
       "</style>\n",
       "<table border=\"1\" class=\"dataframe\">\n",
       "  <thead>\n",
       "    <tr style=\"text-align: right;\">\n",
       "      <th></th>\n",
       "      <th>permalink</th>\n",
       "      <th>name</th>\n",
       "      <th>category_list</th>\n",
       "      <th>status</th>\n",
       "      <th>country_code</th>\n",
       "      <th>funding_round_permalink</th>\n",
       "      <th>funding_round_type</th>\n",
       "      <th>funded_at</th>\n",
       "      <th>raised_amount_usd</th>\n",
       "    </tr>\n",
       "  </thead>\n",
       "  <tbody>\n",
       "    <tr>\n",
       "      <th>114931</th>\n",
       "      <td>/organization/zyraz-technology</td>\n",
       "      <td>Zyraz Technology</td>\n",
       "      <td>Biotechnology</td>\n",
       "      <td>closed</td>\n",
       "      <td>MYS</td>\n",
       "      <td>/funding-round/e949f077c943db197f20e43c2eb8d0e6</td>\n",
       "      <td>venture</td>\n",
       "      <td>09-10-2009</td>\n",
       "      <td>7991547.0</td>\n",
       "    </tr>\n",
       "    <tr>\n",
       "      <th>114934</th>\n",
       "      <td>/organization/zyrra</td>\n",
       "      <td>Zyrra</td>\n",
       "      <td>E-Commerce</td>\n",
       "      <td>operating</td>\n",
       "      <td>USA</td>\n",
       "      <td>/funding-round/7a0fa791c96c9c447ee54662395beab9</td>\n",
       "      <td>venture</td>\n",
       "      <td>18-10-2012</td>\n",
       "      <td>140500.0</td>\n",
       "    </tr>\n",
       "    <tr>\n",
       "      <th>114936</th>\n",
       "      <td>/organization/zystor</td>\n",
       "      <td>Zystor</td>\n",
       "      <td>Biotechnology</td>\n",
       "      <td>acquired</td>\n",
       "      <td>USA</td>\n",
       "      <td>/funding-round/7ea37c0ff4132b084832039a9380d34e</td>\n",
       "      <td>venture</td>\n",
       "      <td>16-12-2004</td>\n",
       "      <td>8500000.0</td>\n",
       "    </tr>\n",
       "    <tr>\n",
       "      <th>114937</th>\n",
       "      <td>/organization/zytoprotec</td>\n",
       "      <td>Zytoprotec</td>\n",
       "      <td>Biotechnology</td>\n",
       "      <td>operating</td>\n",
       "      <td>AUT</td>\n",
       "      <td>/funding-round/0c43e717298296d2fb334fb236300f6e</td>\n",
       "      <td>venture</td>\n",
       "      <td>29-01-2013</td>\n",
       "      <td>2686600.0</td>\n",
       "    </tr>\n",
       "    <tr>\n",
       "      <th>114941</th>\n",
       "      <td>/organization/zznode-science-and-technology-co...</td>\n",
       "      <td>ZZNode Science and Technology</td>\n",
       "      <td>Enterprise Software</td>\n",
       "      <td>operating</td>\n",
       "      <td>CHN</td>\n",
       "      <td>/funding-round/171693e1e07e0230defd8fddb6de4515</td>\n",
       "      <td>venture</td>\n",
       "      <td>01-04-2012</td>\n",
       "      <td>1587301.0</td>\n",
       "    </tr>\n",
       "  </tbody>\n",
       "</table>\n",
       "</div>"
      ],
      "text/plain": [
       "                                                permalink  \\\n",
       "114931                     /organization/zyraz-technology   \n",
       "114934                                /organization/zyrra   \n",
       "114936                               /organization/zystor   \n",
       "114937                           /organization/zytoprotec   \n",
       "114941  /organization/zznode-science-and-technology-co...   \n",
       "\n",
       "                                 name        category_list     status  \\\n",
       "114931               Zyraz Technology        Biotechnology     closed   \n",
       "114934                          Zyrra           E-Commerce  operating   \n",
       "114936                         Zystor        Biotechnology   acquired   \n",
       "114937                     Zytoprotec        Biotechnology  operating   \n",
       "114941  ZZNode Science and Technology  Enterprise Software  operating   \n",
       "\n",
       "       country_code                          funding_round_permalink  \\\n",
       "114931          MYS  /funding-round/e949f077c943db197f20e43c2eb8d0e6   \n",
       "114934          USA  /funding-round/7a0fa791c96c9c447ee54662395beab9   \n",
       "114936          USA  /funding-round/7ea37c0ff4132b084832039a9380d34e   \n",
       "114937          AUT  /funding-round/0c43e717298296d2fb334fb236300f6e   \n",
       "114941          CHN  /funding-round/171693e1e07e0230defd8fddb6de4515   \n",
       "\n",
       "       funding_round_type   funded_at  raised_amount_usd  \n",
       "114931            venture  09-10-2009          7991547.0  \n",
       "114934            venture  18-10-2012           140500.0  \n",
       "114936            venture  16-12-2004          8500000.0  \n",
       "114937            venture  29-01-2013          2686600.0  \n",
       "114941            venture  01-04-2012          1587301.0  "
      ]
     },
     "execution_count": 1577,
     "metadata": {},
     "output_type": "execute_result"
    }
   ],
   "source": [
    "master_frame_venture = master_frame_cp.copy()\n",
    "master_frame_venture = master_frame_venture[master_frame_venture.funding_round_type.isin(['venture'])]\n",
    "master_frame_venture.tail()"
   ]
  },
  {
   "cell_type": "markdown",
   "metadata": {},
   "source": [
    "### Find the top 9 countries with highest investment without unknown country code 'UNK'"
   ]
  },
  {
   "cell_type": "code",
   "execution_count": 1578,
   "metadata": {
    "scrolled": true
   },
   "outputs": [
    {
     "data": {
      "text/html": [
       "<div>\n",
       "<style scoped>\n",
       "    .dataframe tbody tr th:only-of-type {\n",
       "        vertical-align: middle;\n",
       "    }\n",
       "\n",
       "    .dataframe tbody tr th {\n",
       "        vertical-align: top;\n",
       "    }\n",
       "\n",
       "    .dataframe thead th {\n",
       "        text-align: right;\n",
       "    }\n",
       "</style>\n",
       "<table border=\"1\" class=\"dataframe\">\n",
       "  <thead>\n",
       "    <tr style=\"text-align: right;\">\n",
       "      <th></th>\n",
       "      <th>country_code</th>\n",
       "      <th>sum</th>\n",
       "    </tr>\n",
       "  </thead>\n",
       "  <tbody>\n",
       "    <tr>\n",
       "      <th>0</th>\n",
       "      <td>USA</td>\n",
       "      <td>4.200680e+11</td>\n",
       "    </tr>\n",
       "    <tr>\n",
       "      <th>1</th>\n",
       "      <td>CHN</td>\n",
       "      <td>3.933892e+10</td>\n",
       "    </tr>\n",
       "    <tr>\n",
       "      <th>3</th>\n",
       "      <td>GBR</td>\n",
       "      <td>2.007281e+10</td>\n",
       "    </tr>\n",
       "    <tr>\n",
       "      <th>4</th>\n",
       "      <td>IND</td>\n",
       "      <td>1.426151e+10</td>\n",
       "    </tr>\n",
       "    <tr>\n",
       "      <th>5</th>\n",
       "      <td>CAN</td>\n",
       "      <td>9.482218e+09</td>\n",
       "    </tr>\n",
       "    <tr>\n",
       "      <th>6</th>\n",
       "      <td>FRA</td>\n",
       "      <td>7.226851e+09</td>\n",
       "    </tr>\n",
       "    <tr>\n",
       "      <th>7</th>\n",
       "      <td>ISR</td>\n",
       "      <td>6.854350e+09</td>\n",
       "    </tr>\n",
       "    <tr>\n",
       "      <th>8</th>\n",
       "      <td>DEU</td>\n",
       "      <td>6.306922e+09</td>\n",
       "    </tr>\n",
       "    <tr>\n",
       "      <th>9</th>\n",
       "      <td>JPN</td>\n",
       "      <td>3.167647e+09</td>\n",
       "    </tr>\n",
       "  </tbody>\n",
       "</table>\n",
       "</div>"
      ],
      "text/plain": [
       "  country_code           sum\n",
       "0          USA  4.200680e+11\n",
       "1          CHN  3.933892e+10\n",
       "3          GBR  2.007281e+10\n",
       "4          IND  1.426151e+10\n",
       "5          CAN  9.482218e+09\n",
       "6          FRA  7.226851e+09\n",
       "7          ISR  6.854350e+09\n",
       "8          DEU  6.306922e+09\n",
       "9          JPN  3.167647e+09"
      ]
     },
     "execution_count": 1578,
     "metadata": {},
     "output_type": "execute_result"
    }
   ],
   "source": [
    "top9 = master_frame_venture.groupby('country_code').raised_amount_usd.agg(['sum']).sort_values(by='sum', ascending=False)[:10]\n",
    "top9 = top9.reset_index()\n",
    "top9 = top9[~top9.country_code.isin(['UNK'])]\n",
    "top9"
   ]
  },
  {
   "cell_type": "markdown",
   "metadata": {},
   "source": [
    "## <font color=blue> Checkpoint 4 </font>"
   ]
  },
  {
   "cell_type": "markdown",
   "metadata": {},
   "source": [
    "### Read the mapping file"
   ]
  },
  {
   "cell_type": "code",
   "execution_count": 1579,
   "metadata": {
    "scrolled": true
   },
   "outputs": [],
   "source": [
    "mapping = pd.read_csv('mapping.csv',  encoding ='palmos')\n",
    "mapping_cp = mapping.copy()\n",
    "mapping_cp = mapping_cp.rename({'category_list':'category'}, axis=1)"
   ]
  },
  {
   "cell_type": "markdown",
   "metadata": {},
   "source": [
    "### Convert to lower case"
   ]
  },
  {
   "cell_type": "code",
   "execution_count": 1580,
   "metadata": {},
   "outputs": [],
   "source": [
    "mapping_cp.category = mapping_cp.category.str.lower().str.strip()"
   ]
  },
  {
   "cell_type": "markdown",
   "metadata": {},
   "source": [
    "### Reverse the one-hot encoding columns to main sectors in single column"
   ]
  },
  {
   "cell_type": "code",
   "execution_count": 1581,
   "metadata": {},
   "outputs": [
    {
     "data": {
      "text/html": [
       "<div>\n",
       "<style scoped>\n",
       "    .dataframe tbody tr th:only-of-type {\n",
       "        vertical-align: middle;\n",
       "    }\n",
       "\n",
       "    .dataframe tbody tr th {\n",
       "        vertical-align: top;\n",
       "    }\n",
       "\n",
       "    .dataframe thead th {\n",
       "        text-align: right;\n",
       "    }\n",
       "</style>\n",
       "<table border=\"1\" class=\"dataframe\">\n",
       "  <thead>\n",
       "    <tr style=\"text-align: right;\">\n",
       "      <th></th>\n",
       "      <th>category</th>\n",
       "      <th>main_sector</th>\n",
       "    </tr>\n",
       "  </thead>\n",
       "  <tbody>\n",
       "    <tr>\n",
       "      <th>683</th>\n",
       "      <td>wholesale</td>\n",
       "      <td>Others</td>\n",
       "    </tr>\n",
       "    <tr>\n",
       "      <th>684</th>\n",
       "      <td>wine and spirits</td>\n",
       "      <td>Entertainment</td>\n",
       "    </tr>\n",
       "    <tr>\n",
       "      <th>685</th>\n",
       "      <td>wireless</td>\n",
       "      <td>Entertainment</td>\n",
       "    </tr>\n",
       "    <tr>\n",
       "      <th>686</th>\n",
       "      <td>women</td>\n",
       "      <td>Others</td>\n",
       "    </tr>\n",
       "    <tr>\n",
       "      <th>687</th>\n",
       "      <td>young adults</td>\n",
       "      <td>Others</td>\n",
       "    </tr>\n",
       "  </tbody>\n",
       "</table>\n",
       "</div>"
      ],
      "text/plain": [
       "             category    main_sector\n",
       "683         wholesale         Others\n",
       "684  wine and spirits  Entertainment\n",
       "685          wireless  Entertainment\n",
       "686             women         Others\n",
       "687      young adults         Others"
      ]
     },
     "execution_count": 1581,
     "metadata": {},
     "output_type": "execute_result"
    }
   ],
   "source": [
    "mapping_cp.set_index('category', inplace=True)\n",
    "mapping_cp = mapping_cp[mapping_cp==1].stack().reset_index().drop(0, 1)\n",
    "mapping_cp = mapping_cp.rename({'level_1':'main_sector'}, axis=1)\n",
    "mapping_cp.tail()"
   ]
  },
  {
   "cell_type": "markdown",
   "metadata": {},
   "source": [
    "### Copy master_frame_venture"
   ]
  },
  {
   "cell_type": "code",
   "execution_count": 1582,
   "metadata": {},
   "outputs": [],
   "source": [
    "master_frame_venture_cp = master_frame_venture.copy()"
   ]
  },
  {
   "cell_type": "markdown",
   "metadata": {},
   "source": [
    "### Extract the primary sector into a column"
   ]
  },
  {
   "cell_type": "code",
   "execution_count": 1583,
   "metadata": {},
   "outputs": [],
   "source": [
    "master_frame_venture_cp['primary_sector'] = master_frame_venture_cp.category_list.apply(lambda x: x if '|' not in str(x) else str(x).split('|')[0].strip())"
   ]
  },
  {
   "cell_type": "markdown",
   "metadata": {},
   "source": [
    "### Convert to lower case"
   ]
  },
  {
   "cell_type": "code",
   "execution_count": 1584,
   "metadata": {},
   "outputs": [],
   "source": [
    "master_frame_venture_cp.primary_sector = master_frame_venture_cp.primary_sector.str.lower()"
   ]
  },
  {
   "cell_type": "markdown",
   "metadata": {},
   "source": [
    "### Merge the data frames into single data frame"
   ]
  },
  {
   "cell_type": "code",
   "execution_count": 1585,
   "metadata": {},
   "outputs": [],
   "source": [
    "merged_df = pd.merge(master_frame_venture_cp, mapping_cp, how='inner', left_on='primary_sector', right_on='category')"
   ]
  },
  {
   "cell_type": "markdown",
   "metadata": {},
   "source": [
    "### Drop the duplicate column after merge"
   ]
  },
  {
   "cell_type": "code",
   "execution_count": 1586,
   "metadata": {},
   "outputs": [
    {
     "data": {
      "text/html": [
       "<div>\n",
       "<style scoped>\n",
       "    .dataframe tbody tr th:only-of-type {\n",
       "        vertical-align: middle;\n",
       "    }\n",
       "\n",
       "    .dataframe tbody tr th {\n",
       "        vertical-align: top;\n",
       "    }\n",
       "\n",
       "    .dataframe thead th {\n",
       "        text-align: right;\n",
       "    }\n",
       "</style>\n",
       "<table border=\"1\" class=\"dataframe\">\n",
       "  <thead>\n",
       "    <tr style=\"text-align: right;\">\n",
       "      <th></th>\n",
       "      <th>permalink</th>\n",
       "      <th>name</th>\n",
       "      <th>category_list</th>\n",
       "      <th>status</th>\n",
       "      <th>country_code</th>\n",
       "      <th>funding_round_permalink</th>\n",
       "      <th>funding_round_type</th>\n",
       "      <th>funded_at</th>\n",
       "      <th>raised_amount_usd</th>\n",
       "      <th>primary_sector</th>\n",
       "      <th>main_sector</th>\n",
       "    </tr>\n",
       "  </thead>\n",
       "  <tbody>\n",
       "    <tr>\n",
       "      <th>0</th>\n",
       "      <td>/organization/-fame</td>\n",
       "      <td>#fame</td>\n",
       "      <td>Media</td>\n",
       "      <td>operating</td>\n",
       "      <td>IND</td>\n",
       "      <td>/funding-round/9a01d05418af9f794eebff7ace91f638</td>\n",
       "      <td>venture</td>\n",
       "      <td>05-01-2015</td>\n",
       "      <td>10000000.0</td>\n",
       "      <td>media</td>\n",
       "      <td>Entertainment</td>\n",
       "    </tr>\n",
       "    <tr>\n",
       "      <th>1</th>\n",
       "      <td>/organization/90min</td>\n",
       "      <td>90min</td>\n",
       "      <td>Media|News|Publishing|Soccer|Sports</td>\n",
       "      <td>operating</td>\n",
       "      <td>GBR</td>\n",
       "      <td>/funding-round/21a2cbf6f2fb2a1c2a61e04bf930dfe6</td>\n",
       "      <td>venture</td>\n",
       "      <td>06-10-2015</td>\n",
       "      <td>15000000.0</td>\n",
       "      <td>media</td>\n",
       "      <td>Entertainment</td>\n",
       "    </tr>\n",
       "    <tr>\n",
       "      <th>2</th>\n",
       "      <td>/organization/90min</td>\n",
       "      <td>90min</td>\n",
       "      <td>Media|News|Publishing|Soccer|Sports</td>\n",
       "      <td>operating</td>\n",
       "      <td>GBR</td>\n",
       "      <td>/funding-round/bd626ed022f5c66574b1afe234f3c90d</td>\n",
       "      <td>venture</td>\n",
       "      <td>07-05-2013</td>\n",
       "      <td>5800000.0</td>\n",
       "      <td>media</td>\n",
       "      <td>Entertainment</td>\n",
       "    </tr>\n",
       "    <tr>\n",
       "      <th>3</th>\n",
       "      <td>/organization/90min</td>\n",
       "      <td>90min</td>\n",
       "      <td>Media|News|Publishing|Soccer|Sports</td>\n",
       "      <td>operating</td>\n",
       "      <td>GBR</td>\n",
       "      <td>/funding-round/fd4b15e8c97ee2ffc0acccdbe1a98810</td>\n",
       "      <td>venture</td>\n",
       "      <td>26-03-2014</td>\n",
       "      <td>18000000.0</td>\n",
       "      <td>media</td>\n",
       "      <td>Entertainment</td>\n",
       "    </tr>\n",
       "    <tr>\n",
       "      <th>4</th>\n",
       "      <td>/organization/all-def-digital</td>\n",
       "      <td>All Def Digital</td>\n",
       "      <td>Media</td>\n",
       "      <td>operating</td>\n",
       "      <td>USA</td>\n",
       "      <td>/funding-round/452a2342fe720285c3b92e9bd927d9ba</td>\n",
       "      <td>venture</td>\n",
       "      <td>06-08-2014</td>\n",
       "      <td>5000000.0</td>\n",
       "      <td>media</td>\n",
       "      <td>Entertainment</td>\n",
       "    </tr>\n",
       "  </tbody>\n",
       "</table>\n",
       "</div>"
      ],
      "text/plain": [
       "                       permalink             name  \\\n",
       "0            /organization/-fame            #fame   \n",
       "1            /organization/90min            90min   \n",
       "2            /organization/90min            90min   \n",
       "3            /organization/90min            90min   \n",
       "4  /organization/all-def-digital  All Def Digital   \n",
       "\n",
       "                         category_list     status country_code  \\\n",
       "0                                Media  operating          IND   \n",
       "1  Media|News|Publishing|Soccer|Sports  operating          GBR   \n",
       "2  Media|News|Publishing|Soccer|Sports  operating          GBR   \n",
       "3  Media|News|Publishing|Soccer|Sports  operating          GBR   \n",
       "4                                Media  operating          USA   \n",
       "\n",
       "                           funding_round_permalink funding_round_type  \\\n",
       "0  /funding-round/9a01d05418af9f794eebff7ace91f638            venture   \n",
       "1  /funding-round/21a2cbf6f2fb2a1c2a61e04bf930dfe6            venture   \n",
       "2  /funding-round/bd626ed022f5c66574b1afe234f3c90d            venture   \n",
       "3  /funding-round/fd4b15e8c97ee2ffc0acccdbe1a98810            venture   \n",
       "4  /funding-round/452a2342fe720285c3b92e9bd927d9ba            venture   \n",
       "\n",
       "    funded_at  raised_amount_usd primary_sector    main_sector  \n",
       "0  05-01-2015         10000000.0          media  Entertainment  \n",
       "1  06-10-2015         15000000.0          media  Entertainment  \n",
       "2  07-05-2013          5800000.0          media  Entertainment  \n",
       "3  26-03-2014         18000000.0          media  Entertainment  \n",
       "4  06-08-2014          5000000.0          media  Entertainment  "
      ]
     },
     "execution_count": 1586,
     "metadata": {},
     "output_type": "execute_result"
    }
   ],
   "source": [
    "merged_df = merged_df.drop(['category'], axis=1)\n",
    "merged_df.head()"
   ]
  },
  {
   "cell_type": "markdown",
   "metadata": {},
   "source": [
    "## <font color=blue> Checkpoint 5 </font>"
   ]
  },
  {
   "cell_type": "markdown",
   "metadata": {},
   "source": [
    "### Consider the records with the following constriants for further processing\n",
    "<br>\n",
    "- top 3 english speaking countries\n",
    "<br>\n",
    "- Venture type investment\n",
    "<br>\n",
    "- investment amount range in (5,000,000 , 15,000,000)\n",
    "<br>"
   ]
  },
  {
   "cell_type": "code",
   "execution_count": 1587,
   "metadata": {},
   "outputs": [],
   "source": [
    "df_USA = merged_df[ (merged_df.country_code.isin(['USA']) & (merged_df.raised_amount_usd > 5000000) & (merged_df.raised_amount_usd < 15000000))]"
   ]
  },
  {
   "cell_type": "code",
   "execution_count": 1588,
   "metadata": {},
   "outputs": [],
   "source": [
    "df_GBR = merged_df[(merged_df.country_code.isin(['GBR']) & (merged_df.raised_amount_usd > 5000000) & (merged_df.raised_amount_usd < 15000000))]"
   ]
  },
  {
   "cell_type": "code",
   "execution_count": 1589,
   "metadata": {},
   "outputs": [],
   "source": [
    "df_IND = merged_df[(merged_df.country_code.isin(['IND']) & (merged_df.raised_amount_usd > 5000000) & (merged_df.raised_amount_usd < 15000000))]"
   ]
  },
  {
   "cell_type": "markdown",
   "metadata": {},
   "source": [
    "## Remove Blank Sector"
   ]
  },
  {
   "cell_type": "code",
   "execution_count": 1590,
   "metadata": {},
   "outputs": [],
   "source": [
    "df_USA = df_USA[~df_USA.main_sector.isin(['Blanks'])]\n",
    "df_GBR = df_GBR[~df_GBR.main_sector.isin(['Blanks'])]\n",
    "df_IND = df_IND[~df_IND.main_sector.isin(['Blanks'])]"
   ]
  },
  {
   "cell_type": "markdown",
   "metadata": {},
   "source": [
    "## <font color=red> Country #1 </font>"
   ]
  },
  {
   "cell_type": "markdown",
   "metadata": {},
   "source": [
    "### Find the total number of investments in the country rank #1"
   ]
  },
  {
   "cell_type": "code",
   "execution_count": 1607,
   "metadata": {},
   "outputs": [
    {
     "data": {
      "text/plain": [
       "count    9227\n",
       "dtype: int64"
      ]
     },
     "execution_count": 1607,
     "metadata": {},
     "output_type": "execute_result"
    }
   ],
   "source": [
    "pd.DataFrame(df_USA.groupby('main_sector').size().to_frame('count')).sort_values(by='count', ascending=False).sum()"
   ]
  },
  {
   "cell_type": "markdown",
   "metadata": {},
   "source": [
    "### Find the total number of investments in each sector for country rank #1"
   ]
  },
  {
   "cell_type": "code",
   "execution_count": 1608,
   "metadata": {
    "scrolled": true
   },
   "outputs": [
    {
     "data": {
      "text/html": [
       "<div>\n",
       "<style scoped>\n",
       "    .dataframe tbody tr th:only-of-type {\n",
       "        vertical-align: middle;\n",
       "    }\n",
       "\n",
       "    .dataframe tbody tr th {\n",
       "        vertical-align: top;\n",
       "    }\n",
       "\n",
       "    .dataframe thead th {\n",
       "        text-align: right;\n",
       "    }\n",
       "</style>\n",
       "<table border=\"1\" class=\"dataframe\">\n",
       "  <thead>\n",
       "    <tr style=\"text-align: right;\">\n",
       "      <th></th>\n",
       "      <th>count</th>\n",
       "    </tr>\n",
       "    <tr>\n",
       "      <th>main_sector</th>\n",
       "      <th></th>\n",
       "    </tr>\n",
       "  </thead>\n",
       "  <tbody>\n",
       "    <tr>\n",
       "      <th>Others</th>\n",
       "      <td>2400</td>\n",
       "    </tr>\n",
       "    <tr>\n",
       "      <th>Cleantech / Semiconductors</th>\n",
       "      <td>1950</td>\n",
       "    </tr>\n",
       "    <tr>\n",
       "      <th>Social, Finance, Analytics, Advertising</th>\n",
       "      <td>1550</td>\n",
       "    </tr>\n",
       "    <tr>\n",
       "      <th>News, Search and Messaging</th>\n",
       "      <td>1265</td>\n",
       "    </tr>\n",
       "    <tr>\n",
       "      <th>Health</th>\n",
       "      <td>759</td>\n",
       "    </tr>\n",
       "    <tr>\n",
       "      <th>Manufacturing</th>\n",
       "      <td>691</td>\n",
       "    </tr>\n",
       "    <tr>\n",
       "      <th>Entertainment</th>\n",
       "      <td>470</td>\n",
       "    </tr>\n",
       "    <tr>\n",
       "      <th>Automotive &amp; Sports</th>\n",
       "      <td>142</td>\n",
       "    </tr>\n",
       "  </tbody>\n",
       "</table>\n",
       "</div>"
      ],
      "text/plain": [
       "                                         count\n",
       "main_sector                                   \n",
       "Others                                    2400\n",
       "Cleantech / Semiconductors                1950\n",
       "Social, Finance, Analytics, Advertising   1550\n",
       "News, Search and Messaging                1265\n",
       "Health                                     759\n",
       "Manufacturing                              691\n",
       "Entertainment                              470\n",
       "Automotive & Sports                        142"
      ]
     },
     "execution_count": 1608,
     "metadata": {},
     "output_type": "execute_result"
    }
   ],
   "source": [
    "c1_top3 = pd.DataFrame(df_USA.groupby('main_sector').size().to_frame('count')).sort_values(by='count', ascending=False)[:3]\n",
    "c1_top3 = c1_top3.reset_index()\n",
    "pd.DataFrame(df_USA.groupby('main_sector').size().to_frame('count')).sort_values(by='count', ascending=False)"
   ]
  },
  {
   "cell_type": "markdown",
   "metadata": {},
   "source": [
    "### Find the total amount of investments in the country rank #1"
   ]
  },
  {
   "cell_type": "code",
   "execution_count": 1609,
   "metadata": {},
   "outputs": [
    {
     "data": {
      "text/plain": [
       "sum    8.239152e+10\n",
       "dtype: float64"
      ]
     },
     "execution_count": 1609,
     "metadata": {},
     "output_type": "execute_result"
    }
   ],
   "source": [
    "df_USA.groupby('main_sector').raised_amount_usd.agg(['sum']).sort_values(by='sum', ascending=False).sum()"
   ]
  },
  {
   "cell_type": "markdown",
   "metadata": {},
   "source": [
    "### Find the total amount of investments in each sector for country rank #1"
   ]
  },
  {
   "cell_type": "code",
   "execution_count": 1610,
   "metadata": {},
   "outputs": [
    {
     "data": {
      "text/html": [
       "<div>\n",
       "<style scoped>\n",
       "    .dataframe tbody tr th:only-of-type {\n",
       "        vertical-align: middle;\n",
       "    }\n",
       "\n",
       "    .dataframe tbody tr th {\n",
       "        vertical-align: top;\n",
       "    }\n",
       "\n",
       "    .dataframe thead th {\n",
       "        text-align: right;\n",
       "    }\n",
       "</style>\n",
       "<table border=\"1\" class=\"dataframe\">\n",
       "  <thead>\n",
       "    <tr style=\"text-align: right;\">\n",
       "      <th></th>\n",
       "      <th>sum</th>\n",
       "    </tr>\n",
       "    <tr>\n",
       "      <th>main_sector</th>\n",
       "      <th></th>\n",
       "    </tr>\n",
       "  </thead>\n",
       "  <tbody>\n",
       "    <tr>\n",
       "      <th>Others</th>\n",
       "      <td>2.153428e+10</td>\n",
       "    </tr>\n",
       "    <tr>\n",
       "      <th>Cleantech / Semiconductors</th>\n",
       "      <td>1.779600e+10</td>\n",
       "    </tr>\n",
       "    <tr>\n",
       "      <th>Social, Finance, Analytics, Advertising</th>\n",
       "      <td>1.359070e+10</td>\n",
       "    </tr>\n",
       "    <tr>\n",
       "      <th>News, Search and Messaging</th>\n",
       "      <td>1.107682e+10</td>\n",
       "    </tr>\n",
       "    <tr>\n",
       "      <th>Health</th>\n",
       "      <td>6.855859e+09</td>\n",
       "    </tr>\n",
       "    <tr>\n",
       "      <th>Manufacturing</th>\n",
       "      <td>6.228553e+09</td>\n",
       "    </tr>\n",
       "    <tr>\n",
       "      <th>Entertainment</th>\n",
       "      <td>4.040213e+09</td>\n",
       "    </tr>\n",
       "    <tr>\n",
       "      <th>Automotive &amp; Sports</th>\n",
       "      <td>1.269104e+09</td>\n",
       "    </tr>\n",
       "  </tbody>\n",
       "</table>\n",
       "</div>"
      ],
      "text/plain": [
       "                                                  sum\n",
       "main_sector                                          \n",
       "Others                                   2.153428e+10\n",
       "Cleantech / Semiconductors               1.779600e+10\n",
       "Social, Finance, Analytics, Advertising  1.359070e+10\n",
       "News, Search and Messaging               1.107682e+10\n",
       "Health                                   6.855859e+09\n",
       "Manufacturing                            6.228553e+09\n",
       "Entertainment                            4.040213e+09\n",
       "Automotive & Sports                      1.269104e+09"
      ]
     },
     "execution_count": 1610,
     "metadata": {},
     "output_type": "execute_result"
    }
   ],
   "source": [
    "df_USA.groupby('main_sector').raised_amount_usd.agg(['sum']).sort_values(by='sum', ascending=False)"
   ]
  },
  {
   "cell_type": "markdown",
   "metadata": {},
   "source": [
    "### Find the company name that received highest investment in top sector"
   ]
  },
  {
   "cell_type": "code",
   "execution_count": 1611,
   "metadata": {
    "scrolled": true
   },
   "outputs": [
    {
     "data": {
      "text/html": [
       "<div>\n",
       "<style scoped>\n",
       "    .dataframe tbody tr th:only-of-type {\n",
       "        vertical-align: middle;\n",
       "    }\n",
       "\n",
       "    .dataframe tbody tr th {\n",
       "        vertical-align: top;\n",
       "    }\n",
       "\n",
       "    .dataframe thead th {\n",
       "        text-align: right;\n",
       "    }\n",
       "</style>\n",
       "<table border=\"1\" class=\"dataframe\">\n",
       "  <thead>\n",
       "    <tr style=\"text-align: right;\">\n",
       "      <th></th>\n",
       "      <th>permalink</th>\n",
       "      <th>name</th>\n",
       "      <th>category_list</th>\n",
       "      <th>status</th>\n",
       "      <th>country_code</th>\n",
       "      <th>funding_round_permalink</th>\n",
       "      <th>funding_round_type</th>\n",
       "      <th>funded_at</th>\n",
       "      <th>raised_amount_usd</th>\n",
       "      <th>primary_sector</th>\n",
       "      <th>main_sector</th>\n",
       "    </tr>\n",
       "  </thead>\n",
       "  <tbody>\n",
       "    <tr>\n",
       "      <th>18037</th>\n",
       "      <td>/organization/spidercloud-wireless</td>\n",
       "      <td>SpiderCloud Wireless</td>\n",
       "      <td>Enterprise Software</td>\n",
       "      <td>operating</td>\n",
       "      <td>USA</td>\n",
       "      <td>/funding-round/f075bcbb79bf46485b861e01aaad62d8</td>\n",
       "      <td>venture</td>\n",
       "      <td>06-01-2015</td>\n",
       "      <td>14999999.0</td>\n",
       "      <td>enterprise software</td>\n",
       "      <td>Others</td>\n",
       "    </tr>\n",
       "    <tr>\n",
       "      <th>38074</th>\n",
       "      <td>/organization/redfin</td>\n",
       "      <td>Redfin</td>\n",
       "      <td>Real Estate</td>\n",
       "      <td>operating</td>\n",
       "      <td>USA</td>\n",
       "      <td>/funding-round/8971121cb6408b7cbbb1f7781a7619ba</td>\n",
       "      <td>venture</td>\n",
       "      <td>27-10-2011</td>\n",
       "      <td>14800000.0</td>\n",
       "      <td>real estate</td>\n",
       "      <td>Others</td>\n",
       "    </tr>\n",
       "    <tr>\n",
       "      <th>34129</th>\n",
       "      <td>/organization/onstor</td>\n",
       "      <td>ONStor</td>\n",
       "      <td>Web Hosting</td>\n",
       "      <td>acquired</td>\n",
       "      <td>USA</td>\n",
       "      <td>/funding-round/2b3c1d1a478c1562088c1f49fec1485c</td>\n",
       "      <td>venture</td>\n",
       "      <td>18-04-2008</td>\n",
       "      <td>14800000.0</td>\n",
       "      <td>web hosting</td>\n",
       "      <td>Others</td>\n",
       "    </tr>\n",
       "    <tr>\n",
       "      <th>21826</th>\n",
       "      <td>/organization/paynearme</td>\n",
       "      <td>PayNearMe</td>\n",
       "      <td>E-Commerce|Government Innovation|Payments|Prop...</td>\n",
       "      <td>operating</td>\n",
       "      <td>USA</td>\n",
       "      <td>/funding-round/11d1cdb33757026d636e779082095534</td>\n",
       "      <td>venture</td>\n",
       "      <td>06-04-2015</td>\n",
       "      <td>14699988.0</td>\n",
       "      <td>e-commerce</td>\n",
       "      <td>Others</td>\n",
       "    </tr>\n",
       "  </tbody>\n",
       "</table>\n",
       "</div>"
      ],
      "text/plain": [
       "                                permalink                  name  \\\n",
       "18037  /organization/spidercloud-wireless  SpiderCloud Wireless   \n",
       "38074                /organization/redfin                Redfin   \n",
       "34129                /organization/onstor                ONStor   \n",
       "21826             /organization/paynearme             PayNearMe   \n",
       "\n",
       "                                           category_list     status  \\\n",
       "18037                                Enterprise Software  operating   \n",
       "38074                                        Real Estate  operating   \n",
       "34129                                        Web Hosting   acquired   \n",
       "21826  E-Commerce|Government Innovation|Payments|Prop...  operating   \n",
       "\n",
       "      country_code                          funding_round_permalink  \\\n",
       "18037          USA  /funding-round/f075bcbb79bf46485b861e01aaad62d8   \n",
       "38074          USA  /funding-round/8971121cb6408b7cbbb1f7781a7619ba   \n",
       "34129          USA  /funding-round/2b3c1d1a478c1562088c1f49fec1485c   \n",
       "21826          USA  /funding-round/11d1cdb33757026d636e779082095534   \n",
       "\n",
       "      funding_round_type   funded_at  raised_amount_usd       primary_sector  \\\n",
       "18037            venture  06-01-2015         14999999.0  enterprise software   \n",
       "38074            venture  27-10-2011         14800000.0          real estate   \n",
       "34129            venture  18-04-2008         14800000.0          web hosting   \n",
       "21826            venture  06-04-2015         14699988.0           e-commerce   \n",
       "\n",
       "      main_sector  \n",
       "18037      Others  \n",
       "38074      Others  \n",
       "34129      Others  \n",
       "21826      Others  "
      ]
     },
     "execution_count": 1611,
     "metadata": {},
     "output_type": "execute_result"
    }
   ],
   "source": [
    "df_USA[df_USA.main_sector.isin(['Others'])].sort_values(by='raised_amount_usd', ascending=False)[:4]"
   ]
  },
  {
   "cell_type": "markdown",
   "metadata": {},
   "source": [
    "### Find the company name that received highest investment in second top sector"
   ]
  },
  {
   "cell_type": "code",
   "execution_count": 1612,
   "metadata": {},
   "outputs": [
    {
     "data": {
      "text/html": [
       "<div>\n",
       "<style scoped>\n",
       "    .dataframe tbody tr th:only-of-type {\n",
       "        vertical-align: middle;\n",
       "    }\n",
       "\n",
       "    .dataframe tbody tr th {\n",
       "        vertical-align: top;\n",
       "    }\n",
       "\n",
       "    .dataframe thead th {\n",
       "        text-align: right;\n",
       "    }\n",
       "</style>\n",
       "<table border=\"1\" class=\"dataframe\">\n",
       "  <thead>\n",
       "    <tr style=\"text-align: right;\">\n",
       "      <th></th>\n",
       "      <th>permalink</th>\n",
       "      <th>name</th>\n",
       "      <th>category_list</th>\n",
       "      <th>status</th>\n",
       "      <th>country_code</th>\n",
       "      <th>funding_round_permalink</th>\n",
       "      <th>funding_round_type</th>\n",
       "      <th>funded_at</th>\n",
       "      <th>raised_amount_usd</th>\n",
       "      <th>primary_sector</th>\n",
       "      <th>main_sector</th>\n",
       "    </tr>\n",
       "  </thead>\n",
       "  <tbody>\n",
       "    <tr>\n",
       "      <th>33782</th>\n",
       "      <td>/organization/zenverge</td>\n",
       "      <td>Zenverge</td>\n",
       "      <td>Semiconductors</td>\n",
       "      <td>acquired</td>\n",
       "      <td>USA</td>\n",
       "      <td>/funding-round/f6f427e7f16677297e285205fafd351d</td>\n",
       "      <td>venture</td>\n",
       "      <td>31-10-2007</td>\n",
       "      <td>14999999.0</td>\n",
       "      <td>semiconductors</td>\n",
       "      <td>Cleantech / Semiconductors</td>\n",
       "    </tr>\n",
       "    <tr>\n",
       "      <th>33240</th>\n",
       "      <td>/organization/intermolecular</td>\n",
       "      <td>Intermolecular</td>\n",
       "      <td>Semiconductors</td>\n",
       "      <td>ipo</td>\n",
       "      <td>USA</td>\n",
       "      <td>/funding-round/d1df05942624a86ffad2cc3fd6e11ea5</td>\n",
       "      <td>venture</td>\n",
       "      <td>10-03-2011</td>\n",
       "      <td>14999999.0</td>\n",
       "      <td>semiconductors</td>\n",
       "      <td>Cleantech / Semiconductors</td>\n",
       "    </tr>\n",
       "    <tr>\n",
       "      <th>7548</th>\n",
       "      <td>/organization/revision-optics</td>\n",
       "      <td>ReVision Optics</td>\n",
       "      <td>Biotechnology</td>\n",
       "      <td>operating</td>\n",
       "      <td>USA</td>\n",
       "      <td>/funding-round/956095f09c2840edc99d78978e242c02</td>\n",
       "      <td>venture</td>\n",
       "      <td>16-04-2013</td>\n",
       "      <td>14999998.0</td>\n",
       "      <td>biotechnology</td>\n",
       "      <td>Cleantech / Semiconductors</td>\n",
       "    </tr>\n",
       "    <tr>\n",
       "      <th>7888</th>\n",
       "      <td>/organization/somalogic</td>\n",
       "      <td>SomaLogic</td>\n",
       "      <td>Biotechnology|Health Diagnostics</td>\n",
       "      <td>operating</td>\n",
       "      <td>USA</td>\n",
       "      <td>/funding-round/048e006cb66e7899bfd427ede52d5b6d</td>\n",
       "      <td>venture</td>\n",
       "      <td>17-11-2010</td>\n",
       "      <td>14999998.0</td>\n",
       "      <td>biotechnology</td>\n",
       "      <td>Cleantech / Semiconductors</td>\n",
       "    </tr>\n",
       "    <tr>\n",
       "      <th>6044</th>\n",
       "      <td>/organization/metabolon</td>\n",
       "      <td>Metabolon</td>\n",
       "      <td>Biotechnology|Health Diagnostics</td>\n",
       "      <td>operating</td>\n",
       "      <td>USA</td>\n",
       "      <td>/funding-round/dcb7662c9069892594b80c1d9e387007</td>\n",
       "      <td>venture</td>\n",
       "      <td>06-01-2014</td>\n",
       "      <td>14999980.0</td>\n",
       "      <td>biotechnology</td>\n",
       "      <td>Cleantech / Semiconductors</td>\n",
       "    </tr>\n",
       "    <tr>\n",
       "      <th>7595</th>\n",
       "      <td>/organization/romark-laboratories</td>\n",
       "      <td>Romark Laboratories</td>\n",
       "      <td>Biotechnology</td>\n",
       "      <td>operating</td>\n",
       "      <td>USA</td>\n",
       "      <td>/funding-round/afb2b7f7ac47bbcab9ac65650cd92f42</td>\n",
       "      <td>venture</td>\n",
       "      <td>16-06-2014</td>\n",
       "      <td>14999520.0</td>\n",
       "      <td>biotechnology</td>\n",
       "      <td>Cleantech / Semiconductors</td>\n",
       "    </tr>\n",
       "  </tbody>\n",
       "</table>\n",
       "</div>"
      ],
      "text/plain": [
       "                               permalink                 name  \\\n",
       "33782             /organization/zenverge             Zenverge   \n",
       "33240       /organization/intermolecular       Intermolecular   \n",
       "7548       /organization/revision-optics      ReVision Optics   \n",
       "7888             /organization/somalogic            SomaLogic   \n",
       "6044             /organization/metabolon            Metabolon   \n",
       "7595   /organization/romark-laboratories  Romark Laboratories   \n",
       "\n",
       "                          category_list     status country_code  \\\n",
       "33782                    Semiconductors   acquired          USA   \n",
       "33240                    Semiconductors        ipo          USA   \n",
       "7548                      Biotechnology  operating          USA   \n",
       "7888   Biotechnology|Health Diagnostics  operating          USA   \n",
       "6044   Biotechnology|Health Diagnostics  operating          USA   \n",
       "7595                      Biotechnology  operating          USA   \n",
       "\n",
       "                               funding_round_permalink funding_round_type  \\\n",
       "33782  /funding-round/f6f427e7f16677297e285205fafd351d            venture   \n",
       "33240  /funding-round/d1df05942624a86ffad2cc3fd6e11ea5            venture   \n",
       "7548   /funding-round/956095f09c2840edc99d78978e242c02            venture   \n",
       "7888   /funding-round/048e006cb66e7899bfd427ede52d5b6d            venture   \n",
       "6044   /funding-round/dcb7662c9069892594b80c1d9e387007            venture   \n",
       "7595   /funding-round/afb2b7f7ac47bbcab9ac65650cd92f42            venture   \n",
       "\n",
       "        funded_at  raised_amount_usd  primary_sector  \\\n",
       "33782  31-10-2007         14999999.0  semiconductors   \n",
       "33240  10-03-2011         14999999.0  semiconductors   \n",
       "7548   16-04-2013         14999998.0   biotechnology   \n",
       "7888   17-11-2010         14999998.0   biotechnology   \n",
       "6044   06-01-2014         14999980.0   biotechnology   \n",
       "7595   16-06-2014         14999520.0   biotechnology   \n",
       "\n",
       "                      main_sector  \n",
       "33782  Cleantech / Semiconductors  \n",
       "33240  Cleantech / Semiconductors  \n",
       "7548   Cleantech / Semiconductors  \n",
       "7888   Cleantech / Semiconductors  \n",
       "6044   Cleantech / Semiconductors  \n",
       "7595   Cleantech / Semiconductors  "
      ]
     },
     "execution_count": 1612,
     "metadata": {},
     "output_type": "execute_result"
    }
   ],
   "source": [
    "df_USA[df_USA.main_sector.isin(['Cleantech / Semiconductors'])].sort_values(by='raised_amount_usd', ascending=False)[:6]"
   ]
  },
  {
   "cell_type": "markdown",
   "metadata": {},
   "source": [
    "## <font color=red> Country #2 </font>"
   ]
  },
  {
   "cell_type": "markdown",
   "metadata": {},
   "source": [
    "### Find the total number of investments in the country rank #2"
   ]
  },
  {
   "cell_type": "code",
   "execution_count": 1613,
   "metadata": {},
   "outputs": [
    {
     "data": {
      "text/plain": [
       "count    524\n",
       "dtype: int64"
      ]
     },
     "execution_count": 1613,
     "metadata": {},
     "output_type": "execute_result"
    }
   ],
   "source": [
    "pd.DataFrame(df_GBR.groupby('main_sector').size().to_frame('count')).sort_values(by='count', ascending=False).sum()"
   ]
  },
  {
   "cell_type": "markdown",
   "metadata": {},
   "source": [
    "### Find the total number of investments in each sector for country rank #2"
   ]
  },
  {
   "cell_type": "code",
   "execution_count": 1614,
   "metadata": {},
   "outputs": [
    {
     "data": {
      "text/html": [
       "<div>\n",
       "<style scoped>\n",
       "    .dataframe tbody tr th:only-of-type {\n",
       "        vertical-align: middle;\n",
       "    }\n",
       "\n",
       "    .dataframe tbody tr th {\n",
       "        vertical-align: top;\n",
       "    }\n",
       "\n",
       "    .dataframe thead th {\n",
       "        text-align: right;\n",
       "    }\n",
       "</style>\n",
       "<table border=\"1\" class=\"dataframe\">\n",
       "  <thead>\n",
       "    <tr style=\"text-align: right;\">\n",
       "      <th></th>\n",
       "      <th>count</th>\n",
       "    </tr>\n",
       "    <tr>\n",
       "      <th>main_sector</th>\n",
       "      <th></th>\n",
       "    </tr>\n",
       "  </thead>\n",
       "  <tbody>\n",
       "    <tr>\n",
       "      <th>Others</th>\n",
       "      <td>126</td>\n",
       "    </tr>\n",
       "    <tr>\n",
       "      <th>Cleantech / Semiconductors</th>\n",
       "      <td>123</td>\n",
       "    </tr>\n",
       "    <tr>\n",
       "      <th>Social, Finance, Analytics, Advertising</th>\n",
       "      <td>89</td>\n",
       "    </tr>\n",
       "    <tr>\n",
       "      <th>News, Search and Messaging</th>\n",
       "      <td>65</td>\n",
       "    </tr>\n",
       "    <tr>\n",
       "      <th>Entertainment</th>\n",
       "      <td>46</td>\n",
       "    </tr>\n",
       "    <tr>\n",
       "      <th>Manufacturing</th>\n",
       "      <td>38</td>\n",
       "    </tr>\n",
       "    <tr>\n",
       "      <th>Health</th>\n",
       "      <td>23</td>\n",
       "    </tr>\n",
       "    <tr>\n",
       "      <th>Automotive &amp; Sports</th>\n",
       "      <td>14</td>\n",
       "    </tr>\n",
       "  </tbody>\n",
       "</table>\n",
       "</div>"
      ],
      "text/plain": [
       "                                         count\n",
       "main_sector                                   \n",
       "Others                                     126\n",
       "Cleantech / Semiconductors                 123\n",
       "Social, Finance, Analytics, Advertising     89\n",
       "News, Search and Messaging                  65\n",
       "Entertainment                               46\n",
       "Manufacturing                               38\n",
       "Health                                      23\n",
       "Automotive & Sports                         14"
      ]
     },
     "execution_count": 1614,
     "metadata": {},
     "output_type": "execute_result"
    }
   ],
   "source": [
    "c2_top3 = pd.DataFrame(df_GBR.groupby('main_sector').size().to_frame('count')).sort_values(by='count', ascending=False)[:3]\n",
    "c2_top3 = c2_top3.reset_index()\n",
    "pd.DataFrame(df_GBR.groupby('main_sector').size().to_frame('count')).sort_values(by='count', ascending=False)"
   ]
  },
  {
   "cell_type": "markdown",
   "metadata": {},
   "source": [
    "### Find the total amount of investments in the country rank #2"
   ]
  },
  {
   "cell_type": "code",
   "execution_count": 1615,
   "metadata": {},
   "outputs": [
    {
     "data": {
      "text/plain": [
       "sum    4.593704e+09\n",
       "dtype: float64"
      ]
     },
     "execution_count": 1615,
     "metadata": {},
     "output_type": "execute_result"
    }
   ],
   "source": [
    "df_GBR.groupby('main_sector').raised_amount_usd.agg(['sum']).sort_values(by='sum', ascending=False).sum()"
   ]
  },
  {
   "cell_type": "markdown",
   "metadata": {},
   "source": [
    "### Find the total amount of investments in each sector for country rank #2"
   ]
  },
  {
   "cell_type": "code",
   "execution_count": 1616,
   "metadata": {
    "scrolled": false
   },
   "outputs": [
    {
     "data": {
      "text/html": [
       "<div>\n",
       "<style scoped>\n",
       "    .dataframe tbody tr th:only-of-type {\n",
       "        vertical-align: middle;\n",
       "    }\n",
       "\n",
       "    .dataframe tbody tr th {\n",
       "        vertical-align: top;\n",
       "    }\n",
       "\n",
       "    .dataframe thead th {\n",
       "        text-align: right;\n",
       "    }\n",
       "</style>\n",
       "<table border=\"1\" class=\"dataframe\">\n",
       "  <thead>\n",
       "    <tr style=\"text-align: right;\">\n",
       "      <th></th>\n",
       "      <th>sum</th>\n",
       "    </tr>\n",
       "    <tr>\n",
       "      <th>main_sector</th>\n",
       "      <th></th>\n",
       "    </tr>\n",
       "  </thead>\n",
       "  <tbody>\n",
       "    <tr>\n",
       "      <th>Cleantech / Semiconductors</th>\n",
       "      <td>1.096905e+09</td>\n",
       "    </tr>\n",
       "    <tr>\n",
       "      <th>Others</th>\n",
       "      <td>1.094124e+09</td>\n",
       "    </tr>\n",
       "    <tr>\n",
       "      <th>Social, Finance, Analytics, Advertising</th>\n",
       "      <td>7.568884e+08</td>\n",
       "    </tr>\n",
       "    <tr>\n",
       "      <th>News, Search and Messaging</th>\n",
       "      <td>5.657462e+08</td>\n",
       "    </tr>\n",
       "    <tr>\n",
       "      <th>Entertainment</th>\n",
       "      <td>4.015111e+08</td>\n",
       "    </tr>\n",
       "    <tr>\n",
       "      <th>Manufacturing</th>\n",
       "      <td>3.319403e+08</td>\n",
       "    </tr>\n",
       "    <tr>\n",
       "      <th>Health</th>\n",
       "      <td>2.095375e+08</td>\n",
       "    </tr>\n",
       "    <tr>\n",
       "      <th>Automotive &amp; Sports</th>\n",
       "      <td>1.370516e+08</td>\n",
       "    </tr>\n",
       "  </tbody>\n",
       "</table>\n",
       "</div>"
      ],
      "text/plain": [
       "                                                  sum\n",
       "main_sector                                          \n",
       "Cleantech / Semiconductors               1.096905e+09\n",
       "Others                                   1.094124e+09\n",
       "Social, Finance, Analytics, Advertising  7.568884e+08\n",
       "News, Search and Messaging               5.657462e+08\n",
       "Entertainment                            4.015111e+08\n",
       "Manufacturing                            3.319403e+08\n",
       "Health                                   2.095375e+08\n",
       "Automotive & Sports                      1.370516e+08"
      ]
     },
     "execution_count": 1616,
     "metadata": {},
     "output_type": "execute_result"
    }
   ],
   "source": [
    "df_GBR.groupby('main_sector').raised_amount_usd.agg(['sum']).sort_values(by='sum', ascending=False)"
   ]
  },
  {
   "cell_type": "markdown",
   "metadata": {},
   "source": [
    "### Find the company name that received highest investment in top sector"
   ]
  },
  {
   "cell_type": "code",
   "execution_count": 1617,
   "metadata": {
    "scrolled": true
   },
   "outputs": [
    {
     "data": {
      "text/html": [
       "<div>\n",
       "<style scoped>\n",
       "    .dataframe tbody tr th:only-of-type {\n",
       "        vertical-align: middle;\n",
       "    }\n",
       "\n",
       "    .dataframe tbody tr th {\n",
       "        vertical-align: top;\n",
       "    }\n",
       "\n",
       "    .dataframe thead th {\n",
       "        text-align: right;\n",
       "    }\n",
       "</style>\n",
       "<table border=\"1\" class=\"dataframe\">\n",
       "  <thead>\n",
       "    <tr style=\"text-align: right;\">\n",
       "      <th></th>\n",
       "      <th>permalink</th>\n",
       "      <th>name</th>\n",
       "      <th>category_list</th>\n",
       "      <th>status</th>\n",
       "      <th>country_code</th>\n",
       "      <th>funding_round_permalink</th>\n",
       "      <th>funding_round_type</th>\n",
       "      <th>funded_at</th>\n",
       "      <th>raised_amount_usd</th>\n",
       "      <th>primary_sector</th>\n",
       "      <th>main_sector</th>\n",
       "    </tr>\n",
       "  </thead>\n",
       "  <tbody>\n",
       "    <tr>\n",
       "      <th>21678</th>\n",
       "      <td>/organization/myoptique-group</td>\n",
       "      <td>MyOptique Group</td>\n",
       "      <td>E-Commerce</td>\n",
       "      <td>operating</td>\n",
       "      <td>GBR</td>\n",
       "      <td>/funding-round/2c959c6ff6c5958c29388be295288d58</td>\n",
       "      <td>venture</td>\n",
       "      <td>21-04-2009</td>\n",
       "      <td>14656237.0</td>\n",
       "      <td>e-commerce</td>\n",
       "      <td>Others</td>\n",
       "    </tr>\n",
       "    <tr>\n",
       "      <th>22267</th>\n",
       "      <td>/organization/ukash</td>\n",
       "      <td>KaliteUKASH</td>\n",
       "      <td>E-Commerce|Finance|FinTech|P2P Money Transfer|...</td>\n",
       "      <td>operating</td>\n",
       "      <td>GBR</td>\n",
       "      <td>/funding-round/74e9144a6356af4c9a01486f731ce1e8</td>\n",
       "      <td>venture</td>\n",
       "      <td>29-09-2008</td>\n",
       "      <td>14400000.0</td>\n",
       "      <td>e-commerce</td>\n",
       "      <td>Others</td>\n",
       "    </tr>\n",
       "    <tr>\n",
       "      <th>21731</th>\n",
       "      <td>/organization/ocapo</td>\n",
       "      <td>Ocapo</td>\n",
       "      <td>E-Commerce</td>\n",
       "      <td>operating</td>\n",
       "      <td>GBR</td>\n",
       "      <td>/funding-round/13a507388b97c4da8f5707dab21d9112</td>\n",
       "      <td>venture</td>\n",
       "      <td>04-07-2013</td>\n",
       "      <td>14394888.0</td>\n",
       "      <td>e-commerce</td>\n",
       "      <td>Others</td>\n",
       "    </tr>\n",
       "    <tr>\n",
       "      <th>13062</th>\n",
       "      <td>/organization/celona-technologies</td>\n",
       "      <td>Celona Technologies</td>\n",
       "      <td>Software</td>\n",
       "      <td>closed</td>\n",
       "      <td>GBR</td>\n",
       "      <td>/funding-round/495fda48b04605e30d61bd2cdd73c2a5</td>\n",
       "      <td>venture</td>\n",
       "      <td>09-07-2007</td>\n",
       "      <td>14000000.0</td>\n",
       "      <td>software</td>\n",
       "      <td>Others</td>\n",
       "    </tr>\n",
       "  </tbody>\n",
       "</table>\n",
       "</div>"
      ],
      "text/plain": [
       "                               permalink                 name  \\\n",
       "21678      /organization/myoptique-group      MyOptique Group   \n",
       "22267                /organization/ukash          KaliteUKASH   \n",
       "21731                /organization/ocapo                Ocapo   \n",
       "13062  /organization/celona-technologies  Celona Technologies   \n",
       "\n",
       "                                           category_list     status  \\\n",
       "21678                                         E-Commerce  operating   \n",
       "22267  E-Commerce|Finance|FinTech|P2P Money Transfer|...  operating   \n",
       "21731                                         E-Commerce  operating   \n",
       "13062                                           Software     closed   \n",
       "\n",
       "      country_code                          funding_round_permalink  \\\n",
       "21678          GBR  /funding-round/2c959c6ff6c5958c29388be295288d58   \n",
       "22267          GBR  /funding-round/74e9144a6356af4c9a01486f731ce1e8   \n",
       "21731          GBR  /funding-round/13a507388b97c4da8f5707dab21d9112   \n",
       "13062          GBR  /funding-round/495fda48b04605e30d61bd2cdd73c2a5   \n",
       "\n",
       "      funding_round_type   funded_at  raised_amount_usd primary_sector  \\\n",
       "21678            venture  21-04-2009         14656237.0     e-commerce   \n",
       "22267            venture  29-09-2008         14400000.0     e-commerce   \n",
       "21731            venture  04-07-2013         14394888.0     e-commerce   \n",
       "13062            venture  09-07-2007         14000000.0       software   \n",
       "\n",
       "      main_sector  \n",
       "21678      Others  \n",
       "22267      Others  \n",
       "21731      Others  \n",
       "13062      Others  "
      ]
     },
     "execution_count": 1617,
     "metadata": {},
     "output_type": "execute_result"
    }
   ],
   "source": [
    "df_GBR[df_GBR.main_sector.isin(['Others'])].sort_values(by='raised_amount_usd', ascending=False)[:4]"
   ]
  },
  {
   "cell_type": "markdown",
   "metadata": {},
   "source": [
    "### Find the company name that received highest investment in second top sector"
   ]
  },
  {
   "cell_type": "code",
   "execution_count": 1618,
   "metadata": {},
   "outputs": [
    {
     "data": {
      "text/html": [
       "<div>\n",
       "<style scoped>\n",
       "    .dataframe tbody tr th:only-of-type {\n",
       "        vertical-align: middle;\n",
       "    }\n",
       "\n",
       "    .dataframe tbody tr th {\n",
       "        vertical-align: top;\n",
       "    }\n",
       "\n",
       "    .dataframe thead th {\n",
       "        text-align: right;\n",
       "    }\n",
       "</style>\n",
       "<table border=\"1\" class=\"dataframe\">\n",
       "  <thead>\n",
       "    <tr style=\"text-align: right;\">\n",
       "      <th></th>\n",
       "      <th>permalink</th>\n",
       "      <th>name</th>\n",
       "      <th>category_list</th>\n",
       "      <th>status</th>\n",
       "      <th>country_code</th>\n",
       "      <th>funding_round_permalink</th>\n",
       "      <th>funding_round_type</th>\n",
       "      <th>funded_at</th>\n",
       "      <th>raised_amount_usd</th>\n",
       "      <th>primary_sector</th>\n",
       "      <th>main_sector</th>\n",
       "    </tr>\n",
       "  </thead>\n",
       "  <tbody>\n",
       "    <tr>\n",
       "      <th>6732</th>\n",
       "      <td>/organization/onyvax</td>\n",
       "      <td>Onyvax</td>\n",
       "      <td>Biotechnology</td>\n",
       "      <td>operating</td>\n",
       "      <td>GBR</td>\n",
       "      <td>/funding-round/bdf9dcf603552c6bab9cb9812ec5c099</td>\n",
       "      <td>venture</td>\n",
       "      <td>08-05-2006</td>\n",
       "      <td>14906222.0</td>\n",
       "      <td>biotechnology</td>\n",
       "      <td>Cleantech / Semiconductors</td>\n",
       "    </tr>\n",
       "    <tr>\n",
       "      <th>5788</th>\n",
       "      <td>/organization/lectus-therapeutics</td>\n",
       "      <td>Lectus Therapeutics</td>\n",
       "      <td>Biotechnology</td>\n",
       "      <td>closed</td>\n",
       "      <td>GBR</td>\n",
       "      <td>/funding-round/4a46b9c5c0307166509f215e7efa692c</td>\n",
       "      <td>venture</td>\n",
       "      <td>13-02-2006</td>\n",
       "      <td>14257949.0</td>\n",
       "      <td>biotechnology</td>\n",
       "      <td>Cleantech / Semiconductors</td>\n",
       "    </tr>\n",
       "    <tr>\n",
       "      <th>33769</th>\n",
       "      <td>/organization/xmos</td>\n",
       "      <td>XMOS</td>\n",
       "      <td>Semiconductors</td>\n",
       "      <td>operating</td>\n",
       "      <td>GBR</td>\n",
       "      <td>/funding-round/41c43ec60b5f81aa53fd1c9104e5b3c4</td>\n",
       "      <td>venture</td>\n",
       "      <td>03-12-2013</td>\n",
       "      <td>14000000.0</td>\n",
       "      <td>semiconductors</td>\n",
       "      <td>Cleantech / Semiconductors</td>\n",
       "    </tr>\n",
       "    <tr>\n",
       "      <th>4565</th>\n",
       "      <td>/organization/eusa-pharma</td>\n",
       "      <td>EUSA Pharma</td>\n",
       "      <td>Biotechnology</td>\n",
       "      <td>acquired</td>\n",
       "      <td>GBR</td>\n",
       "      <td>/funding-round/09af5eff34608eac27040925565f57e6</td>\n",
       "      <td>venture</td>\n",
       "      <td>19-07-2005</td>\n",
       "      <td>13970000.0</td>\n",
       "      <td>biotechnology</td>\n",
       "      <td>Cleantech / Semiconductors</td>\n",
       "    </tr>\n",
       "  </tbody>\n",
       "</table>\n",
       "</div>"
      ],
      "text/plain": [
       "                               permalink                 name   category_list  \\\n",
       "6732                /organization/onyvax               Onyvax   Biotechnology   \n",
       "5788   /organization/lectus-therapeutics  Lectus Therapeutics   Biotechnology   \n",
       "33769                 /organization/xmos                 XMOS  Semiconductors   \n",
       "4565           /organization/eusa-pharma          EUSA Pharma   Biotechnology   \n",
       "\n",
       "          status country_code  \\\n",
       "6732   operating          GBR   \n",
       "5788      closed          GBR   \n",
       "33769  operating          GBR   \n",
       "4565    acquired          GBR   \n",
       "\n",
       "                               funding_round_permalink funding_round_type  \\\n",
       "6732   /funding-round/bdf9dcf603552c6bab9cb9812ec5c099            venture   \n",
       "5788   /funding-round/4a46b9c5c0307166509f215e7efa692c            venture   \n",
       "33769  /funding-round/41c43ec60b5f81aa53fd1c9104e5b3c4            venture   \n",
       "4565   /funding-round/09af5eff34608eac27040925565f57e6            venture   \n",
       "\n",
       "        funded_at  raised_amount_usd  primary_sector  \\\n",
       "6732   08-05-2006         14906222.0   biotechnology   \n",
       "5788   13-02-2006         14257949.0   biotechnology   \n",
       "33769  03-12-2013         14000000.0  semiconductors   \n",
       "4565   19-07-2005         13970000.0   biotechnology   \n",
       "\n",
       "                      main_sector  \n",
       "6732   Cleantech / Semiconductors  \n",
       "5788   Cleantech / Semiconductors  \n",
       "33769  Cleantech / Semiconductors  \n",
       "4565   Cleantech / Semiconductors  "
      ]
     },
     "execution_count": 1618,
     "metadata": {},
     "output_type": "execute_result"
    }
   ],
   "source": [
    "df_GBR[df_GBR.main_sector.isin(['Cleantech / Semiconductors'])].sort_values(by='raised_amount_usd', ascending=False)[:4]"
   ]
  },
  {
   "cell_type": "markdown",
   "metadata": {},
   "source": [
    "## <font color=red> Country #3 </font>"
   ]
  },
  {
   "cell_type": "markdown",
   "metadata": {},
   "source": [
    "### Find the total number of investments in the country rank #3"
   ]
  },
  {
   "cell_type": "code",
   "execution_count": 1619,
   "metadata": {},
   "outputs": [
    {
     "data": {
      "text/plain": [
       "count    222\n",
       "dtype: int64"
      ]
     },
     "execution_count": 1619,
     "metadata": {},
     "output_type": "execute_result"
    }
   ],
   "source": [
    "pd.DataFrame(df_IND.groupby('main_sector').size().to_frame('count')).sort_values(by='count', ascending=False).sum()"
   ]
  },
  {
   "cell_type": "markdown",
   "metadata": {},
   "source": [
    "### Find the total number of investments in each sector for country rank #3"
   ]
  },
  {
   "cell_type": "code",
   "execution_count": 1620,
   "metadata": {},
   "outputs": [
    {
     "data": {
      "text/html": [
       "<div>\n",
       "<style scoped>\n",
       "    .dataframe tbody tr th:only-of-type {\n",
       "        vertical-align: middle;\n",
       "    }\n",
       "\n",
       "    .dataframe tbody tr th {\n",
       "        vertical-align: top;\n",
       "    }\n",
       "\n",
       "    .dataframe thead th {\n",
       "        text-align: right;\n",
       "    }\n",
       "</style>\n",
       "<table border=\"1\" class=\"dataframe\">\n",
       "  <thead>\n",
       "    <tr style=\"text-align: right;\">\n",
       "      <th></th>\n",
       "      <th>count</th>\n",
       "    </tr>\n",
       "    <tr>\n",
       "      <th>main_sector</th>\n",
       "      <th></th>\n",
       "    </tr>\n",
       "  </thead>\n",
       "  <tbody>\n",
       "    <tr>\n",
       "      <th>Others</th>\n",
       "      <td>77</td>\n",
       "    </tr>\n",
       "    <tr>\n",
       "      <th>News, Search and Messaging</th>\n",
       "      <td>41</td>\n",
       "    </tr>\n",
       "    <tr>\n",
       "      <th>Social, Finance, Analytics, Advertising</th>\n",
       "      <td>25</td>\n",
       "    </tr>\n",
       "    <tr>\n",
       "      <th>Entertainment</th>\n",
       "      <td>23</td>\n",
       "    </tr>\n",
       "    <tr>\n",
       "      <th>Manufacturing</th>\n",
       "      <td>18</td>\n",
       "    </tr>\n",
       "    <tr>\n",
       "      <th>Health</th>\n",
       "      <td>17</td>\n",
       "    </tr>\n",
       "    <tr>\n",
       "      <th>Cleantech / Semiconductors</th>\n",
       "      <td>14</td>\n",
       "    </tr>\n",
       "    <tr>\n",
       "      <th>Automotive &amp; Sports</th>\n",
       "      <td>7</td>\n",
       "    </tr>\n",
       "  </tbody>\n",
       "</table>\n",
       "</div>"
      ],
      "text/plain": [
       "                                         count\n",
       "main_sector                                   \n",
       "Others                                      77\n",
       "News, Search and Messaging                  41\n",
       "Social, Finance, Analytics, Advertising     25\n",
       "Entertainment                               23\n",
       "Manufacturing                               18\n",
       "Health                                      17\n",
       "Cleantech / Semiconductors                  14\n",
       "Automotive & Sports                          7"
      ]
     },
     "execution_count": 1620,
     "metadata": {},
     "output_type": "execute_result"
    }
   ],
   "source": [
    "c3_top3 = pd.DataFrame(df_IND.groupby('main_sector').size().to_frame('count')).sort_values(by='count', ascending=False)[:3]\n",
    "c3_top3 = c3_top3.reset_index()\n",
    "pd.DataFrame(df_IND.groupby('main_sector').size().to_frame('count')).sort_values(by='count', ascending=False)"
   ]
  },
  {
   "cell_type": "markdown",
   "metadata": {},
   "source": [
    "### Find the total amount of investments in the country rank #3"
   ]
  },
  {
   "cell_type": "code",
   "execution_count": 1621,
   "metadata": {},
   "outputs": [
    {
     "data": {
      "text/plain": [
       "sum    1.998538e+09\n",
       "dtype: float64"
      ]
     },
     "execution_count": 1621,
     "metadata": {},
     "output_type": "execute_result"
    }
   ],
   "source": [
    "df_IND.groupby('main_sector').raised_amount_usd.agg(['sum']).sort_values(by='sum', ascending=False).sum()"
   ]
  },
  {
   "cell_type": "markdown",
   "metadata": {},
   "source": [
    "### Find the total amount of investments in each sector for country rank #3"
   ]
  },
  {
   "cell_type": "code",
   "execution_count": 1622,
   "metadata": {},
   "outputs": [
    {
     "data": {
      "text/html": [
       "<div>\n",
       "<style scoped>\n",
       "    .dataframe tbody tr th:only-of-type {\n",
       "        vertical-align: middle;\n",
       "    }\n",
       "\n",
       "    .dataframe tbody tr th {\n",
       "        vertical-align: top;\n",
       "    }\n",
       "\n",
       "    .dataframe thead th {\n",
       "        text-align: right;\n",
       "    }\n",
       "</style>\n",
       "<table border=\"1\" class=\"dataframe\">\n",
       "  <thead>\n",
       "    <tr style=\"text-align: right;\">\n",
       "      <th></th>\n",
       "      <th>sum</th>\n",
       "    </tr>\n",
       "    <tr>\n",
       "      <th>main_sector</th>\n",
       "      <th></th>\n",
       "    </tr>\n",
       "  </thead>\n",
       "  <tbody>\n",
       "    <tr>\n",
       "      <th>Others</th>\n",
       "      <td>697409507.0</td>\n",
       "    </tr>\n",
       "    <tr>\n",
       "      <th>News, Search and Messaging</th>\n",
       "      <td>368834545.0</td>\n",
       "    </tr>\n",
       "    <tr>\n",
       "      <th>Social, Finance, Analytics, Advertising</th>\n",
       "      <td>215543500.0</td>\n",
       "    </tr>\n",
       "    <tr>\n",
       "      <th>Entertainment</th>\n",
       "      <td>200830000.0</td>\n",
       "    </tr>\n",
       "    <tr>\n",
       "      <th>Manufacturing</th>\n",
       "      <td>165900000.0</td>\n",
       "    </tr>\n",
       "    <tr>\n",
       "      <th>Health</th>\n",
       "      <td>157740000.0</td>\n",
       "    </tr>\n",
       "    <tr>\n",
       "      <th>Cleantech / Semiconductors</th>\n",
       "      <td>125380000.0</td>\n",
       "    </tr>\n",
       "    <tr>\n",
       "      <th>Automotive &amp; Sports</th>\n",
       "      <td>66900000.0</td>\n",
       "    </tr>\n",
       "  </tbody>\n",
       "</table>\n",
       "</div>"
      ],
      "text/plain": [
       "                                                 sum\n",
       "main_sector                                         \n",
       "Others                                   697409507.0\n",
       "News, Search and Messaging               368834545.0\n",
       "Social, Finance, Analytics, Advertising  215543500.0\n",
       "Entertainment                            200830000.0\n",
       "Manufacturing                            165900000.0\n",
       "Health                                   157740000.0\n",
       "Cleantech / Semiconductors               125380000.0\n",
       "Automotive & Sports                       66900000.0"
      ]
     },
     "execution_count": 1622,
     "metadata": {},
     "output_type": "execute_result"
    }
   ],
   "source": [
    "df_IND.groupby('main_sector').raised_amount_usd.agg(['sum']).sort_values(by='sum', ascending=False)"
   ]
  },
  {
   "cell_type": "markdown",
   "metadata": {},
   "source": [
    "### Find the company name that received highest investment in top sector"
   ]
  },
  {
   "cell_type": "code",
   "execution_count": 1623,
   "metadata": {},
   "outputs": [
    {
     "data": {
      "text/html": [
       "<div>\n",
       "<style scoped>\n",
       "    .dataframe tbody tr th:only-of-type {\n",
       "        vertical-align: middle;\n",
       "    }\n",
       "\n",
       "    .dataframe tbody tr th {\n",
       "        vertical-align: top;\n",
       "    }\n",
       "\n",
       "    .dataframe thead th {\n",
       "        text-align: right;\n",
       "    }\n",
       "</style>\n",
       "<table border=\"1\" class=\"dataframe\">\n",
       "  <thead>\n",
       "    <tr style=\"text-align: right;\">\n",
       "      <th></th>\n",
       "      <th>permalink</th>\n",
       "      <th>name</th>\n",
       "      <th>category_list</th>\n",
       "      <th>status</th>\n",
       "      <th>country_code</th>\n",
       "      <th>funding_round_permalink</th>\n",
       "      <th>funding_round_type</th>\n",
       "      <th>funded_at</th>\n",
       "      <th>raised_amount_usd</th>\n",
       "      <th>primary_sector</th>\n",
       "      <th>main_sector</th>\n",
       "    </tr>\n",
       "  </thead>\n",
       "  <tbody>\n",
       "    <tr>\n",
       "      <th>21185</th>\n",
       "      <td>/organization/firstcry-com</td>\n",
       "      <td>FirstCry.com</td>\n",
       "      <td>E-Commerce</td>\n",
       "      <td>operating</td>\n",
       "      <td>IND</td>\n",
       "      <td>/funding-round/c2bd1e484cde75ff8b15f2ca4682e5cb</td>\n",
       "      <td>venture</td>\n",
       "      <td>13-02-2012</td>\n",
       "      <td>14000000.0</td>\n",
       "      <td>e-commerce</td>\n",
       "      <td>Others</td>\n",
       "    </tr>\n",
       "    <tr>\n",
       "      <th>21315</th>\n",
       "      <td>/organization/homeshop18</td>\n",
       "      <td>HomeShop18</td>\n",
       "      <td>E-Commerce|Online Shopping|Retail</td>\n",
       "      <td>closed</td>\n",
       "      <td>IND</td>\n",
       "      <td>/funding-round/13f564f6635df96481e81f18528ce90a</td>\n",
       "      <td>venture</td>\n",
       "      <td>23-10-2013</td>\n",
       "      <td>14000000.0</td>\n",
       "      <td>e-commerce</td>\n",
       "      <td>Others</td>\n",
       "    </tr>\n",
       "    <tr>\n",
       "      <th>13705</th>\n",
       "      <td>/organization/eximsoft-trianz</td>\n",
       "      <td>EximSoft-Trianz</td>\n",
       "      <td>Software</td>\n",
       "      <td>acquired</td>\n",
       "      <td>IND</td>\n",
       "      <td>/funding-round/4bb3bc5f0a816ef3040944eb4632924d</td>\n",
       "      <td>venture</td>\n",
       "      <td>16-01-2007</td>\n",
       "      <td>14000000.0</td>\n",
       "      <td>software</td>\n",
       "      <td>Others</td>\n",
       "    </tr>\n",
       "    <tr>\n",
       "      <th>21674</th>\n",
       "      <td>/organization/myntra</td>\n",
       "      <td>Myntra</td>\n",
       "      <td>E-Commerce</td>\n",
       "      <td>acquired</td>\n",
       "      <td>IND</td>\n",
       "      <td>/funding-round/d7a04ce178d3b08fa6b5d2615cce0d8e</td>\n",
       "      <td>venture</td>\n",
       "      <td>04-03-2011</td>\n",
       "      <td>14000000.0</td>\n",
       "      <td>e-commerce</td>\n",
       "      <td>Others</td>\n",
       "    </tr>\n",
       "    <tr>\n",
       "      <th>14942</th>\n",
       "      <td>/organization/nxtgen-data-center-cloud-services</td>\n",
       "      <td>NxtGen Data Center &amp; Cloud Services</td>\n",
       "      <td>Software</td>\n",
       "      <td>operating</td>\n",
       "      <td>IND</td>\n",
       "      <td>/funding-round/e140181cf3d8f102acf1a7f089c12cec</td>\n",
       "      <td>venture</td>\n",
       "      <td>01-07-2015</td>\n",
       "      <td>13500000.0</td>\n",
       "      <td>software</td>\n",
       "      <td>Others</td>\n",
       "    </tr>\n",
       "    <tr>\n",
       "      <th>9095</th>\n",
       "      <td>/organization/maharana-infrastructure-and-prof...</td>\n",
       "      <td>Maharana Infrastructure and Professional Servi...</td>\n",
       "      <td>Education|Infrastructure|Universities</td>\n",
       "      <td>operating</td>\n",
       "      <td>IND</td>\n",
       "      <td>/funding-round/6ed1243491118b85cc90c43031600820</td>\n",
       "      <td>venture</td>\n",
       "      <td>01-01-2013</td>\n",
       "      <td>13300000.0</td>\n",
       "      <td>education</td>\n",
       "      <td>Others</td>\n",
       "    </tr>\n",
       "    <tr>\n",
       "      <th>15362</th>\n",
       "      <td>/organization/quick-heal-technologies</td>\n",
       "      <td>Quick Heal Technologies</td>\n",
       "      <td>Software</td>\n",
       "      <td>operating</td>\n",
       "      <td>IND</td>\n",
       "      <td>/funding-round/9704078583e11480b7d8016117d58cbb</td>\n",
       "      <td>venture</td>\n",
       "      <td>18-08-2010</td>\n",
       "      <td>13000000.0</td>\n",
       "      <td>software</td>\n",
       "      <td>Others</td>\n",
       "    </tr>\n",
       "  </tbody>\n",
       "</table>\n",
       "</div>"
      ],
      "text/plain": [
       "                                               permalink  \\\n",
       "21185                         /organization/firstcry-com   \n",
       "21315                           /organization/homeshop18   \n",
       "13705                      /organization/eximsoft-trianz   \n",
       "21674                               /organization/myntra   \n",
       "14942    /organization/nxtgen-data-center-cloud-services   \n",
       "9095   /organization/maharana-infrastructure-and-prof...   \n",
       "15362              /organization/quick-heal-technologies   \n",
       "\n",
       "                                                    name  \\\n",
       "21185                                       FirstCry.com   \n",
       "21315                                         HomeShop18   \n",
       "13705                                    EximSoft-Trianz   \n",
       "21674                                             Myntra   \n",
       "14942                NxtGen Data Center & Cloud Services   \n",
       "9095   Maharana Infrastructure and Professional Servi...   \n",
       "15362                            Quick Heal Technologies   \n",
       "\n",
       "                               category_list     status country_code  \\\n",
       "21185                             E-Commerce  operating          IND   \n",
       "21315      E-Commerce|Online Shopping|Retail     closed          IND   \n",
       "13705                               Software   acquired          IND   \n",
       "21674                             E-Commerce   acquired          IND   \n",
       "14942                               Software  operating          IND   \n",
       "9095   Education|Infrastructure|Universities  operating          IND   \n",
       "15362                               Software  operating          IND   \n",
       "\n",
       "                               funding_round_permalink funding_round_type  \\\n",
       "21185  /funding-round/c2bd1e484cde75ff8b15f2ca4682e5cb            venture   \n",
       "21315  /funding-round/13f564f6635df96481e81f18528ce90a            venture   \n",
       "13705  /funding-round/4bb3bc5f0a816ef3040944eb4632924d            venture   \n",
       "21674  /funding-round/d7a04ce178d3b08fa6b5d2615cce0d8e            venture   \n",
       "14942  /funding-round/e140181cf3d8f102acf1a7f089c12cec            venture   \n",
       "9095   /funding-round/6ed1243491118b85cc90c43031600820            venture   \n",
       "15362  /funding-round/9704078583e11480b7d8016117d58cbb            venture   \n",
       "\n",
       "        funded_at  raised_amount_usd primary_sector main_sector  \n",
       "21185  13-02-2012         14000000.0     e-commerce      Others  \n",
       "21315  23-10-2013         14000000.0     e-commerce      Others  \n",
       "13705  16-01-2007         14000000.0       software      Others  \n",
       "21674  04-03-2011         14000000.0     e-commerce      Others  \n",
       "14942  01-07-2015         13500000.0       software      Others  \n",
       "9095   01-01-2013         13300000.0      education      Others  \n",
       "15362  18-08-2010         13000000.0       software      Others  "
      ]
     },
     "execution_count": 1623,
     "metadata": {},
     "output_type": "execute_result"
    }
   ],
   "source": [
    "df_IND[df_IND.main_sector.isin(['Others'])].sort_values(by='raised_amount_usd', ascending=False)[:7]"
   ]
  },
  {
   "cell_type": "markdown",
   "metadata": {},
   "source": [
    "### Find the company name that received highest investment in second top sector"
   ]
  },
  {
   "cell_type": "code",
   "execution_count": 1624,
   "metadata": {},
   "outputs": [
    {
     "data": {
      "text/html": [
       "<div>\n",
       "<style scoped>\n",
       "    .dataframe tbody tr th:only-of-type {\n",
       "        vertical-align: middle;\n",
       "    }\n",
       "\n",
       "    .dataframe tbody tr th {\n",
       "        vertical-align: top;\n",
       "    }\n",
       "\n",
       "    .dataframe thead th {\n",
       "        text-align: right;\n",
       "    }\n",
       "</style>\n",
       "<table border=\"1\" class=\"dataframe\">\n",
       "  <thead>\n",
       "    <tr style=\"text-align: right;\">\n",
       "      <th></th>\n",
       "      <th>permalink</th>\n",
       "      <th>name</th>\n",
       "      <th>category_list</th>\n",
       "      <th>status</th>\n",
       "      <th>country_code</th>\n",
       "      <th>funding_round_permalink</th>\n",
       "      <th>funding_round_type</th>\n",
       "      <th>funded_at</th>\n",
       "      <th>raised_amount_usd</th>\n",
       "      <th>primary_sector</th>\n",
       "      <th>main_sector</th>\n",
       "    </tr>\n",
       "  </thead>\n",
       "  <tbody>\n",
       "    <tr>\n",
       "      <th>31389</th>\n",
       "      <td>/organization/hike</td>\n",
       "      <td>hike</td>\n",
       "      <td>Messaging|Mobile</td>\n",
       "      <td>operating</td>\n",
       "      <td>IND</td>\n",
       "      <td>/funding-round/8555dec0ba4fd695a52f9d42f7f1b3a6</td>\n",
       "      <td>venture</td>\n",
       "      <td>31-03-2014</td>\n",
       "      <td>14000000.0</td>\n",
       "      <td>messaging</td>\n",
       "      <td>News, Search and Messaging</td>\n",
       "    </tr>\n",
       "    <tr>\n",
       "      <th>23456</th>\n",
       "      <td>/organization/imimobile</td>\n",
       "      <td>IMImobile</td>\n",
       "      <td>Mobile</td>\n",
       "      <td>ipo</td>\n",
       "      <td>IND</td>\n",
       "      <td>/funding-round/143caeae3cfc9803f96104c95d0ca17b</td>\n",
       "      <td>venture</td>\n",
       "      <td>13-11-2009</td>\n",
       "      <td>13000000.0</td>\n",
       "      <td>mobile</td>\n",
       "      <td>News, Search and Messaging</td>\n",
       "    </tr>\n",
       "    <tr>\n",
       "      <th>24137</th>\n",
       "      <td>/organization/sms-gupshup</td>\n",
       "      <td>SMS GupShup</td>\n",
       "      <td>Mobile</td>\n",
       "      <td>operating</td>\n",
       "      <td>IND</td>\n",
       "      <td>/funding-round/9522a14d83fcad63bb5e3ab067180a9c</td>\n",
       "      <td>venture</td>\n",
       "      <td>20-01-2010</td>\n",
       "      <td>12000000.0</td>\n",
       "      <td>mobile</td>\n",
       "      <td>News, Search and Messaging</td>\n",
       "    </tr>\n",
       "    <tr>\n",
       "      <th>23417</th>\n",
       "      <td>/organization/gupshup-technology-india-pvt-ltd</td>\n",
       "      <td>GupShup</td>\n",
       "      <td>Mobile</td>\n",
       "      <td>operating</td>\n",
       "      <td>IND</td>\n",
       "      <td>/funding-round/a7ef11d7ccf8a17f6a3e632719eb2fd0</td>\n",
       "      <td>venture</td>\n",
       "      <td>02-03-2010</td>\n",
       "      <td>12000000.0</td>\n",
       "      <td>mobile</td>\n",
       "      <td>News, Search and Messaging</td>\n",
       "    </tr>\n",
       "  </tbody>\n",
       "</table>\n",
       "</div>"
      ],
      "text/plain": [
       "                                            permalink         name  \\\n",
       "31389                              /organization/hike         hike   \n",
       "23456                         /organization/imimobile    IMImobile   \n",
       "24137                       /organization/sms-gupshup  SMS GupShup   \n",
       "23417  /organization/gupshup-technology-india-pvt-ltd      GupShup   \n",
       "\n",
       "          category_list     status country_code  \\\n",
       "31389  Messaging|Mobile  operating          IND   \n",
       "23456            Mobile        ipo          IND   \n",
       "24137            Mobile  operating          IND   \n",
       "23417            Mobile  operating          IND   \n",
       "\n",
       "                               funding_round_permalink funding_round_type  \\\n",
       "31389  /funding-round/8555dec0ba4fd695a52f9d42f7f1b3a6            venture   \n",
       "23456  /funding-round/143caeae3cfc9803f96104c95d0ca17b            venture   \n",
       "24137  /funding-round/9522a14d83fcad63bb5e3ab067180a9c            venture   \n",
       "23417  /funding-round/a7ef11d7ccf8a17f6a3e632719eb2fd0            venture   \n",
       "\n",
       "        funded_at  raised_amount_usd primary_sector  \\\n",
       "31389  31-03-2014         14000000.0      messaging   \n",
       "23456  13-11-2009         13000000.0         mobile   \n",
       "24137  20-01-2010         12000000.0         mobile   \n",
       "23417  02-03-2010         12000000.0         mobile   \n",
       "\n",
       "                      main_sector  \n",
       "31389  News, Search and Messaging  \n",
       "23456  News, Search and Messaging  \n",
       "24137  News, Search and Messaging  \n",
       "23417  News, Search and Messaging  "
      ]
     },
     "execution_count": 1624,
     "metadata": {},
     "output_type": "execute_result"
    }
   ],
   "source": [
    "df_IND[df_IND.main_sector.isin(['News, Search and Messaging'])].sort_values(by='raised_amount_usd', ascending=False)[:4]"
   ]
  },
  {
   "cell_type": "markdown",
   "metadata": {},
   "source": [
    "## <font color=blue> Checkpoint 6 </font>"
   ]
  },
  {
   "cell_type": "markdown",
   "metadata": {},
   "source": [
    "## Visualization plots"
   ]
  },
  {
   "cell_type": "markdown",
   "metadata": {},
   "source": [
    "### Representative sum for different Funding Types"
   ]
  },
  {
   "cell_type": "code",
   "execution_count": 1625,
   "metadata": {
    "scrolled": false
   },
   "outputs": [
    {
     "data": {
      "image/png": "[encoded data removed]",
      "text/plain": [
       "<Figure size 432x288 with 1 Axes>"
      ]
     },
     "metadata": {
      "needs_background": "light"
     },
     "output_type": "display_data"
    }
   ],
   "source": [
    "mean_plot_x = ['private_equity', 'venture', 'seed', 'angel']\n",
    "mean_plot_y = [private_equity_mean, venture_mean, seed_mean, angel_mean]\n",
    "plt.title('Funding Type Vs Mean')\n",
    "ax = sns.barplot(y=mean_plot_x, x=mean_plot_y)\n",
    "ax.set(xlabel='Funding Type', ylabel='Mean')\n",
    "plt.show()"
   ]
  },
  {
   "cell_type": "markdown",
   "metadata": {},
   "source": [
    "### Plot of top 9 countries vs investment sum"
   ]
  },
  {
   "cell_type": "code",
   "execution_count": 1626,
   "metadata": {
    "scrolled": true
   },
   "outputs": [
    {
     "data": {
      "image/png": "[encoded data removed]",
      "text/plain": [
       "<Figure size 432x288 with 1 Axes>"
      ]
     },
     "metadata": {
      "needs_background": "light"
     },
     "output_type": "display_data"
    }
   ],
   "source": [
    "plt.title('Total Investment Vs Countries')\n",
    "ax = sns.barplot(data = top9, x='sum', y='country_code')\n",
    "ax.set(xlabel='total investment', ylabel='country')\n",
    "plt.show()"
   ]
  },
  {
   "cell_type": "markdown",
   "metadata": {},
   "source": [
    "### Plot of top 3 major sectors Vs total number of investments for top3 English Speaking countries"
   ]
  },
  {
   "cell_type": "code",
   "execution_count": 1627,
   "metadata": {},
   "outputs": [
    {
     "data": {
      "image/png": "[encoded data removed]",
      "text/plain": [
       "<Figure size 720x360 with 3 Axes>"
      ]
     },
     "metadata": {
      "needs_background": "light"
     },
     "output_type": "display_data"
    }
   ],
   "source": [
    "gs = gridspec.GridSpec(3, 4)\n",
    "plt.figure(figsize=(10, 5))\n",
    "plt.subplot(gs[0, 0])\n",
    "plt.title('USA - No: of Investments Vs Sectors')\n",
    "ax = sns.barplot(data = c1_top3, y='main_sector', x='count')\n",
    "ax.set(xlabel='No: of investment', ylabel='sectors')\n",
    "plt.subplot(gs[0, 3])\n",
    "plt.title('GRB - No: of Investments Vs Sectors')\n",
    "ax = sns.barplot(data = c2_top3, y='main_sector', x='count')\n",
    "ax.set(xlabel='No: of investment', ylabel='sectors')\n",
    "plt.subplot(gs[2, 1])\n",
    "plt.title('IND - No: of Investments Vs Sectors')\n",
    "ax = sns.barplot(data = c3_top3, y='main_sector', x='count')\n",
    "ax.set(xlabel='No: of investment', ylabel='sectors')\n",
    "plt.show()"
   ]
  }
 ],
 "metadata": {
  "kernelspec": {
   "display_name": "Python 3",
   "language": "python",
   "name": "python3"
  },
  "language_info": {
   "codemirror_mode": {
    "name": "ipython",
    "version": 3
   },
   "file_extension": ".py",
   "mimetype": "text/x-python",
   "name": "python",
   "nbconvert_exporter": "python",
   "pygments_lexer": "ipython3",
   "version": "3.7.6"
  }
 },
 "nbformat": 4,
 "nbformat_minor": 4
}
